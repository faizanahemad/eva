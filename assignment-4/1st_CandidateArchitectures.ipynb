{
  "nbformat": 4,
  "nbformat_minor": 0,
  "metadata": {
    "colab": {
      "name": "1st_CandidateArchitectures.ipynb",
      "version": "0.3.2",
      "provenance": [],
      "toc_visible": true,
      "include_colab_link": true
    },
    "language_info": {
      "codemirror_mode": {
        "name": "ipython",
        "version": 3
      },
      "file_extension": ".py",
      "mimetype": "text/x-python",
      "name": "python",
      "nbconvert_exporter": "python",
      "pygments_lexer": "ipython3",
      "version": "3.7.3"
    },
    "kernelspec": {
      "name": "python3",
      "display_name": "Python 3"
    },
    "accelerator": "GPU"
  },
  "cells": [
    {
      "cell_type": "markdown",
      "metadata": {
        "id": "view-in-github",
        "colab_type": "text"
      },
      "source": [
        "<a href=\"https://colab.research.google.com/github/faizanahemad/eva/blob/master/assignment-4/1st_CandidateArchitectures.ipynb\" target=\"_parent\"><img src=\"https://colab.research.google.com/assets/colab-badge.svg\" alt=\"Open In Colab\"/></a>"
      ]
    },
    {
      "cell_type": "markdown",
      "metadata": {
        "id": "PNq42pgIBNAH",
        "colab_type": "text"
      },
      "source": [
        "## **1st File: Candidate Architectures**\n",
        "    - Receptive field of full image\n",
        "    - MaxPool vs 1x1 with stride=2\n",
        "    - Stop at 4x4 or 5x5 or 6x6 or 7x7 or 9x9\n",
        "    - Start with 16 vs 32 vs 64 (64 filters was a winner in assignment 3), We will test this by visualizing the 1st layer and checking if some kernels are dead kernels.\n",
        "    - 10 Epochs\n",
        "    - Total candidate architectures in this file = `2x4x4 = 32`\n",
        "    - We will promote 8 architectures from here"
      ]
    },
    {
      "cell_type": "code",
      "metadata": {
        "ExecuteTime": {
          "end_time": "2019-05-21T05:24:00.891766Z",
          "start_time": "2019-05-21T05:24:00.603881Z"
        },
        "id": "rvfhV8Xc4qok",
        "colab_type": "code",
        "colab": {}
      },
      "source": [
        "import pandas as pd\n",
        "import numpy as np\n",
        "import time\n",
        "import gc\n",
        "import os\n",
        "import sys\n",
        "import dill\n",
        "from matplotlib import pyplot as plt\n",
        "%matplotlib inline\n",
        "\n",
        "from IPython.core.interactiveshell import InteractiveShell\n",
        "InteractiveShell.ast_node_interactivity = \"all\""
      ],
      "execution_count": 0,
      "outputs": []
    },
    {
      "cell_type": "code",
      "metadata": {
        "id": "1AXO5LAZ41H2",
        "colab_type": "code",
        "colab": {}
      },
      "source": [
        "!pip install --upgrade --upgrade-strategy only-if-needed https://github.com/faizanahemad/data-science-utils/tarball/master > /dev/null"
      ],
      "execution_count": 0,
      "outputs": []
    },
    {
      "cell_type": "code",
      "metadata": {
        "ExecuteTime": {
          "end_time": "2019-05-21T05:24:00.938722Z",
          "start_time": "2019-05-21T05:24:00.932002Z"
        },
        "id": "Kw1kQpQh4qop",
        "colab_type": "code",
        "colab": {
          "base_uri": "https://localhost:8080/",
          "height": 34
        },
        "outputId": "96588fc6-53ff-4517-fd01-5ddcfa8d17a9"
      },
      "source": [
        "# When using in colab, upload lib.py, in the left side pane open files and then click upload\n",
        "from data_science_utils.vision.keras import *"
      ],
      "execution_count": 3,
      "outputs": [
        {
          "output_type": "stream",
          "text": [
            "Using TensorFlow backend.\n"
          ],
          "name": "stderr"
        }
      ]
    },
    {
      "cell_type": "code",
      "metadata": {
        "ExecuteTime": {
          "end_time": "2019-05-21T05:24:05.812115Z",
          "start_time": "2019-05-21T05:24:05.316746Z"
        },
        "id": "eL2PmvF34qot",
        "colab_type": "code",
        "outputId": "b204421d-015e-4eee-f51d-3dc24d6df69d",
        "colab": {
          "base_uri": "https://localhost:8080/",
          "height": 51
        }
      },
      "source": [
        "\n",
        "X_train, Y_train, X_test, Y_test = get_mnist_data()\n",
        "print(X_train.shape)\n",
        "print(X_test.shape)"
      ],
      "execution_count": 4,
      "outputs": [
        {
          "output_type": "stream",
          "text": [
            "(60000, 28, 28, 1)\n",
            "(10000, 28, 28, 1)\n"
          ],
          "name": "stdout"
        }
      ]
    },
    {
      "cell_type": "code",
      "metadata": {
        "ExecuteTime": {
          "end_time": "2019-05-21T05:25:22.099248Z",
          "start_time": "2019-05-21T05:25:21.737016Z"
        },
        "scrolled": false,
        "id": "hVFTOpoB4qov",
        "colab_type": "code",
        "outputId": "42f73aa9-a4f0-40f1-c185-071b2e8ad2c9",
        "colab": {
          "base_uri": "https://localhost:8080/",
          "height": 500
        }
      },
      "source": [
        "show_examples(X_train[10:20], Y_train[10:20],classes=get_mnist_labels())"
      ],
      "execution_count": 5,
      "outputs": [
        {
          "output_type": "display_data",
          "data": {
            "image/png": "[encoded data removed]",
            "text/plain": [
              "<Figure size 1440x576 with 10 Axes>"
            ]
          },
          "metadata": {
            "tags": []
          }
        }
      ]
    },
    {
      "cell_type": "code",
      "metadata": {
        "ExecuteTime": {
          "end_time": "2019-05-21T05:24:41.646177Z",
          "start_time": "2019-05-21T05:24:41.641227Z"
        },
        "id": "VJ0X5C8i4qo1",
        "colab_type": "code",
        "colab": {}
      },
      "source": [
        "import numpy as np\n",
        "\n",
        "from keras.models import Sequential\n",
        "from keras.layers import Dense, Dropout, Activation, Flatten, Add\n",
        "from keras.layers import Convolution2D, MaxPooling2D\n",
        "import warnings\n",
        "warnings.filterwarnings(\"ignore\")"
      ],
      "execution_count": 0,
      "outputs": []
    },
    {
      "cell_type": "code",
      "metadata": {
        "ExecuteTime": {
          "end_time": "2019-05-21T05:26:12.201978Z",
          "start_time": "2019-05-21T05:25:50.471705Z"
        },
        "id": "yL77ezWl4qo4",
        "colab_type": "code",
        "outputId": "4b11eec8-289e-4885-b79c-a9a88b9012a7",
        "colab": {
          "base_uri": "https://localhost:8080/",
          "height": 343
        }
      },
      "source": [
        "from keras.layers import Activation\n",
        "model = Sequential()\n",
        "\n",
        " \n",
        "model.add(Convolution2D(32, 3, 3, activation='relu', input_shape=(28,28,1))) # 26\n",
        "model.add(keras.layers.Dropout(0.2))\n",
        "model.add(Convolution2D(16, 1, activation='relu'))\n",
        "model.add(Convolution2D(16, 3,3, activation='relu')) # 24\n",
        "model.add(MaxPooling2D(pool_size=(2, 2))) #12\n",
        "\n",
        "model.add(Convolution2D(32, 3,3, activation='relu')) # 10\n",
        "model.add(keras.layers.Dropout(0.2))\n",
        "model.add(Convolution2D(16, 3,3, activation='relu')) # 8\n",
        "model.add(MaxPooling2D(pool_size=(2, 2))) #4\n",
        "\n",
        "\n",
        "\n",
        "model.add(Convolution2D(32, 3,3, activation='relu')) # 2\n",
        "model.add(keras.layers.Dropout(0.2))\n",
        "model.add(MaxPooling2D(pool_size=(2, 2)))\n",
        "model.add(Convolution2D(10, 1))\n",
        "\n",
        "\n",
        "model.add(Flatten())\n",
        "model.add(Activation('softmax'))\n",
        "print(\"Params = \",model.count_params())\n",
        "\n",
        "model.compile(loss='categorical_crossentropy',\n",
        "             optimizer=\"adam\",\n",
        "             metrics=['accuracy'])\n",
        "\n",
        "_=model.fit(X_train, Y_train, batch_size=2048, epochs=10, verbose=0, shuffle=True, validation_split=0.1)\n",
        "\n",
        "_=evaluate(model,X_train, Y_train,classes=get_mnist_labels(),print_results=True, plot_results=False)\n",
        "_=evaluate(model,X_test, Y_test,classes=get_mnist_labels(),print_results=True, plot_results=False)\n"
      ],
      "execution_count": 7,
      "outputs": [
        {
          "output_type": "stream",
          "text": [
            "WARNING:tensorflow:From /usr/local/lib/python3.6/dist-packages/tensorflow/python/framework/op_def_library.py:263: colocate_with (from tensorflow.python.framework.ops) is deprecated and will be removed in a future version.\n",
            "Instructions for updating:\n",
            "Colocations handled automatically by placer.\n",
            "WARNING:tensorflow:From /usr/local/lib/python3.6/dist-packages/keras/backend/tensorflow_backend.py:3445: calling dropout (from tensorflow.python.ops.nn_ops) with keep_prob is deprecated and will be removed in a future version.\n",
            "Instructions for updating:\n",
            "Please use `rate` instead of `keep_prob`. Rate should be set to `rate = 1 - keep_prob`.\n",
            "Params =  17402\n",
            "WARNING:tensorflow:From /usr/local/lib/python3.6/dist-packages/tensorflow/python/ops/math_ops.py:3066: to_int32 (from tensorflow.python.ops.math_ops) is deprecated and will be removed in a future version.\n",
            "Instructions for updating:\n",
            "Use tf.cast instead.\n",
            " =-=  =-=  =-=  =-=  =-=  =-=  =-=  =-=  =-=  =-=  =-=  =-=  =-=  =-=  =-=  =-=  =-=  =-=  =-=  =-= \n",
            "Total Model Params =  17402\n",
            "Score =  [0.14127881088107824, 0.9611166666666666]\n",
            "Balanced Accuracy = 96.08% \n",
            " =-=  =-=  =-=  =-=  =-=  =-=  =-=  =-=  =-=  =-=  =-=  =-=  =-=  =-=  =-=  =-=  =-=  =-=  =-=  =-= \n",
            "Total Model Params =  17402\n",
            "Score =  [0.12340558772683144, 0.9662]\n",
            "Balanced Accuracy = 96.59% \n"
          ],
          "name": "stdout"
        }
      ]
    },
    {
      "cell_type": "code",
      "metadata": {
        "id": "aF-V2x0AG_mI",
        "colab_type": "code",
        "colab": {
          "base_uri": "https://localhost:8080/",
          "height": 646
        },
        "outputId": "892efd6a-9fba-41df-b047-fefdece5491a"
      },
      "source": [
        "model.summary()"
      ],
      "execution_count": 8,
      "outputs": [
        {
          "output_type": "stream",
          "text": [
            "_________________________________________________________________\n",
            "Layer (type)                 Output Shape              Param #   \n",
            "=================================================================\n",
            "conv2d_1 (Conv2D)            (None, 26, 26, 32)        320       \n",
            "_________________________________________________________________\n",
            "dropout_1 (Dropout)          (None, 26, 26, 32)        0         \n",
            "_________________________________________________________________\n",
            "conv2d_2 (Conv2D)            (None, 26, 26, 16)        528       \n",
            "_________________________________________________________________\n",
            "conv2d_3 (Conv2D)            (None, 24, 24, 16)        2320      \n",
            "_________________________________________________________________\n",
            "max_pooling2d_1 (MaxPooling2 (None, 12, 12, 16)        0         \n",
            "_________________________________________________________________\n",
            "conv2d_4 (Conv2D)            (None, 10, 10, 32)        4640      \n",
            "_________________________________________________________________\n",
            "dropout_2 (Dropout)          (None, 10, 10, 32)        0         \n",
            "_________________________________________________________________\n",
            "conv2d_5 (Conv2D)            (None, 8, 8, 16)          4624      \n",
            "_________________________________________________________________\n",
            "max_pooling2d_2 (MaxPooling2 (None, 4, 4, 16)          0         \n",
            "_________________________________________________________________\n",
            "conv2d_6 (Conv2D)            (None, 2, 2, 32)          4640      \n",
            "_________________________________________________________________\n",
            "dropout_3 (Dropout)          (None, 2, 2, 32)          0         \n",
            "_________________________________________________________________\n",
            "max_pooling2d_3 (MaxPooling2 (None, 1, 1, 32)          0         \n",
            "_________________________________________________________________\n",
            "conv2d_7 (Conv2D)            (None, 1, 1, 10)          330       \n",
            "_________________________________________________________________\n",
            "flatten_1 (Flatten)          (None, 10)                0         \n",
            "_________________________________________________________________\n",
            "activation_1 (Activation)    (None, 10)                0         \n",
            "=================================================================\n",
            "Total params: 17,402\n",
            "Trainable params: 17,402\n",
            "Non-trainable params: 0\n",
            "_________________________________________________________________\n"
          ],
          "name": "stdout"
        }
      ]
    },
    {
      "cell_type": "code",
      "metadata": {
        "id": "scHJqB9ZIJCs",
        "colab_type": "code",
        "colab": {
          "base_uri": "https://localhost:8080/",
          "height": 411
        },
        "outputId": "4718fa88-5665-4ba1-de27-66a39161b786"
      },
      "source": [
        "# K.int_shape(model.inputs[0])[-1]\n",
        "visualize_layer(model,\"conv2d_1\",filter_range=(8,12),upscaling_steps=20,\n",
        "                    upscaling_factor=1.1,\n",
        "                    output_dim=(64, 64))"
      ],
      "execution_count": 9,
      "outputs": [
        {
          "output_type": "stream",
          "text": [
            "Compute filters 8 to 12\n",
            "Costs of filter   8:     5 ( 0.48s )\n",
            "Costs of filter   9:     1 ( 0.43s )\n",
            "Costs of filter  10:     4 ( 0.42s )\n",
            "Costs of filter  11:     1 ( 0.43s )\n",
            "4 filter processed.\n",
            "Filter Losses\n",
            " [4.722839, 0.8339687, 3.691726, 1.005284]\n"
          ],
          "name": "stdout"
        },
        {
          "output_type": "display_data",
          "data": {
            "image/png": "[encoded data removed]",
            "text/plain": [
              "<Figure size 1152x288 with 1 Axes>"
            ]
          },
          "metadata": {
            "tags": []
          }
        }
      ]
    },
    {
      "cell_type": "code",
      "metadata": {
        "id": "GbG5Orpu4qo7",
        "colab_type": "code",
        "outputId": "f8969fcc-0855-4b4e-dbec-1d90cae0d44f",
        "colab": {
          "base_uri": "https://localhost:8080/",
          "height": 789
        }
      },
      "source": [
        "from IPython.display import SVG\n",
        "from keras.utils.vis_utils import model_to_dot\n",
        "\n",
        "m2d = model_to_dot(model, show_shapes=True,)\n",
        "m2d.set_size('8x18')\n",
        "SVG(m2d.create(prog='dot', format='svg'))"
      ],
      "execution_count": 10,
      "outputs": [
        {
          "output_type": "execute_result",
          "data": {
            "text/plain": [
              "<IPython.core.display.SVG object>"
            ],
            "image/svg+xml": "<svg height=\"576pt\" viewBox=\"0.00 0.00 183.96 576.00\" width=\"184pt\" xmlns=\"http://www.w3.org/2000/svg\" xmlns:xlink=\"http://www.w3.org/1999/xlink\">\n<g class=\"graph\" id=\"graph0\" transform=\"scale(.4465 .4465) rotate(0) translate(4 1286)\">\n<title>G</title>\n<polygon fill=\"#ffffff\" points=\"-4,4 -4,-1286 408,-1286 408,4 -4,4\" stroke=\"transparent\"/>\n<!-- 140645810442648 -->\n<g class=\"node\" id=\"node1\">\n<title>140645810442648</title>\n<polygon fill=\"none\" points=\"44,-1162.5 44,-1208.5 360,-1208.5 360,-1162.5 44,-1162.5\" stroke=\"#000000\"/>\n<text fill=\"#000000\" font-family=\"Times,serif\" font-size=\"14.00\" text-anchor=\"middle\" x=\"110.5\" y=\"-1181.8\">conv2d_1: Conv2D</text>\n<polyline fill=\"none\" points=\"177,-1162.5 177,-1208.5 \" stroke=\"#000000\"/>\n<text fill=\"#000000\" font-family=\"Times,serif\" font-size=\"14.00\" text-anchor=\"middle\" x=\"206\" y=\"-1193.3\">input:</text>\n<polyline fill=\"none\" points=\"177,-1185.5 235,-1185.5 \" stroke=\"#000000\"/>\n<text fill=\"#000000\" font-family=\"Times,serif\" font-size=\"14.00\" text-anchor=\"middle\" x=\"206\" y=\"-1170.3\">output:</text>\n<polyline fill=\"none\" points=\"235,-1162.5 235,-1208.5 \" stroke=\"#000000\"/>\n<text fill=\"#000000\" font-family=\"Times,serif\" font-size=\"14.00\" text-anchor=\"middle\" x=\"297.5\" y=\"-1193.3\">(None, 28, 28, 1)</text>\n<polyline fill=\"none\" points=\"235,-1185.5 360,-1185.5 \" stroke=\"#000000\"/>\n<text fill=\"#000000\" font-family=\"Times,serif\" font-size=\"14.00\" text-anchor=\"middle\" x=\"297.5\" y=\"-1170.3\">(None, 26, 26, 32)</text>\n</g>\n<!-- 140645810443096 -->\n<g class=\"node\" id=\"node2\">\n<title>140645810443096</title>\n<polygon fill=\"none\" points=\"43.5,-1079.5 43.5,-1125.5 360.5,-1125.5 360.5,-1079.5 43.5,-1079.5\" stroke=\"#000000\"/>\n<text fill=\"#000000\" font-family=\"Times,serif\" font-size=\"14.00\" text-anchor=\"middle\" x=\"110.5\" y=\"-1098.8\">dropout_1: Dropout</text>\n<polyline fill=\"none\" points=\"177.5,-1079.5 177.5,-1125.5 \" stroke=\"#000000\"/>\n<text fill=\"#000000\" font-family=\"Times,serif\" font-size=\"14.00\" text-anchor=\"middle\" x=\"206.5\" y=\"-1110.3\">input:</text>\n<polyline fill=\"none\" points=\"177.5,-1102.5 235.5,-1102.5 \" stroke=\"#000000\"/>\n<text fill=\"#000000\" font-family=\"Times,serif\" font-size=\"14.00\" text-anchor=\"middle\" x=\"206.5\" y=\"-1087.3\">output:</text>\n<polyline fill=\"none\" points=\"235.5,-1079.5 235.5,-1125.5 \" stroke=\"#000000\"/>\n<text fill=\"#000000\" font-family=\"Times,serif\" font-size=\"14.00\" text-anchor=\"middle\" x=\"298\" y=\"-1110.3\">(None, 26, 26, 32)</text>\n<polyline fill=\"none\" points=\"235.5,-1102.5 360.5,-1102.5 \" stroke=\"#000000\"/>\n<text fill=\"#000000\" font-family=\"Times,serif\" font-size=\"14.00\" text-anchor=\"middle\" x=\"298\" y=\"-1087.3\">(None, 26, 26, 32)</text>\n</g>\n<!-- 140645810442648&#45;&gt;140645810443096 -->\n<g class=\"edge\" id=\"edge2\">\n<title>140645810442648-&gt;140645810443096</title>\n<path d=\"M202,-1162.3799C202,-1154.1745 202,-1144.7679 202,-1135.8786\" fill=\"none\" stroke=\"#000000\"/>\n<polygon fill=\"#000000\" points=\"205.5001,-1135.784 202,-1125.784 198.5001,-1135.784 205.5001,-1135.784\" stroke=\"#000000\"/>\n</g>\n<!-- 140645810443936 -->\n<g class=\"node\" id=\"node3\">\n<title>140645810443936</title>\n<polygon fill=\"none\" points=\"44,-996.5 44,-1042.5 360,-1042.5 360,-996.5 44,-996.5\" stroke=\"#000000\"/>\n<text fill=\"#000000\" font-family=\"Times,serif\" font-size=\"14.00\" text-anchor=\"middle\" x=\"110.5\" y=\"-1015.8\">conv2d_2: Conv2D</text>\n<polyline fill=\"none\" points=\"177,-996.5 177,-1042.5 \" stroke=\"#000000\"/>\n<text fill=\"#000000\" font-family=\"Times,serif\" font-size=\"14.00\" text-anchor=\"middle\" x=\"206\" y=\"-1027.3\">input:</text>\n<polyline fill=\"none\" points=\"177,-1019.5 235,-1019.5 \" stroke=\"#000000\"/>\n<text fill=\"#000000\" font-family=\"Times,serif\" font-size=\"14.00\" text-anchor=\"middle\" x=\"206\" y=\"-1004.3\">output:</text>\n<polyline fill=\"none\" points=\"235,-996.5 235,-1042.5 \" stroke=\"#000000\"/>\n<text fill=\"#000000\" font-family=\"Times,serif\" font-size=\"14.00\" text-anchor=\"middle\" x=\"297.5\" y=\"-1027.3\">(None, 26, 26, 32)</text>\n<polyline fill=\"none\" points=\"235,-1019.5 360,-1019.5 \" stroke=\"#000000\"/>\n<text fill=\"#000000\" font-family=\"Times,serif\" font-size=\"14.00\" text-anchor=\"middle\" x=\"297.5\" y=\"-1004.3\">(None, 26, 26, 16)</text>\n</g>\n<!-- 140645810443096&#45;&gt;140645810443936 -->\n<g class=\"edge\" id=\"edge3\">\n<title>140645810443096-&gt;140645810443936</title>\n<path d=\"M202,-1079.3799C202,-1071.1745 202,-1061.7679 202,-1052.8786\" fill=\"none\" stroke=\"#000000\"/>\n<polygon fill=\"#000000\" points=\"205.5001,-1052.784 202,-1042.784 198.5001,-1052.784 205.5001,-1052.784\" stroke=\"#000000\"/>\n</g>\n<!-- 140645810443992 -->\n<g class=\"node\" id=\"node4\">\n<title>140645810443992</title>\n<polygon fill=\"none\" points=\"44,-913.5 44,-959.5 360,-959.5 360,-913.5 44,-913.5\" stroke=\"#000000\"/>\n<text fill=\"#000000\" font-family=\"Times,serif\" font-size=\"14.00\" text-anchor=\"middle\" x=\"110.5\" y=\"-932.8\">conv2d_3: Conv2D</text>\n<polyline fill=\"none\" points=\"177,-913.5 177,-959.5 \" stroke=\"#000000\"/>\n<text fill=\"#000000\" font-family=\"Times,serif\" font-size=\"14.00\" text-anchor=\"middle\" x=\"206\" y=\"-944.3\">input:</text>\n<polyline fill=\"none\" points=\"177,-936.5 235,-936.5 \" stroke=\"#000000\"/>\n<text fill=\"#000000\" font-family=\"Times,serif\" font-size=\"14.00\" text-anchor=\"middle\" x=\"206\" y=\"-921.3\">output:</text>\n<polyline fill=\"none\" points=\"235,-913.5 235,-959.5 \" stroke=\"#000000\"/>\n<text fill=\"#000000\" font-family=\"Times,serif\" font-size=\"14.00\" text-anchor=\"middle\" x=\"297.5\" y=\"-944.3\">(None, 26, 26, 16)</text>\n<polyline fill=\"none\" points=\"235,-936.5 360,-936.5 \" stroke=\"#000000\"/>\n<text fill=\"#000000\" font-family=\"Times,serif\" font-size=\"14.00\" text-anchor=\"middle\" x=\"297.5\" y=\"-921.3\">(None, 24, 24, 16)</text>\n</g>\n<!-- 140645810443936&#45;&gt;140645810443992 -->\n<g class=\"edge\" id=\"edge4\">\n<title>140645810443936-&gt;140645810443992</title>\n<path d=\"M202,-996.3799C202,-988.1745 202,-978.7679 202,-969.8786\" fill=\"none\" stroke=\"#000000\"/>\n<polygon fill=\"#000000\" points=\"205.5001,-969.784 202,-959.784 198.5001,-969.784 205.5001,-969.784\" stroke=\"#000000\"/>\n</g>\n<!-- 140645801640400 -->\n<g class=\"node\" id=\"node5\">\n<title>140645801640400</title>\n<polygon fill=\"none\" points=\"0,-830.5 0,-876.5 404,-876.5 404,-830.5 0,-830.5\" stroke=\"#000000\"/>\n<text fill=\"#000000\" font-family=\"Times,serif\" font-size=\"14.00\" text-anchor=\"middle\" x=\"110.5\" y=\"-849.8\">max_pooling2d_1: MaxPooling2D</text>\n<polyline fill=\"none\" points=\"221,-830.5 221,-876.5 \" stroke=\"#000000\"/>\n<text fill=\"#000000\" font-family=\"Times,serif\" font-size=\"14.00\" text-anchor=\"middle\" x=\"250\" y=\"-861.3\">input:</text>\n<polyline fill=\"none\" points=\"221,-853.5 279,-853.5 \" stroke=\"#000000\"/>\n<text fill=\"#000000\" font-family=\"Times,serif\" font-size=\"14.00\" text-anchor=\"middle\" x=\"250\" y=\"-838.3\">output:</text>\n<polyline fill=\"none\" points=\"279,-830.5 279,-876.5 \" stroke=\"#000000\"/>\n<text fill=\"#000000\" font-family=\"Times,serif\" font-size=\"14.00\" text-anchor=\"middle\" x=\"341.5\" y=\"-861.3\">(None, 24, 24, 16)</text>\n<polyline fill=\"none\" points=\"279,-853.5 404,-853.5 \" stroke=\"#000000\"/>\n<text fill=\"#000000\" font-family=\"Times,serif\" font-size=\"14.00\" text-anchor=\"middle\" x=\"341.5\" y=\"-838.3\">(None, 12, 12, 16)</text>\n</g>\n<!-- 140645810443992&#45;&gt;140645801640400 -->\n<g class=\"edge\" id=\"edge5\">\n<title>140645810443992-&gt;140645801640400</title>\n<path d=\"M202,-913.3799C202,-905.1745 202,-895.7679 202,-886.8786\" fill=\"none\" stroke=\"#000000\"/>\n<polygon fill=\"#000000\" points=\"205.5001,-886.784 202,-876.784 198.5001,-886.784 205.5001,-886.784\" stroke=\"#000000\"/>\n</g>\n<!-- 140645810583592 -->\n<g class=\"node\" id=\"node6\">\n<title>140645810583592</title>\n<polygon fill=\"none\" points=\"44,-747.5 44,-793.5 360,-793.5 360,-747.5 44,-747.5\" stroke=\"#000000\"/>\n<text fill=\"#000000\" font-family=\"Times,serif\" font-size=\"14.00\" text-anchor=\"middle\" x=\"110.5\" y=\"-766.8\">conv2d_4: Conv2D</text>\n<polyline fill=\"none\" points=\"177,-747.5 177,-793.5 \" stroke=\"#000000\"/>\n<text fill=\"#000000\" font-family=\"Times,serif\" font-size=\"14.00\" text-anchor=\"middle\" x=\"206\" y=\"-778.3\">input:</text>\n<polyline fill=\"none\" points=\"177,-770.5 235,-770.5 \" stroke=\"#000000\"/>\n<text fill=\"#000000\" font-family=\"Times,serif\" font-size=\"14.00\" text-anchor=\"middle\" x=\"206\" y=\"-755.3\">output:</text>\n<polyline fill=\"none\" points=\"235,-747.5 235,-793.5 \" stroke=\"#000000\"/>\n<text fill=\"#000000\" font-family=\"Times,serif\" font-size=\"14.00\" text-anchor=\"middle\" x=\"297.5\" y=\"-778.3\">(None, 12, 12, 16)</text>\n<polyline fill=\"none\" points=\"235,-770.5 360,-770.5 \" stroke=\"#000000\"/>\n<text fill=\"#000000\" font-family=\"Times,serif\" font-size=\"14.00\" text-anchor=\"middle\" x=\"297.5\" y=\"-755.3\">(None, 10, 10, 32)</text>\n</g>\n<!-- 140645801640400&#45;&gt;140645810583592 -->\n<g class=\"edge\" id=\"edge6\">\n<title>140645801640400-&gt;140645810583592</title>\n<path d=\"M202,-830.3799C202,-822.1745 202,-812.7679 202,-803.8786\" fill=\"none\" stroke=\"#000000\"/>\n<polygon fill=\"#000000\" points=\"205.5001,-803.784 202,-793.784 198.5001,-803.784 205.5001,-803.784\" stroke=\"#000000\"/>\n</g>\n<!-- 140645801544952 -->\n<g class=\"node\" id=\"node7\">\n<title>140645801544952</title>\n<polygon fill=\"none\" points=\"43.5,-664.5 43.5,-710.5 360.5,-710.5 360.5,-664.5 43.5,-664.5\" stroke=\"#000000\"/>\n<text fill=\"#000000\" font-family=\"Times,serif\" font-size=\"14.00\" text-anchor=\"middle\" x=\"110.5\" y=\"-683.8\">dropout_2: Dropout</text>\n<polyline fill=\"none\" points=\"177.5,-664.5 177.5,-710.5 \" stroke=\"#000000\"/>\n<text fill=\"#000000\" font-family=\"Times,serif\" font-size=\"14.00\" text-anchor=\"middle\" x=\"206.5\" y=\"-695.3\">input:</text>\n<polyline fill=\"none\" points=\"177.5,-687.5 235.5,-687.5 \" stroke=\"#000000\"/>\n<text fill=\"#000000\" font-family=\"Times,serif\" font-size=\"14.00\" text-anchor=\"middle\" x=\"206.5\" y=\"-672.3\">output:</text>\n<polyline fill=\"none\" points=\"235.5,-664.5 235.5,-710.5 \" stroke=\"#000000\"/>\n<text fill=\"#000000\" font-family=\"Times,serif\" font-size=\"14.00\" text-anchor=\"middle\" x=\"298\" y=\"-695.3\">(None, 10, 10, 32)</text>\n<polyline fill=\"none\" points=\"235.5,-687.5 360.5,-687.5 \" stroke=\"#000000\"/>\n<text fill=\"#000000\" font-family=\"Times,serif\" font-size=\"14.00\" text-anchor=\"middle\" x=\"298\" y=\"-672.3\">(None, 10, 10, 32)</text>\n</g>\n<!-- 140645810583592&#45;&gt;140645801544952 -->\n<g class=\"edge\" id=\"edge7\">\n<title>140645810583592-&gt;140645801544952</title>\n<path d=\"M202,-747.3799C202,-739.1745 202,-729.7679 202,-720.8786\" fill=\"none\" stroke=\"#000000\"/>\n<polygon fill=\"#000000\" points=\"205.5001,-720.784 202,-710.784 198.5001,-720.784 205.5001,-720.784\" stroke=\"#000000\"/>\n</g>\n<!-- 140645801742232 -->\n<g class=\"node\" id=\"node8\">\n<title>140645801742232</title>\n<polygon fill=\"none\" points=\"44,-581.5 44,-627.5 360,-627.5 360,-581.5 44,-581.5\" stroke=\"#000000\"/>\n<text fill=\"#000000\" font-family=\"Times,serif\" font-size=\"14.00\" text-anchor=\"middle\" x=\"110.5\" y=\"-600.8\">conv2d_5: Conv2D</text>\n<polyline fill=\"none\" points=\"177,-581.5 177,-627.5 \" stroke=\"#000000\"/>\n<text fill=\"#000000\" font-family=\"Times,serif\" font-size=\"14.00\" text-anchor=\"middle\" x=\"206\" y=\"-612.3\">input:</text>\n<polyline fill=\"none\" points=\"177,-604.5 235,-604.5 \" stroke=\"#000000\"/>\n<text fill=\"#000000\" font-family=\"Times,serif\" font-size=\"14.00\" text-anchor=\"middle\" x=\"206\" y=\"-589.3\">output:</text>\n<polyline fill=\"none\" points=\"235,-581.5 235,-627.5 \" stroke=\"#000000\"/>\n<text fill=\"#000000\" font-family=\"Times,serif\" font-size=\"14.00\" text-anchor=\"middle\" x=\"297.5\" y=\"-612.3\">(None, 10, 10, 32)</text>\n<polyline fill=\"none\" points=\"235,-604.5 360,-604.5 \" stroke=\"#000000\"/>\n<text fill=\"#000000\" font-family=\"Times,serif\" font-size=\"14.00\" text-anchor=\"middle\" x=\"297.5\" y=\"-589.3\">(None, 8, 8, 16)</text>\n</g>\n<!-- 140645801544952&#45;&gt;140645801742232 -->\n<g class=\"edge\" id=\"edge8\">\n<title>140645801544952-&gt;140645801742232</title>\n<path d=\"M202,-664.3799C202,-656.1745 202,-646.7679 202,-637.8786\" fill=\"none\" stroke=\"#000000\"/>\n<polygon fill=\"#000000\" points=\"205.5001,-637.784 202,-627.784 198.5001,-637.784 205.5001,-637.784\" stroke=\"#000000\"/>\n</g>\n<!-- 140645801380160 -->\n<g class=\"node\" id=\"node9\">\n<title>140645801380160</title>\n<polygon fill=\"none\" points=\"7.5,-498.5 7.5,-544.5 396.5,-544.5 396.5,-498.5 7.5,-498.5\" stroke=\"#000000\"/>\n<text fill=\"#000000\" font-family=\"Times,serif\" font-size=\"14.00\" text-anchor=\"middle\" x=\"118\" y=\"-517.8\">max_pooling2d_2: MaxPooling2D</text>\n<polyline fill=\"none\" points=\"228.5,-498.5 228.5,-544.5 \" stroke=\"#000000\"/>\n<text fill=\"#000000\" font-family=\"Times,serif\" font-size=\"14.00\" text-anchor=\"middle\" x=\"257.5\" y=\"-529.3\">input:</text>\n<polyline fill=\"none\" points=\"228.5,-521.5 286.5,-521.5 \" stroke=\"#000000\"/>\n<text fill=\"#000000\" font-family=\"Times,serif\" font-size=\"14.00\" text-anchor=\"middle\" x=\"257.5\" y=\"-506.3\">output:</text>\n<polyline fill=\"none\" points=\"286.5,-498.5 286.5,-544.5 \" stroke=\"#000000\"/>\n<text fill=\"#000000\" font-family=\"Times,serif\" font-size=\"14.00\" text-anchor=\"middle\" x=\"341.5\" y=\"-529.3\">(None, 8, 8, 16)</text>\n<polyline fill=\"none\" points=\"286.5,-521.5 396.5,-521.5 \" stroke=\"#000000\"/>\n<text fill=\"#000000\" font-family=\"Times,serif\" font-size=\"14.00\" text-anchor=\"middle\" x=\"341.5\" y=\"-506.3\">(None, 4, 4, 16)</text>\n</g>\n<!-- 140645801742232&#45;&gt;140645801380160 -->\n<g class=\"edge\" id=\"edge9\">\n<title>140645801742232-&gt;140645801380160</title>\n<path d=\"M202,-581.3799C202,-573.1745 202,-563.7679 202,-554.8786\" fill=\"none\" stroke=\"#000000\"/>\n<polygon fill=\"#000000\" points=\"205.5001,-554.784 202,-544.784 198.5001,-554.784 205.5001,-554.784\" stroke=\"#000000\"/>\n</g>\n<!-- 140645801741672 -->\n<g class=\"node\" id=\"node10\">\n<title>140645801741672</title>\n<polygon fill=\"none\" points=\"51.5,-415.5 51.5,-461.5 352.5,-461.5 352.5,-415.5 51.5,-415.5\" stroke=\"#000000\"/>\n<text fill=\"#000000\" font-family=\"Times,serif\" font-size=\"14.00\" text-anchor=\"middle\" x=\"118\" y=\"-434.8\">conv2d_6: Conv2D</text>\n<polyline fill=\"none\" points=\"184.5,-415.5 184.5,-461.5 \" stroke=\"#000000\"/>\n<text fill=\"#000000\" font-family=\"Times,serif\" font-size=\"14.00\" text-anchor=\"middle\" x=\"213.5\" y=\"-446.3\">input:</text>\n<polyline fill=\"none\" points=\"184.5,-438.5 242.5,-438.5 \" stroke=\"#000000\"/>\n<text fill=\"#000000\" font-family=\"Times,serif\" font-size=\"14.00\" text-anchor=\"middle\" x=\"213.5\" y=\"-423.3\">output:</text>\n<polyline fill=\"none\" points=\"242.5,-415.5 242.5,-461.5 \" stroke=\"#000000\"/>\n<text fill=\"#000000\" font-family=\"Times,serif\" font-size=\"14.00\" text-anchor=\"middle\" x=\"297.5\" y=\"-446.3\">(None, 4, 4, 16)</text>\n<polyline fill=\"none\" points=\"242.5,-438.5 352.5,-438.5 \" stroke=\"#000000\"/>\n<text fill=\"#000000\" font-family=\"Times,serif\" font-size=\"14.00\" text-anchor=\"middle\" x=\"297.5\" y=\"-423.3\">(None, 2, 2, 32)</text>\n</g>\n<!-- 140645801380160&#45;&gt;140645801741672 -->\n<g class=\"edge\" id=\"edge10\">\n<title>140645801380160-&gt;140645801741672</title>\n<path d=\"M202,-498.3799C202,-490.1745 202,-480.7679 202,-471.8786\" fill=\"none\" stroke=\"#000000\"/>\n<polygon fill=\"#000000\" points=\"205.5001,-471.784 202,-461.784 198.5001,-471.784 205.5001,-471.784\" stroke=\"#000000\"/>\n</g>\n<!-- 140645801379040 -->\n<g class=\"node\" id=\"node11\">\n<title>140645801379040</title>\n<polygon fill=\"none\" points=\"51,-332.5 51,-378.5 353,-378.5 353,-332.5 51,-332.5\" stroke=\"#000000\"/>\n<text fill=\"#000000\" font-family=\"Times,serif\" font-size=\"14.00\" text-anchor=\"middle\" x=\"118\" y=\"-351.8\">dropout_3: Dropout</text>\n<polyline fill=\"none\" points=\"185,-332.5 185,-378.5 \" stroke=\"#000000\"/>\n<text fill=\"#000000\" font-family=\"Times,serif\" font-size=\"14.00\" text-anchor=\"middle\" x=\"214\" y=\"-363.3\">input:</text>\n<polyline fill=\"none\" points=\"185,-355.5 243,-355.5 \" stroke=\"#000000\"/>\n<text fill=\"#000000\" font-family=\"Times,serif\" font-size=\"14.00\" text-anchor=\"middle\" x=\"214\" y=\"-340.3\">output:</text>\n<polyline fill=\"none\" points=\"243,-332.5 243,-378.5 \" stroke=\"#000000\"/>\n<text fill=\"#000000\" font-family=\"Times,serif\" font-size=\"14.00\" text-anchor=\"middle\" x=\"298\" y=\"-363.3\">(None, 2, 2, 32)</text>\n<polyline fill=\"none\" points=\"243,-355.5 353,-355.5 \" stroke=\"#000000\"/>\n<text fill=\"#000000\" font-family=\"Times,serif\" font-size=\"14.00\" text-anchor=\"middle\" x=\"298\" y=\"-340.3\">(None, 2, 2, 32)</text>\n</g>\n<!-- 140645801741672&#45;&gt;140645801379040 -->\n<g class=\"edge\" id=\"edge11\">\n<title>140645801741672-&gt;140645801379040</title>\n<path d=\"M202,-415.3799C202,-407.1745 202,-397.7679 202,-388.8786\" fill=\"none\" stroke=\"#000000\"/>\n<polygon fill=\"#000000\" points=\"205.5001,-388.784 202,-378.784 198.5001,-388.784 205.5001,-388.784\" stroke=\"#000000\"/>\n</g>\n<!-- 140645801208576 -->\n<g class=\"node\" id=\"node12\">\n<title>140645801208576</title>\n<polygon fill=\"none\" points=\"7.5,-249.5 7.5,-295.5 396.5,-295.5 396.5,-249.5 7.5,-249.5\" stroke=\"#000000\"/>\n<text fill=\"#000000\" font-family=\"Times,serif\" font-size=\"14.00\" text-anchor=\"middle\" x=\"118\" y=\"-268.8\">max_pooling2d_3: MaxPooling2D</text>\n<polyline fill=\"none\" points=\"228.5,-249.5 228.5,-295.5 \" stroke=\"#000000\"/>\n<text fill=\"#000000\" font-family=\"Times,serif\" font-size=\"14.00\" text-anchor=\"middle\" x=\"257.5\" y=\"-280.3\">input:</text>\n<polyline fill=\"none\" points=\"228.5,-272.5 286.5,-272.5 \" stroke=\"#000000\"/>\n<text fill=\"#000000\" font-family=\"Times,serif\" font-size=\"14.00\" text-anchor=\"middle\" x=\"257.5\" y=\"-257.3\">output:</text>\n<polyline fill=\"none\" points=\"286.5,-249.5 286.5,-295.5 \" stroke=\"#000000\"/>\n<text fill=\"#000000\" font-family=\"Times,serif\" font-size=\"14.00\" text-anchor=\"middle\" x=\"341.5\" y=\"-280.3\">(None, 2, 2, 32)</text>\n<polyline fill=\"none\" points=\"286.5,-272.5 396.5,-272.5 \" stroke=\"#000000\"/>\n<text fill=\"#000000\" font-family=\"Times,serif\" font-size=\"14.00\" text-anchor=\"middle\" x=\"341.5\" y=\"-257.3\">(None, 1, 1, 32)</text>\n</g>\n<!-- 140645801379040&#45;&gt;140645801208576 -->\n<g class=\"edge\" id=\"edge12\">\n<title>140645801379040-&gt;140645801208576</title>\n<path d=\"M202,-332.3799C202,-324.1745 202,-314.7679 202,-305.8786\" fill=\"none\" stroke=\"#000000\"/>\n<polygon fill=\"#000000\" points=\"205.5001,-305.784 202,-295.784 198.5001,-305.784 205.5001,-305.784\" stroke=\"#000000\"/>\n</g>\n<!-- 140645801207904 -->\n<g class=\"node\" id=\"node13\">\n<title>140645801207904</title>\n<polygon fill=\"none\" points=\"51.5,-166.5 51.5,-212.5 352.5,-212.5 352.5,-166.5 51.5,-166.5\" stroke=\"#000000\"/>\n<text fill=\"#000000\" font-family=\"Times,serif\" font-size=\"14.00\" text-anchor=\"middle\" x=\"118\" y=\"-185.8\">conv2d_7: Conv2D</text>\n<polyline fill=\"none\" points=\"184.5,-166.5 184.5,-212.5 \" stroke=\"#000000\"/>\n<text fill=\"#000000\" font-family=\"Times,serif\" font-size=\"14.00\" text-anchor=\"middle\" x=\"213.5\" y=\"-197.3\">input:</text>\n<polyline fill=\"none\" points=\"184.5,-189.5 242.5,-189.5 \" stroke=\"#000000\"/>\n<text fill=\"#000000\" font-family=\"Times,serif\" font-size=\"14.00\" text-anchor=\"middle\" x=\"213.5\" y=\"-174.3\">output:</text>\n<polyline fill=\"none\" points=\"242.5,-166.5 242.5,-212.5 \" stroke=\"#000000\"/>\n<text fill=\"#000000\" font-family=\"Times,serif\" font-size=\"14.00\" text-anchor=\"middle\" x=\"297.5\" y=\"-197.3\">(None, 1, 1, 32)</text>\n<polyline fill=\"none\" points=\"242.5,-189.5 352.5,-189.5 \" stroke=\"#000000\"/>\n<text fill=\"#000000\" font-family=\"Times,serif\" font-size=\"14.00\" text-anchor=\"middle\" x=\"297.5\" y=\"-174.3\">(None, 1, 1, 10)</text>\n</g>\n<!-- 140645801208576&#45;&gt;140645801207904 -->\n<g class=\"edge\" id=\"edge13\">\n<title>140645801208576-&gt;140645801207904</title>\n<path d=\"M202,-249.3799C202,-241.1745 202,-231.7679 202,-222.8786\" fill=\"none\" stroke=\"#000000\"/>\n<polygon fill=\"#000000\" points=\"205.5001,-222.784 202,-212.784 198.5001,-222.784 205.5001,-222.784\" stroke=\"#000000\"/>\n</g>\n<!-- 140645800798416 -->\n<g class=\"node\" id=\"node14\">\n<title>140645800798416</title>\n<polygon fill=\"none\" points=\"61.5,-83.5 61.5,-129.5 342.5,-129.5 342.5,-83.5 61.5,-83.5\" stroke=\"#000000\"/>\n<text fill=\"#000000\" font-family=\"Times,serif\" font-size=\"14.00\" text-anchor=\"middle\" x=\"118\" y=\"-102.8\">flatten_1: Flatten</text>\n<polyline fill=\"none\" points=\"174.5,-83.5 174.5,-129.5 \" stroke=\"#000000\"/>\n<text fill=\"#000000\" font-family=\"Times,serif\" font-size=\"14.00\" text-anchor=\"middle\" x=\"203.5\" y=\"-114.3\">input:</text>\n<polyline fill=\"none\" points=\"174.5,-106.5 232.5,-106.5 \" stroke=\"#000000\"/>\n<text fill=\"#000000\" font-family=\"Times,serif\" font-size=\"14.00\" text-anchor=\"middle\" x=\"203.5\" y=\"-91.3\">output:</text>\n<polyline fill=\"none\" points=\"232.5,-83.5 232.5,-129.5 \" stroke=\"#000000\"/>\n<text fill=\"#000000\" font-family=\"Times,serif\" font-size=\"14.00\" text-anchor=\"middle\" x=\"287.5\" y=\"-114.3\">(None, 1, 1, 10)</text>\n<polyline fill=\"none\" points=\"232.5,-106.5 342.5,-106.5 \" stroke=\"#000000\"/>\n<text fill=\"#000000\" font-family=\"Times,serif\" font-size=\"14.00\" text-anchor=\"middle\" x=\"287.5\" y=\"-91.3\">(None, 10)</text>\n</g>\n<!-- 140645801207904&#45;&gt;140645800798416 -->\n<g class=\"edge\" id=\"edge14\">\n<title>140645801207904-&gt;140645800798416</title>\n<path d=\"M202,-166.3799C202,-158.1745 202,-148.7679 202,-139.8786\" fill=\"none\" stroke=\"#000000\"/>\n<polygon fill=\"#000000\" points=\"205.5001,-139.784 202,-129.784 198.5001,-139.784 205.5001,-139.784\" stroke=\"#000000\"/>\n</g>\n<!-- 140645800893072 -->\n<g class=\"node\" id=\"node15\">\n<title>140645800893072</title>\n<polygon fill=\"none\" points=\"56,-.5 56,-46.5 348,-46.5 348,-.5 56,-.5\" stroke=\"#000000\"/>\n<text fill=\"#000000\" font-family=\"Times,serif\" font-size=\"14.00\" text-anchor=\"middle\" x=\"133\" y=\"-19.8\">activation_1: Activation</text>\n<polyline fill=\"none\" points=\"210,-.5 210,-46.5 \" stroke=\"#000000\"/>\n<text fill=\"#000000\" font-family=\"Times,serif\" font-size=\"14.00\" text-anchor=\"middle\" x=\"239\" y=\"-31.3\">input:</text>\n<polyline fill=\"none\" points=\"210,-23.5 268,-23.5 \" stroke=\"#000000\"/>\n<text fill=\"#000000\" font-family=\"Times,serif\" font-size=\"14.00\" text-anchor=\"middle\" x=\"239\" y=\"-8.3\">output:</text>\n<polyline fill=\"none\" points=\"268,-.5 268,-46.5 \" stroke=\"#000000\"/>\n<text fill=\"#000000\" font-family=\"Times,serif\" font-size=\"14.00\" text-anchor=\"middle\" x=\"308\" y=\"-31.3\">(None, 10)</text>\n<polyline fill=\"none\" points=\"268,-23.5 348,-23.5 \" stroke=\"#000000\"/>\n<text fill=\"#000000\" font-family=\"Times,serif\" font-size=\"14.00\" text-anchor=\"middle\" x=\"308\" y=\"-8.3\">(None, 10)</text>\n</g>\n<!-- 140645800798416&#45;&gt;140645800893072 -->\n<g class=\"edge\" id=\"edge15\">\n<title>140645800798416-&gt;140645800893072</title>\n<path d=\"M202,-83.3799C202,-75.1745 202,-65.7679 202,-56.8786\" fill=\"none\" stroke=\"#000000\"/>\n<polygon fill=\"#000000\" points=\"205.5001,-56.784 202,-46.784 198.5001,-56.784 205.5001,-56.784\" stroke=\"#000000\"/>\n</g>\n<!-- 140645810443488 -->\n<g class=\"node\" id=\"node16\">\n<title>140645810443488</title>\n<polygon fill=\"none\" points=\"137.5,-1245.5 137.5,-1281.5 266.5,-1281.5 266.5,-1245.5 137.5,-1245.5\" stroke=\"#000000\"/>\n<text fill=\"#000000\" font-family=\"Times,serif\" font-size=\"14.00\" text-anchor=\"middle\" x=\"202\" y=\"-1259.8\">140645810443488</text>\n</g>\n<!-- 140645810443488&#45;&gt;140645810442648 -->\n<g class=\"edge\" id=\"edge1\">\n<title>140645810443488-&gt;140645810442648</title>\n<path d=\"M202,-1245.4092C202,-1237.4308 202,-1227.795 202,-1218.606\" fill=\"none\" stroke=\"#000000\"/>\n<polygon fill=\"#000000\" points=\"205.5001,-1218.5333 202,-1208.5333 198.5001,-1218.5334 205.5001,-1218.5333\" stroke=\"#000000\"/>\n</g>\n</g>\n</svg>"
          },
          "metadata": {
            "tags": []
          },
          "execution_count": 10
        }
      ]
    },
    {
      "cell_type": "code",
      "metadata": {
        "id": "YHEvMEUxRuD4",
        "colab_type": "code",
        "colab": {}
      },
      "source": [
        ""
      ],
      "execution_count": 0,
      "outputs": []
    }
  ]
}