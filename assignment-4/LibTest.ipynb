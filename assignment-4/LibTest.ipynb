{
  "nbformat": 4,
  "nbformat_minor": 0,
  "metadata": {
    "colab": {
      "name": "LibTest.ipynb",
      "version": "0.3.2",
      "provenance": []
    },
    "language_info": {
      "codemirror_mode": {
        "name": "ipython",
        "version": 3
      },
      "file_extension": ".py",
      "mimetype": "text/x-python",
      "name": "python",
      "nbconvert_exporter": "python",
      "pygments_lexer": "ipython3",
      "version": "3.7.3"
    },
    "kernelspec": {
      "name": "python3",
      "display_name": "Python 3"
    },
    "accelerator": "GPU"
  },
  "cells": [
    {
      "cell_type": "code",
      "metadata": {
        "ExecuteTime": {
          "end_time": "2019-05-21T05:24:00.891766Z",
          "start_time": "2019-05-21T05:24:00.603881Z"
        },
        "id": "rvfhV8Xc4qok",
        "colab_type": "code",
        "colab": {}
      },
      "source": [
        "import pandas as pd\n",
        "import numpy as np\n",
        "import time\n",
        "import gc\n",
        "import os\n",
        "import sys\n",
        "import dill\n",
        "from matplotlib import pyplot as plt\n",
        "%matplotlib inline\n",
        "\n",
        "from IPython.core.interactiveshell import InteractiveShell\n",
        "InteractiveShell.ast_node_interactivity = \"all\""
      ],
      "execution_count": 0,
      "outputs": []
    },
    {
      "cell_type": "code",
      "metadata": {
        "id": "1AXO5LAZ41H2",
        "colab_type": "code",
        "colab": {
          "base_uri": "https://localhost:8080/",
          "height": 836
        },
        "outputId": "451cdff6-c896-4b63-8f6e-69c782c40f8c"
      },
      "source": [
        "!pip install --upgrade --upgrade-strategy only-if-needed https://github.com/faizanahemad/data-science-utils/tarball/master"
      ],
      "execution_count": 2,
      "outputs": [
        {
          "output_type": "stream",
          "text": [
            "Collecting https://github.com/faizanahemad/data-science-utils/tarball/master\n",
            "\u001b[?25l  Downloading https://github.com/faizanahemad/data-science-utils/tarball/master\n",
            "\u001b[K     | 3.6MB 2.3MB/s\n",
            "\u001b[?25hRequirement already satisfied, skipping upgrade: numpy in /usr/local/lib/python3.6/dist-packages (from data-science-utils==0.2.29) (1.16.3)\n",
            "Requirement already satisfied, skipping upgrade: pandas in /usr/local/lib/python3.6/dist-packages (from data-science-utils==0.2.29) (0.24.2)\n",
            "Requirement already satisfied, skipping upgrade: beautifulsoup4 in /usr/local/lib/python3.6/dist-packages (from data-science-utils==0.2.29) (4.6.3)\n",
            "Requirement already satisfied, skipping upgrade: fastnumbers in /usr/local/lib/python3.6/dist-packages (from data-science-utils==0.2.29) (2.2.1)\n",
            "Requirement already satisfied, skipping upgrade: more-itertools in /usr/local/lib/python3.6/dist-packages (from data-science-utils==0.2.29) (7.0.0)\n",
            "Requirement already satisfied, skipping upgrade: dill in /usr/local/lib/python3.6/dist-packages (from data-science-utils==0.2.29) (0.2.9)\n",
            "Requirement already satisfied, skipping upgrade: stockstats in /usr/local/lib/python3.6/dist-packages (from data-science-utils==0.2.29) (0.2.0)\n",
            "Requirement already satisfied, skipping upgrade: pytidylib in /usr/local/lib/python3.6/dist-packages (from data-science-utils==0.2.29) (0.3.2)\n",
            "Requirement already satisfied, skipping upgrade: seaborn in /usr/local/lib/python3.6/dist-packages (from data-science-utils==0.2.29) (0.9.0)\n",
            "Requirement already satisfied, skipping upgrade: gensim in /usr/local/lib/python3.6/dist-packages (from data-science-utils==0.2.29) (3.6.0)\n",
            "Requirement already satisfied, skipping upgrade: nltk in /usr/local/lib/python3.6/dist-packages (from data-science-utils==0.2.29) (3.2.5)\n",
            "Requirement already satisfied, skipping upgrade: joblib in /usr/local/lib/python3.6/dist-packages (from data-science-utils==0.2.29) (0.12.5)\n",
            "Requirement already satisfied, skipping upgrade: Pygments in /usr/local/lib/python3.6/dist-packages (from data-science-utils==0.2.29) (2.1.3)\n",
            "Requirement already satisfied, skipping upgrade: pytz>=2011k in /usr/local/lib/python3.6/dist-packages (from pandas->data-science-utils==0.2.29) (2018.9)\n",
            "Requirement already satisfied, skipping upgrade: python-dateutil>=2.5.0 in /usr/local/lib/python3.6/dist-packages (from pandas->data-science-utils==0.2.29) (2.5.3)\n",
            "Requirement already satisfied, skipping upgrade: int-date>=0.1.7 in /usr/local/lib/python3.6/dist-packages (from stockstats->data-science-utils==0.2.29) (0.1.8)\n",
            "Requirement already satisfied, skipping upgrade: scipy>=0.14.0 in /usr/local/lib/python3.6/dist-packages (from seaborn->data-science-utils==0.2.29) (1.2.1)\n",
            "Requirement already satisfied, skipping upgrade: matplotlib>=1.4.3 in /usr/local/lib/python3.6/dist-packages (from seaborn->data-science-utils==0.2.29) (3.0.3)\n",
            "Requirement already satisfied, skipping upgrade: smart-open>=1.2.1 in /usr/local/lib/python3.6/dist-packages (from gensim->data-science-utils==0.2.29) (1.8.3)\n",
            "Requirement already satisfied, skipping upgrade: six>=1.5.0 in /usr/local/lib/python3.6/dist-packages (from gensim->data-science-utils==0.2.29) (1.12.0)\n",
            "Requirement already satisfied, skipping upgrade: kiwisolver>=1.0.1 in /usr/local/lib/python3.6/dist-packages (from matplotlib>=1.4.3->seaborn->data-science-utils==0.2.29) (1.1.0)\n",
            "Requirement already satisfied, skipping upgrade: cycler>=0.10 in /usr/local/lib/python3.6/dist-packages (from matplotlib>=1.4.3->seaborn->data-science-utils==0.2.29) (0.10.0)\n",
            "Requirement already satisfied, skipping upgrade: pyparsing!=2.0.4,!=2.1.2,!=2.1.6,>=2.0.1 in /usr/local/lib/python3.6/dist-packages (from matplotlib>=1.4.3->seaborn->data-science-utils==0.2.29) (2.4.0)\n",
            "Requirement already satisfied, skipping upgrade: boto3 in /usr/local/lib/python3.6/dist-packages (from smart-open>=1.2.1->gensim->data-science-utils==0.2.29) (1.9.148)\n",
            "Requirement already satisfied, skipping upgrade: boto>=2.32 in /usr/local/lib/python3.6/dist-packages (from smart-open>=1.2.1->gensim->data-science-utils==0.2.29) (2.49.0)\n",
            "Requirement already satisfied, skipping upgrade: requests in /usr/local/lib/python3.6/dist-packages (from smart-open>=1.2.1->gensim->data-science-utils==0.2.29) (2.21.0)\n",
            "Requirement already satisfied, skipping upgrade: setuptools in /usr/local/lib/python3.6/dist-packages (from kiwisolver>=1.0.1->matplotlib>=1.4.3->seaborn->data-science-utils==0.2.29) (41.0.1)\n",
            "Requirement already satisfied, skipping upgrade: jmespath<1.0.0,>=0.7.1 in /usr/local/lib/python3.6/dist-packages (from boto3->smart-open>=1.2.1->gensim->data-science-utils==0.2.29) (0.9.4)\n",
            "Requirement already satisfied, skipping upgrade: s3transfer<0.3.0,>=0.2.0 in /usr/local/lib/python3.6/dist-packages (from boto3->smart-open>=1.2.1->gensim->data-science-utils==0.2.29) (0.2.0)\n",
            "Requirement already satisfied, skipping upgrade: botocore<1.13.0,>=1.12.148 in /usr/local/lib/python3.6/dist-packages (from boto3->smart-open>=1.2.1->gensim->data-science-utils==0.2.29) (1.12.148)\n",
            "Requirement already satisfied, skipping upgrade: chardet<3.1.0,>=3.0.2 in /usr/local/lib/python3.6/dist-packages (from requests->smart-open>=1.2.1->gensim->data-science-utils==0.2.29) (3.0.4)\n",
            "Requirement already satisfied, skipping upgrade: idna<2.9,>=2.5 in /usr/local/lib/python3.6/dist-packages (from requests->smart-open>=1.2.1->gensim->data-science-utils==0.2.29) (2.8)\n",
            "Requirement already satisfied, skipping upgrade: certifi>=2017.4.17 in /usr/local/lib/python3.6/dist-packages (from requests->smart-open>=1.2.1->gensim->data-science-utils==0.2.29) (2019.3.9)\n",
            "Requirement already satisfied, skipping upgrade: urllib3<1.25,>=1.21.1 in /usr/local/lib/python3.6/dist-packages (from requests->smart-open>=1.2.1->gensim->data-science-utils==0.2.29) (1.24.3)\n",
            "Requirement already satisfied, skipping upgrade: docutils>=0.10 in /usr/local/lib/python3.6/dist-packages (from botocore<1.13.0,>=1.12.148->boto3->smart-open>=1.2.1->gensim->data-science-utils==0.2.29) (0.14)\n",
            "Building wheels for collected packages: data-science-utils\n",
            "  Building wheel for data-science-utils (setup.py) ... \u001b[?25l\u001b[?25hdone\n",
            "  Stored in directory: /tmp/pip-ephem-wheel-cache-c_5s6s0v/wheels/34/ca/91/c497716e284959a22c5e1063b0c6ea3edf535b3e0e503a1894\n",
            "Successfully built data-science-utils\n",
            "Installing collected packages: data-science-utils\n",
            "  Found existing installation: data-science-utils 0.2.28\n",
            "    Uninstalling data-science-utils-0.2.28:\n",
            "      Successfully uninstalled data-science-utils-0.2.28\n",
            "Successfully installed data-science-utils-0.2.29\n"
          ],
          "name": "stdout"
        }
      ]
    },
    {
      "cell_type": "code",
      "metadata": {
        "ExecuteTime": {
          "end_time": "2019-05-21T05:24:00.938722Z",
          "start_time": "2019-05-21T05:24:00.932002Z"
        },
        "id": "Kw1kQpQh4qop",
        "colab_type": "code",
        "colab": {
          "base_uri": "https://localhost:8080/",
          "height": 34
        },
        "outputId": "bdc212a4-c9b4-42e3-8b72-920ef6798bac"
      },
      "source": [
        "# When using in colab, upload lib.py, in the left side pane open files and then click upload\n",
        "from data_science_utils.vision.keras import *"
      ],
      "execution_count": 3,
      "outputs": [
        {
          "output_type": "stream",
          "text": [
            "Using TensorFlow backend.\n"
          ],
          "name": "stderr"
        }
      ]
    },
    {
      "cell_type": "code",
      "metadata": {
        "ExecuteTime": {
          "end_time": "2019-05-20T18:31:27.055153Z",
          "start_time": "2019-05-20T18:31:27.043287Z"
        },
        "id": "ciF2ERca4qor",
        "colab_type": "code",
        "colab": {}
      },
      "source": [
        ""
      ],
      "execution_count": 0,
      "outputs": []
    },
    {
      "cell_type": "code",
      "metadata": {
        "ExecuteTime": {
          "end_time": "2019-05-21T05:24:05.812115Z",
          "start_time": "2019-05-21T05:24:05.316746Z"
        },
        "id": "eL2PmvF34qot",
        "colab_type": "code",
        "colab": {}
      },
      "source": [
        "\n",
        "X_train, Y_train, X_test, Y_test = get_mnist_data()"
      ],
      "execution_count": 0,
      "outputs": []
    },
    {
      "cell_type": "code",
      "metadata": {
        "ExecuteTime": {
          "end_time": "2019-05-21T05:25:22.099248Z",
          "start_time": "2019-05-21T05:25:21.737016Z"
        },
        "scrolled": false,
        "id": "hVFTOpoB4qov",
        "colab_type": "code",
        "colab": {
          "base_uri": "https://localhost:8080/",
          "height": 480
        },
        "outputId": "1e7dbafc-167b-48aa-8e25-adda3687fcd9"
      },
      "source": [
        "show_examples(X_train[10:20], Y_train[10:20],classes=get_mnist_labels())"
      ],
      "execution_count": 5,
      "outputs": [
        {
          "output_type": "display_data",
          "data": {
            "image/png": "[encoded data removed]",
            "text/plain": [
              "<Figure size 1440x576 with 10 Axes>"
            ]
          },
          "metadata": {
            "tags": []
          }
        }
      ]
    },
    {
      "cell_type": "code",
      "metadata": {
        "ExecuteTime": {
          "end_time": "2019-05-21T05:24:41.646177Z",
          "start_time": "2019-05-21T05:24:41.641227Z"
        },
        "id": "VJ0X5C8i4qo1",
        "colab_type": "code",
        "colab": {}
      },
      "source": [
        "import numpy as np\n",
        "\n",
        "from keras.models import Sequential\n",
        "from keras.layers import Dense, Dropout, Activation, Flatten, Add\n",
        "from keras.layers import Convolution2D, MaxPooling2D\n",
        "import warnings\n",
        "warnings.filterwarnings(\"ignore\")"
      ],
      "execution_count": 0,
      "outputs": []
    },
    {
      "cell_type": "code",
      "metadata": {
        "ExecuteTime": {
          "end_time": "2019-05-21T05:26:12.201978Z",
          "start_time": "2019-05-21T05:25:50.471705Z"
        },
        "id": "yL77ezWl4qo4",
        "colab_type": "code",
        "colab": {
          "base_uri": "https://localhost:8080/",
          "height": 1661
        },
        "outputId": "2deda3e5-93bc-4dc5-b698-103325ac6e9c"
      },
      "source": [
        "from keras.layers import Activation\n",
        "model = Sequential()\n",
        "\n",
        " \n",
        "model.add(Convolution2D(32, 3, 3, activation='relu', input_shape=(28,28,1))) # 26\n",
        "model.add(keras.layers.Dropout(0.2))\n",
        "model.add(Convolution2D(16, 1, activation='relu'))\n",
        "model.add(Convolution2D(16, 3,3, activation='relu')) # 24\n",
        "model.add(MaxPooling2D(pool_size=(2, 2))) #12\n",
        "\n",
        "model.add(Convolution2D(32, 3,3, activation='relu')) # 10\n",
        "model.add(keras.layers.Dropout(0.2))\n",
        "model.add(Convolution2D(16, 3,3, activation='relu')) # 8\n",
        "model.add(MaxPooling2D(pool_size=(2, 2))) #4\n",
        "\n",
        "\n",
        "\n",
        "model.add(Convolution2D(32, 3,3, activation='relu')) # 2\n",
        "model.add(keras.layers.Dropout(0.2))\n",
        "model.add(MaxPooling2D(pool_size=(2, 2)))\n",
        "model.add(Convolution2D(10, 1))\n",
        "\n",
        "\n",
        "model.add(Flatten())\n",
        "model.add(Activation('softmax'))\n",
        "print(\"Params = \",model.count_params())\n",
        "\n",
        "model.compile(loss='categorical_crossentropy',\n",
        "             optimizer=\"adam\",\n",
        "             metrics=['accuracy'])\n",
        "\n",
        "model.fit(X_train, Y_train, batch_size=2048, epochs=5, verbose=1)\n",
        "\n",
        "evaluate(model,X_train, Y_train,X_test, Y_test,classes=get_mnist_labels())\n"
      ],
      "execution_count": 7,
      "outputs": [
        {
          "output_type": "stream",
          "text": [
            "WARNING:tensorflow:From /usr/local/lib/python3.6/dist-packages/tensorflow/python/framework/op_def_library.py:263: colocate_with (from tensorflow.python.framework.ops) is deprecated and will be removed in a future version.\n",
            "Instructions for updating:\n",
            "Colocations handled automatically by placer.\n",
            "WARNING:tensorflow:From /usr/local/lib/python3.6/dist-packages/keras/backend/tensorflow_backend.py:3445: calling dropout (from tensorflow.python.ops.nn_ops) with keep_prob is deprecated and will be removed in a future version.\n",
            "Instructions for updating:\n",
            "Please use `rate` instead of `keep_prob`. Rate should be set to `rate = 1 - keep_prob`.\n",
            "Params =  17402\n",
            "WARNING:tensorflow:From /usr/local/lib/python3.6/dist-packages/tensorflow/python/ops/math_ops.py:3066: to_int32 (from tensorflow.python.ops.math_ops) is deprecated and will be removed in a future version.\n",
            "Instructions for updating:\n",
            "Use tf.cast instead.\n",
            "Epoch 1/5\n",
            "60000/60000 [==============================] - 7s 116us/step - loss: 1.8403 - acc: 0.4089\n",
            "Epoch 2/5\n",
            "60000/60000 [==============================] - 4s 72us/step - loss: 0.6875 - acc: 0.7737\n",
            "Epoch 3/5\n",
            "60000/60000 [==============================] - 4s 72us/step - loss: 0.4159 - acc: 0.8681\n",
            "Epoch 4/5\n",
            "60000/60000 [==============================] - 4s 72us/step - loss: 0.3025 - acc: 0.9048\n",
            "Epoch 5/5\n",
            "60000/60000 [==============================] - 4s 72us/step - loss: 0.2448 - acc: 0.9244\n"
          ],
          "name": "stdout"
        },
        {
          "output_type": "execute_result",
          "data": {
            "text/plain": [
              "<keras.callbacks.History at 0x7f1476dadb70>"
            ]
          },
          "metadata": {
            "tags": []
          },
          "execution_count": 7
        },
        {
          "output_type": "stream",
          "text": [
            "\n"
          ],
          "name": "stdout"
        },
        {
          "output_type": "display_data",
          "data": {
            "image/png": "[encoded data removed]",
            "text/plain": [
              "<Figure size 1152x432 with 1 Axes>"
            ]
          },
          "metadata": {
            "tags": []
          }
        },
        {
          "output_type": "display_data",
          "data": {
            "image/png": "[encoded data removed]",
            "text/plain": [
              "<Figure size 1152x432 with 1 Axes>"
            ]
          },
          "metadata": {
            "tags": []
          }
        },
        {
          "output_type": "execute_result",
          "data": {
            "text/plain": [
              "([0.1764857264260451, 0.9500333333333333],\n",
              " [0.15404907357096673, 0.9591],\n",
              "   classes   average  precision    recall support data_source\n",
              " 0       0      None   0.960345  0.977207    5923       train\n",
              " 1       1      None   0.951104  0.983833    6742       train\n",
              " 2       2      None   0.963542  0.931521    5958       train\n",
              " 3       3      None   0.950122  0.950742    6131       train\n",
              " 4       4      None   0.955676  0.966963    5842       train\n",
              " 5       5      None   0.954713  0.956650    5421       train\n",
              " 6       6      None   0.943849  0.982764    5918       train\n",
              " 7       7      None   0.941130  0.954350    6265       train\n",
              " 8       8      None   0.972790  0.861562    5851       train\n",
              " 9       9      None   0.912104  0.929736    5949       train\n",
              " 0       0      None   0.955577  0.987755     980        test\n",
              " 1       1      None   0.975694  0.990308    1135        test\n",
              " 2       2      None   0.972892  0.938953    1032        test\n",
              " 3       3      None   0.948594  0.968317    1010        test\n",
              " 4       4      None   0.966700  0.975560     982        test\n",
              " 5       5      None   0.973774  0.957399     892        test\n",
              " 6       6      None   0.939940  0.980167     958        test\n",
              " 7       7      None   0.950772  0.958171    1028        test\n",
              " 8       8      None   0.973714  0.874743     974        test\n",
              " 9       9      None   0.935922  0.955401    1009        test\n",
              " 0    None     micro   0.950033  0.950033    None       train\n",
              " 0    None     micro   0.959100  0.959100    None        test\n",
              " 0    None     macro   0.950538  0.949533    None       train\n",
              " 0    None     macro   0.959358  0.958678    None        test\n",
              " 0    None  weighted   0.950413  0.950033    None       train\n",
              " 0    None  weighted   0.959449  0.959100    None        test)"
            ]
          },
          "metadata": {
            "tags": []
          },
          "execution_count": 7
        }
      ]
    },
    {
      "cell_type": "code",
      "metadata": {
        "id": "GbG5Orpu4qo7",
        "colab_type": "code",
        "colab": {}
      },
      "source": [
        ""
      ],
      "execution_count": 0,
      "outputs": []
    }
  ]
}