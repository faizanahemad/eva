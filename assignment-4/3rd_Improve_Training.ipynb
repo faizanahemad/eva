{
  "nbformat": 4,
  "nbformat_minor": 0,
  "metadata": {
    "colab": {
      "name": "3rd_Improve_Training.ipynb",
      "version": "0.3.2",
      "provenance": [],
      "collapsed_sections": [],
      "toc_visible": true,
      "include_colab_link": true
    },
    "language_info": {
      "codemirror_mode": {
        "name": "ipython",
        "version": 3
      },
      "file_extension": ".py",
      "mimetype": "text/x-python",
      "name": "python",
      "nbconvert_exporter": "python",
      "pygments_lexer": "ipython3",
      "version": "3.7.3"
    },
    "kernelspec": {
      "name": "python3",
      "display_name": "Python 3"
    },
    "accelerator": "GPU"
  },
  "cells": [
    {
      "cell_type": "markdown",
      "metadata": {
        "id": "view-in-github",
        "colab_type": "text"
      },
      "source": [
        "<a href=\"https://colab.research.google.com/github/faizanahemad/eva/blob/master/assignment-4/3rd_Improve_Training.ipynb\" target=\"_parent\"><img src=\"https://colab.research.google.com/assets/colab-badge.svg\" alt=\"Open In Colab\"/></a>"
      ]
    },
    {
      "cell_type": "markdown",
      "metadata": {
        "id": "PNq42pgIBNAH",
        "colab_type": "text"
      },
      "source": [
        "## **3rd File: Improve Training**\n",
        "    - Adam vs Fine tuned SGD (SGD may be better since recent papers use this)\n",
        "    - Use ES with validation data. Find right num epochs.\n",
        "    - Use ReduceLRonPlateau\n",
        "    - Play with BatchSize\n",
        "    \n",
        "\n",
        "**Code for EarlyStopping and Checkpointing:** This is the 1st change we will make to all models\n",
        "    \n",
        "    \n",
        "```python\n",
        "from keras.callbacks import EarlyStopping, ModelCheckpoint\n",
        "\n",
        "es = EarlyStopping(\"val_acc\",patience=8,restore_best_weights=True)\n",
        "checkpoint = ModelCheckpoint(\"model.hdf5\", monitor='val_acc', verbose=0, save_best_only=True, mode='max')\n",
        "\n",
        "callbacks_list = [es,checkpoint]\n",
        "\n",
        "train_history = model.fit(X_train, Y_train, batch_size=2048, epochs=125, verbose=1, shuffle=True, validation_split=0.1, callbacks=callbacks_list,)\n",
        "\n",
        "\n",
        "```\n",
        "\n",
        "**To reload check-pointed Model**\n",
        "\n",
        "```python\n",
        "model.load_weights(\"model.hdf5\")\n",
        "```"
      ]
    },
    {
      "cell_type": "code",
      "metadata": {
        "id": "1AXO5LAZ41H2",
        "colab_type": "code",
        "colab": {}
      },
      "source": [
        "!pip install --upgrade --upgrade-strategy only-if-needed https://github.com/faizanahemad/data-science-utils/tarball/master > /dev/null"
      ],
      "execution_count": 0,
      "outputs": []
    },
    {
      "cell_type": "code",
      "metadata": {
        "ExecuteTime": {
          "end_time": "2019-05-21T05:24:00.891766Z",
          "start_time": "2019-05-21T05:24:00.603881Z"
        },
        "id": "rvfhV8Xc4qok",
        "colab_type": "code",
        "outputId": "3292a9e0-b34b-45f3-f837-5146c5a651af",
        "colab": {
          "base_uri": "https://localhost:8080/",
          "height": 34
        }
      },
      "source": [
        "import pandas as pd\n",
        "import numpy as np\n",
        "import time\n",
        "import gc\n",
        "import os\n",
        "import sys\n",
        "import dill\n",
        "from matplotlib import pyplot as plt\n",
        "from keras import backend as K\n",
        "import numpy as np\n",
        "\n",
        "from keras.models import Sequential\n",
        "from keras.layers import Dense, Dropout, Activation, Flatten, Add\n",
        "from keras.layers import Convolution2D, MaxPooling2D\n",
        "import warnings\n",
        "from data_science_utils.vision.keras import *\n",
        "from keras.layers import Activation\n",
        "warnings.filterwarnings(\"ignore\")\n",
        "%matplotlib inline\n",
        "from keras.layers import Dropout\n",
        "from keras.callbacks import EarlyStopping, ModelCheckpoint, ReduceLROnPlateau, LearningRateScheduler\n",
        "from keras.optimizers import SGD, Nadam, Adam\n",
        "\n",
        "from IPython.core.interactiveshell import InteractiveShell\n",
        "InteractiveShell.ast_node_interactivity = \"all\""
      ],
      "execution_count": 2,
      "outputs": [
        {
          "output_type": "stream",
          "text": [
            "Using TensorFlow backend.\n"
          ],
          "name": "stderr"
        }
      ]
    },
    {
      "cell_type": "code",
      "metadata": {
        "ExecuteTime": {
          "end_time": "2019-05-21T05:24:05.812115Z",
          "start_time": "2019-05-21T05:24:05.316746Z"
        },
        "id": "eL2PmvF34qot",
        "colab_type": "code",
        "outputId": "0ccd8d9d-80c6-4598-b20f-6d152ecefa0f",
        "colab": {
          "base_uri": "https://localhost:8080/",
          "height": 51
        }
      },
      "source": [
        "\n",
        "X_train, Y_train, X_test, Y_test = get_mnist_data()\n",
        "print(X_train.shape)\n",
        "print(X_test.shape)"
      ],
      "execution_count": 3,
      "outputs": [
        {
          "output_type": "stream",
          "text": [
            "(60000, 28, 28, 1)\n",
            "(10000, 28, 28, 1)\n"
          ],
          "name": "stdout"
        }
      ]
    },
    {
      "cell_type": "code",
      "metadata": {
        "ExecuteTime": {
          "end_time": "2019-05-21T05:25:22.099248Z",
          "start_time": "2019-05-21T05:25:21.737016Z"
        },
        "scrolled": false,
        "id": "hVFTOpoB4qov",
        "colab_type": "code",
        "outputId": "7312832f-b423-457a-a366-8550381e6b9b",
        "colab": {
          "base_uri": "https://localhost:8080/",
          "height": 263
        }
      },
      "source": [
        "show_examples(X_train[10:15], Y_train[10:15],classes=get_mnist_labels())"
      ],
      "execution_count": 4,
      "outputs": [
        {
          "output_type": "display_data",
          "data": {
            "image/png": "[encoded data removed]",
            "text/plain": [
              "<Figure size 1440x288 with 5 Axes>"
            ]
          },
          "metadata": {
            "tags": []
          }
        }
      ]
    },
    {
      "cell_type": "markdown",
      "metadata": {
        "id": "LE6OPo7-QZHZ",
        "colab_type": "text"
      },
      "source": [
        "## Architecture 3 [Selected]\n",
        "\n",
        "We tried 32 in 1st layer and then noticed that many of these kernels were empty. So we will use dropout to add more robustness"
      ]
    },
    {
      "cell_type": "code",
      "metadata": {
        "id": "rx0UnES2WUzt",
        "colab_type": "code",
        "colab": {
          "base_uri": "https://localhost:8080/",
          "height": 547
        },
        "outputId": "f7f8b971-9e55-4a9f-dab3-660bcd468641"
      },
      "source": [
        "model = Sequential()\n",
        "model.add(Convolution2D(32, 3, 3, activation='relu', input_shape=(28,28,1))) # 26\n",
        "model.add(Dropout(0.2))\n",
        "model.add(Convolution2D(10, 1, activation='relu'))\n",
        "model.add(Convolution2D(16, 3,3, activation='relu')) # 24\n",
        "model.add(Dropout(0.1))\n",
        "model.add(MaxPooling2D(pool_size=(2, 2))) #12\n",
        "\n",
        "model.add(Convolution2D(16, 3,3, activation='relu')) # 10\n",
        "model.add(Dropout(0.15))\n",
        "model.add(Convolution2D(16, 3,3, activation='relu')) # 8\n",
        "model.add(Dropout(0.15))\n",
        "model.add(Convolution2D(16, 3,3, activation='relu')) #6\n",
        "model.add(Dropout(0.1))\n",
        "model.add(Convolution2D(10, 1, activation='relu')) #6\n",
        "model.add(Convolution2D(10, 6,6))\n",
        "\n",
        "model.add(Flatten())\n",
        "model.add(Activation('softmax'))\n",
        "print(\"Params = \",model.count_params())\n",
        "\n",
        "reduce_lr = ReduceLROnPlateau(monitor='val_acc', factor=0.4, patience=5, min_lr=0.0001,verbose=1)\n",
        "es = EarlyStopping(\"val_acc\",patience=30,restore_best_weights=True)\n",
        "checkpoint = ModelCheckpoint(\"model.hdf5\", monitor='val_acc', verbose=0, save_best_only=True, mode='max')\n",
        "callbacks_list = [es,checkpoint,reduce_lr]\n",
        "optimizer = Adam(lr=0.005,)\n",
        "\n",
        "\n",
        "model.compile(loss='categorical_crossentropy',\n",
        "             optimizer=optimizer,\n",
        "             metrics=['accuracy'])\n",
        "\n",
        "train_history = model.fit(X_train, Y_train, batch_size=2048, epochs=100, verbose=0, shuffle=True, validation_data=(X_test, Y_test), callbacks=callbacks_list,)\n",
        "print(\"Layer Names: \",[layer.name for layer in model.layers[0:]])\n",
        "val_metrics = (train_history.history['val_loss'][-1],train_history.history['val_acc'][-1])\n",
        "print(\"Validation Loss\",val_metrics)\n",
        "\n",
        "model.load_weights(\"model.hdf5\")\n",
        "\n",
        "_=evaluate(model,X_train, Y_train,classes=get_mnist_labels(),print_results=True, plot_results=False)\n",
        "_=evaluate(model,X_test, Y_test,classes=get_mnist_labels(),print_results=True, plot_results=False)\n"
      ],
      "execution_count": 5,
      "outputs": [
        {
          "output_type": "stream",
          "text": [
            "WARNING:tensorflow:From /usr/local/lib/python3.6/dist-packages/tensorflow/python/framework/op_def_library.py:263: colocate_with (from tensorflow.python.framework.ops) is deprecated and will be removed in a future version.\n",
            "Instructions for updating:\n",
            "Colocations handled automatically by placer.\n",
            "WARNING:tensorflow:From /usr/local/lib/python3.6/dist-packages/keras/backend/tensorflow_backend.py:3445: calling dropout (from tensorflow.python.ops.nn_ops) with keep_prob is deprecated and will be removed in a future version.\n",
            "Instructions for updating:\n",
            "Please use `rate` instead of `keep_prob`. Rate should be set to `rate = 1 - keep_prob`.\n",
            "Params =  12846\n",
            "WARNING:tensorflow:From /usr/local/lib/python3.6/dist-packages/tensorflow/python/ops/math_ops.py:3066: to_int32 (from tensorflow.python.ops.math_ops) is deprecated and will be removed in a future version.\n",
            "Instructions for updating:\n",
            "Use tf.cast instead.\n",
            "\n",
            "Epoch 00040: ReduceLROnPlateau reducing learning rate to 0.0019999999552965165.\n",
            "\n",
            "Epoch 00045: ReduceLROnPlateau reducing learning rate to 0.0007999999448657036.\n",
            "\n",
            "Epoch 00051: ReduceLROnPlateau reducing learning rate to 0.0003199999686330557.\n",
            "\n",
            "Epoch 00059: ReduceLROnPlateau reducing learning rate to 0.00012799998512491584.\n",
            "\n",
            "Epoch 00064: ReduceLROnPlateau reducing learning rate to 0.0001.\n",
            "Layer Names:  ['conv2d_1', 'dropout_1', 'conv2d_2', 'conv2d_3', 'dropout_2', 'max_pooling2d_1', 'conv2d_4', 'dropout_3', 'conv2d_5', 'dropout_4', 'conv2d_6', 'dropout_5', 'conv2d_7', 'conv2d_8', 'flatten_1', 'activation_1']\n",
            "Validation Loss (0.018325370049476625, 0.9941999975204467)\n",
            " =-=  =-=  =-=  =-=  =-=  =-=  =-=  =-=  =-=  =-=  =-=  =-=  =-=  =-=  =-=  =-=  =-=  =-=  =-=  =-= \n",
            "Total Model Params =  12846\n",
            "Score =  [0.00881358094047755, 0.9977833333333334]\n",
            "Balanced Accuracy = 99.78% \n",
            " =-=  =-=  =-=  =-=  =-=  =-=  =-=  =-=  =-=  =-=  =-=  =-=  =-=  =-=  =-=  =-=  =-=  =-=  =-=  =-= \n",
            "Total Model Params =  12846\n",
            "Score =  [0.018187444373860488, 0.9945]\n",
            "Balanced Accuracy = 99.44% \n"
          ],
          "name": "stdout"
        }
      ]
    },
    {
      "cell_type": "code",
      "metadata": {
        "id": "TzJpUIfLK0ld",
        "colab_type": "code",
        "colab": {}
      },
      "source": [
        ""
      ],
      "execution_count": 0,
      "outputs": []
    },
    {
      "cell_type": "markdown",
      "metadata": {
        "id": "y6RvcLMtO2On",
        "colab_type": "text"
      },
      "source": [
        "## Batch Size vs Accuracy"
      ]
    },
    {
      "cell_type": "code",
      "metadata": {
        "id": "bbAY5g4iPFBU",
        "colab_type": "code",
        "colab": {}
      },
      "source": [
        "def run_model(batch_size):\n",
        "  model = Sequential()\n",
        "  model.add(Convolution2D(32, 3, 3, activation='relu', input_shape=(28,28,1))) # 26\n",
        "  model.add(Dropout(0.2))\n",
        "  model.add(Convolution2D(10, 1, activation='relu'))\n",
        "  model.add(Convolution2D(16, 3,3, activation='relu')) # 24\n",
        "  model.add(Dropout(0.1))\n",
        "  model.add(MaxPooling2D(pool_size=(2, 2))) #12\n",
        "\n",
        "  model.add(Convolution2D(16, 3,3, activation='relu')) # 10\n",
        "  model.add(Dropout(0.15))\n",
        "  model.add(Convolution2D(16, 3,3, activation='relu')) # 8\n",
        "  model.add(Dropout(0.15))\n",
        "  model.add(Convolution2D(16, 3,3, activation='relu')) #6\n",
        "  model.add(Dropout(0.1))\n",
        "  model.add(Convolution2D(10, 1, activation='relu')) #6\n",
        "  model.add(Convolution2D(10, 6,6))\n",
        "\n",
        "  model.add(Flatten())\n",
        "  model.add(Activation('softmax'))\n",
        "\n",
        "  reduce_lr = ReduceLROnPlateau(monitor='val_acc', factor=0.4, patience=4, min_lr=0.0001,verbose=0)\n",
        "  es = EarlyStopping(\"val_acc\",patience=20,restore_best_weights=True)\n",
        "  checkpoint = ModelCheckpoint(\"model_2.hdf5\", monitor='val_acc', verbose=0, save_best_only=True, mode='max')\n",
        "  callbacks_list = [es,checkpoint,reduce_lr]\n",
        "  optimizer = Adam(lr=0.005,)\n",
        "\n",
        "\n",
        "  model.compile(loss='categorical_crossentropy',\n",
        "               optimizer=optimizer,\n",
        "               metrics=['accuracy'])\n",
        "\n",
        "  train_history = model.fit(X_train, Y_train, batch_size=batch_size, epochs=60, verbose=0, shuffle=True, validation_data=(X_test, Y_test), callbacks=callbacks_list,)\n",
        "  model.load_weights(\"model_2.hdf5\")\n",
        "\n",
        "  (_,train_acc),_ = evaluate(model,X_train, Y_train,classes=get_mnist_labels(),print_results=False, plot_results=False)\n",
        "  (_,test_acc),_ = evaluate(model,X_test, Y_test,classes=get_mnist_labels(),print_results=False, plot_results=False)\n",
        "  \n",
        "  return train_acc,test_acc\n"
      ],
      "execution_count": 0,
      "outputs": []
    },
    {
      "cell_type": "code",
      "metadata": {
        "id": "JFlTv69pS-CE",
        "colab_type": "code",
        "outputId": "ce440927-0c71-4527-bcfd-59bad5b76ca2",
        "colab": {
          "base_uri": "https://localhost:8080/",
          "height": 34
        }
      },
      "source": [
        "!pip install tqdm"
      ],
      "execution_count": 0,
      "outputs": [
        {
          "output_type": "stream",
          "text": [
            "Requirement already satisfied: tqdm in /usr/local/lib/python3.6/dist-packages (4.28.1)\n"
          ],
          "name": "stdout"
        }
      ]
    },
    {
      "cell_type": "code",
      "metadata": {
        "id": "pmzY2b2EPFdh",
        "colab_type": "code",
        "colab": {}
      },
      "source": [
        "from tqdm import tnrange, tqdm_notebook\n",
        "\n",
        "# Code below showed us that batch\n",
        "\n",
        "batch_to_results = [(int(batch_size),run_model(int(batch_size))) for batch_size in tqdm_notebook(np.linspace(32,4096,50))]\n"
      ],
      "execution_count": 0,
      "outputs": []
    },
    {
      "cell_type": "markdown",
      "metadata": {
        "id": "DTc_uSKOK1UE",
        "colab_type": "text"
      },
      "source": [
        "## Trying Optimisers on Arch 3"
      ]
    },
    {
      "cell_type": "markdown",
      "metadata": {
        "id": "gqFe3si1oXo0",
        "colab_type": "text"
      },
      "source": [
        "### AdaBound\n",
        "\n",
        "- We also tried NAdam and SGD\n",
        "- SGD was hardest to tune\n",
        "- Overall Adam always outperforms SGD and other optimisers with little tuning.\n",
        "- It seems tuning SGD for better than Adam performance needs either lots of hardware or lots of time"
      ]
    },
    {
      "cell_type": "code",
      "metadata": {
        "id": "D9d53ZI3oZU0",
        "colab_type": "code",
        "outputId": "b4936a97-04ea-4bfd-ecfe-edefd8e685a5",
        "colab": {
          "base_uri": "https://localhost:8080/",
          "height": 224
        }
      },
      "source": [
        "model = Sequential()\n",
        "model.add(Convolution2D(32, 3, 3, activation='relu', input_shape=(28,28,1))) # 26\n",
        "model.add(Dropout(0.1))\n",
        "model.add(Convolution2D(10, 1, activation='relu'))\n",
        "model.add(Convolution2D(16, 3,3, activation='relu')) # 24\n",
        "model.add(Dropout(0.1))\n",
        "model.add(MaxPooling2D(pool_size=(2, 2))) #12\n",
        "\n",
        "model.add(Convolution2D(16, 3,3, activation='relu')) # 10\n",
        "model.add(Dropout(0.15))\n",
        "model.add(Convolution2D(16, 3,3, activation='relu')) # 8\n",
        "model.add(Dropout(0.15))\n",
        "model.add(Convolution2D(16, 3,3, activation='relu')) #6\n",
        "model.add(Dropout(0.1))\n",
        "model.add(Convolution2D(10, 1, activation='relu')) #6\n",
        "model.add(Convolution2D(10, 6,6))\n",
        "\n",
        "model.add(Flatten())\n",
        "model.add(Activation('softmax'))\n",
        "print(\"Params = \",model.count_params())\n",
        "\n",
        "reduce_lr = ReduceLROnPlateau(monitor='val_acc', factor=0.4, patience=5, min_lr=0.0001,verbose=1)\n",
        "es = EarlyStopping(\"val_acc\",patience=30,restore_best_weights=True)\n",
        "checkpoint = ModelCheckpoint(\"model.hdf5\", monitor='val_acc', verbose=0, save_best_only=True, mode='max')\n",
        "callbacks_list = [es,checkpoint,reduce_lr]\n",
        "callbacks_list = [checkpoint]\n",
        "optimizer = AdaBound(lr=0.001)\n",
        "\n",
        "\n",
        "model.compile(loss='categorical_crossentropy',\n",
        "             optimizer=optimizer,\n",
        "             metrics=['accuracy'])\n",
        "\n",
        "train_history = model.fit(X_train, Y_train, batch_size=2048, epochs=250, verbose=0, shuffle=True, validation_data=(X_test, Y_test), callbacks=callbacks_list,)\n",
        "print(\"Layer Names: \",[layer.name for layer in model.layers[0:]])\n",
        "val_metrics = (train_history.history['val_loss'][-1],train_history.history['val_acc'][-1])\n",
        "print(\"Validation Loss\",val_metrics)\n",
        "\n",
        "model.load_weights(\"model.hdf5\")\n",
        "\n",
        "_=evaluate(model,X_train, Y_train,classes=get_mnist_labels(),print_results=True, plot_results=False)\n",
        "_=evaluate(model,X_test, Y_test,classes=get_mnist_labels(),print_results=True, plot_results=False)\n"
      ],
      "execution_count": 7,
      "outputs": [
        {
          "output_type": "stream",
          "text": [
            "Params =  12846\n",
            "Layer Names:  ['conv2d_9', 'dropout_6', 'conv2d_10', 'conv2d_11', 'dropout_7', 'max_pooling2d_2', 'conv2d_12', 'dropout_8', 'conv2d_13', 'dropout_9', 'conv2d_14', 'dropout_10', 'conv2d_15', 'conv2d_16', 'flatten_2', 'activation_2']\n",
            "Validation Loss (0.020016211381554603, 0.9925999975204468)\n",
            " =-=  =-=  =-=  =-=  =-=  =-=  =-=  =-=  =-=  =-=  =-=  =-=  =-=  =-=  =-=  =-=  =-=  =-=  =-=  =-= \n",
            "Total Model Params =  12846\n",
            "Score =  [0.01171866882769391, 0.9967]\n",
            "Balanced Accuracy = 99.67% \n",
            " =-=  =-=  =-=  =-=  =-=  =-=  =-=  =-=  =-=  =-=  =-=  =-=  =-=  =-=  =-=  =-=  =-=  =-=  =-=  =-= \n",
            "Total Model Params =  12846\n",
            "Score =  [0.019926515911379828, 0.9932]\n",
            "Balanced Accuracy = 99.31% \n"
          ],
          "name": "stdout"
        }
      ]
    },
    {
      "cell_type": "markdown",
      "metadata": {
        "id": "_uav51JPQdvq",
        "colab_type": "text"
      },
      "source": [
        "## Architecture 4 [Selected]\n",
        "- 8->16 architecture\n",
        "- Low number of Params"
      ]
    },
    {
      "cell_type": "code",
      "metadata": {
        "id": "80IbDcg5s2rG",
        "colab_type": "code",
        "outputId": "6f779e66-5b97-4197-e492-592c4bb0ecd1",
        "colab": {
          "base_uri": "https://localhost:8080/",
          "height": 428
        }
      },
      "source": [
        "\n",
        "model = Sequential()\n",
        "\n",
        "model.add(Convolution2D(8, 3, 3, activation='relu', input_shape=(28,28,1))) # 26\n",
        "model.add(Convolution2D(16, 3,3, activation='relu')) # 24\n",
        "model.add(Dropout(0.25))\n",
        "model.add(MaxPooling2D(pool_size=(2, 2))) # 12\n",
        "model.add(Convolution2D(8, 3,3, activation='relu')) # 10\n",
        "model.add(Convolution2D(16, 3,3, activation='relu')) # 8\n",
        "model.add(Dropout(0.2))\n",
        "model.add(Convolution2D(10, 1, activation='relu'))\n",
        "model.add(Dropout(0.1))\n",
        "model.add(Convolution2D(16, 3,3, activation='relu')) # 6\n",
        "model.add(Dropout(0.1))\n",
        "model.add(Convolution2D(10, 6,6))\n",
        "\n",
        "\n",
        "\n",
        "model.add(Flatten())\n",
        "model.add(Activation('softmax'))\n",
        "print(\"Params = \",model.count_params())\n",
        "\n",
        "reduce_lr = ReduceLROnPlateau(monitor='val_acc', factor=0.5, patience=4, min_lr=0.0002,verbose=1)\n",
        "es = EarlyStopping(\"val_acc\",patience=18,restore_best_weights=True)\n",
        "checkpoint = ModelCheckpoint(\"model.hdf5\", monitor='val_acc', verbose=0, save_best_only=True, mode='max')\n",
        "callbacks_list = [es,checkpoint,reduce_lr]\n",
        "optimizer = Adam(lr=0.01,)\n",
        "\n",
        "model.compile(loss='categorical_crossentropy',\n",
        "             optimizer=optimizer,\n",
        "             metrics=['accuracy'])\n",
        "\n",
        "train_history = model.fit(X_train, Y_train, batch_size=2048, epochs=50, verbose=0, shuffle=True, validation_data=(X_test, Y_test), callbacks=callbacks_list,)\n",
        "print(\"Layer Names: \",[layer.name for layer in model.layers[0:]])\n",
        "val_metrics = (train_history.history['val_loss'][-1],train_history.history['val_acc'][-1])\n",
        "print(\"Validation Loss\",val_metrics)\n",
        "\n",
        "_=evaluate(model,X_train, Y_train,classes=get_mnist_labels(),print_results=True, plot_results=False)\n",
        "_=evaluate(model,X_test, Y_test,classes=get_mnist_labels(),print_results=True, plot_results=False)\n"
      ],
      "execution_count": 8,
      "outputs": [
        {
          "output_type": "stream",
          "text": [
            "Params =  10972\n",
            "\n",
            "Epoch 00021: ReduceLROnPlateau reducing learning rate to 0.004999999888241291.\n",
            "\n",
            "Epoch 00027: ReduceLROnPlateau reducing learning rate to 0.0024999999441206455.\n",
            "\n",
            "Epoch 00034: ReduceLROnPlateau reducing learning rate to 0.0012499999720603228.\n",
            "\n",
            "Epoch 00038: ReduceLROnPlateau reducing learning rate to 0.0006249999860301614.\n",
            "\n",
            "Epoch 00042: ReduceLROnPlateau reducing learning rate to 0.0003124999930150807.\n",
            "\n",
            "Epoch 00047: ReduceLROnPlateau reducing learning rate to 0.0002.\n",
            "Layer Names:  ['conv2d_17', 'conv2d_18', 'dropout_11', 'max_pooling2d_3', 'conv2d_19', 'conv2d_20', 'dropout_12', 'conv2d_21', 'dropout_13', 'conv2d_22', 'dropout_14', 'conv2d_23', 'flatten_3', 'activation_3']\n",
            "Validation Loss (0.02352585900425911, 0.9924999993324279)\n",
            " =-=  =-=  =-=  =-=  =-=  =-=  =-=  =-=  =-=  =-=  =-=  =-=  =-=  =-=  =-=  =-=  =-=  =-=  =-=  =-= \n",
            "Total Model Params =  10972\n",
            "Score =  [0.011910065615464312, 0.9967666666666667]\n",
            "Balanced Accuracy = 99.67% \n",
            " =-=  =-=  =-=  =-=  =-=  =-=  =-=  =-=  =-=  =-=  =-=  =-=  =-=  =-=  =-=  =-=  =-=  =-=  =-=  =-= \n",
            "Total Model Params =  10972\n",
            "Score =  [0.023525860078027473, 0.9925]\n",
            "Balanced Accuracy = 99.24% \n"
          ],
          "name": "stdout"
        }
      ]
    },
    {
      "cell_type": "markdown",
      "metadata": {
        "id": "Z6ynytJ_hrRt",
        "colab_type": "text"
      },
      "source": [
        "## Architecture 5 [Selected]\n",
        "\n",
        "- Underfit\n",
        "- Less params"
      ]
    },
    {
      "cell_type": "code",
      "metadata": {
        "id": "7dLy-E5rhqcp",
        "colab_type": "code",
        "outputId": "0d130921-920c-4eb0-b51e-2668afd9e0b8",
        "colab": {
          "base_uri": "https://localhost:8080/",
          "height": 496
        }
      },
      "source": [
        "model = Sequential()\n",
        "model.add(Convolution2D(8, 3, 3, activation='relu', input_shape=(28,28,1))) # 26\n",
        "model.add(Convolution2D(16, 3,3, activation='relu')) # 24\n",
        "model.add(Dropout(0.1))\n",
        "model.add(MaxPooling2D(pool_size=(2, 2))) #12\n",
        "model.add(Convolution2D(10, 1, activation='relu'))\n",
        "\n",
        "model.add(Convolution2D(16, 3,3, activation='relu')) # 10\n",
        "model.add(Dropout(0.2))\n",
        "model.add(Convolution2D(16, 3,3, activation='relu')) # 8\n",
        "model.add(Dropout(0.2))\n",
        "model.add(Convolution2D(10, 1, activation='relu')) #8\n",
        "model.add(Convolution2D(10, 8,8))\n",
        "\n",
        "model.add(Flatten())\n",
        "model.add(Activation('softmax'))\n",
        "print(\"Params = \",model.count_params())\n",
        "\n",
        "reduce_lr = ReduceLROnPlateau(monitor='val_acc', factor=0.4, patience=4, min_lr=0.0003,verbose=1)\n",
        "es = EarlyStopping(\"val_acc\",patience=24,restore_best_weights=True)\n",
        "checkpoint = ModelCheckpoint(\"model.hdf5\", monitor='val_acc', verbose=0, save_best_only=True, mode='max')\n",
        "callbacks_list = [es,checkpoint,reduce_lr]\n",
        "optimizer = Adam(lr=0.005,)\n",
        "\n",
        "model.compile(loss='categorical_crossentropy',\n",
        "             optimizer=optimizer,\n",
        "             metrics=['accuracy'])\n",
        "\n",
        "train_history = model.fit(X_train, Y_train, batch_size=2048, epochs=80, verbose=0, shuffle=True, validation_data=(X_test, Y_test), callbacks=callbacks_list,)\n",
        "print(\"Layer Names: \",[layer.name for layer in model.layers[0:]])\n",
        "val_metrics = (train_history.history['val_loss'][-1],train_history.history['val_acc'][-1])\n",
        "print(\"Validation Loss\",val_metrics)\n",
        "\n",
        "_=evaluate(model,X_train, Y_train,classes=get_mnist_labels(),print_results=True, plot_results=False)\n",
        "_=evaluate(model,X_test, Y_test,classes=get_mnist_labels(),print_results=True, plot_results=False)\n",
        "# 99.19%"
      ],
      "execution_count": 9,
      "outputs": [
        {
          "output_type": "stream",
          "text": [
            "Params =  11774\n",
            "\n",
            "Epoch 00021: ReduceLROnPlateau reducing learning rate to 0.0019999999552965165.\n",
            "\n",
            "Epoch 00028: ReduceLROnPlateau reducing learning rate to 0.0007999999448657036.\n",
            "\n",
            "Epoch 00034: ReduceLROnPlateau reducing learning rate to 0.0003199999686330557.\n",
            "\n",
            "Epoch 00038: ReduceLROnPlateau reducing learning rate to 0.0003.\n",
            "\n",
            "Epoch 00042: ReduceLROnPlateau reducing learning rate to 0.0003.\n",
            "\n",
            "Epoch 00046: ReduceLROnPlateau reducing learning rate to 0.0003.\n",
            "\n",
            "Epoch 00050: ReduceLROnPlateau reducing learning rate to 0.0003.\n",
            "\n",
            "Epoch 00054: ReduceLROnPlateau reducing learning rate to 0.0003.\n",
            "Layer Names:  ['conv2d_24', 'conv2d_25', 'dropout_15', 'max_pooling2d_4', 'conv2d_26', 'conv2d_27', 'dropout_16', 'conv2d_28', 'dropout_17', 'conv2d_29', 'conv2d_30', 'flatten_4', 'activation_4']\n",
            "Validation Loss (0.021470525214076042, 0.9931999975204467)\n",
            " =-=  =-=  =-=  =-=  =-=  =-=  =-=  =-=  =-=  =-=  =-=  =-=  =-=  =-=  =-=  =-=  =-=  =-=  =-=  =-= \n",
            "Total Model Params =  11774\n",
            "Score =  [0.013029502474276039, 0.9962]\n",
            "Balanced Accuracy = 99.62% \n",
            " =-=  =-=  =-=  =-=  =-=  =-=  =-=  =-=  =-=  =-=  =-=  =-=  =-=  =-=  =-=  =-=  =-=  =-=  =-=  =-= \n",
            "Total Model Params =  11774\n",
            "Score =  [0.0214086165684741, 0.994]\n",
            "Balanced Accuracy = 99.39% \n"
          ],
          "name": "stdout"
        }
      ]
    },
    {
      "cell_type": "markdown",
      "metadata": {
        "id": "rmZpwbeN43iL",
        "colab_type": "text"
      },
      "source": [
        "## Architecture 14 [Selected]\n",
        "Mixing MaxPool and Strides.\n",
        "- We presume that MaxPool can be used in early part\n",
        "- Towards the end we can use Strides=2 which prevents data loss which MaxPool causes, but reduces channel dimensions"
      ]
    },
    {
      "cell_type": "code",
      "metadata": {
        "id": "lT7IBiHF4-VP",
        "colab_type": "code",
        "outputId": "d04c3024-2d97-4d81-f0cc-8d6530e9d89a",
        "colab": {
          "base_uri": "https://localhost:8080/",
          "height": 462
        }
      },
      "source": [
        "model = Sequential()\n",
        "model.add(Convolution2D(8, 3, 3, activation='relu', input_shape=(28,28,1))) # 26\n",
        "model.add(Convolution2D(16, 3,3, activation='relu')) # 24\n",
        "model.add(Dropout(0.1))\n",
        "model.add(MaxPooling2D(pool_size=(2, 2))) #12\n",
        "model.add(Convolution2D(10, 1, activation='relu'))\n",
        "model.add(Dropout(0.1))\n",
        "model.add(Convolution2D(16, 3,3, activation='relu')) # 10\n",
        "model.add(Dropout(0.1))\n",
        "model.add(Convolution2D(16, (3,3,),strides=2, activation='relu')) # 8\n",
        "model.add(Dropout(0.1))\n",
        "model.add(Convolution2D(10, 1, activation='relu')) #4\n",
        "model.add(Convolution2D(10, 4,4))\n",
        "\n",
        "model.add(Flatten())\n",
        "model.add(Activation('softmax'))\n",
        "print(\"Params = \",model.count_params())\n",
        "\n",
        "\n",
        "reduce_lr = ReduceLROnPlateau(monitor='val_acc', factor=0.5, patience=3, min_lr=0.0001,verbose=1)\n",
        "es = EarlyStopping(\"val_acc\",patience=24,restore_best_weights=True)\n",
        "checkpoint = ModelCheckpoint(\"model.hdf5\", monitor='val_acc', verbose=0, save_best_only=True, mode='max')\n",
        "callbacks_list = [es,checkpoint,reduce_lr]\n",
        "optimizer = Adam(lr=0.01,)\n",
        "\n",
        "model.compile(loss='categorical_crossentropy',\n",
        "             optimizer=optimizer,\n",
        "             metrics=['accuracy'])\n",
        "\n",
        "train_history = model.fit(X_train, Y_train, batch_size=2048, epochs=80, verbose=0, shuffle=True, validation_data=(X_test, Y_test), callbacks=callbacks_list,)\n",
        "print(\"Layer Names: \",[layer.name for layer in model.layers[0:]])\n",
        "val_metrics = (train_history.history['val_loss'][-1],train_history.history['val_acc'][-1])\n",
        "print(\"Validation Loss\",val_metrics)\n",
        "\n",
        "_=evaluate(model,X_train, Y_train,classes=get_mnist_labels(),print_results=True, plot_results=False)\n",
        "_=evaluate(model,X_test, Y_test,classes=get_mnist_labels(),print_results=True, plot_results=False)\n",
        "# 98.89% -> 99.09% -> 99.25%"
      ],
      "execution_count": 10,
      "outputs": [
        {
          "output_type": "stream",
          "text": [
            "Params =  6974\n",
            "\n",
            "Epoch 00025: ReduceLROnPlateau reducing learning rate to 0.004999999888241291.\n",
            "\n",
            "Epoch 00031: ReduceLROnPlateau reducing learning rate to 0.0024999999441206455.\n",
            "\n",
            "Epoch 00034: ReduceLROnPlateau reducing learning rate to 0.0012499999720603228.\n",
            "\n",
            "Epoch 00037: ReduceLROnPlateau reducing learning rate to 0.0006249999860301614.\n",
            "\n",
            "Epoch 00040: ReduceLROnPlateau reducing learning rate to 0.0003124999930150807.\n",
            "\n",
            "Epoch 00045: ReduceLROnPlateau reducing learning rate to 0.00015624999650754035.\n",
            "\n",
            "Epoch 00048: ReduceLROnPlateau reducing learning rate to 0.0001.\n",
            "Layer Names:  ['conv2d_31', 'conv2d_32', 'dropout_18', 'max_pooling2d_5', 'conv2d_33', 'dropout_19', 'conv2d_34', 'dropout_20', 'conv2d_35', 'dropout_21', 'conv2d_36', 'conv2d_37', 'flatten_5', 'activation_5']\n",
            "Validation Loss (0.025851757913827895, 0.9911999946594239)\n",
            " =-=  =-=  =-=  =-=  =-=  =-=  =-=  =-=  =-=  =-=  =-=  =-=  =-=  =-=  =-=  =-=  =-=  =-=  =-=  =-= \n",
            "Total Model Params =  6974\n",
            "Score =  [0.016116578793805094, 0.9952]\n",
            "Balanced Accuracy = 99.51% \n",
            " =-=  =-=  =-=  =-=  =-=  =-=  =-=  =-=  =-=  =-=  =-=  =-=  =-=  =-=  =-=  =-=  =-=  =-=  =-=  =-= \n",
            "Total Model Params =  6974\n",
            "Score =  [0.025998273052973673, 0.9913]\n",
            "Balanced Accuracy = 99.12% \n"
          ],
          "name": "stdout"
        }
      ]
    },
    {
      "cell_type": "markdown",
      "metadata": {
        "id": "1rJ48_TiEKqr",
        "colab_type": "text"
      },
      "source": [
        "# Misc Code"
      ]
    },
    {
      "cell_type": "code",
      "metadata": {
        "id": "GbG5Orpu4qo7",
        "colab_type": "code",
        "outputId": "f8969fcc-0855-4b4e-dbec-1d90cae0d44f",
        "colab": {
          "base_uri": "https://localhost:8080/",
          "height": 789
        }
      },
      "source": [
        "from IPython.display import SVG\n",
        "from keras.utils.vis_utils import model_to_dot\n",
        "\n",
        "m2d = model_to_dot(model, show_shapes=True,)\n",
        "m2d.set_size('8x18')\n",
        "SVG(m2d.create(prog='dot', format='svg'))"
      ],
      "execution_count": 0,
      "outputs": [
        {
          "output_type": "execute_result",
          "data": {
            "text/plain": [
              "<IPython.core.display.SVG object>"
            ],
            "image/svg+xml": "<svg height=\"576pt\" viewBox=\"0.00 0.00 183.96 576.00\" width=\"184pt\" xmlns=\"http://www.w3.org/2000/svg\" xmlns:xlink=\"http://www.w3.org/1999/xlink\">\n<g class=\"graph\" id=\"graph0\" transform=\"scale(.4465 .4465) rotate(0) translate(4 1286)\">\n<title>G</title>\n<polygon fill=\"#ffffff\" points=\"-4,4 -4,-1286 408,-1286 408,4 -4,4\" stroke=\"transparent\"/>\n<!-- 140645810442648 -->\n<g class=\"node\" id=\"node1\">\n<title>140645810442648</title>\n<polygon fill=\"none\" points=\"44,-1162.5 44,-1208.5 360,-1208.5 360,-1162.5 44,-1162.5\" stroke=\"#000000\"/>\n<text fill=\"#000000\" font-family=\"Times,serif\" font-size=\"14.00\" text-anchor=\"middle\" x=\"110.5\" y=\"-1181.8\">conv2d_1: Conv2D</text>\n<polyline fill=\"none\" points=\"177,-1162.5 177,-1208.5 \" stroke=\"#000000\"/>\n<text fill=\"#000000\" font-family=\"Times,serif\" font-size=\"14.00\" text-anchor=\"middle\" x=\"206\" y=\"-1193.3\">input:</text>\n<polyline fill=\"none\" points=\"177,-1185.5 235,-1185.5 \" stroke=\"#000000\"/>\n<text fill=\"#000000\" font-family=\"Times,serif\" font-size=\"14.00\" text-anchor=\"middle\" x=\"206\" y=\"-1170.3\">output:</text>\n<polyline fill=\"none\" points=\"235,-1162.5 235,-1208.5 \" stroke=\"#000000\"/>\n<text fill=\"#000000\" font-family=\"Times,serif\" font-size=\"14.00\" text-anchor=\"middle\" x=\"297.5\" y=\"-1193.3\">(None, 28, 28, 1)</text>\n<polyline fill=\"none\" points=\"235,-1185.5 360,-1185.5 \" stroke=\"#000000\"/>\n<text fill=\"#000000\" font-family=\"Times,serif\" font-size=\"14.00\" text-anchor=\"middle\" x=\"297.5\" y=\"-1170.3\">(None, 26, 26, 32)</text>\n</g>\n<!-- 140645810443096 -->\n<g class=\"node\" id=\"node2\">\n<title>140645810443096</title>\n<polygon fill=\"none\" points=\"43.5,-1079.5 43.5,-1125.5 360.5,-1125.5 360.5,-1079.5 43.5,-1079.5\" stroke=\"#000000\"/>\n<text fill=\"#000000\" font-family=\"Times,serif\" font-size=\"14.00\" text-anchor=\"middle\" x=\"110.5\" y=\"-1098.8\">dropout_1: Dropout</text>\n<polyline fill=\"none\" points=\"177.5,-1079.5 177.5,-1125.5 \" stroke=\"#000000\"/>\n<text fill=\"#000000\" font-family=\"Times,serif\" font-size=\"14.00\" text-anchor=\"middle\" x=\"206.5\" y=\"-1110.3\">input:</text>\n<polyline fill=\"none\" points=\"177.5,-1102.5 235.5,-1102.5 \" stroke=\"#000000\"/>\n<text fill=\"#000000\" font-family=\"Times,serif\" font-size=\"14.00\" text-anchor=\"middle\" x=\"206.5\" y=\"-1087.3\">output:</text>\n<polyline fill=\"none\" points=\"235.5,-1079.5 235.5,-1125.5 \" stroke=\"#000000\"/>\n<text fill=\"#000000\" font-family=\"Times,serif\" font-size=\"14.00\" text-anchor=\"middle\" x=\"298\" y=\"-1110.3\">(None, 26, 26, 32)</text>\n<polyline fill=\"none\" points=\"235.5,-1102.5 360.5,-1102.5 \" stroke=\"#000000\"/>\n<text fill=\"#000000\" font-family=\"Times,serif\" font-size=\"14.00\" text-anchor=\"middle\" x=\"298\" y=\"-1087.3\">(None, 26, 26, 32)</text>\n</g>\n<!-- 140645810442648&#45;&gt;140645810443096 -->\n<g class=\"edge\" id=\"edge2\">\n<title>140645810442648-&gt;140645810443096</title>\n<path d=\"M202,-1162.3799C202,-1154.1745 202,-1144.7679 202,-1135.8786\" fill=\"none\" stroke=\"#000000\"/>\n<polygon fill=\"#000000\" points=\"205.5001,-1135.784 202,-1125.784 198.5001,-1135.784 205.5001,-1135.784\" stroke=\"#000000\"/>\n</g>\n<!-- 140645810443936 -->\n<g class=\"node\" id=\"node3\">\n<title>140645810443936</title>\n<polygon fill=\"none\" points=\"44,-996.5 44,-1042.5 360,-1042.5 360,-996.5 44,-996.5\" stroke=\"#000000\"/>\n<text fill=\"#000000\" font-family=\"Times,serif\" font-size=\"14.00\" text-anchor=\"middle\" x=\"110.5\" y=\"-1015.8\">conv2d_2: Conv2D</text>\n<polyline fill=\"none\" points=\"177,-996.5 177,-1042.5 \" stroke=\"#000000\"/>\n<text fill=\"#000000\" font-family=\"Times,serif\" font-size=\"14.00\" text-anchor=\"middle\" x=\"206\" y=\"-1027.3\">input:</text>\n<polyline fill=\"none\" points=\"177,-1019.5 235,-1019.5 \" stroke=\"#000000\"/>\n<text fill=\"#000000\" font-family=\"Times,serif\" font-size=\"14.00\" text-anchor=\"middle\" x=\"206\" y=\"-1004.3\">output:</text>\n<polyline fill=\"none\" points=\"235,-996.5 235,-1042.5 \" stroke=\"#000000\"/>\n<text fill=\"#000000\" font-family=\"Times,serif\" font-size=\"14.00\" text-anchor=\"middle\" x=\"297.5\" y=\"-1027.3\">(None, 26, 26, 32)</text>\n<polyline fill=\"none\" points=\"235,-1019.5 360,-1019.5 \" stroke=\"#000000\"/>\n<text fill=\"#000000\" font-family=\"Times,serif\" font-size=\"14.00\" text-anchor=\"middle\" x=\"297.5\" y=\"-1004.3\">(None, 26, 26, 16)</text>\n</g>\n<!-- 140645810443096&#45;&gt;140645810443936 -->\n<g class=\"edge\" id=\"edge3\">\n<title>140645810443096-&gt;140645810443936</title>\n<path d=\"M202,-1079.3799C202,-1071.1745 202,-1061.7679 202,-1052.8786\" fill=\"none\" stroke=\"#000000\"/>\n<polygon fill=\"#000000\" points=\"205.5001,-1052.784 202,-1042.784 198.5001,-1052.784 205.5001,-1052.784\" stroke=\"#000000\"/>\n</g>\n<!-- 140645810443992 -->\n<g class=\"node\" id=\"node4\">\n<title>140645810443992</title>\n<polygon fill=\"none\" points=\"44,-913.5 44,-959.5 360,-959.5 360,-913.5 44,-913.5\" stroke=\"#000000\"/>\n<text fill=\"#000000\" font-family=\"Times,serif\" font-size=\"14.00\" text-anchor=\"middle\" x=\"110.5\" y=\"-932.8\">conv2d_3: Conv2D</text>\n<polyline fill=\"none\" points=\"177,-913.5 177,-959.5 \" stroke=\"#000000\"/>\n<text fill=\"#000000\" font-family=\"Times,serif\" font-size=\"14.00\" text-anchor=\"middle\" x=\"206\" y=\"-944.3\">input:</text>\n<polyline fill=\"none\" points=\"177,-936.5 235,-936.5 \" stroke=\"#000000\"/>\n<text fill=\"#000000\" font-family=\"Times,serif\" font-size=\"14.00\" text-anchor=\"middle\" x=\"206\" y=\"-921.3\">output:</text>\n<polyline fill=\"none\" points=\"235,-913.5 235,-959.5 \" stroke=\"#000000\"/>\n<text fill=\"#000000\" font-family=\"Times,serif\" font-size=\"14.00\" text-anchor=\"middle\" x=\"297.5\" y=\"-944.3\">(None, 26, 26, 16)</text>\n<polyline fill=\"none\" points=\"235,-936.5 360,-936.5 \" stroke=\"#000000\"/>\n<text fill=\"#000000\" font-family=\"Times,serif\" font-size=\"14.00\" text-anchor=\"middle\" x=\"297.5\" y=\"-921.3\">(None, 24, 24, 16)</text>\n</g>\n<!-- 140645810443936&#45;&gt;140645810443992 -->\n<g class=\"edge\" id=\"edge4\">\n<title>140645810443936-&gt;140645810443992</title>\n<path d=\"M202,-996.3799C202,-988.1745 202,-978.7679 202,-969.8786\" fill=\"none\" stroke=\"#000000\"/>\n<polygon fill=\"#000000\" points=\"205.5001,-969.784 202,-959.784 198.5001,-969.784 205.5001,-969.784\" stroke=\"#000000\"/>\n</g>\n<!-- 140645801640400 -->\n<g class=\"node\" id=\"node5\">\n<title>140645801640400</title>\n<polygon fill=\"none\" points=\"0,-830.5 0,-876.5 404,-876.5 404,-830.5 0,-830.5\" stroke=\"#000000\"/>\n<text fill=\"#000000\" font-family=\"Times,serif\" font-size=\"14.00\" text-anchor=\"middle\" x=\"110.5\" y=\"-849.8\">max_pooling2d_1: MaxPooling2D</text>\n<polyline fill=\"none\" points=\"221,-830.5 221,-876.5 \" stroke=\"#000000\"/>\n<text fill=\"#000000\" font-family=\"Times,serif\" font-size=\"14.00\" text-anchor=\"middle\" x=\"250\" y=\"-861.3\">input:</text>\n<polyline fill=\"none\" points=\"221,-853.5 279,-853.5 \" stroke=\"#000000\"/>\n<text fill=\"#000000\" font-family=\"Times,serif\" font-size=\"14.00\" text-anchor=\"middle\" x=\"250\" y=\"-838.3\">output:</text>\n<polyline fill=\"none\" points=\"279,-830.5 279,-876.5 \" stroke=\"#000000\"/>\n<text fill=\"#000000\" font-family=\"Times,serif\" font-size=\"14.00\" text-anchor=\"middle\" x=\"341.5\" y=\"-861.3\">(None, 24, 24, 16)</text>\n<polyline fill=\"none\" points=\"279,-853.5 404,-853.5 \" stroke=\"#000000\"/>\n<text fill=\"#000000\" font-family=\"Times,serif\" font-size=\"14.00\" text-anchor=\"middle\" x=\"341.5\" y=\"-838.3\">(None, 12, 12, 16)</text>\n</g>\n<!-- 140645810443992&#45;&gt;140645801640400 -->\n<g class=\"edge\" id=\"edge5\">\n<title>140645810443992-&gt;140645801640400</title>\n<path d=\"M202,-913.3799C202,-905.1745 202,-895.7679 202,-886.8786\" fill=\"none\" stroke=\"#000000\"/>\n<polygon fill=\"#000000\" points=\"205.5001,-886.784 202,-876.784 198.5001,-886.784 205.5001,-886.784\" stroke=\"#000000\"/>\n</g>\n<!-- 140645810583592 -->\n<g class=\"node\" id=\"node6\">\n<title>140645810583592</title>\n<polygon fill=\"none\" points=\"44,-747.5 44,-793.5 360,-793.5 360,-747.5 44,-747.5\" stroke=\"#000000\"/>\n<text fill=\"#000000\" font-family=\"Times,serif\" font-size=\"14.00\" text-anchor=\"middle\" x=\"110.5\" y=\"-766.8\">conv2d_4: Conv2D</text>\n<polyline fill=\"none\" points=\"177,-747.5 177,-793.5 \" stroke=\"#000000\"/>\n<text fill=\"#000000\" font-family=\"Times,serif\" font-size=\"14.00\" text-anchor=\"middle\" x=\"206\" y=\"-778.3\">input:</text>\n<polyline fill=\"none\" points=\"177,-770.5 235,-770.5 \" stroke=\"#000000\"/>\n<text fill=\"#000000\" font-family=\"Times,serif\" font-size=\"14.00\" text-anchor=\"middle\" x=\"206\" y=\"-755.3\">output:</text>\n<polyline fill=\"none\" points=\"235,-747.5 235,-793.5 \" stroke=\"#000000\"/>\n<text fill=\"#000000\" font-family=\"Times,serif\" font-size=\"14.00\" text-anchor=\"middle\" x=\"297.5\" y=\"-778.3\">(None, 12, 12, 16)</text>\n<polyline fill=\"none\" points=\"235,-770.5 360,-770.5 \" stroke=\"#000000\"/>\n<text fill=\"#000000\" font-family=\"Times,serif\" font-size=\"14.00\" text-anchor=\"middle\" x=\"297.5\" y=\"-755.3\">(None, 10, 10, 32)</text>\n</g>\n<!-- 140645801640400&#45;&gt;140645810583592 -->\n<g class=\"edge\" id=\"edge6\">\n<title>140645801640400-&gt;140645810583592</title>\n<path d=\"M202,-830.3799C202,-822.1745 202,-812.7679 202,-803.8786\" fill=\"none\" stroke=\"#000000\"/>\n<polygon fill=\"#000000\" points=\"205.5001,-803.784 202,-793.784 198.5001,-803.784 205.5001,-803.784\" stroke=\"#000000\"/>\n</g>\n<!-- 140645801544952 -->\n<g class=\"node\" id=\"node7\">\n<title>140645801544952</title>\n<polygon fill=\"none\" points=\"43.5,-664.5 43.5,-710.5 360.5,-710.5 360.5,-664.5 43.5,-664.5\" stroke=\"#000000\"/>\n<text fill=\"#000000\" font-family=\"Times,serif\" font-size=\"14.00\" text-anchor=\"middle\" x=\"110.5\" y=\"-683.8\">dropout_2: Dropout</text>\n<polyline fill=\"none\" points=\"177.5,-664.5 177.5,-710.5 \" stroke=\"#000000\"/>\n<text fill=\"#000000\" font-family=\"Times,serif\" font-size=\"14.00\" text-anchor=\"middle\" x=\"206.5\" y=\"-695.3\">input:</text>\n<polyline fill=\"none\" points=\"177.5,-687.5 235.5,-687.5 \" stroke=\"#000000\"/>\n<text fill=\"#000000\" font-family=\"Times,serif\" font-size=\"14.00\" text-anchor=\"middle\" x=\"206.5\" y=\"-672.3\">output:</text>\n<polyline fill=\"none\" points=\"235.5,-664.5 235.5,-710.5 \" stroke=\"#000000\"/>\n<text fill=\"#000000\" font-family=\"Times,serif\" font-size=\"14.00\" text-anchor=\"middle\" x=\"298\" y=\"-695.3\">(None, 10, 10, 32)</text>\n<polyline fill=\"none\" points=\"235.5,-687.5 360.5,-687.5 \" stroke=\"#000000\"/>\n<text fill=\"#000000\" font-family=\"Times,serif\" font-size=\"14.00\" text-anchor=\"middle\" x=\"298\" y=\"-672.3\">(None, 10, 10, 32)</text>\n</g>\n<!-- 140645810583592&#45;&gt;140645801544952 -->\n<g class=\"edge\" id=\"edge7\">\n<title>140645810583592-&gt;140645801544952</title>\n<path d=\"M202,-747.3799C202,-739.1745 202,-729.7679 202,-720.8786\" fill=\"none\" stroke=\"#000000\"/>\n<polygon fill=\"#000000\" points=\"205.5001,-720.784 202,-710.784 198.5001,-720.784 205.5001,-720.784\" stroke=\"#000000\"/>\n</g>\n<!-- 140645801742232 -->\n<g class=\"node\" id=\"node8\">\n<title>140645801742232</title>\n<polygon fill=\"none\" points=\"44,-581.5 44,-627.5 360,-627.5 360,-581.5 44,-581.5\" stroke=\"#000000\"/>\n<text fill=\"#000000\" font-family=\"Times,serif\" font-size=\"14.00\" text-anchor=\"middle\" x=\"110.5\" y=\"-600.8\">conv2d_5: Conv2D</text>\n<polyline fill=\"none\" points=\"177,-581.5 177,-627.5 \" stroke=\"#000000\"/>\n<text fill=\"#000000\" font-family=\"Times,serif\" font-size=\"14.00\" text-anchor=\"middle\" x=\"206\" y=\"-612.3\">input:</text>\n<polyline fill=\"none\" points=\"177,-604.5 235,-604.5 \" stroke=\"#000000\"/>\n<text fill=\"#000000\" font-family=\"Times,serif\" font-size=\"14.00\" text-anchor=\"middle\" x=\"206\" y=\"-589.3\">output:</text>\n<polyline fill=\"none\" points=\"235,-581.5 235,-627.5 \" stroke=\"#000000\"/>\n<text fill=\"#000000\" font-family=\"Times,serif\" font-size=\"14.00\" text-anchor=\"middle\" x=\"297.5\" y=\"-612.3\">(None, 10, 10, 32)</text>\n<polyline fill=\"none\" points=\"235,-604.5 360,-604.5 \" stroke=\"#000000\"/>\n<text fill=\"#000000\" font-family=\"Times,serif\" font-size=\"14.00\" text-anchor=\"middle\" x=\"297.5\" y=\"-589.3\">(None, 8, 8, 16)</text>\n</g>\n<!-- 140645801544952&#45;&gt;140645801742232 -->\n<g class=\"edge\" id=\"edge8\">\n<title>140645801544952-&gt;140645801742232</title>\n<path d=\"M202,-664.3799C202,-656.1745 202,-646.7679 202,-637.8786\" fill=\"none\" stroke=\"#000000\"/>\n<polygon fill=\"#000000\" points=\"205.5001,-637.784 202,-627.784 198.5001,-637.784 205.5001,-637.784\" stroke=\"#000000\"/>\n</g>\n<!-- 140645801380160 -->\n<g class=\"node\" id=\"node9\">\n<title>140645801380160</title>\n<polygon fill=\"none\" points=\"7.5,-498.5 7.5,-544.5 396.5,-544.5 396.5,-498.5 7.5,-498.5\" stroke=\"#000000\"/>\n<text fill=\"#000000\" font-family=\"Times,serif\" font-size=\"14.00\" text-anchor=\"middle\" x=\"118\" y=\"-517.8\">max_pooling2d_2: MaxPooling2D</text>\n<polyline fill=\"none\" points=\"228.5,-498.5 228.5,-544.5 \" stroke=\"#000000\"/>\n<text fill=\"#000000\" font-family=\"Times,serif\" font-size=\"14.00\" text-anchor=\"middle\" x=\"257.5\" y=\"-529.3\">input:</text>\n<polyline fill=\"none\" points=\"228.5,-521.5 286.5,-521.5 \" stroke=\"#000000\"/>\n<text fill=\"#000000\" font-family=\"Times,serif\" font-size=\"14.00\" text-anchor=\"middle\" x=\"257.5\" y=\"-506.3\">output:</text>\n<polyline fill=\"none\" points=\"286.5,-498.5 286.5,-544.5 \" stroke=\"#000000\"/>\n<text fill=\"#000000\" font-family=\"Times,serif\" font-size=\"14.00\" text-anchor=\"middle\" x=\"341.5\" y=\"-529.3\">(None, 8, 8, 16)</text>\n<polyline fill=\"none\" points=\"286.5,-521.5 396.5,-521.5 \" stroke=\"#000000\"/>\n<text fill=\"#000000\" font-family=\"Times,serif\" font-size=\"14.00\" text-anchor=\"middle\" x=\"341.5\" y=\"-506.3\">(None, 4, 4, 16)</text>\n</g>\n<!-- 140645801742232&#45;&gt;140645801380160 -->\n<g class=\"edge\" id=\"edge9\">\n<title>140645801742232-&gt;140645801380160</title>\n<path d=\"M202,-581.3799C202,-573.1745 202,-563.7679 202,-554.8786\" fill=\"none\" stroke=\"#000000\"/>\n<polygon fill=\"#000000\" points=\"205.5001,-554.784 202,-544.784 198.5001,-554.784 205.5001,-554.784\" stroke=\"#000000\"/>\n</g>\n<!-- 140645801741672 -->\n<g class=\"node\" id=\"node10\">\n<title>140645801741672</title>\n<polygon fill=\"none\" points=\"51.5,-415.5 51.5,-461.5 352.5,-461.5 352.5,-415.5 51.5,-415.5\" stroke=\"#000000\"/>\n<text fill=\"#000000\" font-family=\"Times,serif\" font-size=\"14.00\" text-anchor=\"middle\" x=\"118\" y=\"-434.8\">conv2d_6: Conv2D</text>\n<polyline fill=\"none\" points=\"184.5,-415.5 184.5,-461.5 \" stroke=\"#000000\"/>\n<text fill=\"#000000\" font-family=\"Times,serif\" font-size=\"14.00\" text-anchor=\"middle\" x=\"213.5\" y=\"-446.3\">input:</text>\n<polyline fill=\"none\" points=\"184.5,-438.5 242.5,-438.5 \" stroke=\"#000000\"/>\n<text fill=\"#000000\" font-family=\"Times,serif\" font-size=\"14.00\" text-anchor=\"middle\" x=\"213.5\" y=\"-423.3\">output:</text>\n<polyline fill=\"none\" points=\"242.5,-415.5 242.5,-461.5 \" stroke=\"#000000\"/>\n<text fill=\"#000000\" font-family=\"Times,serif\" font-size=\"14.00\" text-anchor=\"middle\" x=\"297.5\" y=\"-446.3\">(None, 4, 4, 16)</text>\n<polyline fill=\"none\" points=\"242.5,-438.5 352.5,-438.5 \" stroke=\"#000000\"/>\n<text fill=\"#000000\" font-family=\"Times,serif\" font-size=\"14.00\" text-anchor=\"middle\" x=\"297.5\" y=\"-423.3\">(None, 2, 2, 32)</text>\n</g>\n<!-- 140645801380160&#45;&gt;140645801741672 -->\n<g class=\"edge\" id=\"edge10\">\n<title>140645801380160-&gt;140645801741672</title>\n<path d=\"M202,-498.3799C202,-490.1745 202,-480.7679 202,-471.8786\" fill=\"none\" stroke=\"#000000\"/>\n<polygon fill=\"#000000\" points=\"205.5001,-471.784 202,-461.784 198.5001,-471.784 205.5001,-471.784\" stroke=\"#000000\"/>\n</g>\n<!-- 140645801379040 -->\n<g class=\"node\" id=\"node11\">\n<title>140645801379040</title>\n<polygon fill=\"none\" points=\"51,-332.5 51,-378.5 353,-378.5 353,-332.5 51,-332.5\" stroke=\"#000000\"/>\n<text fill=\"#000000\" font-family=\"Times,serif\" font-size=\"14.00\" text-anchor=\"middle\" x=\"118\" y=\"-351.8\">dropout_3: Dropout</text>\n<polyline fill=\"none\" points=\"185,-332.5 185,-378.5 \" stroke=\"#000000\"/>\n<text fill=\"#000000\" font-family=\"Times,serif\" font-size=\"14.00\" text-anchor=\"middle\" x=\"214\" y=\"-363.3\">input:</text>\n<polyline fill=\"none\" points=\"185,-355.5 243,-355.5 \" stroke=\"#000000\"/>\n<text fill=\"#000000\" font-family=\"Times,serif\" font-size=\"14.00\" text-anchor=\"middle\" x=\"214\" y=\"-340.3\">output:</text>\n<polyline fill=\"none\" points=\"243,-332.5 243,-378.5 \" stroke=\"#000000\"/>\n<text fill=\"#000000\" font-family=\"Times,serif\" font-size=\"14.00\" text-anchor=\"middle\" x=\"298\" y=\"-363.3\">(None, 2, 2, 32)</text>\n<polyline fill=\"none\" points=\"243,-355.5 353,-355.5 \" stroke=\"#000000\"/>\n<text fill=\"#000000\" font-family=\"Times,serif\" font-size=\"14.00\" text-anchor=\"middle\" x=\"298\" y=\"-340.3\">(None, 2, 2, 32)</text>\n</g>\n<!-- 140645801741672&#45;&gt;140645801379040 -->\n<g class=\"edge\" id=\"edge11\">\n<title>140645801741672-&gt;140645801379040</title>\n<path d=\"M202,-415.3799C202,-407.1745 202,-397.7679 202,-388.8786\" fill=\"none\" stroke=\"#000000\"/>\n<polygon fill=\"#000000\" points=\"205.5001,-388.784 202,-378.784 198.5001,-388.784 205.5001,-388.784\" stroke=\"#000000\"/>\n</g>\n<!-- 140645801208576 -->\n<g class=\"node\" id=\"node12\">\n<title>140645801208576</title>\n<polygon fill=\"none\" points=\"7.5,-249.5 7.5,-295.5 396.5,-295.5 396.5,-249.5 7.5,-249.5\" stroke=\"#000000\"/>\n<text fill=\"#000000\" font-family=\"Times,serif\" font-size=\"14.00\" text-anchor=\"middle\" x=\"118\" y=\"-268.8\">max_pooling2d_3: MaxPooling2D</text>\n<polyline fill=\"none\" points=\"228.5,-249.5 228.5,-295.5 \" stroke=\"#000000\"/>\n<text fill=\"#000000\" font-family=\"Times,serif\" font-size=\"14.00\" text-anchor=\"middle\" x=\"257.5\" y=\"-280.3\">input:</text>\n<polyline fill=\"none\" points=\"228.5,-272.5 286.5,-272.5 \" stroke=\"#000000\"/>\n<text fill=\"#000000\" font-family=\"Times,serif\" font-size=\"14.00\" text-anchor=\"middle\" x=\"257.5\" y=\"-257.3\">output:</text>\n<polyline fill=\"none\" points=\"286.5,-249.5 286.5,-295.5 \" stroke=\"#000000\"/>\n<text fill=\"#000000\" font-family=\"Times,serif\" font-size=\"14.00\" text-anchor=\"middle\" x=\"341.5\" y=\"-280.3\">(None, 2, 2, 32)</text>\n<polyline fill=\"none\" points=\"286.5,-272.5 396.5,-272.5 \" stroke=\"#000000\"/>\n<text fill=\"#000000\" font-family=\"Times,serif\" font-size=\"14.00\" text-anchor=\"middle\" x=\"341.5\" y=\"-257.3\">(None, 1, 1, 32)</text>\n</g>\n<!-- 140645801379040&#45;&gt;140645801208576 -->\n<g class=\"edge\" id=\"edge12\">\n<title>140645801379040-&gt;140645801208576</title>\n<path d=\"M202,-332.3799C202,-324.1745 202,-314.7679 202,-305.8786\" fill=\"none\" stroke=\"#000000\"/>\n<polygon fill=\"#000000\" points=\"205.5001,-305.784 202,-295.784 198.5001,-305.784 205.5001,-305.784\" stroke=\"#000000\"/>\n</g>\n<!-- 140645801207904 -->\n<g class=\"node\" id=\"node13\">\n<title>140645801207904</title>\n<polygon fill=\"none\" points=\"51.5,-166.5 51.5,-212.5 352.5,-212.5 352.5,-166.5 51.5,-166.5\" stroke=\"#000000\"/>\n<text fill=\"#000000\" font-family=\"Times,serif\" font-size=\"14.00\" text-anchor=\"middle\" x=\"118\" y=\"-185.8\">conv2d_7: Conv2D</text>\n<polyline fill=\"none\" points=\"184.5,-166.5 184.5,-212.5 \" stroke=\"#000000\"/>\n<text fill=\"#000000\" font-family=\"Times,serif\" font-size=\"14.00\" text-anchor=\"middle\" x=\"213.5\" y=\"-197.3\">input:</text>\n<polyline fill=\"none\" points=\"184.5,-189.5 242.5,-189.5 \" stroke=\"#000000\"/>\n<text fill=\"#000000\" font-family=\"Times,serif\" font-size=\"14.00\" text-anchor=\"middle\" x=\"213.5\" y=\"-174.3\">output:</text>\n<polyline fill=\"none\" points=\"242.5,-166.5 242.5,-212.5 \" stroke=\"#000000\"/>\n<text fill=\"#000000\" font-family=\"Times,serif\" font-size=\"14.00\" text-anchor=\"middle\" x=\"297.5\" y=\"-197.3\">(None, 1, 1, 32)</text>\n<polyline fill=\"none\" points=\"242.5,-189.5 352.5,-189.5 \" stroke=\"#000000\"/>\n<text fill=\"#000000\" font-family=\"Times,serif\" font-size=\"14.00\" text-anchor=\"middle\" x=\"297.5\" y=\"-174.3\">(None, 1, 1, 10)</text>\n</g>\n<!-- 140645801208576&#45;&gt;140645801207904 -->\n<g class=\"edge\" id=\"edge13\">\n<title>140645801208576-&gt;140645801207904</title>\n<path d=\"M202,-249.3799C202,-241.1745 202,-231.7679 202,-222.8786\" fill=\"none\" stroke=\"#000000\"/>\n<polygon fill=\"#000000\" points=\"205.5001,-222.784 202,-212.784 198.5001,-222.784 205.5001,-222.784\" stroke=\"#000000\"/>\n</g>\n<!-- 140645800798416 -->\n<g class=\"node\" id=\"node14\">\n<title>140645800798416</title>\n<polygon fill=\"none\" points=\"61.5,-83.5 61.5,-129.5 342.5,-129.5 342.5,-83.5 61.5,-83.5\" stroke=\"#000000\"/>\n<text fill=\"#000000\" font-family=\"Times,serif\" font-size=\"14.00\" text-anchor=\"middle\" x=\"118\" y=\"-102.8\">flatten_1: Flatten</text>\n<polyline fill=\"none\" points=\"174.5,-83.5 174.5,-129.5 \" stroke=\"#000000\"/>\n<text fill=\"#000000\" font-family=\"Times,serif\" font-size=\"14.00\" text-anchor=\"middle\" x=\"203.5\" y=\"-114.3\">input:</text>\n<polyline fill=\"none\" points=\"174.5,-106.5 232.5,-106.5 \" stroke=\"#000000\"/>\n<text fill=\"#000000\" font-family=\"Times,serif\" font-size=\"14.00\" text-anchor=\"middle\" x=\"203.5\" y=\"-91.3\">output:</text>\n<polyline fill=\"none\" points=\"232.5,-83.5 232.5,-129.5 \" stroke=\"#000000\"/>\n<text fill=\"#000000\" font-family=\"Times,serif\" font-size=\"14.00\" text-anchor=\"middle\" x=\"287.5\" y=\"-114.3\">(None, 1, 1, 10)</text>\n<polyline fill=\"none\" points=\"232.5,-106.5 342.5,-106.5 \" stroke=\"#000000\"/>\n<text fill=\"#000000\" font-family=\"Times,serif\" font-size=\"14.00\" text-anchor=\"middle\" x=\"287.5\" y=\"-91.3\">(None, 10)</text>\n</g>\n<!-- 140645801207904&#45;&gt;140645800798416 -->\n<g class=\"edge\" id=\"edge14\">\n<title>140645801207904-&gt;140645800798416</title>\n<path d=\"M202,-166.3799C202,-158.1745 202,-148.7679 202,-139.8786\" fill=\"none\" stroke=\"#000000\"/>\n<polygon fill=\"#000000\" points=\"205.5001,-139.784 202,-129.784 198.5001,-139.784 205.5001,-139.784\" stroke=\"#000000\"/>\n</g>\n<!-- 140645800893072 -->\n<g class=\"node\" id=\"node15\">\n<title>140645800893072</title>\n<polygon fill=\"none\" points=\"56,-.5 56,-46.5 348,-46.5 348,-.5 56,-.5\" stroke=\"#000000\"/>\n<text fill=\"#000000\" font-family=\"Times,serif\" font-size=\"14.00\" text-anchor=\"middle\" x=\"133\" y=\"-19.8\">activation_1: Activation</text>\n<polyline fill=\"none\" points=\"210,-.5 210,-46.5 \" stroke=\"#000000\"/>\n<text fill=\"#000000\" font-family=\"Times,serif\" font-size=\"14.00\" text-anchor=\"middle\" x=\"239\" y=\"-31.3\">input:</text>\n<polyline fill=\"none\" points=\"210,-23.5 268,-23.5 \" stroke=\"#000000\"/>\n<text fill=\"#000000\" font-family=\"Times,serif\" font-size=\"14.00\" text-anchor=\"middle\" x=\"239\" y=\"-8.3\">output:</text>\n<polyline fill=\"none\" points=\"268,-.5 268,-46.5 \" stroke=\"#000000\"/>\n<text fill=\"#000000\" font-family=\"Times,serif\" font-size=\"14.00\" text-anchor=\"middle\" x=\"308\" y=\"-31.3\">(None, 10)</text>\n<polyline fill=\"none\" points=\"268,-23.5 348,-23.5 \" stroke=\"#000000\"/>\n<text fill=\"#000000\" font-family=\"Times,serif\" font-size=\"14.00\" text-anchor=\"middle\" x=\"308\" y=\"-8.3\">(None, 10)</text>\n</g>\n<!-- 140645800798416&#45;&gt;140645800893072 -->\n<g class=\"edge\" id=\"edge15\">\n<title>140645800798416-&gt;140645800893072</title>\n<path d=\"M202,-83.3799C202,-75.1745 202,-65.7679 202,-56.8786\" fill=\"none\" stroke=\"#000000\"/>\n<polygon fill=\"#000000\" points=\"205.5001,-56.784 202,-46.784 198.5001,-56.784 205.5001,-56.784\" stroke=\"#000000\"/>\n</g>\n<!-- 140645810443488 -->\n<g class=\"node\" id=\"node16\">\n<title>140645810443488</title>\n<polygon fill=\"none\" points=\"137.5,-1245.5 137.5,-1281.5 266.5,-1281.5 266.5,-1245.5 137.5,-1245.5\" stroke=\"#000000\"/>\n<text fill=\"#000000\" font-family=\"Times,serif\" font-size=\"14.00\" text-anchor=\"middle\" x=\"202\" y=\"-1259.8\">140645810443488</text>\n</g>\n<!-- 140645810443488&#45;&gt;140645810442648 -->\n<g class=\"edge\" id=\"edge1\">\n<title>140645810443488-&gt;140645810442648</title>\n<path d=\"M202,-1245.4092C202,-1237.4308 202,-1227.795 202,-1218.606\" fill=\"none\" stroke=\"#000000\"/>\n<polygon fill=\"#000000\" points=\"205.5001,-1218.5333 202,-1208.5333 198.5001,-1218.5334 205.5001,-1218.5333\" stroke=\"#000000\"/>\n</g>\n</g>\n</svg>"
          },
          "metadata": {
            "tags": []
          },
          "execution_count": 10
        }
      ]
    },
    {
      "cell_type": "code",
      "metadata": {
        "id": "YHEvMEUxRuD4",
        "colab_type": "code",
        "colab": {}
      },
      "source": [
        ""
      ],
      "execution_count": 0,
      "outputs": []
    }
  ]
}