{
  "nbformat": 4,
  "nbformat_minor": 0,
  "metadata": {
    "colab": {
      "name": "Session2.ipynb",
      "version": "0.3.2",
      "provenance": [],
      "collapsed_sections": [],
      "toc_visible": true
    },
    "kernelspec": {
      "name": "python3",
      "display_name": "Python 3"
    },
    "accelerator": "GPU"
  },
  "cells": [
    {
      "cell_type": "markdown",
      "metadata": {
        "id": "-nJ7YEw_vyjG",
        "colab_type": "text"
      },
      "source": [
        "# **Not an ideal network**\n",
        "\n",
        "We follow a What+Why framework for each cell."
      ]
    },
    {
      "cell_type": "markdown",
      "metadata": {
        "id": "kO4QF3CokXs7",
        "colab_type": "text"
      },
      "source": [
        "\n",
        "\n",
        "- What: Installing keras via pip package manager, Keras is a wrapper over Tensorflow. Then we import it for use\n",
        "- Why: This package will help us define our DNN layer by layer"
      ]
    },
    {
      "cell_type": "code",
      "metadata": {
        "id": "kGWv5hBhv2jf",
        "colab_type": "code",
        "colab": {
          "base_uri": "https://localhost:8080/",
          "height": 34
        },
        "outputId": "abe7ae81-f744-4476-e533-96491a859b7c"
      },
      "source": [
        "# https://keras.io/\n",
        "!pip install -q keras\n",
        "import keras"
      ],
      "execution_count": 1,
      "outputs": [
        {
          "output_type": "stream",
          "text": [
            "Using TensorFlow backend.\n"
          ],
          "name": "stderr"
        }
      ]
    },
    {
      "cell_type": "markdown",
      "metadata": {
        "id": "bTvASHdGk9XT",
        "colab_type": "text"
      },
      "source": [
        "- What: Import each Library, Classes from Keras.layers will be used to define our network, also import mnist dataset and numpy.\n",
        "- Why: We will be doing Mnist classification"
      ]
    },
    {
      "cell_type": "code",
      "metadata": {
        "id": "wnMlDJQKv4VG",
        "colab_type": "code",
        "colab": {}
      },
      "source": [
        "import numpy as np\n",
        "\n",
        "from keras.models import Sequential\n",
        "from keras.layers import Flatten\n",
        "from keras.layers import Convolution2D\n",
        "from keras.utils import np_utils\n",
        "\n",
        "from keras.datasets import mnist"
      ],
      "execution_count": 0,
      "outputs": []
    },
    {
      "cell_type": "markdown",
      "metadata": {
        "id": "BK0TQUyMlRM1",
        "colab_type": "text"
      },
      "source": [
        "We first use `help` to check the signature of the function. Using `help` command is going to be useful it seems.\n",
        "\n",
        "- What: So It gets the mnist data partitioned into Train-Test set\n",
        "- Why: Train-test split will be used to train and then test the model on test set"
      ]
    },
    {
      "cell_type": "code",
      "metadata": {
        "id": "bx0-PdCZlWg1",
        "colab_type": "code",
        "colab": {
          "base_uri": "https://localhost:8080/",
          "height": 221
        },
        "outputId": "ae0a501d-0d48-44c3-922f-ecb87bd5fc55"
      },
      "source": [
        "help(mnist.load_data)"
      ],
      "execution_count": 5,
      "outputs": [
        {
          "output_type": "stream",
          "text": [
            "Help on function load_data in module keras.datasets.mnist:\n",
            "\n",
            "load_data(path='mnist.npz')\n",
            "    Loads the MNIST dataset.\n",
            "    \n",
            "    # Arguments\n",
            "        path: path where to cache the dataset locally\n",
            "            (relative to ~/.keras/datasets).\n",
            "    \n",
            "    # Returns\n",
            "        Tuple of Numpy arrays: `(x_train, y_train), (x_test, y_test)`.\n",
            "\n"
          ],
          "name": "stdout"
        }
      ]
    },
    {
      "cell_type": "code",
      "metadata": {
        "id": "8CdSu2lMwB9s",
        "colab_type": "code",
        "colab": {
          "base_uri": "https://localhost:8080/",
          "height": 51
        },
        "outputId": "8a546af7-607e-417d-a8d7-296265d91a1b"
      },
      "source": [
        "(X_train, y_train), (X_test, y_test) = mnist.load_data()"
      ],
      "execution_count": 6,
      "outputs": [
        {
          "output_type": "stream",
          "text": [
            "Downloading data from https://s3.amazonaws.com/img-datasets/mnist.npz\n",
            "11493376/11490434 [==============================] - 0s 0us/step\n"
          ],
          "name": "stdout"
        }
      ]
    },
    {
      "cell_type": "markdown",
      "metadata": {
        "id": "mYJuaglEmVh6",
        "colab_type": "text"
      },
      "source": [
        "- What:\n",
        "  - We explore our data a little. \n",
        "  - We print number of training and test examples\n",
        "  - We also show a example to see what our data looks like\n",
        "  - `%matplotlib inline` commands makes the plots appear within our notebook\n",
        "  \n",
        "- Why\n",
        "  - Knowing train and test size and data dimensions will help us design/debug our ConvNet\n",
        "  \n",
        "**Note** \n",
        "- the image looks color but it isn't, its just the way `plt.imshow` gives color to different cell values in a 2D matrix\n",
        "- See that we have a single channel in the initial image, its a grayscale not RGB image."
      ]
    },
    {
      "cell_type": "code",
      "metadata": {
        "id": "tLaDf0-rwCmj",
        "colab_type": "code",
        "colab": {
          "base_uri": "https://localhost:8080/",
          "height": 320
        },
        "outputId": "a9e99dfc-4cf2-41e1-e743-a25cc41d8bae"
      },
      "source": [
        "print (X_train.shape)\n",
        "# add a line to print test set shape as well\n",
        "print (X_test.shape)\n",
        "from matplotlib import pyplot as plt\n",
        "%matplotlib inline\n",
        "plt.imshow(X_train[0])\n"
      ],
      "execution_count": 9,
      "outputs": [
        {
          "output_type": "stream",
          "text": [
            "(60000, 28, 28)\n",
            "(10000, 28, 28)\n"
          ],
          "name": "stdout"
        },
        {
          "output_type": "execute_result",
          "data": {
            "text/plain": [
              "<matplotlib.image.AxesImage at 0x7f3ec5573be0>"
            ]
          },
          "metadata": {
            "tags": []
          },
          "execution_count": 9
        },
        {
          "output_type": "display_data",
          "data": {
            "image/png": "[encoded data removed]",
            "text/plain": [
              "<Figure size 432x288 with 1 Axes>"
            ]
          },
          "metadata": {
            "tags": []
          }
        }
      ]
    },
    {
      "cell_type": "markdown",
      "metadata": {
        "id": "GMKfvkffm52n",
        "colab_type": "text"
      },
      "source": [
        "Once you change CMAP parameter we can see how it is a grayscale image"
      ]
    },
    {
      "cell_type": "code",
      "metadata": {
        "id": "ladotsMYucuv",
        "colab_type": "code",
        "colab": {
          "base_uri": "https://localhost:8080/",
          "height": 286
        },
        "outputId": "3c051efd-af31-4c57-f300-a9a25e90cb0b"
      },
      "source": [
        "plt.imshow(X_train[0],cmap=\"binary\")"
      ],
      "execution_count": 10,
      "outputs": [
        {
          "output_type": "execute_result",
          "data": {
            "text/plain": [
              "<matplotlib.image.AxesImage at 0x7f3ec554e550>"
            ]
          },
          "metadata": {
            "tags": []
          },
          "execution_count": 10
        },
        {
          "output_type": "display_data",
          "data": {
            "image/png": "[encoded data removed]",
            "text/plain": [
              "<Figure size 432x288 with 1 Axes>"
            ]
          },
          "metadata": {
            "tags": []
          }
        }
      ]
    },
    {
      "cell_type": "markdown",
      "metadata": {
        "id": "JjR8E1pewFhJ",
        "colab_type": "text"
      },
      "source": [
        "What: We reshape to get single channel as dimension, the last 1 in each reshape is for the channel. Since the image is single channel so this is done. \n",
        "\n",
        "If image was 3 channel then\n",
        "\n",
        "```python\n",
        "X_train = X_train.reshape(X_train.shape[0], 28, 28,3)\n",
        "```\n"
      ]
    },
    {
      "cell_type": "code",
      "metadata": {
        "id": "erb11jNwwFwl",
        "colab_type": "code",
        "colab": {}
      },
      "source": [
        "X_train = X_train.reshape(X_train.shape[0], 28, 28,1)\n",
        "X_test = X_test.reshape(X_test.shape[0], 28, 28,1)"
      ],
      "execution_count": 0,
      "outputs": []
    },
    {
      "cell_type": "markdown",
      "metadata": {
        "id": "dBrpFWY4xTAH",
        "colab_type": "text"
      },
      "source": [
        "What\n",
        "- Convert datatype to float32, and normalize to 0-1 range\n",
        "\n",
        "Why\n",
        "- NNs can use only 0-1 data for our ConvNets, otherwise gradients will go to zero.\n",
        "- float32 is used since gpu has 32 bit calculation units\n",
        "\n",
        "Reference\n",
        "\n",
        "https://devtalk.nvidia.com/default/topic/994172/how-to-tell-if-gpu-cores-are-actually-32-64-bit-processors/?offset=2\n",
        "\n",
        "```\n",
        "\n",
        "\"Most GPUs have a native 32 bit integer multiply machine language instruction\"\n",
        "\n",
        "\"The most commonly used criterion for an N-bit processor is the width of integer registers. Based on that, all \"recent\" NVIDIA GPUs (i.e. Tesla through Pascal architectures, 2007 through today), are 32-bit processors.\"\n",
        "\n",
        "```"
      ]
    },
    {
      "cell_type": "code",
      "metadata": {
        "id": "RLK4YDoRwHet",
        "colab_type": "code",
        "colab": {}
      },
      "source": [
        "X_train = X_train.astype('float32')\n",
        "X_test = X_test.astype('float32')\n",
        "X_train /= 255\n",
        "X_test /= 255"
      ],
      "execution_count": 0,
      "outputs": []
    },
    {
      "cell_type": "code",
      "metadata": {
        "id": "JNKLOmhlwJQl",
        "colab_type": "code",
        "colab": {
          "base_uri": "https://localhost:8080/",
          "height": 34
        },
        "outputId": "84e8f77b-b4a3-496a-8df5-b0a237fadeb5"
      },
      "source": [
        "y_train[:10]"
      ],
      "execution_count": 13,
      "outputs": [
        {
          "output_type": "execute_result",
          "data": {
            "text/plain": [
              "array([5, 0, 4, 1, 9, 2, 1, 3, 1, 4], dtype=uint8)"
            ]
          },
          "metadata": {
            "tags": []
          },
          "execution_count": 13
        }
      ]
    },
    {
      "cell_type": "markdown",
      "metadata": {
        "id": "ICv8LQpuzVzG",
        "colab_type": "text"
      },
      "source": [
        "- Lets the spread of data to see if it is evenly spread. or some classes are more in number"
      ]
    },
    {
      "cell_type": "code",
      "metadata": {
        "id": "CsNvC8wQy91_",
        "colab_type": "code",
        "colab": {
          "base_uri": "https://localhost:8080/",
          "height": 286
        },
        "outputId": "d6582fc9-3114-48cd-9a5e-ab3a9f797701"
      },
      "source": [
        "\n",
        "import seaborn as sns\n",
        "sns.countplot(y_train)"
      ],
      "execution_count": 17,
      "outputs": [
        {
          "output_type": "execute_result",
          "data": {
            "text/plain": [
              "<matplotlib.axes._subplots.AxesSubplot at 0x7f3ec0c094a8>"
            ]
          },
          "metadata": {
            "tags": []
          },
          "execution_count": 17
        },
        {
          "output_type": "display_data",
          "data": {
            "image/png": "[encoded data removed]",
            "text/plain": [
              "<Figure size 432x288 with 1 Axes>"
            ]
          },
          "metadata": {
            "tags": []
          }
        }
      ]
    },
    {
      "cell_type": "code",
      "metadata": {
        "id": "36DUTwGazgfj",
        "colab_type": "code",
        "colab": {
          "base_uri": "https://localhost:8080/",
          "height": 323
        },
        "outputId": "4b31a514-be67-4bcc-b3f7-5ada3d5bd788"
      },
      "source": [
        "help(np_utils.to_categorical)"
      ],
      "execution_count": 18,
      "outputs": [
        {
          "output_type": "stream",
          "text": [
            "Help on function to_categorical in module keras.utils.np_utils:\n",
            "\n",
            "to_categorical(y, num_classes=None, dtype='float32')\n",
            "    Converts a class vector (integers) to binary class matrix.\n",
            "    \n",
            "    E.g. for use with categorical_crossentropy.\n",
            "    \n",
            "    # Arguments\n",
            "        y: class vector to be converted into a matrix\n",
            "            (integers from 0 to num_classes).\n",
            "        num_classes: total number of classes.\n",
            "        dtype: The data type expected by the input, as a string\n",
            "            (`float32`, `float64`, `int32`...)\n",
            "    \n",
            "    # Returns\n",
            "        A binary matrix representation of the input. The classes axis\n",
            "        is placed last.\n",
            "\n"
          ],
          "name": "stdout"
        }
      ]
    },
    {
      "cell_type": "code",
      "metadata": {
        "id": "xjU3-DMZznTd",
        "colab_type": "code",
        "colab": {
          "base_uri": "https://localhost:8080/",
          "height": 187
        },
        "outputId": "b2867434-86be-4327-9443-074dfb028456"
      },
      "source": [
        "np_utils.to_categorical(range(0,10), 10)"
      ],
      "execution_count": 19,
      "outputs": [
        {
          "output_type": "execute_result",
          "data": {
            "text/plain": [
              "array([[1., 0., 0., 0., 0., 0., 0., 0., 0., 0.],\n",
              "       [0., 1., 0., 0., 0., 0., 0., 0., 0., 0.],\n",
              "       [0., 0., 1., 0., 0., 0., 0., 0., 0., 0.],\n",
              "       [0., 0., 0., 1., 0., 0., 0., 0., 0., 0.],\n",
              "       [0., 0., 0., 0., 1., 0., 0., 0., 0., 0.],\n",
              "       [0., 0., 0., 0., 0., 1., 0., 0., 0., 0.],\n",
              "       [0., 0., 0., 0., 0., 0., 1., 0., 0., 0.],\n",
              "       [0., 0., 0., 0., 0., 0., 0., 1., 0., 0.],\n",
              "       [0., 0., 0., 0., 0., 0., 0., 0., 1., 0.],\n",
              "       [0., 0., 0., 0., 0., 0., 0., 0., 0., 1.]], dtype=float32)"
            ]
          },
          "metadata": {
            "tags": []
          },
          "execution_count": 19
        }
      ]
    },
    {
      "cell_type": "markdown",
      "metadata": {
        "id": "1n2CmFKAztX2",
        "colab_type": "text"
      },
      "source": [
        "What\n",
        "- We do one hot encoding of the target labels for using categorical cross entropy loss.\n",
        "\n",
        "Why\n",
        "- Cross entropy loss function for multi-class problems requires your target labels to be one hot encoded."
      ]
    },
    {
      "cell_type": "code",
      "metadata": {
        "id": "YusMJguiwKsM",
        "colab_type": "code",
        "colab": {}
      },
      "source": [
        "# Convert 1-dimensional class arrays to 10-dimensional class matrices\n",
        "Y_train = np_utils.to_categorical(y_train, 10)\n",
        "Y_test = np_utils.to_categorical(y_test, 10)"
      ],
      "execution_count": 0,
      "outputs": []
    },
    {
      "cell_type": "code",
      "metadata": {
        "id": "upxc99AswMW0",
        "colab_type": "code",
        "colab": {
          "base_uri": "https://localhost:8080/",
          "height": 187
        },
        "outputId": "deedf144-71c7-4e76-cc82-7ad0b4d38d9d"
      },
      "source": [
        "Y_train[:10]\n"
      ],
      "execution_count": 21,
      "outputs": [
        {
          "output_type": "execute_result",
          "data": {
            "text/plain": [
              "array([[0., 0., 0., 0., 0., 1., 0., 0., 0., 0.],\n",
              "       [1., 0., 0., 0., 0., 0., 0., 0., 0., 0.],\n",
              "       [0., 0., 0., 0., 1., 0., 0., 0., 0., 0.],\n",
              "       [0., 1., 0., 0., 0., 0., 0., 0., 0., 0.],\n",
              "       [0., 0., 0., 0., 0., 0., 0., 0., 0., 1.],\n",
              "       [0., 0., 1., 0., 0., 0., 0., 0., 0., 0.],\n",
              "       [0., 1., 0., 0., 0., 0., 0., 0., 0., 0.],\n",
              "       [0., 0., 0., 1., 0., 0., 0., 0., 0., 0.],\n",
              "       [0., 1., 0., 0., 0., 0., 0., 0., 0., 0.],\n",
              "       [0., 0., 0., 0., 1., 0., 0., 0., 0., 0.]], dtype=float32)"
            ]
          },
          "metadata": {
            "tags": []
          },
          "execution_count": 21
        }
      ]
    },
    {
      "cell_type": "markdown",
      "metadata": {
        "id": "CEapHPh00Fa8",
        "colab_type": "text"
      },
      "source": [
        "## Da Model!!\n",
        "\n",
        "Possible ideas before we start\n",
        "\n",
        "- Check receptive fields\n",
        "- Check if Maxpool is used after atleast 2/3 layers.\n",
        "- Check if channels,kernels,channel dimensions are ok\n",
        "- Check if the number of channels are correct for each layer and if we are possibly losing info\n",
        "- Count the total number of parameters in the network and see if network is overly complex."
      ]
    },
    {
      "cell_type": "code",
      "metadata": {
        "id": "irTVUE47wNwr",
        "colab_type": "code",
        "colab": {
          "base_uri": "https://localhost:8080/",
          "height": 853
        },
        "outputId": "24866d20-ea0e-4079-932f-1ddfa6280a9f"
      },
      "source": [
        "from keras.layers import Activation, MaxPooling2D\n",
        "\n",
        "model = Sequential() \n",
        "\n",
        "#  Input: width x height x num channels (depth) | Inputs receptive field width x height | parameters this layer\n",
        "\n",
        "# 28 x 28 x 1 | 1x1 | 32x(3x3x1) = 288\n",
        "model.add(Convolution2D(32, 3, 3, activation='relu', input_shape=(28,28,1)))\n",
        "\n",
        "# 26x26x32| 3x3 | 64x(3x3x32) = 18432\n",
        "model.add(Convolution2D(64, 3, 3, activation='relu'))\n",
        "\n",
        "# 24x24x64 | 5x5 | 128x(3x3x64) = 73728\n",
        "model.add(Convolution2D(128, 3, 3, activation='relu'))\n",
        "\n",
        "\n",
        "# 22x22x128| 7x7 | Maxpool layer has no params\n",
        "model.add(MaxPooling2D(pool_size=(2, 2)))\n",
        "# Maxpool halves the image in each dimension, so it increases receptive field by 2 times\n",
        "\n",
        "# 11x11x128 | 14x14 | 256x(3x3x128) = 294912\n",
        "model.add(Convolution2D(256, 3, 3, activation='relu'))\n",
        "\n",
        "# 9x9x256 | 16x16 | 512x(3x3x256) = 1179648\n",
        "model.add(Convolution2D(512, 3, 3, activation='relu'))\n",
        "\n",
        "# 7x7x512 | 18x18 | 1024x(3x3x512) = 4718592\n",
        "model.add(Convolution2D(1024, 3, 3, activation='relu'))\n",
        "\n",
        "# 5x5x1024 | 20x20 | 2048x(3x3x1024) ~ 18x10^6 = 18 Million\n",
        "model.add(Convolution2D(2048, 3, 3, activation='relu'))\n",
        "\n",
        "# 3x3x2048 | 22x22 | 10x(3x3x2048) = 184320\n",
        "model.add(Convolution2D(10, 3, 3, activation='relu'))\n",
        "\n",
        "# Output from conv layers\n",
        "# 1x1x10\n",
        "\n",
        "# I now know how without using Fully Connected layers we can still do classification.\n",
        "# Had asked in 1st class. :)\n",
        "model.add(Flatten())\n",
        "\n",
        "# Use softmax activation for giving probabilities.\n",
        "model.add(Activation('softmax'))\n",
        "\n",
        "model.summary()"
      ],
      "execution_count": 22,
      "outputs": [
        {
          "output_type": "stream",
          "text": [
            "WARNING:tensorflow:From /usr/local/lib/python3.6/dist-packages/tensorflow/python/framework/op_def_library.py:263: colocate_with (from tensorflow.python.framework.ops) is deprecated and will be removed in a future version.\n",
            "Instructions for updating:\n",
            "Colocations handled automatically by placer.\n",
            "_________________________________________________________________\n",
            "Layer (type)                 Output Shape              Param #   \n",
            "=================================================================\n",
            "conv2d_1 (Conv2D)            (None, 26, 26, 32)        320       \n",
            "_________________________________________________________________\n",
            "conv2d_2 (Conv2D)            (None, 24, 24, 64)        18496     \n",
            "_________________________________________________________________\n",
            "conv2d_3 (Conv2D)            (None, 22, 22, 128)       73856     \n",
            "_________________________________________________________________\n",
            "max_pooling2d_1 (MaxPooling2 (None, 11, 11, 128)       0         \n",
            "_________________________________________________________________\n",
            "conv2d_4 (Conv2D)            (None, 9, 9, 256)         295168    \n",
            "_________________________________________________________________\n",
            "conv2d_5 (Conv2D)            (None, 7, 7, 512)         1180160   \n",
            "_________________________________________________________________\n",
            "conv2d_6 (Conv2D)            (None, 5, 5, 1024)        4719616   \n",
            "_________________________________________________________________\n",
            "conv2d_7 (Conv2D)            (None, 3, 3, 2048)        18876416  \n",
            "_________________________________________________________________\n",
            "conv2d_8 (Conv2D)            (None, 1, 1, 10)          184330    \n",
            "_________________________________________________________________\n",
            "flatten_1 (Flatten)          (None, 10)                0         \n",
            "_________________________________________________________________\n",
            "activation_1 (Activation)    (None, 10)                0         \n",
            "=================================================================\n",
            "Total params: 25,348,362\n",
            "Trainable params: 25,348,362\n",
            "Non-trainable params: 0\n",
            "_________________________________________________________________\n"
          ],
          "name": "stdout"
        },
        {
          "output_type": "stream",
          "text": [
            "/usr/local/lib/python3.6/dist-packages/ipykernel_launcher.py:4: UserWarning: Update your `Conv2D` call to the Keras 2 API: `Conv2D(32, (3, 3), activation=\"relu\", input_shape=(28, 28, 1...)`\n",
            "  after removing the cwd from sys.path.\n",
            "/usr/local/lib/python3.6/dist-packages/ipykernel_launcher.py:5: UserWarning: Update your `Conv2D` call to the Keras 2 API: `Conv2D(64, (3, 3), activation=\"relu\")`\n",
            "  \"\"\"\n",
            "/usr/local/lib/python3.6/dist-packages/ipykernel_launcher.py:6: UserWarning: Update your `Conv2D` call to the Keras 2 API: `Conv2D(128, (3, 3), activation=\"relu\")`\n",
            "  \n",
            "/usr/local/lib/python3.6/dist-packages/ipykernel_launcher.py:10: UserWarning: Update your `Conv2D` call to the Keras 2 API: `Conv2D(256, (3, 3), activation=\"relu\")`\n",
            "  # Remove the CWD from sys.path while we load stuff.\n",
            "/usr/local/lib/python3.6/dist-packages/ipykernel_launcher.py:11: UserWarning: Update your `Conv2D` call to the Keras 2 API: `Conv2D(512, (3, 3), activation=\"relu\")`\n",
            "  # This is added back by InteractiveShellApp.init_path()\n",
            "/usr/local/lib/python3.6/dist-packages/ipykernel_launcher.py:12: UserWarning: Update your `Conv2D` call to the Keras 2 API: `Conv2D(1024, (3, 3), activation=\"relu\")`\n",
            "  if sys.path[0] == '':\n",
            "/usr/local/lib/python3.6/dist-packages/ipykernel_launcher.py:13: UserWarning: Update your `Conv2D` call to the Keras 2 API: `Conv2D(2048, (3, 3), activation=\"relu\")`\n",
            "  del sys.path[0]\n",
            "/usr/local/lib/python3.6/dist-packages/ipykernel_launcher.py:14: UserWarning: Update your `Conv2D` call to the Keras 2 API: `Conv2D(10, (3, 3), activation=\"relu\")`\n",
            "  \n"
          ],
          "name": "stderr"
        }
      ]
    },
    {
      "cell_type": "markdown",
      "metadata": {
        "id": "q1ZQiSBs3MgF",
        "colab_type": "text"
      },
      "source": [
        "What\n",
        "- Compile the network with loss function and optimiser\n",
        "- `metrics=['accuracy']` tells what to print as score after each epoch and as score when `model.evaluate` is called. We are concerned with accuracy."
      ]
    },
    {
      "cell_type": "code",
      "metadata": {
        "id": "VYZOpRb6yG7_",
        "colab_type": "code",
        "colab": {}
      },
      "source": [
        "model.compile(loss='categorical_crossentropy',\n",
        "             optimizer='adam',\n",
        "             metrics=['accuracy'])"
      ],
      "execution_count": 0,
      "outputs": []
    },
    {
      "cell_type": "code",
      "metadata": {
        "id": "5O248wVQyMft",
        "colab_type": "code",
        "colab": {
          "base_uri": "https://localhost:8080/",
          "height": 479
        },
        "outputId": "fa83463e-45d1-4cc0-c7b9-6ea15f939b82"
      },
      "source": [
        "model.fit(X_train, Y_train, batch_size=32, nb_epoch=10, verbose=1)"
      ],
      "execution_count": 24,
      "outputs": [
        {
          "output_type": "stream",
          "text": [
            "WARNING:tensorflow:From /usr/local/lib/python3.6/dist-packages/tensorflow/python/ops/math_ops.py:3066: to_int32 (from tensorflow.python.ops.math_ops) is deprecated and will be removed in a future version.\n",
            "Instructions for updating:\n",
            "Use tf.cast instead.\n"
          ],
          "name": "stdout"
        },
        {
          "output_type": "stream",
          "text": [
            "/usr/local/lib/python3.6/dist-packages/ipykernel_launcher.py:1: UserWarning: The `nb_epoch` argument in `fit` has been renamed `epochs`.\n",
            "  \"\"\"Entry point for launching an IPython kernel.\n"
          ],
          "name": "stderr"
        },
        {
          "output_type": "stream",
          "text": [
            "Epoch 1/10\n",
            "60000/60000 [==============================] - 120s 2ms/step - loss: 1.6880 - acc: 0.2897\n",
            "Epoch 2/10\n",
            "60000/60000 [==============================] - 113s 2ms/step - loss: 1.6391 - acc: 0.2980\n",
            "Epoch 3/10\n",
            "60000/60000 [==============================] - 113s 2ms/step - loss: 1.6357 - acc: 0.2982\n",
            "Epoch 4/10\n",
            "60000/60000 [==============================] - 113s 2ms/step - loss: 1.6324 - acc: 0.2988\n",
            "Epoch 5/10\n",
            "60000/60000 [==============================] - 112s 2ms/step - loss: 1.6291 - acc: 0.2986\n",
            "Epoch 6/10\n",
            "60000/60000 [==============================] - 113s 2ms/step - loss: 1.8187 - acc: 0.2428\n",
            "Epoch 7/10\n",
            "60000/60000 [==============================] - 112s 2ms/step - loss: 2.3026 - acc: 0.0987\n",
            "Epoch 8/10\n",
            "60000/60000 [==============================] - 112s 2ms/step - loss: 2.3026 - acc: 0.0987\n",
            "Epoch 9/10\n",
            "60000/60000 [==============================] - 112s 2ms/step - loss: 2.3026 - acc: 0.0987\n",
            "Epoch 10/10\n",
            "60000/60000 [==============================] - 112s 2ms/step - loss: 2.3026 - acc: 0.0987\n"
          ],
          "name": "stdout"
        },
        {
          "output_type": "execute_result",
          "data": {
            "text/plain": [
              "<keras.callbacks.History at 0x7f3ec548a080>"
            ]
          },
          "metadata": {
            "tags": []
          },
          "execution_count": 24
        }
      ]
    },
    {
      "cell_type": "markdown",
      "metadata": {
        "id": "Aa6lZwaB2_ZQ",
        "colab_type": "text"
      },
      "source": [
        "**Observations**\n",
        "\n",
        "- The accuracy is not increasing.\n",
        "- The network is slow as shit, seems the network is overly complex"
      ]
    },
    {
      "cell_type": "code",
      "metadata": {
        "id": "Sst4KneiyOL5",
        "colab_type": "code",
        "colab": {}
      },
      "source": [
        "score = model.evaluate(X_test, Y_test, verbose=0)"
      ],
      "execution_count": 0,
      "outputs": []
    },
    {
      "cell_type": "code",
      "metadata": {
        "id": "CfJiXOKsyj4y",
        "colab_type": "code",
        "colab": {
          "base_uri": "https://localhost:8080/",
          "height": 34
        },
        "outputId": "2c5afe60-086b-4f33-9952-d9c4cb567091"
      },
      "source": [
        "print(score)"
      ],
      "execution_count": 26,
      "outputs": [
        {
          "output_type": "stream",
          "text": [
            "[2.3025851249694824, 0.098]\n"
          ],
          "name": "stdout"
        }
      ]
    },
    {
      "cell_type": "code",
      "metadata": {
        "id": "hwLSXt7nyn_0",
        "colab_type": "code",
        "colab": {}
      },
      "source": [
        "y_pred = model.predict(X_test)"
      ],
      "execution_count": 0,
      "outputs": []
    },
    {
      "cell_type": "code",
      "metadata": {
        "id": "WWKKoOKwyppN",
        "colab_type": "code",
        "colab": {
          "base_uri": "https://localhost:8080/",
          "height": 187
        },
        "outputId": "e7a1e3ff-cdc7-49b6-8f6b-aed71ee47c87"
      },
      "source": [
        "print(y_pred[:9])\n",
        "print(y_test[:9])"
      ],
      "execution_count": 28,
      "outputs": [
        {
          "output_type": "stream",
          "text": [
            "[[0.1 0.1 0.1 0.1 0.1 0.1 0.1 0.1 0.1 0.1]\n",
            " [0.1 0.1 0.1 0.1 0.1 0.1 0.1 0.1 0.1 0.1]\n",
            " [0.1 0.1 0.1 0.1 0.1 0.1 0.1 0.1 0.1 0.1]\n",
            " [0.1 0.1 0.1 0.1 0.1 0.1 0.1 0.1 0.1 0.1]\n",
            " [0.1 0.1 0.1 0.1 0.1 0.1 0.1 0.1 0.1 0.1]\n",
            " [0.1 0.1 0.1 0.1 0.1 0.1 0.1 0.1 0.1 0.1]\n",
            " [0.1 0.1 0.1 0.1 0.1 0.1 0.1 0.1 0.1 0.1]\n",
            " [0.1 0.1 0.1 0.1 0.1 0.1 0.1 0.1 0.1 0.1]\n",
            " [0.1 0.1 0.1 0.1 0.1 0.1 0.1 0.1 0.1 0.1]]\n",
            "[7 2 1 0 4 1 4 9 5]\n"
          ],
          "name": "stdout"
        }
      ]
    },
    {
      "cell_type": "code",
      "metadata": {
        "id": "aRRt3MhV0WYV",
        "colab_type": "code",
        "colab": {}
      },
      "source": [
        ""
      ],
      "execution_count": 0,
      "outputs": []
    },
    {
      "cell_type": "markdown",
      "metadata": {
        "id": "go2beia31Cd3",
        "colab_type": "text"
      },
      "source": [
        "# What's wrong\n",
        "\n",
        "- Receptive field at last layer was 22x22, we are not seeing the full image since image is 28x28\n",
        "- Number of parameters is too huge.\n",
        "- We use maxpool only once, which is why we have too many conv layers, we can use maxpool 2 times easily\n",
        "- Too many conv layers lead to last layer having 2048 kernels and over 18 Million parameters for a single layer\n",
        "- No image augmentation, Neither did we do any rotate or any other augmentation like changing brightness levels or invert colors (black to white n vice versa)\n",
        "\n",
        "- The 1st Maxpool happens at 7x7 receptive field, it should be done at either 9x9 or 11x11, since at 7x7 receptive field the CNN may not be able identify any edges/gradients.\n",
        "\n",
        "- We are not using blocks (conv-conv-conv-maxpool) style. \n",
        "\n",
        "- Our overall arch is 32->64->128->MP->256->512->1024->2048->Output layer. \n",
        "\n",
        "- A better way would be \n",
        "  - 1st block detect edges/grads as 32->64->128->MP (11x11x128 output)\n",
        "  - 2nd block detect overall patterns 32->64->128->256->Output Layer.\n",
        "  - The first block detects edges/gradients of 128 different types, the 2nd block we again start from 32 and proceed, 1st block gives 128 different types of edges, but since our overall labels are few, the number of patterns that can be created from these edges and gradients is also low. Hence we don't start our 2nd block with 256 but rather 32.\n",
        "  \n",
        "Please tell me if the `better way` I am saying is applicable or not?"
      ]
    },
    {
      "cell_type": "markdown",
      "metadata": {
        "id": "Uiy_GAmd3iJp",
        "colab_type": "text"
      },
      "source": [
        "# Make a correct network"
      ]
    },
    {
      "cell_type": "markdown",
      "metadata": {
        "id": "zIPIjk_rTQ0X",
        "colab_type": "text"
      },
      "source": [
        "## Double Max Pool\n",
        "\n",
        "- Double max pool may hurt performance"
      ]
    },
    {
      "cell_type": "code",
      "metadata": {
        "id": "g2fp9zxE3lLo",
        "colab_type": "code",
        "colab": {
          "base_uri": "https://localhost:8080/",
          "height": 564
        },
        "outputId": "1b069e74-6e66-4416-ad04-8f011ae374d6"
      },
      "source": [
        "\n",
        "model = Sequential() \n",
        "\n",
        "#  Input: width x height x num channels (depth) | Inputs receptive field width x height | parameters this layer\n",
        "\n",
        "model.add(Convolution2D(32, 3, 3, activation='relu', input_shape=(28,28,1)))\n",
        "model.add(Convolution2D(64, 3, 3, activation='relu'))\n",
        "model.add(MaxPooling2D(pool_size=(2, 2)))\n",
        "\n",
        "model.add(Convolution2D(128, 3, 3, activation='relu'))\n",
        "model.add(Convolution2D(256, 3, 3, activation='relu'))\n",
        "model.add(Convolution2D(256, 3, 3, activation='relu'))\n",
        "model.add(MaxPooling2D(pool_size=(2, 2)))\n",
        "\n",
        "model.add(Convolution2D(10, 3, 3, activation='relu'))\n",
        "\n",
        "# Output from conv layers\n",
        "# 1x1x10\n",
        "\n",
        "model.add(Flatten())\n",
        "model.add(Activation('softmax'))\n",
        "model.compile(loss='categorical_crossentropy',\n",
        "             optimizer='adam',\n",
        "             metrics=['accuracy'])\n",
        "\n",
        "model.fit(X_train, Y_train, batch_size=32, nb_epoch=10, verbose=1)\n",
        "\n",
        "score = model.evaluate(X_test, Y_test, verbose=0)\n",
        "print(score)"
      ],
      "execution_count": 51,
      "outputs": [
        {
          "output_type": "stream",
          "text": [
            "/usr/local/lib/python3.6/dist-packages/ipykernel_launcher.py:7: UserWarning: Update your `Conv2D` call to the Keras 2 API: `Conv2D(32, (3, 3), activation=\"relu\", input_shape=(28, 28, 1...)`\n",
            "  import sys\n",
            "/usr/local/lib/python3.6/dist-packages/ipykernel_launcher.py:10: UserWarning: Update your `Conv2D` call to the Keras 2 API: `Conv2D(64, (3, 3), activation=\"relu\")`\n",
            "  # Remove the CWD from sys.path while we load stuff.\n",
            "/usr/local/lib/python3.6/dist-packages/ipykernel_launcher.py:16: UserWarning: Update your `Conv2D` call to the Keras 2 API: `Conv2D(128, (3, 3), activation=\"relu\")`\n",
            "  app.launch_new_instance()\n",
            "/usr/local/lib/python3.6/dist-packages/ipykernel_launcher.py:19: UserWarning: Update your `Conv2D` call to the Keras 2 API: `Conv2D(256, (3, 3), activation=\"relu\")`\n",
            "/usr/local/lib/python3.6/dist-packages/ipykernel_launcher.py:20: UserWarning: Update your `Conv2D` call to the Keras 2 API: `Conv2D(256, (3, 3), activation=\"relu\")`\n",
            "/usr/local/lib/python3.6/dist-packages/ipykernel_launcher.py:26: UserWarning: Update your `Conv2D` call to the Keras 2 API: `Conv2D(10, (3, 3), activation=\"relu\")`\n",
            "/usr/local/lib/python3.6/dist-packages/ipykernel_launcher.py:42: UserWarning: The `nb_epoch` argument in `fit` has been renamed `epochs`.\n"
          ],
          "name": "stderr"
        },
        {
          "output_type": "stream",
          "text": [
            "Epoch 1/10\n",
            "60000/60000 [==============================] - 14s 225us/step - loss: 1.4837 - acc: 0.4024\n",
            "Epoch 2/10\n",
            "60000/60000 [==============================] - 13s 220us/step - loss: 1.3783 - acc: 0.4091\n",
            "Epoch 3/10\n",
            "60000/60000 [==============================] - 13s 220us/step - loss: 1.3707 - acc: 0.4100\n",
            "Epoch 4/10\n",
            "60000/60000 [==============================] - 13s 219us/step - loss: 1.3676 - acc: 0.4105\n",
            "Epoch 5/10\n",
            "60000/60000 [==============================] - 14s 228us/step - loss: 1.3650 - acc: 0.4108\n",
            "Epoch 6/10\n",
            "60000/60000 [==============================] - 13s 217us/step - loss: 1.3632 - acc: 0.4112\n",
            "Epoch 7/10\n",
            "60000/60000 [==============================] - 13s 216us/step - loss: 1.3651 - acc: 0.4105\n",
            "Epoch 8/10\n",
            "60000/60000 [==============================] - 13s 218us/step - loss: 1.3629 - acc: 0.4110\n",
            "Epoch 9/10\n",
            "60000/60000 [==============================] - 13s 221us/step - loss: 1.3612 - acc: 0.4111\n",
            "Epoch 10/10\n",
            "60000/60000 [==============================] - 13s 215us/step - loss: 1.3625 - acc: 0.4107\n",
            "[1.3649382747650147, 0.4135]\n"
          ],
          "name": "stdout"
        }
      ]
    },
    {
      "cell_type": "markdown",
      "metadata": {
        "id": "nxFEp0BMTaRW",
        "colab_type": "text"
      },
      "source": [
        "## Block style architecture\n",
        "\n"
      ]
    },
    {
      "cell_type": "markdown",
      "metadata": {
        "id": "H7vDCEO2T0NQ",
        "colab_type": "text"
      },
      "source": [
        "### Style 1\n",
        "\n",
        "- 1st block detect edges/grads as 32->64->128->MP (11x11x128 output)\n",
        "- 2nd block detect overall patterns 32->64->128->256->Output Layer."
      ]
    },
    {
      "cell_type": "code",
      "metadata": {
        "id": "HokISj71Qk_e",
        "colab_type": "code",
        "colab": {
          "base_uri": "https://localhost:8080/",
          "height": 666
        },
        "outputId": "30aec03a-b61b-4639-8d01-a170ff55367c"
      },
      "source": [
        "\n",
        "model = Sequential() \n",
        "\n",
        "#  Input: width x height x num channels (depth) | Inputs receptive field width x height | parameters this layer\n",
        "\n",
        "model.add(Convolution2D(32, 3, 3, activation='relu', input_shape=(28,28,1)))\n",
        "model.add(Convolution2D(64, 3, 3, activation='relu'))\n",
        "model.add(Convolution2D(128, 3, 3, activation='relu'))\n",
        "model.add(MaxPooling2D(pool_size=(2, 2)))\n",
        "\n",
        "\n",
        "model.add(Convolution2D(32, 3, 3, activation='relu'))\n",
        "model.add(Convolution2D(64, 3, 3, activation='relu'))\n",
        "model.add(Convolution2D(128, 3, 3, activation='relu'))\n",
        "model.add(Convolution2D(256, 3, 3, activation='relu'))\n",
        "\n",
        "model.add(Convolution2D(10, 3, 3, activation='relu'))\n",
        "\n",
        "# Output from conv layers\n",
        "# 1x1x10\n",
        "\n",
        "model.add(Flatten())\n",
        "model.add(Activation('softmax'))\n",
        "model.compile(loss='categorical_crossentropy',\n",
        "             optimizer='adam',\n",
        "             metrics=['accuracy'])\n",
        "\n",
        "model.fit(X_train, Y_train, batch_size=32, nb_epoch=10, verbose=1)\n",
        "\n",
        "score = model.evaluate(X_test, Y_test, verbose=0)\n",
        "print(score)"
      ],
      "execution_count": 52,
      "outputs": [
        {
          "output_type": "stream",
          "text": [
            "/usr/local/lib/python3.6/dist-packages/ipykernel_launcher.py:6: UserWarning: Update your `Conv2D` call to the Keras 2 API: `Conv2D(32, (3, 3), activation=\"relu\", input_shape=(28, 28, 1...)`\n",
            "  \n",
            "/usr/local/lib/python3.6/dist-packages/ipykernel_launcher.py:7: UserWarning: Update your `Conv2D` call to the Keras 2 API: `Conv2D(64, (3, 3), activation=\"relu\")`\n",
            "  import sys\n",
            "/usr/local/lib/python3.6/dist-packages/ipykernel_launcher.py:8: UserWarning: Update your `Conv2D` call to the Keras 2 API: `Conv2D(128, (3, 3), activation=\"relu\")`\n",
            "  \n",
            "/usr/local/lib/python3.6/dist-packages/ipykernel_launcher.py:12: UserWarning: Update your `Conv2D` call to the Keras 2 API: `Conv2D(32, (3, 3), activation=\"relu\")`\n",
            "  if sys.path[0] == '':\n",
            "/usr/local/lib/python3.6/dist-packages/ipykernel_launcher.py:13: UserWarning: Update your `Conv2D` call to the Keras 2 API: `Conv2D(64, (3, 3), activation=\"relu\")`\n",
            "  del sys.path[0]\n",
            "/usr/local/lib/python3.6/dist-packages/ipykernel_launcher.py:14: UserWarning: Update your `Conv2D` call to the Keras 2 API: `Conv2D(128, (3, 3), activation=\"relu\")`\n",
            "  \n",
            "/usr/local/lib/python3.6/dist-packages/ipykernel_launcher.py:15: UserWarning: Update your `Conv2D` call to the Keras 2 API: `Conv2D(256, (3, 3), activation=\"relu\")`\n",
            "  from ipykernel import kernelapp as app\n",
            "/usr/local/lib/python3.6/dist-packages/ipykernel_launcher.py:17: UserWarning: Update your `Conv2D` call to the Keras 2 API: `Conv2D(10, (3, 3), activation=\"relu\")`\n",
            "/usr/local/lib/python3.6/dist-packages/ipykernel_launcher.py:28: UserWarning: The `nb_epoch` argument in `fit` has been renamed `epochs`.\n"
          ],
          "name": "stderr"
        },
        {
          "output_type": "stream",
          "text": [
            "Epoch 1/10\n",
            "60000/60000 [==============================] - 15s 248us/step - loss: 1.4436 - acc: 0.4860\n",
            "Epoch 2/10\n",
            "60000/60000 [==============================] - 14s 236us/step - loss: 1.3946 - acc: 0.4994\n",
            "Epoch 3/10\n",
            "60000/60000 [==============================] - 14s 237us/step - loss: 1.3874 - acc: 0.5014\n",
            "Epoch 4/10\n",
            "60000/60000 [==============================] - 15s 245us/step - loss: 1.3821 - acc: 0.5024\n",
            "Epoch 5/10\n",
            "60000/60000 [==============================] - 14s 241us/step - loss: 1.3817 - acc: 0.5024\n",
            "Epoch 6/10\n",
            "60000/60000 [==============================] - 14s 236us/step - loss: 1.3786 - acc: 0.5031\n",
            "Epoch 7/10\n",
            "60000/60000 [==============================] - 14s 237us/step - loss: 1.3766 - acc: 0.5037\n",
            "Epoch 8/10\n",
            "60000/60000 [==============================] - 14s 236us/step - loss: 1.3764 - acc: 0.5035\n",
            "Epoch 9/10\n",
            "60000/60000 [==============================] - 14s 236us/step - loss: 1.3765 - acc: 0.5036\n",
            "Epoch 10/10\n",
            "60000/60000 [==============================] - 15s 251us/step - loss: 1.3757 - acc: 0.5036\n",
            "[1.3970044269561768, 0.5008]\n"
          ],
          "name": "stdout"
        }
      ]
    },
    {
      "cell_type": "markdown",
      "metadata": {
        "id": "r1IbEE8xT4rO",
        "colab_type": "text"
      },
      "source": [
        "### Style 2\n",
        "\n",
        "- 1st block detect edges/grads as 32->64->128->256->256->MP (9x9x256 output)\n",
        "- 2nd block detect overall patterns 32->64->128->Output Layer."
      ]
    },
    {
      "cell_type": "code",
      "metadata": {
        "id": "wdeaJAWVT3zQ",
        "colab_type": "code",
        "colab": {
          "base_uri": "https://localhost:8080/",
          "height": 700
        },
        "outputId": "90d00edf-1c54-4b89-b586-67f9d16ef2fc"
      },
      "source": [
        "\n",
        "model = Sequential() \n",
        "\n",
        "#  Input: width x height x num channels (depth) | Inputs receptive field width x height | parameters this layer\n",
        "\n",
        "model.add(Convolution2D(32, 3, 3, activation='relu', input_shape=(28,28,1)))\n",
        "model.add(Convolution2D(64, 3, 3, activation='relu'))\n",
        "model.add(Convolution2D(128, 3, 3, activation='relu'))\n",
        "model.add(Convolution2D(256, 3, 3, activation='relu'))\n",
        "model.add(Convolution2D(256, 3, 3, activation='relu'))\n",
        "model.add(MaxPooling2D(pool_size=(2, 2)))\n",
        "\n",
        "model.add(Convolution2D(32, 3, 3, activation='relu'))\n",
        "model.add(Convolution2D(64, 3, 3, activation='relu'))\n",
        "model.add(Convolution2D(128, 3, 3, activation='relu'))\n",
        "\n",
        "\n",
        "model.add(Convolution2D(10, 3, 3, activation='relu'))\n",
        "\n",
        "# Output from conv layers\n",
        "# 1x1x10\n",
        "\n",
        "model.add(Flatten())\n",
        "model.add(Activation('softmax'))\n",
        "model.compile(loss='categorical_crossentropy',\n",
        "             optimizer='adam',\n",
        "             metrics=['accuracy'])\n",
        "\n",
        "model.fit(X_train, Y_train, batch_size=32, nb_epoch=10, verbose=1)\n",
        "\n",
        "score = model.evaluate(X_test, Y_test, verbose=0)\n",
        "print(score)"
      ],
      "execution_count": 54,
      "outputs": [
        {
          "output_type": "stream",
          "text": [
            "/usr/local/lib/python3.6/dist-packages/ipykernel_launcher.py:6: UserWarning: Update your `Conv2D` call to the Keras 2 API: `Conv2D(32, (3, 3), activation=\"relu\", input_shape=(28, 28, 1...)`\n",
            "  \n",
            "/usr/local/lib/python3.6/dist-packages/ipykernel_launcher.py:7: UserWarning: Update your `Conv2D` call to the Keras 2 API: `Conv2D(64, (3, 3), activation=\"relu\")`\n",
            "  import sys\n",
            "/usr/local/lib/python3.6/dist-packages/ipykernel_launcher.py:8: UserWarning: Update your `Conv2D` call to the Keras 2 API: `Conv2D(128, (3, 3), activation=\"relu\")`\n",
            "  \n",
            "/usr/local/lib/python3.6/dist-packages/ipykernel_launcher.py:9: UserWarning: Update your `Conv2D` call to the Keras 2 API: `Conv2D(256, (3, 3), activation=\"relu\")`\n",
            "  if __name__ == '__main__':\n",
            "/usr/local/lib/python3.6/dist-packages/ipykernel_launcher.py:10: UserWarning: Update your `Conv2D` call to the Keras 2 API: `Conv2D(256, (3, 3), activation=\"relu\")`\n",
            "  # Remove the CWD from sys.path while we load stuff.\n",
            "/usr/local/lib/python3.6/dist-packages/ipykernel_launcher.py:13: UserWarning: Update your `Conv2D` call to the Keras 2 API: `Conv2D(32, (3, 3), activation=\"relu\")`\n",
            "  del sys.path[0]\n",
            "/usr/local/lib/python3.6/dist-packages/ipykernel_launcher.py:14: UserWarning: Update your `Conv2D` call to the Keras 2 API: `Conv2D(64, (3, 3), activation=\"relu\")`\n",
            "  \n",
            "/usr/local/lib/python3.6/dist-packages/ipykernel_launcher.py:15: UserWarning: Update your `Conv2D` call to the Keras 2 API: `Conv2D(128, (3, 3), activation=\"relu\")`\n",
            "  from ipykernel import kernelapp as app\n",
            "/usr/local/lib/python3.6/dist-packages/ipykernel_launcher.py:18: UserWarning: Update your `Conv2D` call to the Keras 2 API: `Conv2D(10, (3, 3), activation=\"relu\")`\n",
            "/usr/local/lib/python3.6/dist-packages/ipykernel_launcher.py:29: UserWarning: The `nb_epoch` argument in `fit` has been renamed `epochs`.\n"
          ],
          "name": "stderr"
        },
        {
          "output_type": "stream",
          "text": [
            "Epoch 1/10\n",
            "60000/60000 [==============================] - 31s 512us/step - loss: 1.2318 - acc: 0.4916\n",
            "Epoch 2/10\n",
            "60000/60000 [==============================] - 30s 494us/step - loss: 1.1615 - acc: 0.5070\n",
            "Epoch 3/10\n",
            "60000/60000 [==============================] - 29s 484us/step - loss: 1.1491 - acc: 0.5090\n",
            "Epoch 4/10\n",
            "60000/60000 [==============================] - 29s 485us/step - loss: 1.1438 - acc: 0.5096\n",
            "Epoch 5/10\n",
            "60000/60000 [==============================] - 29s 489us/step - loss: 1.1422 - acc: 0.5097\n",
            "Epoch 6/10\n",
            "60000/60000 [==============================] - 29s 482us/step - loss: 1.1371 - acc: 0.5107\n",
            "Epoch 7/10\n",
            "60000/60000 [==============================] - 29s 488us/step - loss: 1.1367 - acc: 0.5106\n",
            "Epoch 8/10\n",
            "60000/60000 [==============================] - 29s 482us/step - loss: 1.1344 - acc: 0.5109\n",
            "Epoch 9/10\n",
            "60000/60000 [==============================] - 29s 481us/step - loss: 1.1342 - acc: 0.5109\n",
            "Epoch 10/10\n",
            "60000/60000 [==============================] - 29s 488us/step - loss: 1.1306 - acc: 0.5118\n",
            "[1.146167383956909, 0.5092]\n"
          ],
          "name": "stdout"
        }
      ]
    },
    {
      "cell_type": "markdown",
      "metadata": {
        "id": "bhOp_B1dU0is",
        "colab_type": "text"
      },
      "source": [
        "### Style 3\n",
        "\n",
        "- 1st block detect edges/grads as 32->64->MP (12x12)\n",
        "- 2nd Block 64->128->256->MP->Output"
      ]
    },
    {
      "cell_type": "code",
      "metadata": {
        "id": "bPOaEAI4U00-",
        "colab_type": "code",
        "colab": {
          "base_uri": "https://localhost:8080/",
          "height": 615
        },
        "outputId": "eec8bb82-bdca-4b6c-a2f1-f7cd45868018"
      },
      "source": [
        "\n",
        "model = Sequential() \n",
        "\n",
        "#  Input: width x height x num channels (depth) | Inputs receptive field width x height | parameters this layer\n",
        "\n",
        "model.add(Convolution2D(32, 3, 3, activation='relu', input_shape=(28,28,1)))\n",
        "model.add(Convolution2D(64, 3, 3, activation='relu'))\n",
        "model.add(MaxPooling2D(pool_size=(2, 2)))\n",
        "\n",
        "model.add(Convolution2D(64, 3, 3, activation='relu'))\n",
        "model.add(Convolution2D(128, 3, 3, activation='relu'))\n",
        "model.add(Convolution2D(256, 3, 3, activation='relu'))\n",
        "model.add(MaxPooling2D(pool_size=(2, 2)))\n",
        "\n",
        "model.add(Convolution2D(10, 3, 3, activation='relu'))\n",
        "\n",
        "# Output from conv layers\n",
        "# 1x1x10\n",
        "\n",
        "model.add(Flatten())\n",
        "model.add(Activation('softmax'))\n",
        "model.compile(loss='categorical_crossentropy',\n",
        "             optimizer='adam',\n",
        "             metrics=['accuracy'])\n",
        "\n",
        "model.fit(X_train, Y_train, batch_size=32, nb_epoch=10, verbose=1)\n",
        "\n",
        "score = model.evaluate(X_test, Y_test, verbose=0)\n",
        "print(score)"
      ],
      "execution_count": 55,
      "outputs": [
        {
          "output_type": "stream",
          "text": [
            "/usr/local/lib/python3.6/dist-packages/ipykernel_launcher.py:6: UserWarning: Update your `Conv2D` call to the Keras 2 API: `Conv2D(32, (3, 3), activation=\"relu\", input_shape=(28, 28, 1...)`\n",
            "  \n",
            "/usr/local/lib/python3.6/dist-packages/ipykernel_launcher.py:7: UserWarning: Update your `Conv2D` call to the Keras 2 API: `Conv2D(64, (3, 3), activation=\"relu\")`\n",
            "  import sys\n",
            "/usr/local/lib/python3.6/dist-packages/ipykernel_launcher.py:10: UserWarning: Update your `Conv2D` call to the Keras 2 API: `Conv2D(64, (3, 3), activation=\"relu\")`\n",
            "  # Remove the CWD from sys.path while we load stuff.\n",
            "/usr/local/lib/python3.6/dist-packages/ipykernel_launcher.py:11: UserWarning: Update your `Conv2D` call to the Keras 2 API: `Conv2D(128, (3, 3), activation=\"relu\")`\n",
            "  # This is added back by InteractiveShellApp.init_path()\n",
            "/usr/local/lib/python3.6/dist-packages/ipykernel_launcher.py:12: UserWarning: Update your `Conv2D` call to the Keras 2 API: `Conv2D(256, (3, 3), activation=\"relu\")`\n",
            "  if sys.path[0] == '':\n",
            "/usr/local/lib/python3.6/dist-packages/ipykernel_launcher.py:15: UserWarning: Update your `Conv2D` call to the Keras 2 API: `Conv2D(10, (3, 3), activation=\"relu\")`\n",
            "  from ipykernel import kernelapp as app\n",
            "/usr/local/lib/python3.6/dist-packages/ipykernel_launcher.py:26: UserWarning: The `nb_epoch` argument in `fit` has been renamed `epochs`.\n"
          ],
          "name": "stderr"
        },
        {
          "output_type": "stream",
          "text": [
            "Epoch 1/10\n",
            "60000/60000 [==============================] - 12s 192us/step - loss: 1.3516 - acc: 0.4357\n",
            "Epoch 2/10\n",
            "60000/60000 [==============================] - 11s 179us/step - loss: 1.2130 - acc: 0.4817\n",
            "Epoch 3/10\n",
            "60000/60000 [==============================] - 11s 179us/step - loss: 1.2071 - acc: 0.4825\n",
            "Epoch 4/10\n",
            "60000/60000 [==============================] - 11s 178us/step - loss: 1.2023 - acc: 0.4826\n",
            "Epoch 5/10\n",
            "60000/60000 [==============================] - 11s 177us/step - loss: 1.1999 - acc: 0.4836\n",
            "Epoch 6/10\n",
            "60000/60000 [==============================] - 11s 177us/step - loss: 1.1963 - acc: 0.4839\n",
            "Epoch 7/10\n",
            "60000/60000 [==============================] - 11s 188us/step - loss: 1.1948 - acc: 0.4842\n",
            "Epoch 8/10\n",
            "60000/60000 [==============================] - 11s 179us/step - loss: 1.1939 - acc: 0.4844\n",
            "Epoch 9/10\n",
            "60000/60000 [==============================] - 11s 176us/step - loss: 1.1931 - acc: 0.4845\n",
            "Epoch 10/10\n",
            "60000/60000 [==============================] - 11s 177us/step - loss: 1.1926 - acc: 0.4845\n",
            "[1.2231317138671876, 0.4772]\n"
          ],
          "name": "stdout"
        }
      ]
    },
    {
      "cell_type": "code",
      "metadata": {
        "id": "bWXogMviXCn5",
        "colab_type": "code",
        "colab": {}
      },
      "source": [
        "\n",
        "model = Sequential() \n",
        "\n",
        "#  Input: width x height x num channels (depth) | Inputs receptive field width x height | parameters this layer\n",
        "\n",
        "model.add(Convolution2D(32, 3, 3, activation='relu', input_shape=(28,28,1)))\n",
        "model.add(Convolution2D(64, 3, 3, activation='relu'))\n",
        "model.add(MaxPooling2D(pool_size=(2, 2)))\n",
        "\n",
        "model.add(Convolution2D(128, 3, 3, activation='relu'))\n",
        "model.add(Convolution2D(256, 3, 3, activation='relu'))\n",
        "model.add(Convolution2D(512, 3, 3, activation='relu'))\n",
        "model.add(MaxPooling2D(pool_size=(2, 2)))\n",
        "\n",
        "model.add(Convolution2D(10, 3, 3, activation='relu'))\n",
        "\n",
        "# Output from conv layers\n",
        "# 1x1x10\n",
        "\n",
        "model.add(Flatten())\n",
        "model.add(Activation('softmax'))\n",
        "model.compile(loss='categorical_crossentropy',\n",
        "             optimizer='adam',\n",
        "             metrics=['accuracy'])\n",
        "\n",
        "model.fit(X_train, Y_train, batch_size=32, nb_epoch=10, verbose=1)\n",
        "\n",
        "score = model.evaluate(X_test, Y_test, verbose=0)\n",
        "print(score)"
      ],
      "execution_count": 0,
      "outputs": []
    },
    {
      "cell_type": "markdown",
      "metadata": {
        "id": "FkIYmcKgWJ7E",
        "colab_type": "text"
      },
      "source": [
        "### Style 4 (Funnel shape of kernels)\n",
        "\n"
      ]
    },
    {
      "cell_type": "code",
      "metadata": {
        "id": "_4kIvCdhWZjD",
        "colab_type": "code",
        "colab": {
          "base_uri": "https://localhost:8080/",
          "height": 700
        },
        "outputId": "16bf94c4-9f40-4dae-9c3d-a4294f31e524"
      },
      "source": [
        "\n",
        "model = Sequential() \n",
        "\n",
        "#  Input: width x height x num channels (depth) | Inputs receptive field width x height | parameters this layer\n",
        "\n",
        "model.add(Convolution2D(32, 3, 3, activation='relu', input_shape=(28,28,1)))\n",
        "model.add(Convolution2D(64, 3, 3, activation='relu'))\n",
        "model.add(Convolution2D(128, 3, 3, activation='relu'))\n",
        "model.add(Convolution2D(128, 3, 3, activation='relu'))\n",
        "model.add(Convolution2D(256, 3, 3, activation='relu'))\n",
        "model.add(MaxPooling2D(pool_size=(2, 2)))\n",
        "\n",
        "model.add(Convolution2D(256, 3, 3, activation='relu'))\n",
        "model.add(Convolution2D(512, 3, 3, activation='relu'))\n",
        "model.add(Convolution2D(512, 3, 3, activation='relu'))\n",
        "\n",
        "\n",
        "model.add(Convolution2D(10, 3, 3, activation='relu'))\n",
        "\n",
        "# Output from conv layers\n",
        "# 1x1x10\n",
        "\n",
        "model.add(Flatten())\n",
        "model.add(Activation('softmax'))\n",
        "model.compile(loss='categorical_crossentropy',\n",
        "             optimizer='adam',\n",
        "             metrics=['accuracy'])\n",
        "\n",
        "model.fit(X_train, Y_train, batch_size=32, nb_epoch=10, verbose=1)\n",
        "\n",
        "score = model.evaluate(X_test, Y_test, verbose=0)\n",
        "print(score)"
      ],
      "execution_count": 56,
      "outputs": [
        {
          "output_type": "stream",
          "text": [
            "/usr/local/lib/python3.6/dist-packages/ipykernel_launcher.py:6: UserWarning: Update your `Conv2D` call to the Keras 2 API: `Conv2D(32, (3, 3), activation=\"relu\", input_shape=(28, 28, 1...)`\n",
            "  \n",
            "/usr/local/lib/python3.6/dist-packages/ipykernel_launcher.py:7: UserWarning: Update your `Conv2D` call to the Keras 2 API: `Conv2D(64, (3, 3), activation=\"relu\")`\n",
            "  import sys\n",
            "/usr/local/lib/python3.6/dist-packages/ipykernel_launcher.py:8: UserWarning: Update your `Conv2D` call to the Keras 2 API: `Conv2D(128, (3, 3), activation=\"relu\")`\n",
            "  \n",
            "/usr/local/lib/python3.6/dist-packages/ipykernel_launcher.py:9: UserWarning: Update your `Conv2D` call to the Keras 2 API: `Conv2D(128, (3, 3), activation=\"relu\")`\n",
            "  if __name__ == '__main__':\n",
            "/usr/local/lib/python3.6/dist-packages/ipykernel_launcher.py:10: UserWarning: Update your `Conv2D` call to the Keras 2 API: `Conv2D(256, (3, 3), activation=\"relu\")`\n",
            "  # Remove the CWD from sys.path while we load stuff.\n",
            "/usr/local/lib/python3.6/dist-packages/ipykernel_launcher.py:13: UserWarning: Update your `Conv2D` call to the Keras 2 API: `Conv2D(256, (3, 3), activation=\"relu\")`\n",
            "  del sys.path[0]\n",
            "/usr/local/lib/python3.6/dist-packages/ipykernel_launcher.py:14: UserWarning: Update your `Conv2D` call to the Keras 2 API: `Conv2D(512, (3, 3), activation=\"relu\")`\n",
            "  \n",
            "/usr/local/lib/python3.6/dist-packages/ipykernel_launcher.py:15: UserWarning: Update your `Conv2D` call to the Keras 2 API: `Conv2D(512, (3, 3), activation=\"relu\")`\n",
            "  from ipykernel import kernelapp as app\n",
            "/usr/local/lib/python3.6/dist-packages/ipykernel_launcher.py:18: UserWarning: Update your `Conv2D` call to the Keras 2 API: `Conv2D(10, (3, 3), activation=\"relu\")`\n",
            "/usr/local/lib/python3.6/dist-packages/ipykernel_launcher.py:29: UserWarning: The `nb_epoch` argument in `fit` has been renamed `epochs`.\n"
          ],
          "name": "stderr"
        },
        {
          "output_type": "stream",
          "text": [
            "Epoch 1/10\n",
            "60000/60000 [==============================] - 40s 674us/step - loss: 1.7202 - acc: 0.3664\n",
            "Epoch 2/10\n",
            "60000/60000 [==============================] - 39s 643us/step - loss: 1.6737 - acc: 0.3779\n",
            "Epoch 3/10\n",
            "60000/60000 [==============================] - 39s 642us/step - loss: 1.4532 - acc: 0.3805\n",
            "Epoch 4/10\n",
            "60000/60000 [==============================] - 39s 643us/step - loss: 1.2784 - acc: 0.4554\n",
            "Epoch 5/10\n",
            "60000/60000 [==============================] - 38s 639us/step - loss: 1.2146 - acc: 0.4806\n",
            "Epoch 6/10\n",
            "60000/60000 [==============================] - 39s 642us/step - loss: 1.2113 - acc: 0.4806\n",
            "Epoch 7/10\n",
            "60000/60000 [==============================] - 38s 639us/step - loss: 1.2066 - acc: 0.4814\n",
            "Epoch 8/10\n",
            "60000/60000 [==============================] - 38s 641us/step - loss: 1.2047 - acc: 0.4816\n",
            "Epoch 9/10\n",
            "60000/60000 [==============================] - 39s 643us/step - loss: 1.2074 - acc: 0.4810\n",
            "Epoch 10/10\n",
            "60000/60000 [==============================] - 38s 641us/step - loss: 1.2036 - acc: 0.4816\n",
            "[1.2125921056747437, 0.4784]\n"
          ],
          "name": "stdout"
        }
      ]
    },
    {
      "cell_type": "markdown",
      "metadata": {
        "id": "R0vkT4BZWspr",
        "colab_type": "text"
      },
      "source": [
        "### Style 5 (Another funnel shape)"
      ]
    },
    {
      "cell_type": "code",
      "metadata": {
        "id": "7B8jaixoWwWB",
        "colab_type": "code",
        "colab": {
          "base_uri": "https://localhost:8080/",
          "height": 666
        },
        "outputId": "ff326718-0e63-43fc-bab2-4ef4dfd63deb"
      },
      "source": [
        "\n",
        "model = Sequential() \n",
        "\n",
        "#  Input: width x height x num channels (depth) | Inputs receptive field width x height | parameters this layer\n",
        "\n",
        "model.add(Convolution2D(32, 3, 3, activation='relu', input_shape=(28,28,1)))\n",
        "model.add(Convolution2D(64, 3, 3, activation='relu'))\n",
        "model.add(Convolution2D(128, 3, 3, activation='relu'))\n",
        "model.add(MaxPooling2D(pool_size=(2, 2)))\n",
        "\n",
        "\n",
        "model.add(Convolution2D(128, 3, 3, activation='relu'))\n",
        "model.add(Convolution2D(256, 3, 3, activation='relu'))\n",
        "model.add(Convolution2D(256, 3, 3, activation='relu'))\n",
        "model.add(Convolution2D(512, 3, 3, activation='relu'))\n",
        "\n",
        "model.add(Convolution2D(10, 3, 3, activation='relu'))\n",
        "\n",
        "# Output from conv layers\n",
        "# 1x1x10\n",
        "\n",
        "model.add(Flatten())\n",
        "model.add(Activation('softmax'))\n",
        "model.compile(loss='categorical_crossentropy',\n",
        "             optimizer='adam',\n",
        "             metrics=['accuracy'])\n",
        "\n",
        "model.fit(X_train, Y_train, batch_size=32, nb_epoch=10, verbose=1)\n",
        "\n",
        "score = model.evaluate(X_test, Y_test, verbose=0)\n",
        "print(score)"
      ],
      "execution_count": 57,
      "outputs": [
        {
          "output_type": "stream",
          "text": [
            "/usr/local/lib/python3.6/dist-packages/ipykernel_launcher.py:6: UserWarning: Update your `Conv2D` call to the Keras 2 API: `Conv2D(32, (3, 3), activation=\"relu\", input_shape=(28, 28, 1...)`\n",
            "  \n",
            "/usr/local/lib/python3.6/dist-packages/ipykernel_launcher.py:7: UserWarning: Update your `Conv2D` call to the Keras 2 API: `Conv2D(64, (3, 3), activation=\"relu\")`\n",
            "  import sys\n",
            "/usr/local/lib/python3.6/dist-packages/ipykernel_launcher.py:8: UserWarning: Update your `Conv2D` call to the Keras 2 API: `Conv2D(128, (3, 3), activation=\"relu\")`\n",
            "  \n",
            "/usr/local/lib/python3.6/dist-packages/ipykernel_launcher.py:12: UserWarning: Update your `Conv2D` call to the Keras 2 API: `Conv2D(128, (3, 3), activation=\"relu\")`\n",
            "  if sys.path[0] == '':\n",
            "/usr/local/lib/python3.6/dist-packages/ipykernel_launcher.py:13: UserWarning: Update your `Conv2D` call to the Keras 2 API: `Conv2D(256, (3, 3), activation=\"relu\")`\n",
            "  del sys.path[0]\n",
            "/usr/local/lib/python3.6/dist-packages/ipykernel_launcher.py:14: UserWarning: Update your `Conv2D` call to the Keras 2 API: `Conv2D(256, (3, 3), activation=\"relu\")`\n",
            "  \n",
            "/usr/local/lib/python3.6/dist-packages/ipykernel_launcher.py:15: UserWarning: Update your `Conv2D` call to the Keras 2 API: `Conv2D(512, (3, 3), activation=\"relu\")`\n",
            "  from ipykernel import kernelapp as app\n",
            "/usr/local/lib/python3.6/dist-packages/ipykernel_launcher.py:17: UserWarning: Update your `Conv2D` call to the Keras 2 API: `Conv2D(10, (3, 3), activation=\"relu\")`\n",
            "/usr/local/lib/python3.6/dist-packages/ipykernel_launcher.py:28: UserWarning: The `nb_epoch` argument in `fit` has been renamed `epochs`.\n"
          ],
          "name": "stderr"
        },
        {
          "output_type": "stream",
          "text": [
            "Epoch 1/10\n",
            "60000/60000 [==============================] - 23s 377us/step - loss: 2.2850 - acc: 0.1079\n",
            "Epoch 2/10\n",
            "60000/60000 [==============================] - 22s 360us/step - loss: 2.3026 - acc: 0.0987\n",
            "Epoch 3/10\n",
            "60000/60000 [==============================] - 22s 363us/step - loss: 2.3026 - acc: 0.0987\n",
            "Epoch 4/10\n",
            "60000/60000 [==============================] - 21s 355us/step - loss: 2.3026 - acc: 0.0987\n",
            "Epoch 5/10\n",
            "60000/60000 [==============================] - 21s 355us/step - loss: 2.3026 - acc: 0.0987\n",
            "Epoch 6/10\n",
            "60000/60000 [==============================] - 21s 356us/step - loss: 2.3026 - acc: 0.0987\n",
            "Epoch 7/10\n",
            "60000/60000 [==============================] - 22s 362us/step - loss: 2.3026 - acc: 0.0987\n",
            "Epoch 8/10\n",
            "60000/60000 [==============================] - 21s 355us/step - loss: 2.3026 - acc: 0.0987\n",
            "Epoch 9/10\n",
            "60000/60000 [==============================] - 21s 355us/step - loss: 2.3026 - acc: 0.0987\n",
            "Epoch 10/10\n",
            "60000/60000 [==============================] - 22s 358us/step - loss: 2.3026 - acc: 0.0987\n",
            "[2.3025851249694824, 0.098]\n"
          ],
          "name": "stdout"
        }
      ]
    },
    {
      "cell_type": "markdown",
      "metadata": {
        "id": "QSMvPAYdXK0e",
        "colab_type": "text"
      },
      "source": [
        "### Drastically reduced params model"
      ]
    },
    {
      "cell_type": "code",
      "metadata": {
        "id": "hqOE6KW_XOCx",
        "colab_type": "code",
        "colab": {
          "base_uri": "https://localhost:8080/",
          "height": 683
        },
        "outputId": "1297bca0-a1f9-4a76-a614-b621d13cca38"
      },
      "source": [
        "\n",
        "model = Sequential() \n",
        "\n",
        "#  Input: width x height x num channels (depth) | Inputs receptive field width x height | parameters this layer\n",
        "\n",
        "model.add(Convolution2D(32, 3, 3, activation='relu', input_shape=(28,28,1)))\n",
        "model.add(Convolution2D(32, 3, 3, activation='relu'))\n",
        "model.add(Convolution2D(64, 3, 3, activation='relu'))\n",
        "model.add(MaxPooling2D(pool_size=(2, 2))) # 11x11\n",
        "\n",
        "model.add(Convolution2D(64, 3, 3, activation='relu'))\n",
        "model.add(Convolution2D(64, 3, 3, activation='relu'))\n",
        "model.add(Convolution2D(128, 3, 3, activation='relu'))\n",
        "model.add(Convolution2D(128, 3, 3, activation='relu'))\n",
        "\n",
        "model.add(Convolution2D(10, 3, 3, activation='relu'))\n",
        "\n",
        "# Output from conv layers\n",
        "# 1x1x10\n",
        "\n",
        "model.add(Flatten())\n",
        "model.add(Activation('softmax'))\n",
        "model.compile(loss='categorical_crossentropy',\n",
        "             optimizer='adam',\n",
        "             metrics=['accuracy'])\n",
        "\n",
        "model.fit(X_train, Y_train, batch_size=32, nb_epoch=10, verbose=1)\n",
        "\n",
        "score = model.evaluate(X_test, Y_test, verbose=0)\n",
        "print(score)"
      ],
      "execution_count": 58,
      "outputs": [
        {
          "output_type": "stream",
          "text": [
            "/usr/local/lib/python3.6/dist-packages/ipykernel_launcher.py:6: UserWarning: Update your `Conv2D` call to the Keras 2 API: `Conv2D(32, (3, 3), activation=\"relu\", input_shape=(28, 28, 1...)`\n",
            "  \n",
            "/usr/local/lib/python3.6/dist-packages/ipykernel_launcher.py:7: UserWarning: Update your `Conv2D` call to the Keras 2 API: `Conv2D(32, (3, 3), activation=\"relu\")`\n",
            "  import sys\n",
            "/usr/local/lib/python3.6/dist-packages/ipykernel_launcher.py:8: UserWarning: Update your `Conv2D` call to the Keras 2 API: `Conv2D(64, (3, 3), activation=\"relu\")`\n",
            "  \n",
            "/usr/local/lib/python3.6/dist-packages/ipykernel_launcher.py:11: UserWarning: Update your `Conv2D` call to the Keras 2 API: `Conv2D(64, (3, 3), activation=\"relu\")`\n",
            "  # This is added back by InteractiveShellApp.init_path()\n",
            "/usr/local/lib/python3.6/dist-packages/ipykernel_launcher.py:12: UserWarning: Update your `Conv2D` call to the Keras 2 API: `Conv2D(64, (3, 3), activation=\"relu\")`\n",
            "  if sys.path[0] == '':\n",
            "/usr/local/lib/python3.6/dist-packages/ipykernel_launcher.py:13: UserWarning: Update your `Conv2D` call to the Keras 2 API: `Conv2D(128, (3, 3), activation=\"relu\")`\n",
            "  del sys.path[0]\n",
            "/usr/local/lib/python3.6/dist-packages/ipykernel_launcher.py:14: UserWarning: Update your `Conv2D` call to the Keras 2 API: `Conv2D(128, (3, 3), activation=\"relu\")`\n",
            "  \n",
            "/usr/local/lib/python3.6/dist-packages/ipykernel_launcher.py:16: UserWarning: Update your `Conv2D` call to the Keras 2 API: `Conv2D(10, (3, 3), activation=\"relu\")`\n",
            "  app.launch_new_instance()\n",
            "/usr/local/lib/python3.6/dist-packages/ipykernel_launcher.py:27: UserWarning: The `nb_epoch` argument in `fit` has been renamed `epochs`.\n"
          ],
          "name": "stderr"
        },
        {
          "output_type": "stream",
          "text": [
            "Epoch 1/10\n",
            "60000/60000 [==============================] - 13s 215us/step - loss: 1.3273 - acc: 0.5374\n",
            "Epoch 2/10\n",
            "60000/60000 [==============================] - 12s 192us/step - loss: 1.0060 - acc: 0.6718\n",
            "Epoch 3/10\n",
            "60000/60000 [==============================] - 11s 191us/step - loss: 0.9632 - acc: 0.6873\n",
            "Epoch 4/10\n",
            "60000/60000 [==============================] - 13s 214us/step - loss: 0.9565 - acc: 0.6883\n",
            "Epoch 5/10\n",
            "60000/60000 [==============================] - 11s 191us/step - loss: 0.9513 - acc: 0.6898\n",
            "Epoch 6/10\n",
            "60000/60000 [==============================] - 12s 192us/step - loss: 0.9481 - acc: 0.6905\n",
            "Epoch 7/10\n",
            "60000/60000 [==============================] - 12s 208us/step - loss: 0.9462 - acc: 0.6911\n",
            "Epoch 8/10\n",
            "60000/60000 [==============================] - 11s 191us/step - loss: 0.9445 - acc: 0.6915\n",
            "Epoch 9/10\n",
            "60000/60000 [==============================] - 12s 192us/step - loss: 0.9443 - acc: 0.6918\n",
            "Epoch 10/10\n",
            "60000/60000 [==============================] - 12s 200us/step - loss: 0.9420 - acc: 0.6922\n",
            "[0.9460095967292785, 0.6917]\n"
          ],
          "name": "stdout"
        }
      ]
    },
    {
      "cell_type": "code",
      "metadata": {
        "id": "SANV3lcZXwq1",
        "colab_type": "code",
        "colab": {
          "base_uri": "https://localhost:8080/",
          "height": 581
        },
        "outputId": "927bc4c0-7214-405b-9c27-91841861dd61"
      },
      "source": [
        "model = Sequential() \n",
        "\n",
        "#  Input: width x height x num channels (depth) | Inputs receptive field width x height | parameters this layer\n",
        "\n",
        "model.add(Convolution2D(32, 3, 3, activation='relu', input_shape=(28,28,1)))\n",
        "model.add(Convolution2D(64, 3, 3, activation='relu'))\n",
        "model.add(MaxPooling2D(pool_size=(2, 2))) # 12x12\n",
        "\n",
        "model.add(Convolution2D(128, 3, 3, activation='relu'))\n",
        "model.add(MaxPooling2D(pool_size=(2, 2)))\n",
        "\n",
        "model.add(Convolution2D(128, 3, 3, activation='relu'))\n",
        "model.add(Convolution2D(10, 3, 3, activation='relu'))\n",
        "\n",
        "# Output from conv layers\n",
        "# 1x1x10\n",
        "\n",
        "model.add(Flatten())\n",
        "model.add(Activation('softmax'))\n",
        "model.compile(loss='categorical_crossentropy',\n",
        "             optimizer='adam',\n",
        "             metrics=['accuracy'])\n",
        "\n",
        "model.fit(X_train, Y_train, batch_size=32, nb_epoch=10, verbose=1)\n",
        "\n",
        "score = model.evaluate(X_test, Y_test, verbose=0)\n",
        "print(score)"
      ],
      "execution_count": 59,
      "outputs": [
        {
          "output_type": "stream",
          "text": [
            "/usr/local/lib/python3.6/dist-packages/ipykernel_launcher.py:5: UserWarning: Update your `Conv2D` call to the Keras 2 API: `Conv2D(32, (3, 3), activation=\"relu\", input_shape=(28, 28, 1...)`\n",
            "  \"\"\"\n",
            "/usr/local/lib/python3.6/dist-packages/ipykernel_launcher.py:6: UserWarning: Update your `Conv2D` call to the Keras 2 API: `Conv2D(64, (3, 3), activation=\"relu\")`\n",
            "  \n",
            "/usr/local/lib/python3.6/dist-packages/ipykernel_launcher.py:9: UserWarning: Update your `Conv2D` call to the Keras 2 API: `Conv2D(128, (3, 3), activation=\"relu\")`\n",
            "  if __name__ == '__main__':\n",
            "/usr/local/lib/python3.6/dist-packages/ipykernel_launcher.py:12: UserWarning: Update your `Conv2D` call to the Keras 2 API: `Conv2D(128, (3, 3), activation=\"relu\")`\n",
            "  if sys.path[0] == '':\n",
            "/usr/local/lib/python3.6/dist-packages/ipykernel_launcher.py:13: UserWarning: Update your `Conv2D` call to the Keras 2 API: `Conv2D(10, (3, 3), activation=\"relu\")`\n",
            "  del sys.path[0]\n",
            "/usr/local/lib/python3.6/dist-packages/ipykernel_launcher.py:24: UserWarning: The `nb_epoch` argument in `fit` has been renamed `epochs`.\n"
          ],
          "name": "stderr"
        },
        {
          "output_type": "stream",
          "text": [
            "Epoch 1/10\n",
            "60000/60000 [==============================] - 11s 177us/step - loss: 1.4326 - acc: 0.3987\n",
            "Epoch 2/10\n",
            "60000/60000 [==============================] - 10s 160us/step - loss: 1.2251 - acc: 0.4765\n",
            "Epoch 3/10\n",
            "60000/60000 [==============================] - 10s 160us/step - loss: 1.1563 - acc: 0.5031\n",
            "Epoch 4/10\n",
            "60000/60000 [==============================] - 10s 170us/step - loss: 1.1522 - acc: 0.5042\n",
            "Epoch 5/10\n",
            "60000/60000 [==============================] - 10s 164us/step - loss: 1.1488 - acc: 0.5047\n",
            "Epoch 6/10\n",
            "60000/60000 [==============================] - 10s 160us/step - loss: 1.1483 - acc: 0.5045\n",
            "Epoch 7/10\n",
            "60000/60000 [==============================] - 10s 160us/step - loss: 1.1452 - acc: 0.5049\n",
            "Epoch 8/10\n",
            "60000/60000 [==============================] - 10s 160us/step - loss: 1.0518 - acc: 0.5464\n",
            "Epoch 9/10\n",
            "60000/60000 [==============================] - 10s 160us/step - loss: 0.9217 - acc: 0.6022\n",
            "Epoch 10/10\n",
            "60000/60000 [==============================] - 10s 160us/step - loss: 0.9219 - acc: 0.6019\n",
            "[0.9345102670669556, 0.5993]\n"
          ],
          "name": "stdout"
        }
      ]
    },
    {
      "cell_type": "markdown",
      "metadata": {
        "id": "8Ua9x2Bd3l8i",
        "colab_type": "text"
      },
      "source": [
        "# Pytorch\n",
        "\n",
        "work in progress"
      ]
    },
    {
      "cell_type": "code",
      "metadata": {
        "id": "UVLPjE1i3ncJ",
        "colab_type": "code",
        "colab": {}
      },
      "source": [
        ""
      ],
      "execution_count": 0,
      "outputs": []
    },
    {
      "cell_type": "markdown",
      "metadata": {
        "id": "k67cBpavbJZ8",
        "colab_type": "text"
      },
      "source": [
        "# What's wrong (Repeated cell for convinience)\n",
        "\n",
        "- Receptive field at last layer was 22x22, we are not seeing the full image since image is 28x28\n",
        "- Number of parameters is too huge.\n",
        "- We use maxpool only once, which is why we have too many conv layers, we can use maxpool 2 times easily\n",
        "- Too many conv layers lead to last layer having 2048 kernels and over 18 Million parameters for a single layer\n",
        "- No image augmentation, Neither did we do any rotate or any other augmentation like changing brightness levels or invert colors (black to white n vice versa)\n",
        "\n",
        "- The 1st Maxpool happens at 7x7 receptive field, it should be done at either 9x9 or 11x11, since at 7x7 receptive field the CNN may not be able identify any edges/gradients.\n",
        "\n",
        "- We are not using blocks (conv-conv-conv-maxpool) style. \n",
        "\n",
        "- Our overall arch is 32->64->128->MP->256->512->1024->2048->Output layer. \n",
        "\n",
        "- A better way would be \n",
        "  - 1st block detect edges/grads as 32->64->128->MP (11x11x128 output)\n",
        "  - 2nd block detect overall patterns 32->64->128->256->Output Layer.\n",
        "  - The first block detects edges/gradients of 128 different types, the 2nd block we again start from 32 and proceed, 1st block gives 128 different types of edges, but since our overall labels are few, the number of patterns that can be created from these edges and gradients is also low. Hence we don't start our 2nd block with 256 but rather 32.\n",
        "  \n",
        "Please tell me if the `better way` I am saying is applicable or not?"
      ]
    },
    {
      "cell_type": "code",
      "metadata": {
        "id": "gWVPkPlZbM3v",
        "colab_type": "code",
        "colab": {}
      },
      "source": [
        ""
      ],
      "execution_count": 0,
      "outputs": []
    }
  ]
}