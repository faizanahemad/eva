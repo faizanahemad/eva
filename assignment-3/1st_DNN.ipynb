{
  "nbformat": 4,
  "nbformat_minor": 0,
  "metadata": {
    "colab": {
      "name": "1st DNN.ipynb",
      "version": "0.3.2",
      "provenance": [],
      "collapsed_sections": []
    },
    "kernelspec": {
      "name": "python3",
      "display_name": "Python 3"
    },
    "accelerator": "GPU"
  },
  "cells": [
    {
      "cell_type": "markdown",
      "metadata": {
        "id": "aNyZv-Ec52ot",
        "colab_type": "text"
      },
      "source": [
        "# **Import Libraries and modules**"
      ]
    },
    {
      "cell_type": "markdown",
      "metadata": {
        "id": "ITcrEmztzfjv",
        "colab_type": "text"
      },
      "source": [
        "- What: Installing keras via pip package manager, Keras is a wrapper over Tensorflow. Then we import it for use\n",
        "- Why: This package will help us define our DNN layer by layer"
      ]
    },
    {
      "cell_type": "code",
      "metadata": {
        "id": "3m3w1Cw49Zkt",
        "colab_type": "code",
        "colab": {}
      },
      "source": [
        "# https://keras.io/\n",
        "!pip install -q keras\n",
        "import keras"
      ],
      "execution_count": 0,
      "outputs": []
    },
    {
      "cell_type": "code",
      "metadata": {
        "id": "Eso6UHE080D4",
        "colab_type": "code",
        "colab": {}
      },
      "source": [
        "import numpy as np\n",
        "\n",
        "from keras.models import Sequential\n",
        "from keras.layers import Dense, Dropout, Activation, Flatten, Add\n",
        "from keras.layers import Convolution2D, MaxPooling2D\n",
        "from keras.utils import np_utils\n",
        "\n",
        "from keras.datasets import mnist"
      ],
      "execution_count": 0,
      "outputs": []
    },
    {
      "cell_type": "markdown",
      "metadata": {
        "id": "zByEi95J86RD",
        "colab_type": "text"
      },
      "source": [
        "### Load pre-shuffled MNIST data into train and test sets"
      ]
    },
    {
      "cell_type": "markdown",
      "metadata": {
        "id": "ak4VPGuZzmxL",
        "colab_type": "text"
      },
      "source": [
        "- What: So It gets the mnist data partitioned into Train-Test set\n",
        "- Why: Train-test split will be used to train and then test the model on test set"
      ]
    },
    {
      "cell_type": "code",
      "metadata": {
        "id": "7eRM0QWN83PV",
        "colab_type": "code",
        "outputId": "1758b7a1-c3dd-4393-e003-5fc22094e3ed",
        "colab": {
          "base_uri": "https://localhost:8080/",
          "height": 51
        }
      },
      "source": [
        "(X_train, y_train), (X_test, y_test) = mnist.load_data()"
      ],
      "execution_count": 4,
      "outputs": [
        {
          "output_type": "stream",
          "text": [
            "Downloading data from https://s3.amazonaws.com/img-datasets/mnist.npz\n",
            "11493376/11490434 [==============================] - 0s 0us/step\n"
          ],
          "name": "stdout"
        }
      ]
    },
    {
      "cell_type": "markdown",
      "metadata": {
        "id": "RLP3Qgxzzr8I",
        "colab_type": "text"
      },
      "source": [
        "- What:\n",
        "  - We explore our data a little. \n",
        "  - We print number of training and test examples\n",
        "  - We also show a example to see what our data looks like\n",
        "  - `%matplotlib inline` commands makes the plots appear within our notebook\n",
        "  \n",
        "- Why\n",
        "  - Knowing train and test size and data dimensions will help us design/debug our ConvNet\n",
        "  \n",
        "**Note** \n",
        "- the image looks color but it isn't, its just the way `plt.imshow` gives color to different cell values in a 2D matrix\n",
        "- See that we have a single channel in the initial image, its a grayscale not RGB image."
      ]
    },
    {
      "cell_type": "code",
      "metadata": {
        "id": "4a4Be72j8-ZC",
        "colab_type": "code",
        "outputId": "8cdca140-8c52-42fc-ab8d-d3e6f9fdc7af",
        "colab": {
          "base_uri": "https://localhost:8080/",
          "height": 303
        }
      },
      "source": [
        "print (X_train.shape)\n",
        "from matplotlib import pyplot as plt\n",
        "%matplotlib inline\n",
        "plt.imshow(X_train[0])"
      ],
      "execution_count": 5,
      "outputs": [
        {
          "output_type": "stream",
          "text": [
            "(60000, 28, 28)\n"
          ],
          "name": "stdout"
        },
        {
          "output_type": "execute_result",
          "data": {
            "text/plain": [
              "<matplotlib.image.AxesImage at 0x7fe1861acb38>"
            ]
          },
          "metadata": {
            "tags": []
          },
          "execution_count": 5
        },
        {
          "output_type": "display_data",
          "data": {
            "image/png": "[encoded data removed]",
            "text/plain": [
              "<Figure size 432x288 with 1 Axes>"
            ]
          },
          "metadata": {
            "tags": []
          }
        }
      ]
    },
    {
      "cell_type": "markdown",
      "metadata": {
        "id": "HkvQ_x5Xz0b2",
        "colab_type": "text"
      },
      "source": [
        "What: We reshape to get single channel as dimension, the last 1 in each reshape is for the channel. Since the image is single channel so this is done. \n",
        "\n",
        "If image was 3 channel then\n",
        "\n",
        "```python\n",
        "X_train = X_train.reshape(X_train.shape[0], 28, 28,3)\n",
        "```"
      ]
    },
    {
      "cell_type": "code",
      "metadata": {
        "id": "dkmprriw9AnZ",
        "colab_type": "code",
        "colab": {}
      },
      "source": [
        "X_train = X_train.reshape(X_train.shape[0], 28, 28,1)\n",
        "X_test = X_test.reshape(X_test.shape[0], 28, 28,1)"
      ],
      "execution_count": 0,
      "outputs": []
    },
    {
      "cell_type": "markdown",
      "metadata": {
        "id": "isbY7h6Zz6wG",
        "colab_type": "text"
      },
      "source": [
        "- Normalize data by dividing by 255"
      ]
    },
    {
      "cell_type": "code",
      "metadata": {
        "id": "X2m4YS4E9CRh",
        "colab_type": "code",
        "colab": {}
      },
      "source": [
        "X_train = X_train.astype('float32')\n",
        "X_test = X_test.astype('float32')\n",
        "X_train /= 255\n",
        "X_test /= 255"
      ],
      "execution_count": 0,
      "outputs": []
    },
    {
      "cell_type": "code",
      "metadata": {
        "id": "0Mn0vAYD9DvB",
        "colab_type": "code",
        "outputId": "930bc0be-2cc8-4f01-dfb9-14703c2a0b2a",
        "colab": {
          "base_uri": "https://localhost:8080/",
          "height": 34
        }
      },
      "source": [
        "y_train[:10]"
      ],
      "execution_count": 8,
      "outputs": [
        {
          "output_type": "execute_result",
          "data": {
            "text/plain": [
              "array([5, 0, 4, 1, 9, 2, 1, 3, 1, 4], dtype=uint8)"
            ]
          },
          "metadata": {
            "tags": []
          },
          "execution_count": 8
        }
      ]
    },
    {
      "cell_type": "markdown",
      "metadata": {
        "id": "9dxbW3Qz0C2Z",
        "colab_type": "text"
      },
      "source": [
        "What\n",
        "- We do one hot encoding of the target labels for using categorical cross entropy loss.\n",
        "\n",
        "Why\n",
        "- Cross entropy loss function for multi-class problems requires your target labels to be one hot encoded."
      ]
    },
    {
      "cell_type": "code",
      "metadata": {
        "id": "ZG8JiXR39FHC",
        "colab_type": "code",
        "colab": {}
      },
      "source": [
        "# Convert 1-dimensional class arrays to 10-dimensional class matrices\n",
        "Y_train = np_utils.to_categorical(y_train, 10)\n",
        "Y_test = np_utils.to_categorical(y_test, 10)"
      ],
      "execution_count": 0,
      "outputs": []
    },
    {
      "cell_type": "code",
      "metadata": {
        "id": "fYlFRvKS9HMB",
        "colab_type": "code",
        "outputId": "e40825d0-459a-4e90-9a51-45200838f1fa",
        "colab": {
          "base_uri": "https://localhost:8080/",
          "height": 187
        }
      },
      "source": [
        "Y_train[:10]\n"
      ],
      "execution_count": 10,
      "outputs": [
        {
          "output_type": "execute_result",
          "data": {
            "text/plain": [
              "array([[0., 0., 0., 0., 0., 1., 0., 0., 0., 0.],\n",
              "       [1., 0., 0., 0., 0., 0., 0., 0., 0., 0.],\n",
              "       [0., 0., 0., 0., 1., 0., 0., 0., 0., 0.],\n",
              "       [0., 1., 0., 0., 0., 0., 0., 0., 0., 0.],\n",
              "       [0., 0., 0., 0., 0., 0., 0., 0., 0., 1.],\n",
              "       [0., 0., 1., 0., 0., 0., 0., 0., 0., 0.],\n",
              "       [0., 1., 0., 0., 0., 0., 0., 0., 0., 0.],\n",
              "       [0., 0., 0., 1., 0., 0., 0., 0., 0., 0.],\n",
              "       [0., 1., 0., 0., 0., 0., 0., 0., 0., 0.],\n",
              "       [0., 0., 0., 0., 1., 0., 0., 0., 0., 0.]], dtype=float32)"
            ]
          },
          "metadata": {
            "tags": []
          },
          "execution_count": 10
        }
      ]
    },
    {
      "cell_type": "markdown",
      "metadata": {
        "id": "Maa46zNFyCz0",
        "colab_type": "text"
      },
      "source": [
        "# Experiments\n",
        "\n",
        "We will use `model.count_params()` instead of `model.summary()` to save some space and make this notebook compact.\n",
        "\n",
        "format\n",
        " - changes\n",
        " - parameters\n",
        " - reason/intuition\n",
        " - performance achieved\n",
        " - Plotting Model history"
      ]
    },
    {
      "cell_type": "code",
      "metadata": {
        "id": "KCSB1-tt0P5P",
        "colab_type": "code",
        "colab": {}
      },
      "source": [
        ""
      ],
      "execution_count": 0,
      "outputs": []
    },
    {
      "cell_type": "code",
      "metadata": {
        "id": "R01RujOk0sX6",
        "colab_type": "code",
        "colab": {}
      },
      "source": [
        "# Just turning off warnings to make notebook concise, don't do this initially\n",
        "import warnings\n",
        "warnings.filterwarnings(\"ignore\")"
      ],
      "execution_count": 0,
      "outputs": []
    },
    {
      "cell_type": "markdown",
      "metadata": {
        "id": "wsLEMqMh09XU",
        "colab_type": "text"
      },
      "source": [
        "### Stuff searched from Online resources\n",
        "- Use a different LR and \n",
        "- with validation for EarlyStopping\n",
        "- LR history of epochs\n"
      ]
    },
    {
      "cell_type": "code",
      "metadata": {
        "id": "EuqqOsWC1MBm",
        "colab_type": "code",
        "colab": {
          "base_uri": "https://localhost:8080/",
          "height": 1043
        },
        "outputId": "153e83c6-0bf6-427b-a79e-d0fff773e65e"
      },
      "source": [
        "from keras.layers import Activation\n",
        "from keras import optimizers\n",
        "from keras.callbacks import EarlyStopping\n",
        "model = Sequential()\n",
        "\n",
        " \n",
        "model.add(Convolution2D(16, 3, 3, activation='relu', input_shape=(28,28,1))) # 26\n",
        "model.add(Convolution2D(16, 3,3, activation='relu')) # 24\n",
        "model.add(MaxPooling2D(pool_size=(2, 2))) #12\n",
        "\n",
        "model.add(Convolution2D(16, 3,3, activation='relu')) # 10\n",
        "model.add(Convolution2D(32, 3,3, activation='relu')) # 8\n",
        "model.add(keras.layers.Dropout(0.2))\n",
        "model.add(MaxPooling2D(pool_size=(2, 2))) #4\n",
        "\n",
        "\n",
        "\n",
        "model.add(Convolution2D(32, 3,3, activation='relu')) # 2\n",
        "model.add(Convolution2D(16, 1, activation='relu'))\n",
        "model.add(MaxPooling2D(pool_size=(2, 2)))\n",
        "model.add(Convolution2D(10, 1))\n",
        "\n",
        "\n",
        "model.add(Flatten())\n",
        "model.add(Activation('softmax'))\n",
        "\n",
        "adam = optimizers.Adam(lr=0.005, beta_1=0.9, beta_2=0.999, epsilon=None, decay=0.02, amsgrad=False,clipnorm=2)\n",
        "\n",
        "model.compile(loss='categorical_crossentropy',\n",
        "             optimizer=adam,\n",
        "             metrics=['accuracy'])\n",
        "print(\"Params = \",model.count_params())\n",
        "\n",
        "validation_split = 0.5\n",
        "validation_size=int(X_train.shape[0]*validation_split)\n",
        "train_size = X_train.shape[0] - validation_size\n",
        "es = EarlyStopping(monitor='val_loss', min_delta=0.00001, patience=2, verbose=0)\n",
        "es2 = EarlyStopping(monitor='val_loss', min_delta=0.00001, patience=6, verbose=0)\n",
        "hist_1 = model.fit(X_train[:train_size], Y_train[:train_size],\n",
        "                epochs=50,\n",
        "                batch_size=2048,\n",
        "                shuffle=True,\n",
        "                validation_data=(X_train[train_size:], Y_train[train_size:]),\n",
        "                verbose=0,\n",
        "                callbacks=[es])\n",
        "hist_2 = model.fit(X_train[train_size:], Y_train[train_size:],\n",
        "                epochs=50,\n",
        "                batch_size=2048,\n",
        "                shuffle=True,\n",
        "                validation_data=(X_train[:train_size], Y_train[:train_size]),\n",
        "                verbose=0,\n",
        "                callbacks=[es2])\n",
        "\n",
        "history = {}\n",
        "\n",
        "for key in hist_1.history.keys():\n",
        "  history[key] = list(hist_1.history[key])\n",
        "  history[key].extend(hist_2.history[key])\n",
        "  \n",
        "\n",
        "plt.figure(figsize=(12,8))\n",
        "plt.plot(history['acc'])\n",
        "plt.plot(history['val_acc'])\n",
        "plt.title('model accuracy')\n",
        "plt.ylabel('accuracy')\n",
        "plt.xlabel('epoch')\n",
        "plt.legend(['train', 'test'], loc='upper left')\n",
        "plt.show()\n",
        "# summarize history for loss\n",
        "plt.figure(figsize=(12,8))\n",
        "plt.plot(history['loss'])\n",
        "plt.plot(history['val_loss'])\n",
        "plt.title('model loss')\n",
        "plt.ylabel('loss')\n",
        "plt.xlabel('epoch')\n",
        "plt.legend(['train', 'test'], loc='upper left')\n",
        "plt.show()\n",
        "\n",
        "score = model.evaluate(X_test, Y_test, verbose=0)\n",
        "print(\"Score = \",score)\n"
      ],
      "execution_count": 28,
      "outputs": [
        {
          "output_type": "stream",
          "text": [
            "Params =  19386\n"
          ],
          "name": "stdout"
        },
        {
          "output_type": "display_data",
          "data": {
            "image/png": "[encoded data removed]",
            "text/plain": [
              "<Figure size 864x576 with 1 Axes>"
            ]
          },
          "metadata": {
            "tags": []
          }
        },
        {
          "output_type": "display_data",
          "data": {
            "image/png": "[encoded data removed]",
            "text/plain": [
              "<Figure size 864x576 with 1 Axes>"
            ]
          },
          "metadata": {
            "tags": []
          }
        },
        {
          "output_type": "stream",
          "text": [
            "Score =  [0.05219669227357954, 0.9849]\n"
          ],
          "name": "stdout"
        }
      ]
    },
    {
      "cell_type": "markdown",
      "metadata": {
        "id": "KgVK5tJmaVN0",
        "colab_type": "text"
      },
      "source": [
        "# Idea\n",
        "- Use dropouts with more epochs to prevent overfit\n",
        "- Use MaxPool at the end to reduce params"
      ]
    },
    {
      "cell_type": "code",
      "metadata": {
        "id": "an_U0opy1L8Z",
        "colab_type": "code",
        "colab": {
          "base_uri": "https://localhost:8080/",
          "height": 51
        },
        "outputId": "fa16ab6d-8d97-44c9-a2cb-d57d9497844d"
      },
      "source": [
        "from keras.layers import Activation\n",
        "model = Sequential()\n",
        "\n",
        " \n",
        "model.add(Convolution2D(32, 3, 3, activation='relu', input_shape=(28,28,1))) # 26\n",
        "model.add(Convolution2D(16, 1, activation='relu'))\n",
        "model.add(Convolution2D(16, 3,3, activation='relu')) # 24\n",
        "model.add(MaxPooling2D(pool_size=(2, 2))) #12\n",
        "\n",
        "model.add(Convolution2D(32, 3,3, activation='relu')) # 10\n",
        "model.add(keras.layers.Dropout(0.2))\n",
        "model.add(Convolution2D(16, 3,3, activation='relu')) # 8\n",
        "model.add(MaxPooling2D(pool_size=(2, 2))) #4\n",
        "\n",
        "\n",
        "\n",
        "model.add(Convolution2D(32, 3,3, activation='relu')) # 2\n",
        "model.add(keras.layers.Dropout(0.1))\n",
        "model.add(MaxPooling2D(pool_size=(2, 2)))\n",
        "model.add(Convolution2D(10, 1))\n",
        "\n",
        "\n",
        "model.add(Flatten())\n",
        "model.add(Activation('softmax'))\n",
        "print(\"Params = \",model.count_params())\n",
        "\n",
        "model.compile(loss='categorical_crossentropy',\n",
        "             optimizer=\"adam\",\n",
        "             metrics=['accuracy'])\n",
        "\n",
        "model.fit(X_train, Y_train, batch_size=2048, epochs=80, verbose=0)\n",
        "\n",
        "score = model.evaluate(X_test, Y_test, verbose=0)\n",
        "print(\"Score = \",score)\n"
      ],
      "execution_count": 18,
      "outputs": [
        {
          "output_type": "stream",
          "text": [
            "Params =  17402\n",
            "Score =  [0.021755779591659665, 0.9936]\n"
          ],
          "name": "stdout"
        }
      ]
    },
    {
      "cell_type": "markdown",
      "metadata": {
        "id": "BZqb7K_5dXDW",
        "colab_type": "text"
      },
      "source": [
        "## Reduce Params to 14k\n",
        "\n",
        "- Putting MaxPool at end. \n",
        "- Basically if a number is detected at any point in image and one of 4 pixels in 10,1 layer is activated then maxpool will find it."
      ]
    },
    {
      "cell_type": "code",
      "metadata": {
        "id": "osKqT73Q9JJB",
        "colab_type": "code",
        "outputId": "8b696f03-379f-41a6-b13e-4031bb7bac1f",
        "colab": {
          "base_uri": "https://localhost:8080/",
          "height": 51
        }
      },
      "source": [
        "from keras.layers import Activation\n",
        "model = Sequential()\n",
        "\n",
        " \n",
        "model.add(Convolution2D(32, 3, 3, activation='relu', input_shape=(28,28,1))) # 26\n",
        "model.add(Convolution2D(16, 1, activation='relu'))\n",
        "model.add(Convolution2D(16, 3,3, activation='relu')) # 24\n",
        "model.add(MaxPooling2D(pool_size=(2, 2))) #12\n",
        "\n",
        "model.add(Convolution2D(32, 3,3, activation='relu')) # 10\n",
        "model.add(keras.layers.Dropout(0.1))\n",
        "model.add(Convolution2D(16, 3,3, activation='relu')) # 8\n",
        "model.add(MaxPooling2D(pool_size=(2, 2))) #4\n",
        "\n",
        "\n",
        "\n",
        "model.add(Convolution2D(16, 3,3, activation='relu')) # 2\n",
        "model.add(keras.layers.Dropout(0.1))\n",
        "model.add(Convolution2D(10, 1, activation='relu'))\n",
        "model.add(MaxPooling2D(pool_size=(2, 2)))\n",
        "\n",
        "model.add(Flatten())\n",
        "model.add(Activation('softmax'))\n",
        "print(\"Params = \",model.count_params())\n",
        "\n",
        "model.compile(loss='categorical_crossentropy',\n",
        "             optimizer=\"adam\",\n",
        "             metrics=['accuracy'])\n",
        "\n",
        "model.fit(X_train, Y_train, batch_size=2048, epochs=100, verbose=0)\n",
        "\n",
        "score = model.evaluate(X_test, Y_test, verbose=0)\n",
        "print(\"Score = \",score)\n"
      ],
      "execution_count": 21,
      "outputs": [
        {
          "output_type": "stream",
          "text": [
            "Params =  14922\n",
            "Score =  [0.023866595291136765, 0.9925]\n"
          ],
          "name": "stdout"
        }
      ]
    },
    {
      "cell_type": "markdown",
      "metadata": {
        "id": "rzKvVVmzeORD",
        "colab_type": "text"
      },
      "source": [
        "### 18k Params\n",
        "- Idea that increasing complexity with more dropouts may help."
      ]
    },
    {
      "cell_type": "code",
      "metadata": {
        "id": "4GUYL0am1iGI",
        "colab_type": "code",
        "outputId": "16f6d0b0-c461-4f2e-eb4a-8939f5973955",
        "colab": {
          "base_uri": "https://localhost:8080/",
          "height": 51
        }
      },
      "source": [
        "from keras.layers import Activation\n",
        "model = Sequential()\n",
        "\n",
        " \n",
        "model.add(Convolution2D(16, 3, 3, activation='relu', input_shape=(28,28,1))) # 26\n",
        "model.add(Convolution2D(32, 3,3, activation='relu')) # 24\n",
        "model.add(MaxPooling2D(pool_size=(2, 2))) #12\n",
        "\n",
        "model.add(Convolution2D(16, 3,3, activation='relu')) # 10\n",
        "model.add(Convolution2D(32, 3,3, activation='relu')) # 8\n",
        "model.add(keras.layers.Dropout(0.2))\n",
        "model.add(MaxPooling2D(pool_size=(2, 2))) #4\n",
        "\n",
        "\n",
        "\n",
        "model.add(Convolution2D(16, 3,3, activation='relu')) # 2\n",
        "model.add(Convolution2D(10, 1))\n",
        "model.add(MaxPooling2D(pool_size=(2, 2)))\n",
        "\n",
        "model.add(Flatten())\n",
        "model.add(Activation('softmax'))\n",
        "\n",
        "print(\"Params = \",model.count_params())\n",
        "\n",
        "model.compile(loss='categorical_crossentropy',\n",
        "             optimizer=\"adam\",\n",
        "             metrics=['accuracy'])\n",
        "\n",
        "model.fit(X_train, Y_train, batch_size=2048, epochs=70, verbose=0)\n",
        "\n",
        "score = model.evaluate(X_test, Y_test, verbose=0)\n",
        "print(\"Score = \",score)\n",
        "\n"
      ],
      "execution_count": 29,
      "outputs": [
        {
          "output_type": "stream",
          "text": [
            "Params =  18858\n",
            "Score =  [0.030529594378196634, 0.9903]\n"
          ],
          "name": "stdout"
        }
      ]
    },
    {
      "cell_type": "markdown",
      "metadata": {
        "id": "BZAKhzKlgC9L",
        "colab_type": "text"
      },
      "source": [
        "### Trying Bigger size MaxPool\n",
        "```\n",
        "model.add(MaxPooling2D(pool_size=(4, 4)))\n",
        "```"
      ]
    },
    {
      "cell_type": "code",
      "metadata": {
        "id": "ibr3LIct3T8s",
        "colab_type": "code",
        "outputId": "6175684e-8b2f-4481-e3bd-3ceefcddf160",
        "colab": {
          "base_uri": "https://localhost:8080/",
          "height": 51
        }
      },
      "source": [
        "from keras.layers import Activation\n",
        "model = Sequential()\n",
        "\n",
        " \n",
        "model.add(Convolution2D(16, 3, 3, activation='relu', input_shape=(28,28,1))) # 26\n",
        "model.add(Convolution2D(16, 3,3, activation='relu')) # 24\n",
        "model.add(MaxPooling2D(pool_size=(2, 2))) #12\n",
        "\n",
        "model.add(Convolution2D(16, 3,3, activation='relu')) # 10\n",
        "model.add(Convolution2D(32, 3,3, activation='relu')) # 8\n",
        "model.add(keras.layers.Dropout(0.2))\n",
        "model.add(Convolution2D(16, 1, activation='relu'))\n",
        "# model.add(MaxPooling2D(pool_size=(2, 2))) #4\n",
        "\n",
        "\n",
        "model.add(Convolution2D(16, 3,3, activation='relu')) # 6\n",
        "model.add(Convolution2D(32, 3,3, activation='relu')) # 4\n",
        "model.add(MaxPooling2D(pool_size=(4, 4)))\n",
        "model.add(keras.layers.Dropout(0.1))\n",
        "model.add(Convolution2D(10, 1))\n",
        "\n",
        "\n",
        "model.add(Flatten())\n",
        "model.add(Activation('softmax'))\n",
        "\n",
        "print(\"Params = \",model.count_params())\n",
        "\n",
        "model.compile(loss='categorical_crossentropy',\n",
        "             optimizer=\"adam\",\n",
        "             metrics=['accuracy'])\n",
        "\n",
        "model.fit(X_train, Y_train, batch_size=2048, epochs=90, verbose=0)\n",
        "\n",
        "score = model.evaluate(X_test, Y_test, verbose=0)\n",
        "print(\"Score = \",score)"
      ],
      "execution_count": 34,
      "outputs": [
        {
          "output_type": "stream",
          "text": [
            "Params =  17258\n",
            "Score =  [0.024915949631520197, 0.9914]\n"
          ],
          "name": "stdout"
        }
      ]
    },
    {
      "cell_type": "code",
      "metadata": {
        "id": "uCaWm-Kx5pB4",
        "colab_type": "code",
        "outputId": "d9bf266c-99cb-465a-9f03-664b36162bab",
        "colab": {
          "base_uri": "https://localhost:8080/",
          "height": 68
        }
      },
      "source": [
        "from keras.layers import Activation\n",
        "model = Sequential()\n",
        "\n",
        " \n",
        "model.add(Convolution2D(16, 3, 3, activation='relu', input_shape=(28,28,1))) # 26\n",
        "model.add(Convolution2D(32, 3,3, activation='relu')) # 24\n",
        "model.add(keras.layers.Dropout(0.1))\n",
        "model.add(MaxPooling2D(pool_size=(2, 2))) #12\n",
        "\n",
        "model.add(Convolution2D(32, 3,3, activation='relu')) # 10\n",
        "model.add(keras.layers.Dropout(0.1))\n",
        "model.add(MaxPooling2D(pool_size=(2, 2))) # 5\n",
        "model.add(Convolution2D(16, 3,3, activation='relu')) # 3\n",
        "model.add(Convolution2D(10, 3,3)) # 1\n",
        "\n",
        "\n",
        "model.add(Flatten())\n",
        "model.add(Activation('softmax'))\n",
        "print(\"Params = \",model.count_params())\n",
        "\n",
        "model.compile(loss='categorical_crossentropy',\n",
        "             optimizer=\"adam\",\n",
        "             metrics=['accuracy'])\n",
        "\n",
        "model.fit(X_train, Y_train, batch_size=2048, epochs=50, verbose=0)\n",
        "\n",
        "score = model.evaluate(X_train, Y_train, verbose=0)\n",
        "print(\"Train Score = \",score)\n",
        "\n",
        "score = model.evaluate(X_test, Y_test, verbose=0)\n",
        "print(\"Score = \",score)"
      ],
      "execution_count": 41,
      "outputs": [
        {
          "output_type": "stream",
          "text": [
            "Params =  20122\n",
            "Train Score =  [0.020966284905195545, 0.99425]\n",
            "Score =  [0.029295434710144765, 0.991]\n"
          ],
          "name": "stdout"
        }
      ]
    },
    {
      "cell_type": "markdown",
      "metadata": {
        "id": "NHMfJ3Tyv5au",
        "colab_type": "text"
      },
      "source": [
        "### Initial Network in Assignment"
      ]
    },
    {
      "cell_type": "code",
      "metadata": {
        "id": "yDGxiCKpvyj5",
        "colab_type": "code",
        "colab": {
          "base_uri": "https://localhost:8080/",
          "height": 68
        },
        "outputId": "7540d8d3-85c4-4c8d-81f1-1c53c1028a5d"
      },
      "source": [
        "from keras.layers import Activation\n",
        "model = Sequential()\n",
        "\n",
        " \n",
        "model.add(Convolution2D(32, 3, 3, activation='relu', input_shape=(28,28,1)))\n",
        "model.add(Convolution2D(10, 1, activation='relu'))\n",
        "model.add(Convolution2D(10, 26))\n",
        "model.add(Flatten())\n",
        "model.add(Activation('softmax'))\n",
        "\n",
        "print(\"Params = \",model.count_params())\n",
        "\n",
        "model.compile(loss='categorical_crossentropy',\n",
        "             optimizer=\"adam\",\n",
        "             metrics=['accuracy'])\n",
        "\n",
        "model.fit(X_train, Y_train, batch_size=2048, epochs=10, verbose=0)\n",
        "\n",
        "score = model.evaluate(X_train, Y_train, verbose=0)\n",
        "print(\"Train Score = \",score)\n",
        "\n",
        "score = model.evaluate(X_test, Y_test, verbose=0)\n",
        "print(\"Score = \",score)"
      ],
      "execution_count": 44,
      "outputs": [
        {
          "output_type": "stream",
          "text": [
            "Params =  68260\n",
            "Train Score =  [0.11353598490183552, 0.9688833333333333]\n",
            "Score =  [0.12300231868512929, 0.9649]\n"
          ],
          "name": "stdout"
        }
      ]
    },
    {
      "cell_type": "code",
      "metadata": {
        "id": "-1qOhBFzwHgj",
        "colab_type": "code",
        "colab": {
          "base_uri": "https://localhost:8080/",
          "height": 306
        },
        "outputId": "441daeb9-3618-4112-e19e-9f33d6168ad2"
      },
      "source": [
        "model.summary()"
      ],
      "execution_count": 47,
      "outputs": [
        {
          "output_type": "stream",
          "text": [
            "_________________________________________________________________\n",
            "Layer (type)                 Output Shape              Param #   \n",
            "=================================================================\n",
            "conv2d_169 (Conv2D)          (None, 26, 26, 32)        320       \n",
            "_________________________________________________________________\n",
            "conv2d_170 (Conv2D)          (None, 26, 26, 10)        330       \n",
            "_________________________________________________________________\n",
            "conv2d_171 (Conv2D)          (None, 1, 1, 10)          67610     \n",
            "_________________________________________________________________\n",
            "flatten_27 (Flatten)         (None, 10)                0         \n",
            "_________________________________________________________________\n",
            "activation_27 (Activation)   (None, 10)                0         \n",
            "=================================================================\n",
            "Total params: 68,260\n",
            "Trainable params: 68,260\n",
            "Non-trainable params: 0\n",
            "_________________________________________________________________\n"
          ],
          "name": "stdout"
        }
      ]
    },
    {
      "cell_type": "code",
      "metadata": {
        "id": "CT--y98_dr2T",
        "colab_type": "code",
        "colab": {}
      },
      "source": [
        "layer_dict = dict([(layer.name, layer) for layer in model.layers])"
      ],
      "execution_count": 0,
      "outputs": []
    },
    {
      "cell_type": "code",
      "metadata": {
        "id": "2GY4Upv4dsUR",
        "colab_type": "code",
        "outputId": "d88d8d83-cc46-4156-827c-35562d47fa7c",
        "colab": {
          "base_uri": "https://localhost:8080/",
          "height": 1004
        }
      },
      "source": [
        "import numpy as np\n",
        "from matplotlib import pyplot as plt\n",
        "from keras import backend as K\n",
        "%matplotlib inline\n",
        "# util function to convert a tensor into a valid image\n",
        "def deprocess_image(x):\n",
        "    # normalize tensor: center on 0., ensure std is 0.1\n",
        "    x -= x.mean()\n",
        "    x /= (x.std() + 1e-5)\n",
        "    x *= 0.1\n",
        "\n",
        "    # clip to [0, 1]\n",
        "    x += 0.5\n",
        "    x = np.clip(x, 0, 1)\n",
        "\n",
        "    # convert to RGB array\n",
        "    x *= 255\n",
        "    #x = x.transpose((1, 2, 0))\n",
        "    x = np.clip(x, 0, 255).astype('uint8')\n",
        "    return x\n",
        "\n",
        "def vis_img_in_filter(img = np.array(X_train[2]).reshape((1, 28, 28, 1)).astype(np.float64), \n",
        "                      layer_name = 'conv2d_171'):\n",
        "    layer_output = layer_dict[layer_name].output\n",
        "    img_ascs = list()\n",
        "    for filter_index in range(layer_output.shape[3]):\n",
        "        # build a loss function that maximizes the activation\n",
        "        # of the nth filter of the layer considered\n",
        "        loss = K.mean(layer_output[:, :, :, filter_index])\n",
        "\n",
        "        # compute the gradient of the input picture wrt this loss\n",
        "        grads = K.gradients(loss, model.input)[0]\n",
        "\n",
        "        # normalization trick: we normalize the gradient\n",
        "        grads /= (K.sqrt(K.mean(K.square(grads))) + 1e-5)\n",
        "\n",
        "        # this function returns the loss and grads given the input picture\n",
        "        iterate = K.function([model.input], [loss, grads])\n",
        "\n",
        "        # step size for gradient ascent\n",
        "        step = 5.\n",
        "\n",
        "        img_asc = np.array(img)\n",
        "        # run gradient ascent for 20 steps\n",
        "        for i in range(20):\n",
        "            loss_value, grads_value = iterate([img_asc])\n",
        "            img_asc += grads_value * step\n",
        "\n",
        "        img_asc = img_asc[0]\n",
        "        img_ascs.append(deprocess_image(img_asc).reshape((28, 28)))\n",
        "        \n",
        "    if layer_output.shape[3] >= 35:\n",
        "        plot_x, plot_y = 6, 6\n",
        "    elif layer_output.shape[3] >= 23:\n",
        "        plot_x, plot_y = 4, 6\n",
        "    elif layer_output.shape[3] >= 11:\n",
        "        plot_x, plot_y = 2, 6\n",
        "    else:\n",
        "        plot_x, plot_y = 1, 2\n",
        "    fig, ax = plt.subplots(plot_x, plot_y, figsize = (12, 12))\n",
        "    ax[0, 0].imshow(img.reshape((28, 28)), cmap = 'gray')\n",
        "    ax[0, 0].set_title('Input image')\n",
        "    fig.suptitle('Input image and %s filters' % (layer_name,))\n",
        "    fig.tight_layout(pad = 0.3, rect = [0, 0, 0.9, 0.9])\n",
        "    for (x, y) in [(i, j) for i in range(plot_x) for j in range(plot_y)]:\n",
        "        if x == 0 and y == 0:\n",
        "            continue\n",
        "        ax[x, y].imshow(img_ascs[x * plot_y + y - 1], cmap = 'gray')\n",
        "        ax[x, y].set_title('filter %d' % (x * plot_y + y - 1))\n",
        "\n",
        "vis_img_in_filter()"
      ],
      "execution_count": 49,
      "outputs": [
        {
          "output_type": "error",
          "ename": "IndexError",
          "evalue": "ignored",
          "traceback": [
            "\u001b[0;31m---------------------------------------------------------------------------\u001b[0m",
            "\u001b[0;31mIndexError\u001b[0m                                Traceback (most recent call last)",
            "\u001b[0;32m<ipython-input-49-58abddef5cd4>\u001b[0m in \u001b[0;36m<module>\u001b[0;34m()\u001b[0m\n\u001b[1;32m     69\u001b[0m         \u001b[0max\u001b[0m\u001b[0;34m[\u001b[0m\u001b[0mx\u001b[0m\u001b[0;34m,\u001b[0m \u001b[0my\u001b[0m\u001b[0;34m]\u001b[0m\u001b[0;34m.\u001b[0m\u001b[0mset_title\u001b[0m\u001b[0;34m(\u001b[0m\u001b[0;34m'filter %d'\u001b[0m \u001b[0;34m%\u001b[0m \u001b[0;34m(\u001b[0m\u001b[0mx\u001b[0m \u001b[0;34m*\u001b[0m \u001b[0mplot_y\u001b[0m \u001b[0;34m+\u001b[0m \u001b[0my\u001b[0m \u001b[0;34m-\u001b[0m \u001b[0;36m1\u001b[0m\u001b[0;34m)\u001b[0m\u001b[0;34m)\u001b[0m\u001b[0;34m\u001b[0m\u001b[0;34m\u001b[0m\u001b[0m\n\u001b[1;32m     70\u001b[0m \u001b[0;34m\u001b[0m\u001b[0m\n\u001b[0;32m---> 71\u001b[0;31m \u001b[0mvis_img_in_filter\u001b[0m\u001b[0;34m(\u001b[0m\u001b[0;34m)\u001b[0m\u001b[0;34m\u001b[0m\u001b[0;34m\u001b[0m\u001b[0m\n\u001b[0m",
            "\u001b[0;32m<ipython-input-49-58abddef5cd4>\u001b[0m in \u001b[0;36mvis_img_in_filter\u001b[0;34m(img, layer_name)\u001b[0m\n\u001b[1;32m     59\u001b[0m         \u001b[0mplot_x\u001b[0m\u001b[0;34m,\u001b[0m \u001b[0mplot_y\u001b[0m \u001b[0;34m=\u001b[0m \u001b[0;36m1\u001b[0m\u001b[0;34m,\u001b[0m \u001b[0;36m2\u001b[0m\u001b[0;34m\u001b[0m\u001b[0;34m\u001b[0m\u001b[0m\n\u001b[1;32m     60\u001b[0m     \u001b[0mfig\u001b[0m\u001b[0;34m,\u001b[0m \u001b[0max\u001b[0m \u001b[0;34m=\u001b[0m \u001b[0mplt\u001b[0m\u001b[0;34m.\u001b[0m\u001b[0msubplots\u001b[0m\u001b[0;34m(\u001b[0m\u001b[0mplot_x\u001b[0m\u001b[0;34m,\u001b[0m \u001b[0mplot_y\u001b[0m\u001b[0;34m,\u001b[0m \u001b[0mfigsize\u001b[0m \u001b[0;34m=\u001b[0m \u001b[0;34m(\u001b[0m\u001b[0;36m12\u001b[0m\u001b[0;34m,\u001b[0m \u001b[0;36m12\u001b[0m\u001b[0;34m)\u001b[0m\u001b[0;34m)\u001b[0m\u001b[0;34m\u001b[0m\u001b[0;34m\u001b[0m\u001b[0m\n\u001b[0;32m---> 61\u001b[0;31m     \u001b[0max\u001b[0m\u001b[0;34m[\u001b[0m\u001b[0;36m0\u001b[0m\u001b[0;34m,\u001b[0m \u001b[0;36m0\u001b[0m\u001b[0;34m]\u001b[0m\u001b[0;34m.\u001b[0m\u001b[0mimshow\u001b[0m\u001b[0;34m(\u001b[0m\u001b[0mimg\u001b[0m\u001b[0;34m.\u001b[0m\u001b[0mreshape\u001b[0m\u001b[0;34m(\u001b[0m\u001b[0;34m(\u001b[0m\u001b[0;36m28\u001b[0m\u001b[0;34m,\u001b[0m \u001b[0;36m28\u001b[0m\u001b[0;34m)\u001b[0m\u001b[0;34m)\u001b[0m\u001b[0;34m,\u001b[0m \u001b[0mcmap\u001b[0m \u001b[0;34m=\u001b[0m \u001b[0;34m'gray'\u001b[0m\u001b[0;34m)\u001b[0m\u001b[0;34m\u001b[0m\u001b[0;34m\u001b[0m\u001b[0m\n\u001b[0m\u001b[1;32m     62\u001b[0m     \u001b[0max\u001b[0m\u001b[0;34m[\u001b[0m\u001b[0;36m0\u001b[0m\u001b[0;34m,\u001b[0m \u001b[0;36m0\u001b[0m\u001b[0;34m]\u001b[0m\u001b[0;34m.\u001b[0m\u001b[0mset_title\u001b[0m\u001b[0;34m(\u001b[0m\u001b[0;34m'Input image'\u001b[0m\u001b[0;34m)\u001b[0m\u001b[0;34m\u001b[0m\u001b[0;34m\u001b[0m\u001b[0m\n\u001b[1;32m     63\u001b[0m     \u001b[0mfig\u001b[0m\u001b[0;34m.\u001b[0m\u001b[0msuptitle\u001b[0m\u001b[0;34m(\u001b[0m\u001b[0;34m'Input image and %s filters'\u001b[0m \u001b[0;34m%\u001b[0m \u001b[0;34m(\u001b[0m\u001b[0mlayer_name\u001b[0m\u001b[0;34m,\u001b[0m\u001b[0;34m)\u001b[0m\u001b[0;34m)\u001b[0m\u001b[0;34m\u001b[0m\u001b[0;34m\u001b[0m\u001b[0m\n",
            "\u001b[0;31mIndexError\u001b[0m: too many indices for array"
          ]
        },
        {
          "output_type": "display_data",
          "data": {
            "image/png": "[encoded data removed]",
            "text/plain": [
              "<Figure size 864x864 with 2 Axes>"
            ]
          },
          "metadata": {
            "tags": []
          }
        }
      ]
    },
    {
      "cell_type": "code",
      "metadata": {
        "id": "9tvptcn8dxvp",
        "colab_type": "code",
        "colab": {}
      },
      "source": [
        ""
      ],
      "execution_count": 0,
      "outputs": []
    }
  ]
}