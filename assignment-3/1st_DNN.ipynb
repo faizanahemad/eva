{
  "nbformat": 4,
  "nbformat_minor": 0,
  "metadata": {
    "colab": {
      "name": "1st DNN.ipynb",
      "version": "0.3.2",
      "provenance": [],
      "collapsed_sections": [],
      "toc_visible": true
    },
    "kernelspec": {
      "name": "python3",
      "display_name": "Python 3"
    },
    "accelerator": "GPU"
  },
  "cells": [
    {
      "cell_type": "markdown",
      "metadata": {
        "id": "aNyZv-Ec52ot",
        "colab_type": "text"
      },
      "source": [
        "# **Import Libraries and modules**"
      ]
    },
    {
      "cell_type": "markdown",
      "metadata": {
        "id": "ITcrEmztzfjv",
        "colab_type": "text"
      },
      "source": [
        "- What: Installing keras via pip package manager, Keras is a wrapper over Tensorflow. Then we import it for use\n",
        "- Why: This package will help us define our DNN layer by layer"
      ]
    },
    {
      "cell_type": "code",
      "metadata": {
        "id": "3m3w1Cw49Zkt",
        "colab_type": "code",
        "outputId": "656e3d04-de22-4f99-f48a-25eff5409c7a",
        "colab": {
          "base_uri": "https://localhost:8080/",
          "height": 34
        }
      },
      "source": [
        "# https://keras.io/\n",
        "!pip install -q keras\n",
        "import keras"
      ],
      "execution_count": 1,
      "outputs": [
        {
          "output_type": "stream",
          "text": [
            "Using TensorFlow backend.\n"
          ],
          "name": "stderr"
        }
      ]
    },
    {
      "cell_type": "code",
      "metadata": {
        "id": "Eso6UHE080D4",
        "colab_type": "code",
        "colab": {}
      },
      "source": [
        "import numpy as np\n",
        "\n",
        "from keras.models import Sequential\n",
        "from keras.layers import Dense, Dropout, Activation, Flatten, Add\n",
        "from keras.layers import Convolution2D, MaxPooling2D\n",
        "from keras.utils import np_utils\n",
        "\n",
        "from keras.datasets import mnist"
      ],
      "execution_count": 0,
      "outputs": []
    },
    {
      "cell_type": "markdown",
      "metadata": {
        "id": "zByEi95J86RD",
        "colab_type": "text"
      },
      "source": [
        "### Load pre-shuffled MNIST data into train and test sets"
      ]
    },
    {
      "cell_type": "markdown",
      "metadata": {
        "id": "ak4VPGuZzmxL",
        "colab_type": "text"
      },
      "source": [
        "- What: So It gets the mnist data partitioned into Train-Test set\n",
        "- Why: Train-test split will be used to train and then test the model on test set"
      ]
    },
    {
      "cell_type": "code",
      "metadata": {
        "id": "7eRM0QWN83PV",
        "colab_type": "code",
        "outputId": "4427be4e-1d7b-43a1-dc00-b5b131aedc58",
        "colab": {
          "base_uri": "https://localhost:8080/",
          "height": 51
        }
      },
      "source": [
        "(X_train, y_train), (X_test, y_test) = mnist.load_data()"
      ],
      "execution_count": 3,
      "outputs": [
        {
          "output_type": "stream",
          "text": [
            "Downloading data from https://s3.amazonaws.com/img-datasets/mnist.npz\n",
            "11493376/11490434 [==============================] - 1s 0us/step\n"
          ],
          "name": "stdout"
        }
      ]
    },
    {
      "cell_type": "markdown",
      "metadata": {
        "id": "RLP3Qgxzzr8I",
        "colab_type": "text"
      },
      "source": [
        "- What:\n",
        "  - We explore our data a little. \n",
        "  - We print number of training and test examples\n",
        "  - We also show a example to see what our data looks like\n",
        "  - `%matplotlib inline` commands makes the plots appear within our notebook\n",
        "  \n",
        "- Why\n",
        "  - Knowing train and test size and data dimensions will help us design/debug our ConvNet\n",
        "  \n",
        "**Note** \n",
        "- the image looks color but it isn't, its just the way `plt.imshow` gives color to different cell values in a 2D matrix\n",
        "- See that we have a single channel in the initial image, its a grayscale not RGB image."
      ]
    },
    {
      "cell_type": "code",
      "metadata": {
        "id": "4a4Be72j8-ZC",
        "colab_type": "code",
        "outputId": "1790b944-4c0f-4c5a-c4e3-95ad839dfb22",
        "colab": {
          "base_uri": "https://localhost:8080/",
          "height": 303
        }
      },
      "source": [
        "print (X_train.shape)\n",
        "from matplotlib import pyplot as plt\n",
        "%matplotlib inline\n",
        "plt.imshow(X_train[0])"
      ],
      "execution_count": 4,
      "outputs": [
        {
          "output_type": "stream",
          "text": [
            "(60000, 28, 28)\n"
          ],
          "name": "stdout"
        },
        {
          "output_type": "execute_result",
          "data": {
            "text/plain": [
              "<matplotlib.image.AxesImage at 0x7fc8f9edd080>"
            ]
          },
          "metadata": {
            "tags": []
          },
          "execution_count": 4
        },
        {
          "output_type": "display_data",
          "data": {
            "image/png": "[encoded data removed]",
            "text/plain": [
              "<Figure size 432x288 with 1 Axes>"
            ]
          },
          "metadata": {
            "tags": []
          }
        }
      ]
    },
    {
      "cell_type": "markdown",
      "metadata": {
        "id": "HkvQ_x5Xz0b2",
        "colab_type": "text"
      },
      "source": [
        "What: We reshape to get single channel as dimension, the last 1 in each reshape is for the channel. Since the image is single channel so this is done. \n",
        "\n",
        "If image was 3 channel then\n",
        "\n",
        "```python\n",
        "X_train = X_train.reshape(X_train.shape[0], 28, 28,3)\n",
        "```"
      ]
    },
    {
      "cell_type": "code",
      "metadata": {
        "id": "dkmprriw9AnZ",
        "colab_type": "code",
        "colab": {}
      },
      "source": [
        "X_train = X_train.reshape(X_train.shape[0], 28, 28,1)\n",
        "X_test = X_test.reshape(X_test.shape[0], 28, 28,1)"
      ],
      "execution_count": 0,
      "outputs": []
    },
    {
      "cell_type": "markdown",
      "metadata": {
        "id": "isbY7h6Zz6wG",
        "colab_type": "text"
      },
      "source": [
        "- Normalize data by dividing by 255"
      ]
    },
    {
      "cell_type": "code",
      "metadata": {
        "id": "X2m4YS4E9CRh",
        "colab_type": "code",
        "colab": {}
      },
      "source": [
        "X_train = X_train.astype('float32')\n",
        "X_test = X_test.astype('float32')\n",
        "X_train /= 255\n",
        "X_test /= 255"
      ],
      "execution_count": 0,
      "outputs": []
    },
    {
      "cell_type": "code",
      "metadata": {
        "id": "0Mn0vAYD9DvB",
        "colab_type": "code",
        "outputId": "84e2b0b6-6e42-4211-bfa3-adc5eb0d5c39",
        "colab": {
          "base_uri": "https://localhost:8080/",
          "height": 34
        }
      },
      "source": [
        "y_train[:10]"
      ],
      "execution_count": 7,
      "outputs": [
        {
          "output_type": "execute_result",
          "data": {
            "text/plain": [
              "array([5, 0, 4, 1, 9, 2, 1, 3, 1, 4], dtype=uint8)"
            ]
          },
          "metadata": {
            "tags": []
          },
          "execution_count": 7
        }
      ]
    },
    {
      "cell_type": "markdown",
      "metadata": {
        "id": "9dxbW3Qz0C2Z",
        "colab_type": "text"
      },
      "source": [
        "What\n",
        "- We do one hot encoding of the target labels for using categorical cross entropy loss.\n",
        "\n",
        "Why\n",
        "- Cross entropy loss function for multi-class problems requires your target labels to be one hot encoded."
      ]
    },
    {
      "cell_type": "code",
      "metadata": {
        "id": "ZG8JiXR39FHC",
        "colab_type": "code",
        "colab": {}
      },
      "source": [
        "# Convert 1-dimensional class arrays to 10-dimensional class matrices\n",
        "Y_train = np_utils.to_categorical(y_train, 10)\n",
        "Y_test = np_utils.to_categorical(y_test, 10)"
      ],
      "execution_count": 0,
      "outputs": []
    },
    {
      "cell_type": "code",
      "metadata": {
        "id": "fYlFRvKS9HMB",
        "colab_type": "code",
        "outputId": "aef1b34d-5628-49e3-80ef-23d0b5656a36",
        "colab": {
          "base_uri": "https://localhost:8080/",
          "height": 187
        }
      },
      "source": [
        "Y_train[:10]\n"
      ],
      "execution_count": 9,
      "outputs": [
        {
          "output_type": "execute_result",
          "data": {
            "text/plain": [
              "array([[0., 0., 0., 0., 0., 1., 0., 0., 0., 0.],\n",
              "       [1., 0., 0., 0., 0., 0., 0., 0., 0., 0.],\n",
              "       [0., 0., 0., 0., 1., 0., 0., 0., 0., 0.],\n",
              "       [0., 1., 0., 0., 0., 0., 0., 0., 0., 0.],\n",
              "       [0., 0., 0., 0., 0., 0., 0., 0., 0., 1.],\n",
              "       [0., 0., 1., 0., 0., 0., 0., 0., 0., 0.],\n",
              "       [0., 1., 0., 0., 0., 0., 0., 0., 0., 0.],\n",
              "       [0., 0., 0., 1., 0., 0., 0., 0., 0., 0.],\n",
              "       [0., 1., 0., 0., 0., 0., 0., 0., 0., 0.],\n",
              "       [0., 0., 0., 0., 1., 0., 0., 0., 0., 0.]], dtype=float32)"
            ]
          },
          "metadata": {
            "tags": []
          },
          "execution_count": 9
        }
      ]
    },
    {
      "cell_type": "markdown",
      "metadata": {
        "id": "Maa46zNFyCz0",
        "colab_type": "text"
      },
      "source": [
        "# Experiments\n",
        "\n",
        "We will use `model.count_params()` instead of `model.summary()` to save some space and make this notebook compact.\n",
        "\n",
        "format\n",
        " - changes\n",
        " - reason/intuition"
      ]
    },
    {
      "cell_type": "code",
      "metadata": {
        "id": "KCSB1-tt0P5P",
        "colab_type": "code",
        "colab": {}
      },
      "source": [
        ""
      ],
      "execution_count": 0,
      "outputs": []
    },
    {
      "cell_type": "code",
      "metadata": {
        "id": "R01RujOk0sX6",
        "colab_type": "code",
        "colab": {}
      },
      "source": [
        "# Just turning off warnings to make notebook concise, don't do this initially\n",
        "import warnings\n",
        "warnings.filterwarnings(\"ignore\")"
      ],
      "execution_count": 0,
      "outputs": []
    },
    {
      "cell_type": "markdown",
      "metadata": {
        "id": "KgVK5tJmaVN0",
        "colab_type": "text"
      },
      "source": [
        "## Dropout and MaxPool at end\n",
        "- Use **dropouts** with more epochs to prevent overfit\n",
        "- Use **MaxPool** at the end to reduce params\n",
        "- Print Both Train and test score to check overfit.\n",
        "- Put dropout earlier in network and usually after 32 kernel layers since they will make the next layer params explode, so dropout there will be most effective in reducing overfit with info loss\n",
        "- Increasing Epochs and batch size helped. Standardized Batch size at 2048\n",
        "\n",
        "**Note**: I have only listed combinations which went above 99%, I tried many more combinations which did not work well. Also I decided not to use LR tuning / BatchNorm etc since I wanted to see what can be achieved by just dropout and maxpools.\n"
      ]
    },
    {
      "cell_type": "markdown",
      "metadata": {
        "id": "2xlUo8RjmlkP",
        "colab_type": "text"
      },
      "source": [
        "### 1st Layer 32 Kernels\n",
        "\n",
        "**Some Observation about 1st layer of Conv Net**\n",
        "\n",
        "- First layer with high number of kernels doesn't give too many params, this is because it does not have too many incoming channels, has only 1 grayscale channel. As a result we start the 1st layer below with 32 kernels"
      ]
    },
    {
      "cell_type": "code",
      "metadata": {
        "id": "K64UmCTTvwco",
        "colab_type": "code",
        "colab": {
          "base_uri": "https://localhost:8080/",
          "height": 68
        },
        "outputId": "d2fa5002-476f-427e-b430-add438fdbe18"
      },
      "source": [
        "from keras.layers import Activation\n",
        "model = Sequential()\n",
        "\n",
        " \n",
        "model.add(Convolution2D(32, 3, 3, activation='relu', input_shape=(28,28,1))) # 26\n",
        "model.add(keras.layers.Dropout(0.2))\n",
        "model.add(Convolution2D(16, 1, activation='relu'))\n",
        "model.add(Convolution2D(16, 3,3, activation='relu')) # 24\n",
        "model.add(MaxPooling2D(pool_size=(2, 2))) #12\n",
        "\n",
        "model.add(Convolution2D(32, 3,3, activation='relu')) # 10\n",
        "model.add(keras.layers.Dropout(0.2))\n",
        "model.add(Convolution2D(16, 3,3, activation='relu')) # 8\n",
        "model.add(MaxPooling2D(pool_size=(2, 2))) #4\n",
        "\n",
        "\n",
        "\n",
        "model.add(Convolution2D(32, 3,3, activation='relu')) # 2\n",
        "model.add(keras.layers.Dropout(0.2))\n",
        "model.add(MaxPooling2D(pool_size=(2, 2)))\n",
        "model.add(Convolution2D(10, 1))\n",
        "\n",
        "\n",
        "model.add(Flatten())\n",
        "model.add(Activation('softmax'))\n",
        "print(\"Params = \",model.count_params())\n",
        "\n",
        "model.compile(loss='categorical_crossentropy',\n",
        "             optimizer=\"adam\",\n",
        "             metrics=['accuracy'])\n",
        "\n",
        "model.fit(X_train, Y_train, batch_size=2048, epochs=90, verbose=0)\n",
        "score = model.evaluate(X_train, Y_train, verbose=0)\n",
        "print(\"Train Score = \",score)\n",
        "\n",
        "score = model.evaluate(X_test, Y_test, verbose=0)\n",
        "print(\"Score = \",score)\n"
      ],
      "execution_count": 73,
      "outputs": [
        {
          "output_type": "stream",
          "text": [
            "Params =  17402\n",
            "Train Score =  [0.012744362086317657, 0.9967833333333334]\n",
            "Score =  [0.018983806559955702, 0.9944]\n"
          ],
          "name": "stdout"
        }
      ]
    },
    {
      "cell_type": "markdown",
      "metadata": {
        "id": "NuFjuWDbvxZW",
        "colab_type": "text"
      },
      "source": [
        "### 1st Layer of 64"
      ]
    },
    {
      "cell_type": "code",
      "metadata": {
        "id": "an_U0opy1L8Z",
        "colab_type": "code",
        "colab": {
          "base_uri": "https://localhost:8080/",
          "height": 68
        },
        "outputId": "42fa11c2-e220-41b6-9a74-bfb5eff1d378"
      },
      "source": [
        "from keras.layers import Activation\n",
        "model = Sequential()\n",
        "\n",
        " \n",
        "model.add(Convolution2D(64, 3, 3, activation='relu', input_shape=(28,28,1))) # 26\n",
        "model.add(keras.layers.Dropout(0.1))\n",
        "model.add(Convolution2D(16, 1, activation='relu'))\n",
        "model.add(Convolution2D(16, 3,3, activation='relu')) # 24\n",
        "model.add(MaxPooling2D(pool_size=(2, 2))) #12\n",
        "\n",
        "model.add(Convolution2D(32, 3,3, activation='relu')) # 10\n",
        "model.add(keras.layers.Dropout(0.2))\n",
        "model.add(Convolution2D(16, 3,3, activation='relu')) # 8\n",
        "model.add(MaxPooling2D(pool_size=(2, 2))) #4\n",
        "\n",
        "\n",
        "\n",
        "model.add(Convolution2D(32, 3,3, activation='relu')) # 2\n",
        "model.add(keras.layers.Dropout(0.1))\n",
        "model.add(MaxPooling2D(pool_size=(2, 2)))\n",
        "model.add(Convolution2D(10, 1))\n",
        "\n",
        "\n",
        "model.add(Flatten())\n",
        "model.add(Activation('softmax'))\n",
        "print(\"Params = \",model.count_params())\n",
        "\n",
        "model.compile(loss='categorical_crossentropy',\n",
        "             optimizer=\"adam\",\n",
        "             metrics=['accuracy'])\n",
        "\n",
        "model.fit(X_train, Y_train, batch_size=2048, epochs=80, verbose=0)\n",
        "score = model.evaluate(X_train, Y_train, verbose=0)\n",
        "print(\"Train Score = \",score)\n",
        "\n",
        "score = model.evaluate(X_test, Y_test, verbose=0)\n",
        "print(\"Score = \",score)\n"
      ],
      "execution_count": 63,
      "outputs": [
        {
          "output_type": "stream",
          "text": [
            "Params =  18234\n",
            "Train Score =  [0.012216970350620492, 0.9965]\n",
            "Score =  [0.02435745602978277, 0.9938]\n"
          ],
          "name": "stdout"
        }
      ]
    },
    {
      "cell_type": "markdown",
      "metadata": {
        "id": "62bUY3m8tbDN",
        "colab_type": "text"
      },
      "source": [
        "### Minor change, from above , increase dropout = 0.2 overall"
      ]
    },
    {
      "cell_type": "code",
      "metadata": {
        "id": "OURSU_i8KJR4",
        "colab_type": "code",
        "colab": {
          "base_uri": "https://localhost:8080/",
          "height": 68
        },
        "outputId": "fe4427d0-07d4-4f8b-d91d-0c86173ed966"
      },
      "source": [
        "from keras.layers import Activation\n",
        "model = Sequential()\n",
        "\n",
        " \n",
        "model.add(Convolution2D(64, 3, 3, activation='relu', input_shape=(28,28,1))) # 26\n",
        "model.add(keras.layers.Dropout(0.2))\n",
        "model.add(Convolution2D(16, 1, activation='relu'))\n",
        "model.add(Convolution2D(16, 3,3, activation='relu')) # 24\n",
        "model.add(MaxPooling2D(pool_size=(2, 2))) #12\n",
        "\n",
        "model.add(Convolution2D(32, 3,3, activation='relu')) # 10\n",
        "model.add(keras.layers.Dropout(0.2))\n",
        "model.add(Convolution2D(16, 3,3, activation='relu')) # 8\n",
        "model.add(MaxPooling2D(pool_size=(2, 2))) #4\n",
        "\n",
        "\n",
        "\n",
        "model.add(Convolution2D(32, 3,3, activation='relu')) # 2\n",
        "model.add(keras.layers.Dropout(0.2))\n",
        "model.add(MaxPooling2D(pool_size=(2, 2)))\n",
        "model.add(Convolution2D(10, 1))\n",
        "\n",
        "\n",
        "model.add(Flatten())\n",
        "model.add(Activation('softmax'))\n",
        "print(\"Params = \",model.count_params())\n",
        "\n",
        "model.compile(loss='categorical_crossentropy',\n",
        "             optimizer=\"adam\",\n",
        "             metrics=['accuracy'])\n",
        "\n",
        "model.fit(X_train, Y_train, batch_size=2048, epochs=90, verbose=0)\n",
        "score = model.evaluate(X_train, Y_train, verbose=0)\n",
        "print(\"Train Score = \",score)\n",
        "\n",
        "score = model.evaluate(X_test, Y_test, verbose=0)\n",
        "print(\"Score = \",score)\n"
      ],
      "execution_count": 67,
      "outputs": [
        {
          "output_type": "stream",
          "text": [
            "Params =  18234\n",
            "Train Score =  [0.008388370233329867, 0.99795]\n",
            "Score =  [0.016755277727439535, 0.9947]\n"
          ],
          "name": "stdout"
        }
      ]
    },
    {
      "cell_type": "markdown",
      "metadata": {
        "id": "BZqb7K_5dXDW",
        "colab_type": "text"
      },
      "source": [
        "### Reduce Params to 14k (Winner!! 99.41%, 14,922 params)\n",
        "\n",
        "- Putting MaxPool at end. \n",
        "- Basically if a number is detected at any point in image and one of 4 pixels in 10,1 layer is activated then maxpool will find it."
      ]
    },
    {
      "cell_type": "code",
      "metadata": {
        "id": "osKqT73Q9JJB",
        "colab_type": "code",
        "outputId": "f55517dc-ee07-498d-8b17-74ec3923f3bb",
        "colab": {
          "base_uri": "https://localhost:8080/",
          "height": 68
        }
      },
      "source": [
        "from keras.layers import Activation\n",
        "model = Sequential()\n",
        "\n",
        " \n",
        "model.add(Convolution2D(32, 3, 3, activation='relu', input_shape=(28,28,1))) # 26\n",
        "\n",
        "model.add(Convolution2D(16, 1, activation='relu'))\n",
        "model.add(Convolution2D(16, 3,3, activation='relu')) # 24\n",
        "model.add(MaxPooling2D(pool_size=(2, 2))) #12\n",
        "\n",
        "model.add(Convolution2D(32, 3,3, activation='relu')) # 10\n",
        "model.add(keras.layers.Dropout(0.2))\n",
        "model.add(Convolution2D(16, 3,3, activation='relu')) # 8\n",
        "model.add(MaxPooling2D(pool_size=(2, 2))) #4\n",
        "\n",
        "\n",
        "\n",
        "model.add(Convolution2D(16, 3,3, activation='relu')) # 2\n",
        "model.add(keras.layers.Dropout(0.1))\n",
        "model.add(Convolution2D(10, 1, activation='relu'))\n",
        "model.add(MaxPooling2D(pool_size=(2, 2)))\n",
        "\n",
        "model.add(Flatten())\n",
        "model.add(Activation('softmax'))\n",
        "print(\"Params = \",model.count_params())\n",
        "\n",
        "model.compile(loss='categorical_crossentropy',\n",
        "             optimizer=\"adam\",\n",
        "             metrics=['accuracy'])\n",
        "\n",
        "model.fit(X_train, Y_train, batch_size=2048, epochs=120, verbose=0)\n",
        "score = model.evaluate(X_train, Y_train, verbose=0)\n",
        "print(\"Train Score = \",score)\n",
        "\n",
        "score = model.evaluate(X_test, Y_test, verbose=0)\n",
        "print(\"Score = \",score)\n"
      ],
      "execution_count": 66,
      "outputs": [
        {
          "output_type": "stream",
          "text": [
            "Params =  14922\n",
            "Train Score =  [0.010634894402059338, 0.9971833333333333]\n",
            "Score =  [0.019736302957570298, 0.9941]\n"
          ],
          "name": "stdout"
        }
      ]
    },
    {
      "cell_type": "markdown",
      "metadata": {
        "id": "rzKvVVmzeORD",
        "colab_type": "text"
      },
      "source": [
        "### 18k Params, standard 16-32, 5x5 receptive field per Maxpool\n",
        "- Idea that increasing complexity with more dropouts may help."
      ]
    },
    {
      "cell_type": "code",
      "metadata": {
        "id": "4GUYL0am1iGI",
        "colab_type": "code",
        "outputId": "9e459f9b-ab2d-49de-8cf9-cdde6b3e8a88",
        "colab": {
          "base_uri": "https://localhost:8080/",
          "height": 68
        }
      },
      "source": [
        "from keras.layers import Activation\n",
        "model = Sequential()\n",
        "\n",
        " \n",
        "model.add(Convolution2D(16, 3, 3, activation='relu', input_shape=(28,28,1))) # 26\n",
        "model.add(Convolution2D(32, 3,3, activation='relu')) # 24\n",
        "model.add(keras.layers.Dropout(0.3))\n",
        "model.add(MaxPooling2D(pool_size=(2, 2))) #12\n",
        "\n",
        "model.add(Convolution2D(16, 3,3, activation='relu')) # 10\n",
        "model.add(keras.layers.Dropout(0.1))\n",
        "model.add(Convolution2D(32, 3,3, activation='relu')) # 8\n",
        "model.add(keras.layers.Dropout(0.3))\n",
        "model.add(MaxPooling2D(pool_size=(2, 2))) #4\n",
        "\n",
        "\n",
        "model.add(Convolution2D(16, 3,3, activation='relu')) # 2\n",
        "model.add(Convolution2D(10, 1))\n",
        "model.add(MaxPooling2D(pool_size=(2, 2)))\n",
        "\n",
        "model.add(Flatten())\n",
        "model.add(Activation('softmax'))\n",
        "\n",
        "print(\"Params = \",model.count_params())\n",
        "\n",
        "model.compile(loss='categorical_crossentropy',\n",
        "             optimizer=\"adam\",\n",
        "             metrics=['accuracy'])\n",
        "\n",
        "model.fit(X_train, Y_train, batch_size=2048, epochs=120, verbose=0)\n",
        "score = model.evaluate(X_train, Y_train, verbose=0)\n",
        "print(\"Train Score = \",score)\n",
        "\n",
        "score = model.evaluate(X_test, Y_test, verbose=0)\n",
        "print(\"Score = \",score)\n",
        "\n"
      ],
      "execution_count": 68,
      "outputs": [
        {
          "output_type": "stream",
          "text": [
            "Params =  18858\n",
            "Train Score =  [0.0223863034799695, 0.9966333333333334]\n",
            "Score =  [0.030120347533747555, 0.9931]\n"
          ],
          "name": "stdout"
        }
      ]
    },
    {
      "cell_type": "markdown",
      "metadata": {
        "id": "BZAKhzKlgC9L",
        "colab_type": "text"
      },
      "source": [
        "## Trying Bigger size MaxPool (Winner!! 99.48%, 19,722 params)\n",
        "```\n",
        "model.add(MaxPooling2D(pool_size=(4, 4)))\n",
        "```\n",
        "\n",
        "- A maxpool preceeded by 32 kernel layer may have enough info"
      ]
    },
    {
      "cell_type": "code",
      "metadata": {
        "id": "ibr3LIct3T8s",
        "colab_type": "code",
        "outputId": "e692f82c-f98c-4ed3-8d75-0c52b62d69a7",
        "colab": {
          "base_uri": "https://localhost:8080/",
          "height": 68
        }
      },
      "source": [
        "from keras.layers import Activation\n",
        "model = Sequential()\n",
        "\n",
        "\n",
        "model.add(Convolution2D(32, 3, 3, activation='relu', input_shape=(28,28,1))) # 26\n",
        "model.add(Convolution2D(16, 3,3, activation='relu')) # 24\n",
        "model.add(MaxPooling2D(pool_size=(2, 2))) #12\n",
        "\n",
        "model.add(Convolution2D(16, 3,3, activation='relu')) # 10\n",
        "model.add(Convolution2D(32, 3,3, activation='relu')) # 8\n",
        "model.add(keras.layers.Dropout(0.2))\n",
        "model.add(Convolution2D(16, 1, activation='relu'))\n",
        "\n",
        "\n",
        "model.add(Convolution2D(16, 3,3, activation='relu')) # 6\n",
        "model.add(keras.layers.Dropout(0.1))\n",
        "model.add(Convolution2D(32, 3,3, activation='relu')) # 4\n",
        "model.add(MaxPooling2D(pool_size=(4, 4))) # 1\n",
        "model.add(Convolution2D(10, 1))\n",
        "\n",
        "\n",
        "model.add(Flatten())\n",
        "model.add(Activation('softmax'))\n",
        "\n",
        "print(\"Params = \",model.count_params())\n",
        "\n",
        "model.compile(loss='categorical_crossentropy',\n",
        "             optimizer=\"adam\",\n",
        "             metrics=['accuracy'])\n",
        "\n",
        "model.fit(X_train, Y_train, batch_size=2048, epochs=90, verbose=0)\n",
        "score = model.evaluate(X_train, Y_train, verbose=0)\n",
        "print(\"Train Score = \",score)\n",
        "\n",
        "score = model.evaluate(X_test, Y_test, verbose=0)\n",
        "print(\"Score = \",score)"
      ],
      "execution_count": 14,
      "outputs": [
        {
          "output_type": "stream",
          "text": [
            "Params =  19722\n",
            "Train Score =  [0.00957389279246369, 0.9972833333333333]\n",
            "Score =  [0.017384651358673, 0.9948]\n"
          ],
          "name": "stdout"
        }
      ]
    },
    {
      "cell_type": "code",
      "metadata": {
        "id": "Bu6NLFJf7lB8",
        "colab_type": "code",
        "colab": {
          "base_uri": "https://localhost:8080/",
          "height": 68
        },
        "outputId": "421d0270-1ce4-4abf-c7d6-bee91f35b79c"
      },
      "source": [
        "from keras.layers import Activation\n",
        "model = Sequential()\n",
        "\n",
        "\n",
        "model.add(Convolution2D(32, 3, 3, activation='relu', input_shape=(28,28,1))) # 26\n",
        "model.add(keras.layers.Dropout(0.2))\n",
        "model.add(Convolution2D(16, 3,3, activation='relu')) # 24\n",
        "model.add(MaxPooling2D(pool_size=(2, 2))) #12\n",
        "\n",
        "model.add(Convolution2D(16, 3,3, activation='relu')) # 10\n",
        "model.add(Convolution2D(16, 3,3, activation='relu')) # 8\n",
        "model.add(keras.layers.Dropout(0.1))\n",
        "model.add(Convolution2D(16, 1, activation='relu'))\n",
        "\n",
        "\n",
        "model.add(Convolution2D(16, 3,3, activation='relu')) # 6\n",
        "model.add(keras.layers.Dropout(0.1))\n",
        "model.add(Convolution2D(32, 3,3, activation='relu')) # 4\n",
        "model.add(keras.layers.Dropout(0.2))\n",
        "model.add(MaxPooling2D(pool_size=(4, 4))) # 1\n",
        "model.add(Convolution2D(10, 1))\n",
        "\n",
        "\n",
        "model.add(Flatten())\n",
        "model.add(Activation('softmax'))\n",
        "\n",
        "print(\"Params = \",model.count_params())\n",
        "\n",
        "model.compile(loss='categorical_crossentropy',\n",
        "             optimizer=\"adam\",\n",
        "             metrics=['accuracy'])\n",
        "\n",
        "model.fit(X_train, Y_train, batch_size=2048, epochs=120, verbose=0)\n",
        "score = model.evaluate(X_train, Y_train, verbose=0)\n",
        "print(\"Train Score = \",score)\n",
        "\n",
        "score = model.evaluate(X_test, Y_test, verbose=0)\n",
        "print(\"Score = \",score)"
      ],
      "execution_count": 72,
      "outputs": [
        {
          "output_type": "stream",
          "text": [
            "Params =  17146\n",
            "Train Score =  [0.011023450508624471, 0.9975666666666667]\n",
            "Score =  [0.021538454151176847, 0.9938]\n"
          ],
          "name": "stdout"
        }
      ]
    },
    {
      "cell_type": "markdown",
      "metadata": {
        "id": "Sa2hptOdlwPD",
        "colab_type": "text"
      },
      "source": [
        "## Using Only mostly 16 Kernels per layer\n",
        "\n",
        "- Start with 64 since initial layer doesn't add much"
      ]
    },
    {
      "cell_type": "code",
      "metadata": {
        "id": "OoXFSStPmAvr",
        "colab_type": "code",
        "colab": {
          "base_uri": "https://localhost:8080/",
          "height": 68
        },
        "outputId": "d1353ea9-f156-46f0-fc35-e90e4bd194c3"
      },
      "source": [
        "from keras.layers import Activation\n",
        "model = Sequential()\n",
        "\n",
        " \n",
        "model.add(Convolution2D(32, 3, 3, activation='relu', input_shape=(28,28,1))) # 26\n",
        "model.add(MaxPooling2D(pool_size=(2, 2))) # 13\n",
        "model.add(keras.layers.Dropout(0.2))\n",
        "model.add(Convolution2D(16, 3,3, activation='relu')) # 11\n",
        "model.add(keras.layers.Dropout(0.2))\n",
        "model.add(Convolution2D(16, 3,3, activation='relu')) # 9\n",
        "model.add(MaxPooling2D(pool_size=(2, 2))) # 4\n",
        "model.add(Convolution2D(32, 3,3, activation='relu')) # 2\n",
        "model.add(keras.layers.Dropout(0.2))\n",
        "model.add(Convolution2D(16, 2,2, activation='relu'))\n",
        "model.add(Convolution2D(10, 1)) # 1\n",
        "\n",
        "\n",
        "model.add(Flatten())\n",
        "model.add(Activation('softmax'))\n",
        "print(\"Params = \",model.count_params())\n",
        "\n",
        "model.compile(loss='categorical_crossentropy',\n",
        "             optimizer=\"adam\",\n",
        "             metrics=['accuracy'])\n",
        "\n",
        "model.fit(X_train, Y_train, batch_size=2048, epochs=125, verbose=0)\n",
        "\n",
        "score = model.evaluate(X_train, Y_train, verbose=0)\n",
        "print(\"Train Score = \",score)\n",
        "\n",
        "score = model.evaluate(X_test, Y_test, verbose=0)\n",
        "print(\"Score = \",score)\n",
        "# 9922"
      ],
      "execution_count": 69,
      "outputs": [
        {
          "output_type": "stream",
          "text": [
            "Params =  14138\n",
            "Train Score =  [0.011234934665727754, 0.99645]\n",
            "Score =  [0.02221203788055136, 0.9926]\n"
          ],
          "name": "stdout"
        }
      ]
    },
    {
      "cell_type": "markdown",
      "metadata": {
        "id": "GWSz_oGLr2lw",
        "colab_type": "text"
      },
      "source": [
        "# Main Observations for High Performance\n",
        "- Give initial 1st kernel high number helps and keeps params down. I think since the 1st kernel is the only kernel which interacts with the main image, high number in it is needed to extract various image lines, gradients, angles.\n",
        "\n",
        "- Give 2nd last kernel (before 10,1 layer) 32 kernels or more gives good performance. This helps the last layer to have enough info to find an answer. only 16 in 2nd last doesn't give last layer to do much.\n",
        "\n",
        "- High number of Epochs\n",
        "\n",
        "- Maxpool in weird ways like 4x4 was a winner. I guess this maxPool also helped in reducing params and regularization\n",
        "- Watch the train and test score to check overfitting and then adjust dropout."
      ]
    },
    {
      "cell_type": "markdown",
      "metadata": {
        "id": "NHMfJ3Tyv5au",
        "colab_type": "text"
      },
      "source": [
        "# Initial Network in Assignment"
      ]
    },
    {
      "cell_type": "code",
      "metadata": {
        "id": "yDGxiCKpvyj5",
        "colab_type": "code",
        "colab": {
          "base_uri": "https://localhost:8080/",
          "height": 68
        },
        "outputId": "7540d8d3-85c4-4c8d-81f1-1c53c1028a5d"
      },
      "source": [
        "from keras.layers import Activation\n",
        "model = Sequential()\n",
        "\n",
        " \n",
        "model.add(Convolution2D(32, 3, 3, activation='relu', input_shape=(28,28,1)))\n",
        "model.add(Convolution2D(10, 1, activation='relu'))\n",
        "model.add(Convolution2D(10, 26))\n",
        "model.add(Flatten())\n",
        "model.add(Activation('softmax'))\n",
        "\n",
        "print(\"Params = \",model.count_params())\n",
        "\n",
        "model.compile(loss='categorical_crossentropy',\n",
        "             optimizer=\"adam\",\n",
        "             metrics=['accuracy'])\n",
        "\n",
        "model.fit(X_train, Y_train, batch_size=2048, epochs=10, verbose=0)\n",
        "\n",
        "score = model.evaluate(X_train, Y_train, verbose=0)\n",
        "print(\"Train Score = \",score)\n",
        "\n",
        "score = model.evaluate(X_test, Y_test, verbose=0)\n",
        "print(\"Score = \",score)"
      ],
      "execution_count": 44,
      "outputs": [
        {
          "output_type": "stream",
          "text": [
            "Params =  68260\n",
            "Train Score =  [0.11353598490183552, 0.9688833333333333]\n",
            "Score =  [0.12300231868512929, 0.9649]\n"
          ],
          "name": "stdout"
        }
      ]
    },
    {
      "cell_type": "markdown",
      "metadata": {
        "id": "4gk4LYAyFhKH",
        "colab_type": "text"
      },
      "source": [
        "# Layer Wise Feature Map visualization"
      ]
    },
    {
      "cell_type": "code",
      "metadata": {
        "id": "-1qOhBFzwHgj",
        "colab_type": "code",
        "colab": {
          "base_uri": "https://localhost:8080/",
          "height": 646
        },
        "outputId": "bddf93ba-f3df-41f1-8940-4db8ef34907c"
      },
      "source": [
        "model.summary()"
      ],
      "execution_count": 74,
      "outputs": [
        {
          "output_type": "stream",
          "text": [
            "_________________________________________________________________\n",
            "Layer (type)                 Output Shape              Param #   \n",
            "=================================================================\n",
            "conv2d_409 (Conv2D)          (None, 26, 26, 32)        320       \n",
            "_________________________________________________________________\n",
            "dropout_127 (Dropout)        (None, 26, 26, 32)        0         \n",
            "_________________________________________________________________\n",
            "conv2d_410 (Conv2D)          (None, 26, 26, 16)        528       \n",
            "_________________________________________________________________\n",
            "conv2d_411 (Conv2D)          (None, 24, 24, 16)        2320      \n",
            "_________________________________________________________________\n",
            "max_pooling2d_155 (MaxPoolin (None, 12, 12, 16)        0         \n",
            "_________________________________________________________________\n",
            "conv2d_412 (Conv2D)          (None, 10, 10, 32)        4640      \n",
            "_________________________________________________________________\n",
            "dropout_128 (Dropout)        (None, 10, 10, 32)        0         \n",
            "_________________________________________________________________\n",
            "conv2d_413 (Conv2D)          (None, 8, 8, 16)          4624      \n",
            "_________________________________________________________________\n",
            "max_pooling2d_156 (MaxPoolin (None, 4, 4, 16)          0         \n",
            "_________________________________________________________________\n",
            "conv2d_414 (Conv2D)          (None, 2, 2, 32)          4640      \n",
            "_________________________________________________________________\n",
            "dropout_129 (Dropout)        (None, 2, 2, 32)          0         \n",
            "_________________________________________________________________\n",
            "max_pooling2d_157 (MaxPoolin (None, 1, 1, 32)          0         \n",
            "_________________________________________________________________\n",
            "conv2d_415 (Conv2D)          (None, 1, 1, 10)          330       \n",
            "_________________________________________________________________\n",
            "flatten_63 (Flatten)         (None, 10)                0         \n",
            "_________________________________________________________________\n",
            "activation_63 (Activation)   (None, 10)                0         \n",
            "=================================================================\n",
            "Total params: 17,402\n",
            "Trainable params: 17,402\n",
            "Non-trainable params: 0\n",
            "_________________________________________________________________\n"
          ],
          "name": "stdout"
        }
      ]
    },
    {
      "cell_type": "code",
      "metadata": {
        "id": "CT--y98_dr2T",
        "colab_type": "code",
        "colab": {}
      },
      "source": [
        "layer_dict = dict([(layer.name, layer) for layer in model.layers])"
      ],
      "execution_count": 0,
      "outputs": []
    },
    {
      "cell_type": "code",
      "metadata": {
        "id": "2GY4Upv4dsUR",
        "colab_type": "code",
        "outputId": "b03f66f3-32c6-4908-c40d-3eff71b8aaed",
        "colab": {
          "base_uri": "https://localhost:8080/",
          "height": 741
        }
      },
      "source": [
        "import numpy as np\n",
        "from matplotlib import pyplot as plt\n",
        "from keras import backend as K\n",
        "%matplotlib inline\n",
        "# util function to convert a tensor into a valid image\n",
        "def deprocess_image(x):\n",
        "    # normalize tensor: center on 0., ensure std is 0.1\n",
        "    x -= x.mean()\n",
        "    x /= (x.std() + 1e-5)\n",
        "    x *= 0.1\n",
        "\n",
        "    # clip to [0, 1]\n",
        "    x += 0.5\n",
        "    x = np.clip(x, 0, 1)\n",
        "\n",
        "    # convert to RGB array\n",
        "    x *= 255\n",
        "    #x = x.transpose((1, 2, 0))\n",
        "    x = np.clip(x, 0, 255).astype('uint8')\n",
        "    return x\n",
        "\n",
        "def vis_img_in_filter(img = np.array(X_train[2]).reshape((1, 28, 28, 1)).astype(np.float64), \n",
        "                      layer_name = 'conv2d_413'):\n",
        "    layer_output = layer_dict[layer_name].output\n",
        "    img_ascs = list()\n",
        "    for filter_index in range(layer_output.shape[3]):\n",
        "        # build a loss function that maximizes the activation\n",
        "        # of the nth filter of the layer considered\n",
        "        loss = K.mean(layer_output[:, :, :, filter_index])\n",
        "\n",
        "        # compute the gradient of the input picture wrt this loss\n",
        "        grads = K.gradients(loss, model.input)[0]\n",
        "\n",
        "        # normalization trick: we normalize the gradient\n",
        "        grads /= (K.sqrt(K.mean(K.square(grads))) + 1e-5)\n",
        "\n",
        "        # this function returns the loss and grads given the input picture\n",
        "        iterate = K.function([model.input], [loss, grads])\n",
        "\n",
        "        # step size for gradient ascent\n",
        "        step = 5.\n",
        "\n",
        "        img_asc = np.array(img)\n",
        "        # run gradient ascent for 20 steps\n",
        "        for i in range(20):\n",
        "            loss_value, grads_value = iterate([img_asc])\n",
        "            img_asc += grads_value * step\n",
        "\n",
        "        img_asc = img_asc[0]\n",
        "        img_ascs.append(deprocess_image(img_asc).reshape((28, 28)))\n",
        "        \n",
        "    if layer_output.shape[3] >= 35:\n",
        "        plot_x, plot_y = 6, 6\n",
        "    elif layer_output.shape[3] >= 23:\n",
        "        plot_x, plot_y = 4, 6\n",
        "    elif layer_output.shape[3] >= 11:\n",
        "        plot_x, plot_y = 2, 6\n",
        "    else:\n",
        "        plot_x, plot_y = 1, 2\n",
        "    fig, ax = plt.subplots(plot_x, plot_y, figsize = (12, 12))\n",
        "    ax[0, 0].imshow(img.reshape((28, 28)), cmap = 'gray')\n",
        "    ax[0, 0].set_title('Input image')\n",
        "    fig.suptitle('Input image and %s filters' % (layer_name,))\n",
        "    fig.tight_layout(pad = 0.3, rect = [0, 0, 0.9, 0.9])\n",
        "    for (x, y) in [(i, j) for i in range(plot_x) for j in range(plot_y)]:\n",
        "        if x == 0 and y == 0:\n",
        "            continue\n",
        "        ax[x, y].imshow(img_ascs[x * plot_y + y - 1], cmap = 'gray')\n",
        "        ax[x, y].set_title('filter %d' % (x * plot_y + y - 1))\n",
        "\n",
        "vis_img_in_filter()"
      ],
      "execution_count": 79,
      "outputs": [
        {
          "output_type": "display_data",
          "data": {
            "image/png": "[encoded data removed]",
            "text/plain": [
              "<Figure size 864x864 with 12 Axes>"
            ]
          },
          "metadata": {
            "tags": []
          }
        }
      ]
    },
    {
      "cell_type": "markdown",
      "metadata": {
        "id": "wsLEMqMh09XU",
        "colab_type": "text"
      },
      "source": [
        "# Stuff searched from Online resources\n",
        "- Use a different LR and \n",
        "- with validation for EarlyStopping\n",
        "- LR history of epochs\n"
      ]
    },
    {
      "cell_type": "code",
      "metadata": {
        "id": "EuqqOsWC1MBm",
        "colab_type": "code",
        "colab": {
          "base_uri": "https://localhost:8080/",
          "height": 1060
        },
        "outputId": "a8110e1d-27fb-49d3-fab7-78a5c1eff517"
      },
      "source": [
        "from keras.layers import Activation\n",
        "from keras import optimizers\n",
        "from keras.callbacks import EarlyStopping\n",
        "model = Sequential()\n",
        "\n",
        " \n",
        "model.add(Convolution2D(32, 3, 3, activation='relu', input_shape=(28,28,1))) # 26\n",
        "model.add(keras.layers.Dropout(0.2))\n",
        "model.add(Convolution2D(16, 3,3, activation='relu')) # 24\n",
        "model.add(MaxPooling2D(pool_size=(2, 2))) #12\n",
        "\n",
        "model.add(Convolution2D(16, 3,3, activation='relu')) # 10\n",
        "model.add(Convolution2D(16, 3,3, activation='relu')) # 8\n",
        "model.add(MaxPooling2D(pool_size=(2, 2))) #4\n",
        "\n",
        "model.add(Convolution2D(32, 4,4, activation='relu')) # 1\n",
        "model.add(Convolution2D(10, 1))\n",
        "\n",
        "\n",
        "model.add(Flatten())\n",
        "model.add(Activation('softmax'))\n",
        "\n",
        "adam = optimizers.Adam(lr=0.002, beta_1=0.9, beta_2=0.999, epsilon=None, decay=0.0, amsgrad=False)\n",
        "\n",
        "model.compile(loss='categorical_crossentropy',\n",
        "             optimizer=adam,\n",
        "             metrics=['accuracy'])\n",
        "print(\"Params = \",model.count_params())\n",
        "\n",
        "validation_split = 0.5\n",
        "validation_size=int(X_train.shape[0]*validation_split)\n",
        "train_size = X_train.shape[0] - validation_size\n",
        "es = EarlyStopping(monitor='val_loss', min_delta=0.00001, patience=3, verbose=0)\n",
        "es2 = EarlyStopping(monitor='val_loss', min_delta=0.00001, patience=8, verbose=0)\n",
        "hist_1 = model.fit(X_train[:train_size], Y_train[:train_size],\n",
        "                epochs=60,\n",
        "                batch_size=2048,\n",
        "                shuffle=True,\n",
        "                validation_data=(X_train[train_size:], Y_train[train_size:]),\n",
        "                verbose=0,\n",
        "                callbacks=[es])\n",
        "hist_2 = model.fit(X_train[train_size:], Y_train[train_size:],\n",
        "                epochs=60,\n",
        "                batch_size=2048,\n",
        "                shuffle=True,\n",
        "                validation_data=(X_train[:train_size], Y_train[:train_size]),\n",
        "                verbose=0,\n",
        "                callbacks=[es2])\n",
        "\n",
        "history = {}\n",
        "\n",
        "for key in hist_1.history.keys():\n",
        "  history[key] = list(hist_1.history[key])\n",
        "  history[key].extend(hist_2.history[key])\n",
        "  \n",
        "\n",
        "\n",
        "\n",
        "score = model.evaluate(X_train, Y_train, verbose=0)\n",
        "print(\"Train Score = \",score)\n",
        "\n",
        "score = model.evaluate(X_test, Y_test, verbose=0)\n",
        "print(\"Score = \",score)\n",
        "\n",
        "plt.figure(figsize=(12,8))\n",
        "plt.plot(history['acc'])\n",
        "plt.plot(history['val_acc'])\n",
        "plt.title('model accuracy')\n",
        "plt.ylabel('accuracy')\n",
        "plt.xlabel('epoch')\n",
        "plt.legend(['train', 'test'], loc='upper left')\n",
        "plt.show()\n",
        "# summarize history for loss\n",
        "plt.figure(figsize=(12,8))\n",
        "plt.plot(history['loss'])\n",
        "plt.plot(history['val_loss'])\n",
        "plt.title('model loss')\n",
        "plt.ylabel('loss')\n",
        "plt.xlabel('epoch')\n",
        "plt.legend(['train', 'test'], loc='upper left')\n",
        "plt.show()\n"
      ],
      "execution_count": 87,
      "outputs": [
        {
          "output_type": "stream",
          "text": [
            "Params =  18138\n",
            "Train Score =  [0.0333668100619417, 0.98955]\n",
            "Score =  [0.03863695058677113, 0.9863]\n"
          ],
          "name": "stdout"
        },
        {
          "output_type": "display_data",
          "data": {
            "image/png": "[encoded data removed]",
            "text/plain": [
              "<Figure size 864x576 with 1 Axes>"
            ]
          },
          "metadata": {
            "tags": []
          }
        },
        {
          "output_type": "display_data",
          "data": {
            "image/png": "[encoded data removed]",
            "text/plain": [
              "<Figure size 864x576 with 1 Axes>"
            ]
          },
          "metadata": {
            "tags": []
          }
        }
      ]
    },
    {
      "cell_type": "code",
      "metadata": {
        "id": "9tvptcn8dxvp",
        "colab_type": "code",
        "colab": {}
      },
      "source": [
        ""
      ],
      "execution_count": 0,
      "outputs": []
    }
  ]
}