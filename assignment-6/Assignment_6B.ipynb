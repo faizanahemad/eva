{
  "nbformat": 4,
  "nbformat_minor": 0,
  "metadata": {
    "colab": {
      "name": "Assignment-6B.ipynb",
      "version": "0.3.2",
      "provenance": [],
      "collapsed_sections": [],
      "include_colab_link": true
    },
    "kernelspec": {
      "name": "python3",
      "display_name": "Python 3"
    },
    "accelerator": "GPU"
  },
  "cells": [
    {
      "cell_type": "markdown",
      "metadata": {
        "id": "view-in-github",
        "colab_type": "text"
      },
      "source": [
        "<a href=\"https://colab.research.google.com/github/faizanahemad/eva/blob/master/assignment-6/Assignment_6B.ipynb\" target=\"_parent\"><img src=\"https://colab.research.google.com/assets/colab-badge.svg\" alt=\"Open In Colab\"/></a>"
      ]
    },
    {
      "cell_type": "markdown",
      "metadata": {
        "id": "rG2WUSASnY00",
        "colab_type": "text"
      },
      "source": [
        "**Results:**\n",
        "\n",
        "96k params, 50 epochs, One Cycle LR\n",
        "\n",
        "```\n",
        "Train\n",
        "Score =  [0.5939844024848938, 0.825160000076294]\n",
        "Balanced Accuracy = 82.30%, Accuracy = 82.30%\n",
        "\n",
        "Test\n",
        "Score =  [0.5828060176849366, 0.8305000000953674]\n",
        "Balanced Accuracy = 80.47%, Accuracy = 80.47%\n",
        "```"
      ]
    },
    {
      "cell_type": "markdown",
      "metadata": {
        "id": "BEKjqrCyQAj1",
        "colab_type": "text"
      },
      "source": [
        "# Imports"
      ]
    },
    {
      "cell_type": "code",
      "metadata": {
        "id": "mAcDO_4jCrO6",
        "colab_type": "code",
        "colab": {
          "base_uri": "https://localhost:8080/",
          "height": 34
        },
        "outputId": "8154968a-fd08-4dcb-88b9-c9b47bbe9f3d"
      },
      "source": [
        "\n",
        "!pip install --upgrade --upgrade-strategy only-if-needed https://github.com/faizanahemad/data-science-utils/tarball/master > /dev/null\n",
        "!pip install git+https://www.github.com/keras-team/keras-contrib.git > /dev/null\n",
        "!pip install keract > /dev/null"
      ],
      "execution_count": 1,
      "outputs": [
        {
          "output_type": "stream",
          "text": [
            "  Running command git clone -q https://www.github.com/keras-team/keras-contrib.git /tmp/pip-req-build-i6i13iiw\n"
          ],
          "name": "stdout"
        }
      ]
    },
    {
      "cell_type": "code",
      "metadata": {
        "id": "E3xbAd46Pjma",
        "colab_type": "code",
        "colab": {
          "base_uri": "https://localhost:8080/",
          "height": 34
        },
        "outputId": "809d3c95-c9bb-4ad5-8151-ffa224fd13a7"
      },
      "source": [
        "from keras import backend as K\n",
        "import time\n",
        "import matplotlib.pyplot as plt\n",
        "import numpy as np\n",
        "% matplotlib inline\n",
        "np.random.seed(2017) \n",
        "from keras.models import Sequential\n",
        "from keras.layers.convolutional import Convolution2D, MaxPooling2D, DepthwiseConv2D, Conv2D, SeparableConv2D\n",
        "from keras.layers import Input, concatenate\n",
        "from keras.layers import Activation, Flatten, Dense, Dropout\n",
        "from keras.layers.normalization import BatchNormalization\n",
        "from keras.layers.pooling import GlobalAveragePooling2D\n",
        "from keras.utils import np_utils\n",
        "from keras.preprocessing.image import ImageDataGenerator\n",
        "from keras.optimizers import SGD, Nadam, Adam\n",
        "from keras.preprocessing.image import ImageDataGenerator\n",
        "from keras.callbacks import EarlyStopping, ModelCheckpoint, ReduceLROnPlateau, LearningRateScheduler\n",
        "from keras.regularizers import l2\n",
        "%config InlineBackend.figure_format='retina'\n",
        "from keras_contrib.callbacks import CyclicLR\n",
        "from keras.models import Model\n",
        "\n",
        "from data_science_utils.vision.keras import *"
      ],
      "execution_count": 2,
      "outputs": [
        {
          "output_type": "stream",
          "text": [
            "Using TensorFlow backend.\n"
          ],
          "name": "stderr"
        }
      ]
    },
    {
      "cell_type": "code",
      "metadata": {
        "id": "MU4m9oHnPugM",
        "colab_type": "code",
        "colab": {
          "base_uri": "https://localhost:8080/",
          "height": 178
        },
        "outputId": "ae45520a-ce11-453f-af16-fcfe5ad73cab"
      },
      "source": [
        "X_train, Y_train, X_test, Y_test = get_cifar10_data()\n",
        "classes = get_cifar10_labels()\n",
        "show_examples(X_train[10:15], Y_train[10:15], classes)"
      ],
      "execution_count": 3,
      "outputs": [
        {
          "output_type": "stream",
          "text": [
            "Downloading data from https://www.cs.toronto.edu/~kriz/cifar-10-python.tar.gz\n",
            "170500096/170498071 [==============================] - 11s 0us/step\n"
          ],
          "name": "stdout"
        },
        {
          "output_type": "display_data",
          "data": {
            "image/png": "[encoded data removed]",
            "text/plain": [
              "<Figure size 720x144 with 5 Axes>"
            ]
          },
          "metadata": {
            "tags": [],
            "image/png": {
              "width": 575,
              "height": 127
            }
          }
        }
      ]
    },
    {
      "cell_type": "markdown",
      "metadata": {
        "id": "pVnVkxS8M9yD",
        "colab_type": "text"
      },
      "source": [
        "# Helper Functions"
      ]
    },
    {
      "cell_type": "code",
      "metadata": {
        "id": "S-_MU6JxP7NP",
        "colab_type": "code",
        "colab": {}
      },
      "source": [
        "def conv_layer(inputs, n_kernels=32, kernel_size=(3,3), dropout=0.1,dilation_rate=1, padding='valid'):\n",
        "  out = Conv2D(n_kernels,\n",
        "                kernel_size=kernel_size,\n",
        "                strides=1,\n",
        "                padding=padding,\n",
        "                kernel_regularizer=l2(1e-4),\n",
        "                dilation_rate=dilation_rate)(inputs)\n",
        "  out = BatchNormalization()(out)\n",
        "  out = Activation(\"relu\")(out)\n",
        "  out = Dropout(dropout)(out)\n",
        "  return out\n",
        "\n",
        "def depthwise_conv_layer(inputs, n_kernels=32, kernel_size=(3,3),dropout=0.1,dilation_rate=1, padding='valid', depth_multiplier=1,):\n",
        "  out = SeparableConv2D(n_kernels,\n",
        "                kernel_size=kernel_size,\n",
        "                strides=1,\n",
        "                padding=padding,\n",
        "                kernel_regularizer=l2(1e-4),\n",
        "                dilation_rate=dilation_rate,\n",
        "                depth_multiplier=depth_multiplier,)(inputs)\n",
        "  out = BatchNormalization()(out)\n",
        "  out = Activation(\"relu\")(out)\n",
        "  out = Dropout(dropout)(out)\n",
        "  return out\n",
        "\n",
        "def separable_layer(inputs, n_kernels=32, kernel_size=(3,3),dropout=0.1,dilation_rate=1, padding='same'):\n",
        "  # We use kernel_size[0]x1 and then 1xkernel_size[1] conv\n",
        "  \n",
        "  out = Conv2D(n_kernels,\n",
        "                kernel_size=(kernel_size[0],1),\n",
        "                padding=padding,\n",
        "                kernel_regularizer=l2(1e-4),\n",
        "                dilation_rate=dilation_rate,\n",
        "                strides=dilation_rate, # to achive right dilation with separable we need to use strides.\n",
        "                )(inputs)\n",
        "  out = Conv2D(n_kernels,\n",
        "                kernel_size=(1,kernel_size[1]),\n",
        "                padding=padding,\n",
        "                kernel_regularizer=l2(1e-4),\n",
        "                dilation_rate=dilation_rate,\n",
        "                strides=dilation_rate, # to achive right dilation with separable we need to use strides.\n",
        "                )(out)\n",
        "  out = BatchNormalization()(out)\n",
        "  out = Activation(\"relu\")(out)\n",
        "  out = Dropout(dropout)(out)\n",
        "  return out\n",
        "  \n",
        "\n",
        "\n",
        "def transition_layer(inputs, n_kernels=32,dropout=0):\n",
        "  out = conv_layer(inputs, n_kernels, kernel_size=(1,1),dropout=dropout, padding='same')\n",
        "  return out\n",
        "\n",
        "def output_layer(inputs, n_classes, kernel_size):\n",
        "  out = Conv2D(n_classes,\n",
        "                kernel_size=kernel_size,\n",
        "                strides=1,\n",
        "                padding='valid',\n",
        "                kernel_regularizer=l2(1e-4),\n",
        "                dilation_rate=1)(inputs)\n",
        "  out = GlobalAveragePooling2D()(out)\n",
        "  # print(K.int_shape(out))\n",
        "  # out = Flatten()(out)\n",
        "  out = Activation(\"softmax\")(out)\n",
        "  return out\n",
        "\n",
        "def grouped_layer(inputs, group_configs, out_channels):\n",
        "  groups = []\n",
        "  for group_config in group_configs:\n",
        "    out1 = inputs\n",
        "    for layer_config in group_config:\n",
        "      out1 = conv_layer(out1, **layer_config)\n",
        "    groups.append(out1)\n",
        "  y = concatenate(groups)\n",
        "  y = transition_layer(y, out_channels)\n",
        "  return y"
      ],
      "execution_count": 0,
      "outputs": []
    },
    {
      "cell_type": "markdown",
      "metadata": {
        "id": "jI_NnS3XQC34",
        "colab_type": "text"
      },
      "source": [
        "# Functional API model\n",
        "\n",
        "- Our Approach will be to define Residual network\n",
        "- We will build 6 modular functions so that we can reuse.\n",
        "- Each function makes one type of convolution, adding BatchNorm, Activation and Dropout as well.\n",
        "- Proposed arch\n",
        "  - **conv_layer**(inputs, n_kernels=32, kernel_size=(3,3),dropout=0.1,dilation_rate=1, padding='valid') - 30\n",
        "  - **conv_layer**(inputs, n_kernels=64, kernel_size=(3,3),dropout=0.1,dilation_rate=1, padding='same') - 30\n",
        "  - **separable_layer**(inputs, n_kernels=64, kernel_size=(3,3),dropout=0.1,dilation_rate=1, padding='valid') - 28\n",
        "  - **depthwise_conv_layer**(inputs, n_kernels=128, kernel_size=(3,3),dropout=0.1,dilation_rate=1, padding='valid') - 26\n",
        "  - **MaxPool**\n",
        "  - **transition_layer**(inputs, n_kernels=32,dropout=0.1) - 13\n",
        "  - **grouped_layer**(inputs,group_configs,out_channels) - 13\n",
        "  - **grouped_layer_v2** - 13\n",
        "  - **MaxPool**(padding='same') - 7\n",
        "  - **conv_layer**(inputs, n_kernels=64, kernel_size=(3,3),dropout=0.1,dilation_rate=1, padding='valid') - 5\n",
        "  - **output_layer**(inputs, n_classes, kernel_size=(5,5))\n",
        "  "
      ]
    },
    {
      "cell_type": "code",
      "metadata": {
        "id": "YvZKH-ruNBN4",
        "colab_type": "code",
        "colab": {}
      },
      "source": [
        "inputs = Input(shape=(32,32,3))\n",
        "x = conv_layer(inputs,n_kernels=32,kernel_size=(3,3),padding='valid') # rf = 3\n",
        "x = conv_layer(x,n_kernels=32,kernel_size=(3,3),padding='same') # rf = 5\n",
        "x = separable_layer(x, n_kernels=64,kernel_size=(3,3),padding='valid') # rf = 7\n",
        "x = depthwise_conv_layer(x, n_kernels=128,kernel_size=(3,3),padding='valid') # rf = 9\n",
        "x = MaxPooling2D(pool_size=(2, 2))(x)\n",
        "x = transition_layer(x, n_kernels=32,dropout=0)\n",
        "x = grouped_layer(x, group_configs=[[dict(n_kernels=16, kernel_size=(3,3), dropout=0.1,dilation_rate=1, padding='same')],\n",
        "                                    [dict(n_kernels=16, kernel_size=(5,5), dropout=0.1,dilation_rate=1, padding='same')]],\n",
        "                 out_channels = 32)\n",
        "\n",
        "x = grouped_layer(x, group_configs=[[dict(n_kernels=16, kernel_size=(3,3), dropout=0.1,dilation_rate=1, padding='same')],\n",
        "                                    [dict(n_kernels=16, kernel_size=(3,3), dropout=0.1,dilation_rate=2, padding='same')]],\n",
        "                 out_channels = 32)\n",
        "\n",
        "# Each inner array represents one pipeline/group in the groups of the grouped_layer\n",
        "\n",
        "x = MaxPooling2D(pool_size=(2, 2),padding='same')(x)\n",
        "x = conv_layer(x, n_kernels=64,kernel_size=(3,3),padding='valid') # rf = 3\n",
        "x = transition_layer(x, n_kernels=32,dropout=0)\n",
        "\n",
        "output = output_layer(x, n_classes=10, kernel_size=(3,3))\n",
        "\n",
        "model = Model(inputs=inputs, outputs=output)\n",
        "\n",
        "optimizer = Adam(lr=0.001,)\n",
        "\n",
        "\n",
        "model.compile(loss='categorical_crossentropy',\n",
        "             optimizer=optimizer,\n",
        "             metrics=['accuracy'])"
      ],
      "execution_count": 0,
      "outputs": []
    },
    {
      "cell_type": "code",
      "metadata": {
        "id": "jRaFZieEaXk2",
        "colab_type": "code",
        "colab": {
          "base_uri": "https://localhost:8080/",
          "height": 34
        },
        "outputId": "36d2690a-dc67-4606-e609-e0649cbc144b"
      },
      "source": [
        "model.count_params()"
      ],
      "execution_count": 14,
      "outputs": [
        {
          "output_type": "execute_result",
          "data": {
            "text/plain": [
              "96042"
            ]
          },
          "metadata": {
            "tags": []
          },
          "execution_count": 14
        }
      ]
    },
    {
      "cell_type": "code",
      "metadata": {
        "id": "ktb_sYvWZhRA",
        "colab_type": "code",
        "colab": {
          "base_uri": "https://localhost:8080/",
          "height": 1907
        },
        "outputId": "cad0d6c8-8d81-4051-8b84-8b32b30108c7"
      },
      "source": [
        "X_train, Y_train, X_test, Y_test = get_cifar10_data(preprocess=False)\n",
        "datagen = ImageDataGenerator(featurewise_center=True,featurewise_std_normalization=True,\n",
        "                             rotation_range=10,shear_range=0.02,\n",
        "                             height_shift_range=0.1,width_shift_range=0.1,zoom_range=0.2,horizontal_flip=True)\n",
        "\n",
        "datagen_validation = ImageDataGenerator(featurewise_center=True,featurewise_std_normalization=True,)\n",
        "datagen.fit(X_train)\n",
        "datagen_validation.fit(X_train)\n",
        "train_iterator = datagen.flow(X_train, Y_train, batch_size=256,shuffle=True)\n",
        "test_iterator = datagen_validation.flow(X_test, Y_test, batch_size=1024,shuffle=True),\n",
        "validation_iterator = datagen.flow(X_test, Y_test, batch_size=1024,shuffle=True)\n",
        "\n",
        "checkpoint = ModelCheckpoint(\"model.hdf5\", monitor='acc', verbose=0, save_best_only=True, mode='max')\n",
        "clr = CyclicLR(base_lr=0.0001,max_lr=0.02,step_size=500, mode='triangular2')\n",
        "callbacks_list = [checkpoint,clr]\n",
        "train_history = model.fit_generator(train_iterator,\n",
        "                    steps_per_epoch=len(train_iterator), \n",
        "                    validation_data = validation_iterator, \n",
        "                    validation_steps = len(validation_iterator),\n",
        "                    epochs=50, verbose=1,\n",
        "                    callbacks=callbacks_list,)\n",
        "\n",
        "print(\"Layer Names: \",[layer.name for layer in model.layers[0:]])\n",
        "\n",
        "model.load_weights(\"model.hdf5\")\n",
        "\n",
        "\n",
        "iterator = datagen.flow(X_train, Y_train, batch_size=512, shuffle=False)\n",
        "score = model.evaluate_generator(iterator,steps=len(iterator))\n",
        "iterator = datagen.flow(X_train, Y_train, batch_size=1024, shuffle=False)\n",
        "predictions = model.predict_generator(iterator,steps=len(iterator))\n",
        "_ = inspect_predictions(score, predictions,Y_train, classes=get_cifar10_labels(),print_results=True, plot_results=False)\n",
        "\n",
        "\n",
        "iterator = datagen_validation.flow(X_test, Y_test, batch_size=1024, shuffle=False)\n",
        "score = model.evaluate_generator(iterator,steps=len(iterator))\n",
        "iterator = datagen.flow(X_test, Y_test, batch_size=1024, shuffle=False)\n",
        "predictions = model.predict_generator(iterator,steps=len(iterator))\n",
        "_ = inspect_predictions(score, predictions,Y_test, classes=get_cifar10_labels(),print_results=True, plot_results=False)"
      ],
      "execution_count": 15,
      "outputs": [
        {
          "output_type": "stream",
          "text": [
            "WARNING:tensorflow:From /usr/local/lib/python3.6/dist-packages/tensorflow/python/ops/math_ops.py:3066: to_int32 (from tensorflow.python.ops.math_ops) is deprecated and will be removed in a future version.\n",
            "Instructions for updating:\n",
            "Use tf.cast instead.\n",
            "Epoch 1/50\n",
            "196/196 [==============================] - 59s 299ms/step - loss: 1.7258 - acc: 0.3778 - val_loss: 6.2345 - val_acc: 0.2052\n",
            "Epoch 2/50\n",
            "196/196 [==============================] - 46s 232ms/step - loss: 1.3485 - acc: 0.5382 - val_loss: 3.5559 - val_acc: 0.3344\n",
            "Epoch 3/50\n",
            "196/196 [==============================] - 53s 272ms/step - loss: 1.2339 - acc: 0.5999 - val_loss: 3.3817 - val_acc: 0.3815\n",
            "Epoch 4/50\n",
            "196/196 [==============================] - 53s 271ms/step - loss: 1.1170 - acc: 0.6535 - val_loss: 1.3069 - val_acc: 0.5949\n",
            "Epoch 5/50\n",
            "196/196 [==============================] - 53s 270ms/step - loss: 0.9854 - acc: 0.6994 - val_loss: 1.1053 - val_acc: 0.6582\n",
            "Epoch 6/50\n",
            "196/196 [==============================] - 53s 271ms/step - loss: 0.9078 - acc: 0.7243 - val_loss: 1.1295 - val_acc: 0.6443\n",
            "Epoch 7/50\n",
            "196/196 [==============================] - 53s 271ms/step - loss: 0.9580 - acc: 0.7065 - val_loss: 1.1632 - val_acc: 0.6329\n",
            "Epoch 8/50\n",
            "196/196 [==============================] - 54s 274ms/step - loss: 1.0257 - acc: 0.6877 - val_loss: 1.6232 - val_acc: 0.4961\n",
            "Epoch 9/50\n",
            "196/196 [==============================] - 54s 274ms/step - loss: 0.9751 - acc: 0.7086 - val_loss: 1.4273 - val_acc: 0.5555\n",
            "Epoch 10/50\n",
            "196/196 [==============================] - 54s 275ms/step - loss: 0.8837 - acc: 0.7405 - val_loss: 0.9478 - val_acc: 0.7120\n",
            "Epoch 11/50\n",
            "196/196 [==============================] - 54s 276ms/step - loss: 0.8155 - acc: 0.7615 - val_loss: 0.9486 - val_acc: 0.7110\n",
            "Epoch 12/50\n",
            "196/196 [==============================] - 55s 281ms/step - loss: 0.8408 - acc: 0.7490 - val_loss: 0.9396 - val_acc: 0.7202\n",
            "Epoch 13/50\n",
            "196/196 [==============================] - 62s 318ms/step - loss: 0.8818 - acc: 0.7363 - val_loss: 0.9281 - val_acc: 0.7185\n",
            "Epoch 14/50\n",
            "196/196 [==============================] - 54s 277ms/step - loss: 0.8599 - acc: 0.7464 - val_loss: 1.0274 - val_acc: 0.6756\n",
            "Epoch 15/50\n",
            "196/196 [==============================] - 54s 277ms/step - loss: 0.7944 - acc: 0.7663 - val_loss: 0.8557 - val_acc: 0.7427\n",
            "Epoch 16/50\n",
            "196/196 [==============================] - 54s 277ms/step - loss: 0.7477 - acc: 0.7826 - val_loss: 0.8493 - val_acc: 0.7413\n",
            "Epoch 17/50\n",
            "196/196 [==============================] - 54s 276ms/step - loss: 0.7564 - acc: 0.7781 - val_loss: 0.9344 - val_acc: 0.7126\n",
            "Epoch 18/50\n",
            "196/196 [==============================] - 54s 276ms/step - loss: 0.7795 - acc: 0.7694 - val_loss: 0.9035 - val_acc: 0.7290\n",
            "Epoch 19/50\n",
            "196/196 [==============================] - 54s 276ms/step - loss: 0.7733 - acc: 0.7700 - val_loss: 0.8572 - val_acc: 0.7339\n",
            "Epoch 20/50\n",
            "196/196 [==============================] - 54s 277ms/step - loss: 0.7266 - acc: 0.7841 - val_loss: 0.7842 - val_acc: 0.7644\n",
            "Epoch 21/50\n",
            "196/196 [==============================] - 54s 276ms/step - loss: 0.6974 - acc: 0.7978 - val_loss: 0.7664 - val_acc: 0.7726\n",
            "Epoch 22/50\n",
            "196/196 [==============================] - 54s 277ms/step - loss: 0.6958 - acc: 0.7954 - val_loss: 0.7672 - val_acc: 0.7709\n",
            "Epoch 23/50\n",
            "196/196 [==============================] - 54s 277ms/step - loss: 0.7082 - acc: 0.7926 - val_loss: 0.7832 - val_acc: 0.7635\n",
            "Epoch 24/50\n",
            "196/196 [==============================] - 54s 276ms/step - loss: 0.7043 - acc: 0.7915 - val_loss: 0.8188 - val_acc: 0.7564\n",
            "Epoch 25/50\n",
            "196/196 [==============================] - 54s 277ms/step - loss: 0.6818 - acc: 0.7989 - val_loss: 0.7415 - val_acc: 0.7807\n",
            "Epoch 26/50\n",
            "196/196 [==============================] - 54s 277ms/step - loss: 0.6562 - acc: 0.8081 - val_loss: 0.7361 - val_acc: 0.7795\n",
            "Epoch 27/50\n",
            "196/196 [==============================] - 54s 276ms/step - loss: 0.6580 - acc: 0.8080 - val_loss: 0.7103 - val_acc: 0.7911\n",
            "Epoch 28/50\n",
            "196/196 [==============================] - 54s 277ms/step - loss: 0.6639 - acc: 0.8052 - val_loss: 0.7352 - val_acc: 0.7767\n",
            "Epoch 29/50\n",
            "196/196 [==============================] - 54s 276ms/step - loss: 0.6651 - acc: 0.7997 - val_loss: 0.7119 - val_acc: 0.7895\n",
            "Epoch 30/50\n",
            "196/196 [==============================] - 54s 277ms/step - loss: 0.6517 - acc: 0.8086 - val_loss: 0.7143 - val_acc: 0.7811\n",
            "Epoch 31/50\n",
            "196/196 [==============================] - 54s 276ms/step - loss: 0.6322 - acc: 0.8141 - val_loss: 0.7014 - val_acc: 0.7874\n",
            "Epoch 32/50\n",
            "196/196 [==============================] - 54s 275ms/step - loss: 0.6329 - acc: 0.8132 - val_loss: 0.6859 - val_acc: 0.7975\n",
            "Epoch 33/50\n",
            "196/196 [==============================] - 54s 277ms/step - loss: 0.6378 - acc: 0.8123 - val_loss: 0.7158 - val_acc: 0.7864\n",
            "Epoch 34/50\n",
            "196/196 [==============================] - 55s 283ms/step - loss: 0.6409 - acc: 0.8095 - val_loss: 0.6735 - val_acc: 0.8029\n",
            "Epoch 35/50\n",
            "196/196 [==============================] - 55s 278ms/step - loss: 0.6324 - acc: 0.8133 - val_loss: 0.6795 - val_acc: 0.8002\n",
            "Epoch 36/50\n",
            "196/196 [==============================] - 55s 279ms/step - loss: 0.6210 - acc: 0.8170 - val_loss: 0.6646 - val_acc: 0.8055\n",
            "Epoch 37/50\n",
            "196/196 [==============================] - 55s 279ms/step - loss: 0.6197 - acc: 0.8171 - val_loss: 0.6738 - val_acc: 0.7999\n",
            "Epoch 38/50\n",
            "196/196 [==============================] - 55s 280ms/step - loss: 0.6240 - acc: 0.8156 - val_loss: 0.6847 - val_acc: 0.7948\n",
            "Epoch 39/50\n",
            "196/196 [==============================] - 55s 280ms/step - loss: 0.6208 - acc: 0.8163 - val_loss: 0.6504 - val_acc: 0.8123\n",
            "Epoch 40/50\n",
            "196/196 [==============================] - 55s 280ms/step - loss: 0.6168 - acc: 0.8179 - val_loss: 0.6767 - val_acc: 0.7991\n",
            "Epoch 41/50\n",
            "196/196 [==============================] - 55s 279ms/step - loss: 0.6150 - acc: 0.8185 - val_loss: 0.6629 - val_acc: 0.8040\n",
            "Epoch 42/50\n",
            "196/196 [==============================] - 55s 279ms/step - loss: 0.6138 - acc: 0.8191 - val_loss: 0.6581 - val_acc: 0.8065\n",
            "Epoch 43/50\n",
            "196/196 [==============================] - 54s 278ms/step - loss: 0.6097 - acc: 0.8197 - val_loss: 0.6731 - val_acc: 0.7987\n",
            "Epoch 44/50\n",
            "196/196 [==============================] - 55s 279ms/step - loss: 0.6136 - acc: 0.8163 - val_loss: 0.6656 - val_acc: 0.8018\n",
            "Epoch 45/50\n",
            "196/196 [==============================] - 55s 280ms/step - loss: 0.6112 - acc: 0.8182 - val_loss: 0.6629 - val_acc: 0.7975\n",
            "Epoch 46/50\n",
            "196/196 [==============================] - 54s 277ms/step - loss: 0.6119 - acc: 0.8195 - val_loss: 0.6589 - val_acc: 0.8046\n",
            "Epoch 47/50\n",
            "196/196 [==============================] - 55s 280ms/step - loss: 0.6088 - acc: 0.8217 - val_loss: 0.6570 - val_acc: 0.8036\n",
            "Epoch 48/50\n",
            "196/196 [==============================] - 54s 278ms/step - loss: 0.6052 - acc: 0.8203 - val_loss: 0.6579 - val_acc: 0.8054\n",
            "Epoch 49/50\n",
            "196/196 [==============================] - 54s 278ms/step - loss: 0.6073 - acc: 0.8201 - val_loss: 0.6646 - val_acc: 0.8006\n",
            "Epoch 50/50\n",
            "196/196 [==============================] - 55s 278ms/step - loss: 0.6039 - acc: 0.8223 - val_loss: 0.6683 - val_acc: 0.8032\n",
            "Layer Names:  ['input_5', 'conv2d_55', 'batch_normalization_51', 'activation_55', 'dropout_51', 'conv2d_56', 'batch_normalization_52', 'activation_56', 'dropout_52', 'conv2d_57', 'conv2d_58', 'batch_normalization_53', 'activation_57', 'dropout_53', 'separable_conv2d_5', 'batch_normalization_54', 'activation_58', 'dropout_54', 'max_pooling2d_9', 'conv2d_59', 'batch_normalization_55', 'activation_59', 'dropout_55', 'conv2d_60', 'conv2d_61', 'batch_normalization_56', 'batch_normalization_57', 'activation_60', 'activation_61', 'dropout_56', 'dropout_57', 'concatenate_9', 'conv2d_62', 'batch_normalization_58', 'activation_62', 'dropout_58', 'conv2d_63', 'conv2d_64', 'batch_normalization_59', 'batch_normalization_60', 'activation_63', 'activation_64', 'dropout_59', 'dropout_60', 'concatenate_10', 'conv2d_65', 'batch_normalization_61', 'activation_65', 'dropout_61', 'max_pooling2d_10', 'conv2d_66', 'batch_normalization_62', 'activation_66', 'dropout_62', 'conv2d_67', 'batch_normalization_63', 'activation_67', 'dropout_63', 'conv2d_68', 'global_average_pooling2d_5', 'activation_68']\n",
            " =-=  =-=  =-=  =-=  =-=  =-=  =-=  =-=  =-=  =-=  =-=  =-=  =-=  =-=  =-=  =-=  =-=  =-=  =-=  =-= \n",
            "Score =  [0.5939844024848938, 0.825160000076294]\n",
            "Balanced Accuracy = 82.30%, Accuracy = 82.30%\n",
            " =-=  =-=  =-=  =-=  =-=  =-=  =-=  =-=  =-=  =-=  =-=  =-=  =-=  =-=  =-=  =-=  =-=  =-=  =-=  =-= \n",
            "Score =  [0.5828060176849366, 0.8305000000953674]\n",
            "Balanced Accuracy = 80.47%, Accuracy = 80.47%\n"
          ],
          "name": "stdout"
        }
      ]
    },
    {
      "cell_type": "markdown",
      "metadata": {
        "id": "LZOW8eF4SCy2",
        "colab_type": "text"
      },
      "source": [
        "# Questions\n",
        "\n",
        "- Can I use conv_layer with 1x3 and 3x1 for separable. i.e. will doing batchnorm and dropout after just the 1st 1x3 make sense for separable layer\n",
        "\n",
        "- How to make receptive field bigger than input image?"
      ]
    },
    {
      "cell_type": "code",
      "metadata": {
        "id": "RVjt2E-nTvgq",
        "colab_type": "code",
        "colab": {}
      },
      "source": [
        ""
      ],
      "execution_count": 0,
      "outputs": []
    }
  ]
}