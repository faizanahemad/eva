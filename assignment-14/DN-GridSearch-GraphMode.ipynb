{
 "cells": [
  {
   "cell_type": "markdown",
   "metadata": {
    "colab_type": "text",
    "id": "view-in-github"
   },
   "source": [
    "<a href=\"https://colab.research.google.com/github/faizanahemad/eva/blob/master/assignment-14/DN.ipynb\" target=\"_parent\"><img src=\"https://colab.research.google.com/assets/colab-badge.svg\" alt=\"Open In Colab\"/></a>"
   ]
  },
  {
   "cell_type": "markdown",
   "metadata": {},
   "source": [
    "**Resources**\n",
    "\n",
    "- XLA\n",
    "\n",
    "    - [Google Notebook example](https://colab.research.google.com/github/tensorflow/tensorflow/blob/master/tensorflow/compiler/xla/g3doc/tutorials/xla_compile.ipynb)\n",
    "\n",
    "    - [Blog](https://medium.com/@xianbao.qian/use-xla-with-keras-3ca5d0309c26)\n",
    "    - [Example Enabling XLA](https://github.com/tensorflow/models/blob/7212436440eaa11293ca84befcc5d8327109ea76/official/utils/misc/keras_utils.py#L158)\n",
    "    \n",
    "- Mixed Precision\n",
    "\n",
    "- Augmentation Libs\n",
    "    - [imgaug](https://github.com/aleju/imgaug)\n",
    "    - [albumentations](https://github.com/albu/albumentations)\n",
    "    - [Automold](https://github.com/UjjwalSaxena/Automold--Road-Augmentation-Library)\n",
    "    - [Tensorflow Examples](https://www.wouterbulten.nl/blog/tech/data-augmentation-using-tensorflow-data-dataset/)\n",
    "    - [PIL ImageOps Examples](https://hhsprings.bitbucket.io/docs/programming/examples/python/PIL/ImageOps.html)\n",
    "    \n",
    "- Tensorflow References\n",
    "    - [Using Numpy functions](https://www.tensorflow.org/api_docs/python/tf/numpy_function)\n",
    "    - [Using Python functions](https://www.tensorflow.org/api_docs/python/tf/py_function)\n",
    "    - [Tensorflow Data](https://www.tensorflow.org/datasets/catalog/overview)\n",
    "    - [Dataset to TFRecord](https://github.com/tensorflow/tensorflow/issues/16926)\n",
    "    - [TFRecord](https://www.tensorflow.org/tutorials/load_data/tf_records#tfrecords_format_details)\n",
    "    - [TFRecord Load](https://www.tensorflow.org/tutorials/load_data/images)"
   ]
  },
  {
   "cell_type": "markdown",
   "metadata": {},
   "source": [
    "# Imports"
   ]
  },
  {
   "cell_type": "code",
   "execution_count": 1,
   "metadata": {
    "colab": {},
    "colab_type": "code",
    "id": "4LfLeMAyQU7z"
   },
   "outputs": [],
   "source": [
    "import os\n",
    "import gc\n",
    "\n",
    "jobs = int(os.cpu_count()/2)\n"
   ]
  },
  {
   "cell_type": "code",
   "execution_count": 3,
   "metadata": {},
   "outputs": [],
   "source": [
    "import tensorflow as tf\n",
    "# tf.enable_eager_execution()\n",
    "# tf.keras.backend.set_epsilon(1e-4)\n",
    "# tf.keras.backend.set_floatx('float16')\n",
    "\n",
    "# tf.random.set_random_seed(1234)\n"
   ]
  },
  {
   "cell_type": "code",
   "execution_count": 4,
   "metadata": {
    "colab": {},
    "colab_type": "code",
    "id": "kOsYqWHvQBrZ"
   },
   "outputs": [
    {
     "name": "stdout",
     "output_type": "stream",
     "text": [
      "1.17.0\n",
      "0.15.0\n"
     ]
    },
    {
     "name": "stderr",
     "output_type": "stream",
     "text": [
      "WARNING: Logging before flag parsing goes to stderr.\n",
      "W0824 04:47:09.292601 140247267260224 deprecation_wrapper.py:119] From /home/ec2-user/SageMaker/eva/assignment-14/lib.py:207: The name tf.keras.backend.set_session is deprecated. Please use tf.compat.v1.keras.backend.set_session instead.\n",
      "\n",
      "W0824 04:47:09.293463 140247267260224 deprecation_wrapper.py:119] From /home/ec2-user/SageMaker/eva/assignment-14/lib.py:209: The name tf.keras.backend.get_session is deprecated. Please use tf.compat.v1.keras.backend.get_session instead.\n",
      "\n"
     ]
    },
    {
     "name": "stdout",
     "output_type": "stream",
     "text": [
      "1.14.0\n"
     ]
    },
    {
     "name": "stderr",
     "output_type": "stream",
     "text": [
      "Using TensorFlow backend.\n"
     ]
    }
   ],
   "source": [
    "import numpy as np\n",
    "import skimage\n",
    "print(np.__version__)\n",
    "print(skimage.__version__)\n",
    "\n",
    "\n",
    "import time, math\n",
    "from tqdm import tqdm_notebook as tqdm\n",
    "\n",
    "import tensorflow as tf\n",
    "import tensorflow.keras.backend as K\n",
    "import tensorflow.contrib.eager as tfe\n",
    "import gc\n",
    "print(tf.__version__)\n",
    "from joblib import Parallel, delayed\n",
    "import matplotlib.pyplot as plt\n",
    "% matplotlib inline\n",
    "%config InlineBackend.figure_format='retina'\n",
    "\n",
    "import copy\n",
    "from IPython.core.interactiveshell import InteractiveShell\n",
    "InteractiveShell.ast_node_interactivity = \"all\"\n",
    "from tensorflow.core.protobuf import rewriter_config_pb2\n",
    "import os\n",
    "from importlib import reload\n",
    "import lib\n",
    "reload(lib)\n",
    "from lib import *\n",
    "from data_science_utils import misc\n",
    "from data_science_utils.vision.keras.regularizers import get_cutout_eraser\n",
    "\n",
    "import pandas as pd\n",
    "\n",
    "\n",
    "import imgaug.augmenters as iaa\n",
    "from matplotlib import cm\n",
    "from albumentations import (\n",
    "    HorizontalFlip, IAAPerspective, ShiftScaleRotate, CLAHE, RandomRotate90,\n",
    "    Transpose, ShiftScaleRotate, Blur, OpticalDistortion, GridDistortion, HueSaturationValue,\n",
    "    IAAAdditiveGaussianNoise, GaussNoise, MotionBlur, MedianBlur, IAAPiecewiseAffine,RandomFog,\n",
    "    IAASharpen, IAAEmboss, RandomBrightnessContrast, Flip, OneOf, Compose, ChannelDropout, ChannelShuffle,RandomContrast\n",
    ")"
   ]
  },
  {
   "cell_type": "code",
   "execution_count": 5,
   "metadata": {},
   "outputs": [
    {
     "name": "stderr",
     "output_type": "stream",
     "text": [
      "I0824 04:47:09.410422 140247267260224 <ipython-input-5-bf20c9c65a9e>:1] This is a warning\n"
     ]
    }
   ],
   "source": [
    "logger.info('This is a warning')\n"
   ]
  },
  {
   "cell_type": "markdown",
   "metadata": {},
   "source": [
    "# GridSearch"
   ]
  },
  {
   "cell_type": "code",
   "execution_count": 6,
   "metadata": {},
   "outputs": [],
   "source": [
    "def read_and_append_to_results(filename, result_object=None, read=False):\n",
    "    from pathlib import Path\n",
    "    import ast\n",
    "    my_file = Path(filename)\n",
    "    if my_file.is_file():\n",
    "        results = misc.load_list_per_line(filename)\n",
    "    else:\n",
    "        results = []\n",
    "    \n",
    "    results = list(filter(lambda x:len(x)>2,results))\n",
    "    \n",
    "    if result_object is not None:\n",
    "        results.append(result_object)\n",
    "        misc.save_list_per_line(results, filename)\n",
    "        \n",
    "    if read:\n",
    "        def lit_eval(r):\n",
    "            try:\n",
    "                return ast.literal_eval(r)\n",
    "            except:\n",
    "                return None\n",
    "        return list(filter(lambda x: x is not None,map(lit_eval,results)))\n",
    "    else:\n",
    "        return"
   ]
  },
  {
   "cell_type": "code",
   "execution_count": null,
   "metadata": {},
   "outputs": [],
   "source": []
  },
  {
   "cell_type": "code",
   "execution_count": 46,
   "metadata": {},
   "outputs": [],
   "source": [
    "def run_model(model,BATCH_SIZE,EPOCHS,train_dataset,train_dataset_one_epoch,x_test, y_test,len_train,log_test_acc=False):\n",
    "    len_test = len(x_test)\n",
    "    test_dataset = tf.data.Dataset.from_tensor_slices((x_test, y_test)).batch(BATCH_SIZE).prefetch(len_test).cache()\n",
    "    logger.debug(\"Starting Training\")\n",
    "\n",
    "    model.fit_generator(train_dataset.make_one_shot_iterator(), epochs=1,steps_per_epoch=98)\n",
    "    \n",
    "    test_res = model.evaluate(test_dataset)\n",
    "    train_res = model.evaluate(train_dataset_one_epoch)\n",
    "\n",
    "    print(train_res,test_res)\n",
    "    t = time.time()\n",
    "              \n",
    "    time_spent = time.time() - t\n",
    "    logger.debug(msg(\"Train acc = \",train_accs[-1],\"Test acc =\",test_accs[-1],\"Time Taken = \",time_spent))\n",
    "    return train_accs[-1],test_accs[-1],time_spent\n",
    "    \n",
    "    \n"
   ]
  },
  {
   "cell_type": "code",
   "execution_count": 47,
   "metadata": {},
   "outputs": [],
   "source": [
    "class LearningRateScheduler(tf.keras.callbacks.Callback):\n",
    "    def __init__(self,lr_function,momentum_function):\n",
    "        super(LearningRateScheduler, self).__init__()\n",
    "        self.lr_function = lr_function\n",
    "        self.momentum_function = momentum_function\n",
    "\n",
    "    def on_train_batch_begin(self, batch, logs=None):\n",
    "        scheduled_lr = self.lr_function(batch)\n",
    "        scheduled_momentum = self.momentum_function(batch)\n",
    "        tf.keras.backend.set_value(self.model.optimizer.lr, scheduled_lr)\n",
    "        tf.keras.backend.set_value(self.model.optimizer.momentum, scheduled_momentum)\n",
    "        \n"
   ]
  },
  {
   "cell_type": "code",
   "execution_count": 48,
   "metadata": {},
   "outputs": [],
   "source": [
    "\n",
    "def model_builder(model_config,BATCH_SIZE, len_train):\n",
    "    \n",
    "    batches_per_epoch = len_train//BATCH_SIZE + 1\n",
    "    model = FNet(**model_config[\"model\"])\n",
    "    \n",
    "    enable_olr = model_config[\"optimizer\"][\"enable_olr\"]\n",
    "    enable_momentum = enable_olr\n",
    "    max_lr = model_config[\"optimizer\"][\"max_lr\"]\n",
    "    max_momentum = model_config[\"optimizer\"][\"max_momentum\"]\n",
    "    global_step = tf.train.get_or_create_global_step()\n",
    "    if enable_olr:\n",
    "        mid_epoch = model_config[\"optimizer\"][\"mid_epoch\"]\n",
    "        start_lr = model_config[\"optimizer\"][\"start_lr\"]\n",
    "        \n",
    "        end_lr = model_config[\"optimizer\"][\"end_lr\"]\n",
    "        pre_end_lr = model_config[\"optimizer\"][\"pre_end_lr\"]\n",
    "        pre_end_epoch = model_config[\"optimizer\"][\"pre_end_epoch\"]\n",
    "        \n",
    "        enable_momentum = model_config[\"optimizer\"][\"enable_momentum\"]\n",
    "        if enable_momentum:\n",
    "            min_momentum = model_config[\"optimizer\"][\"min_momentum\"]\n",
    "            momentum_schedule =  lambda t: np.interp([t], [0, mid_epoch, pre_end_epoch, EPOCHS], [max_momentum, min_momentum, max_momentum, max_momentum])[0] \n",
    "            momentum_func = lambda batch: momentum_schedule(batch/batches_per_epoch)\n",
    "    \n",
    "        lr_schedule = lambda t: np.interp([t], [0, mid_epoch, pre_end_epoch, EPOCHS], [start_lr, max_lr, pre_end_lr, end_lr])[0] # LR = 0.75\n",
    "        lr_func = lambda batch: lr_schedule(batch/batches_per_epoch)\n",
    "    \n",
    "    lrs = LearningRateScheduler(lr_function=lr_func,momentum_function=momentum_func)\n",
    "\n",
    "    opt = tf.keras.optimizers.SGD(learning_rate=0.01, momentum=0.9, nesterov=True)\n",
    "    model.compile(optimizer=opt,loss='sparse_categorical_crossentropy',metrics=['sparse_categorical_accuracy'],callbacks=[lrs])\n",
    "    logger.debug(\"Model Built\")\n",
    "    return model,opt,global_step\n"
   ]
  },
  {
   "cell_type": "code",
   "execution_count": 49,
   "metadata": {},
   "outputs": [],
   "source": [
    "def build_augmenters(da_config,train_mean):\n",
    "    cutout_config = da_config[\"cutout_config\"]\n",
    "    cifar10_augs_config = da_config[\"cifar10_augs_config\"]\n",
    "    hue_config = da_config[\"hue_config\"]\n",
    "    cutout_mapper = get_numpy_wrapper(get_cutout_eraser(**cutout_config),\"cutout\")\n",
    "    cifar10_mapper = get_numpy_wrapper(CIFAR10Policy(**cifar10_augs_config, fillcolor=tuple(train_mean.astype(int)), log=False),\"AutoAug\")\n",
    "    hue_mapper = get_hue_aug(hue_config[\"max_delta\"])\n",
    "    caster = lambda x,y: (tf.cast(x,tf.float32),tf.cast(y,tf.int64))\n",
    "#     [hflip_mapper,cutout_mapper,cifar10_mapper,hue_mapper,caster]\n",
    "    full_wrapper = get_multimapper([])\n",
    "    logger.debug(\"Augmentation Functions Built\")\n",
    "    return full_wrapper\n",
    "\n",
    "\n",
    "def process_full_augmentation_all_epochs(full_wrapper, EPOCHS,BATCH_SIZE, normalize, x_train, y_train):\n",
    "    train_data = {}\n",
    "    len_train = len(x_train)\n",
    "    normalize = get_numpy_wrapper(normalize, Tout=tf.float32)\n",
    "    caster = lambda x,y: (tf.cast(x,tf.float32),tf.cast(y,tf.int64))\n",
    "    normalize = get_multimapper([])\n",
    "    t = time.time()\n",
    "    train_set_one_epoch = tf.data.Dataset.from_tensor_slices((x_train, y_train)).map(full_wrapper, num_parallel_calls=tf.data.experimental.AUTOTUNE).map(normalize, num_parallel_calls=tf.data.experimental.AUTOTUNE).batch(BATCH_SIZE).prefetch(len_train)\n",
    "    train_set = tf.data.Dataset.from_tensor_slices((x_train, y_train)).map(full_wrapper, num_parallel_calls=tf.data.experimental.AUTOTUNE).map(normalize, num_parallel_calls=tf.data.experimental.AUTOTUNE).shuffle(len_train).batch(len_train).prefetch(len_train)\n",
    "    return train_set,train_set_one_epoch,1\n",
    "    for epoch in range(EPOCHS):\n",
    "        train_set = tf.data.Dataset.from_tensor_slices((x_train, y_train)).map(full_wrapper, num_parallel_calls=tf.data.experimental.AUTOTUNE).map(normalize, num_parallel_calls=tf.data.experimental.AUTOTUNE).shuffle(len_train).batch(len_train).prefetch(len_train)\n",
    "#         i = 0\n",
    "#         for x,y in train_set:\n",
    "#             xt = x.numpy()\n",
    "#             logger.debug(msg(\"X Shape = \",xt.shape[0], \"Train Length =\",len_train))\n",
    "#             assert x.numpy().shape[0]==len_train\n",
    "#             train_set = (xt,y.numpy())\n",
    "#             i = i+1\n",
    "#         assert i==1\n",
    "        train_data[epoch] = train_set\n",
    "        logger.debug(msg(\"Augmentation Epoch = \",epoch,\"Time Spent = %.1f\" % (time.time() - t)))\n",
    "        \n",
    "    \n",
    "    train_set = tf.data.Dataset.from_tensor_slices(train_data[0])\n",
    "    for epoch in range(1,EPOCHS):\n",
    "        key = (epoch)%(max(train_data.keys())+1)\n",
    "        ts = tf.data.Dataset.from_tensor_slices(train_data[key])\n",
    "        train_set = train_set.concatenate(ts)\n",
    "    train_set.batch(BATCH_SIZE).prefetch(len_train).shuffle(len_train).cache()\n",
    "    time_taken = time.time() - t\n",
    "    logger.info(msg(\"Augmentation Done for EPOCHS = %s, Time Taken = %.1f\"%(EPOCHS,time_taken)))\n",
    "    return train_set,train_set_one_epoch,time_taken\n",
    "    \n",
    "    \n",
    "\n",
    "def fetch_cifar_data():\n",
    "    (x_train, y_train), (x_test, y_test) = tf.keras.datasets.cifar10.load_data()\n",
    "    classes = ['airplane','automobile','bird','cat','deer','dog','frog','horse','ship','truck']\n",
    "    len_train, len_test = len(x_train), len(x_test)\n",
    "    y_train = y_train.astype('int64').reshape(len_train)\n",
    "    y_test = y_test.astype('int64').reshape(len_test)\n",
    "    train_mean = np.mean(x_train, axis=(0,1,2))\n",
    "    train_std = np.std(x_train, axis=(0,1,2))\n",
    "\n",
    "    def normalize(x):\n",
    "        return ((x.astype('float32') - train_mean) / train_std).astype('float32')\n",
    "\n",
    "    \n",
    "    pad4 = lambda x: np.pad(x, [(0, 0), (4, 4), (4, 4), (0, 0)], mode='reflect')\n",
    "    x_train = pad4(x_train)\n",
    "    x_test = normalize(x_test)\n",
    "    logger.info(\"Data Fetching Done\")\n",
    "    return x_train, y_train, x_test, y_test, classes,len_train,len_test, normalize, train_mean\n",
    "\n",
    "\n",
    "     \n",
    "\n",
    "\n",
    "\n",
    "\n",
    "\n",
    "def runner(configs,cv=3):\n",
    "    # fetch Data\n",
    "    x_train, y_train, x_test, y_test, classes,len_train,len_test, normalize,train_mean = fetch_cifar_data()\n",
    "    prev_da_config = None\n",
    "    train_data = None\n",
    "    results = []\n",
    "    logger.info(\"Started GridSearch, Total Configs to Test = %s\"%len(configs))\n",
    "    reset_keras()\n",
    "    t = time.time()\n",
    "    prev_epochs = 0\n",
    "    for i,config in enumerate(configs):\n",
    "        \n",
    "        _ = gc.collect()\n",
    "        model_config = config[\"model_config\"]\n",
    "        da_config = config[\"augmentation_config\"]\n",
    "        BATCH_SIZE = config[\"training_config\"][\"BATCH_SIZE\"]\n",
    "        EPOCHS = config[\"training_config\"][\"EPOCHS\"]\n",
    "        save_file = config[\"training_config\"][\"save_file\"]\n",
    "        \n",
    "        \n",
    "        same_as_previous_config = prev_da_config == da_config and EPOCHS==prev_epochs\n",
    "        prev_da_config = da_config\n",
    "        prev_epochs = EPOCHS\n",
    "        \n",
    "        if not same_as_previous_config:\n",
    "            augmenter = build_augmenters(da_config,train_mean)\n",
    "            train_set,train_set_one_epoch,time_taken = process_full_augmentation_all_epochs(augmenter, EPOCHS,BATCH_SIZE, normalize, x_train, y_train)\n",
    "            \n",
    "        train_acc = test_acc = time_spent = 0.0\n",
    "        for j in range(cv):\n",
    "            model,opt,global_step = model_builder(model_config,BATCH_SIZE, len_train)\n",
    "            t1_acc,t2_acc,tsp = run_model(model,BATCH_SIZE,EPOCHS,train_set,train_set_one_epoch,x_test, y_test,len_train,log_test_acc=False)\n",
    "            train_acc += t1_acc\n",
    "            test_acc += t2_acc\n",
    "            time_spent += tsp\n",
    "            reset_keras()\n",
    "        train_acc /= cv\n",
    "        test_acc /= cv\n",
    "        time_spent /= cv\n",
    "        \n",
    "        logger.info(msg(\"Epoch =\",i,\"Train acc = \",train_acc,\"Test acc =\",test_acc,\"Time Taken = \",time_spent))\n",
    "            \n",
    "        \n",
    "        result = dict(config=config,results=dict(train=train_acc,test=test_acc,training_time=time_spent,augmentation_time=time_taken))\n",
    "        read_and_append_to_results(save_file, result)\n",
    "        results.append(result)\n",
    "        del model\n",
    "        model = None\n",
    "    logger.info(\"Grid Search Complete, Total Results Count = %s, Time Taken = %.1f\",len(results),(time.time()-t))\n",
    "    assert len(results)==len(configs)\n",
    "    return results\n",
    "    \n",
    "\n"
   ]
  },
  {
   "cell_type": "code",
   "execution_count": 50,
   "metadata": {},
   "outputs": [
    {
     "data": {
      "text/plain": [
       "105"
      ]
     },
     "execution_count": 50,
     "metadata": {},
     "output_type": "execute_result"
    }
   ],
   "source": [
    "len(read_and_append_to_results(\"results.txt\", read=True))"
   ]
  },
  {
   "cell_type": "code",
   "execution_count": 51,
   "metadata": {
    "scrolled": false
   },
   "outputs": [
    {
     "name": "stderr",
     "output_type": "stream",
     "text": [
      "I0824 05:49:34.370851 140247267260224 <ipython-input-49-a595619e1ae4>:67] Data Fetching Done\n",
      "I0824 05:49:34.371666 140247267260224 <ipython-input-49-a595619e1ae4>:83] Started GridSearch, Total Configs to Test = 1\n"
     ]
    },
    {
     "ename": "AttributeError",
     "evalue": "'Iterator' object has no attribute 'shape'",
     "output_type": "error",
     "traceback": [
      "\u001b[0;31m---------------------------------------------------------------------------\u001b[0m",
      "\u001b[0;31mAttributeError\u001b[0m                            Traceback (most recent call last)",
      "\u001b[0;32m<ipython-input-51-adf4fe251798>\u001b[0m in \u001b[0;36m<module>\u001b[0;34m()\u001b[0m\n\u001b[1;32m     43\u001b[0m \u001b[0;34m\u001b[0m\u001b[0m\n\u001b[1;32m     44\u001b[0m \u001b[0;34m\u001b[0m\u001b[0m\n\u001b[0;32m---> 45\u001b[0;31m \u001b[0mresults\u001b[0m \u001b[0;34m=\u001b[0m \u001b[0mrunner\u001b[0m\u001b[0;34m(\u001b[0m\u001b[0;34m[\u001b[0m\u001b[0mtest_config_1\u001b[0m\u001b[0;34m]\u001b[0m\u001b[0;34m,\u001b[0m\u001b[0mcv\u001b[0m\u001b[0;34m=\u001b[0m\u001b[0;36m1\u001b[0m\u001b[0;34m)\u001b[0m\u001b[0;34m\u001b[0m\u001b[0m\n\u001b[0m\u001b[1;32m     46\u001b[0m \u001b[0;34m\u001b[0m\u001b[0m\n\u001b[1;32m     47\u001b[0m \u001b[0;34m\u001b[0m\u001b[0m\n",
      "\u001b[0;32m<ipython-input-49-a595619e1ae4>\u001b[0m in \u001b[0;36mrunner\u001b[0;34m(configs, cv)\u001b[0m\n\u001b[1;32m    106\u001b[0m         \u001b[0;32mfor\u001b[0m \u001b[0mj\u001b[0m \u001b[0;32min\u001b[0m \u001b[0mrange\u001b[0m\u001b[0;34m(\u001b[0m\u001b[0mcv\u001b[0m\u001b[0;34m)\u001b[0m\u001b[0;34m:\u001b[0m\u001b[0;34m\u001b[0m\u001b[0m\n\u001b[1;32m    107\u001b[0m             \u001b[0mmodel\u001b[0m\u001b[0;34m,\u001b[0m\u001b[0mopt\u001b[0m\u001b[0;34m,\u001b[0m\u001b[0mglobal_step\u001b[0m \u001b[0;34m=\u001b[0m \u001b[0mmodel_builder\u001b[0m\u001b[0;34m(\u001b[0m\u001b[0mmodel_config\u001b[0m\u001b[0;34m,\u001b[0m\u001b[0mBATCH_SIZE\u001b[0m\u001b[0;34m,\u001b[0m \u001b[0mlen_train\u001b[0m\u001b[0;34m)\u001b[0m\u001b[0;34m\u001b[0m\u001b[0m\n\u001b[0;32m--> 108\u001b[0;31m             \u001b[0mt1_acc\u001b[0m\u001b[0;34m,\u001b[0m\u001b[0mt2_acc\u001b[0m\u001b[0;34m,\u001b[0m\u001b[0mtsp\u001b[0m \u001b[0;34m=\u001b[0m \u001b[0mrun_model\u001b[0m\u001b[0;34m(\u001b[0m\u001b[0mmodel\u001b[0m\u001b[0;34m,\u001b[0m\u001b[0mBATCH_SIZE\u001b[0m\u001b[0;34m,\u001b[0m\u001b[0mEPOCHS\u001b[0m\u001b[0;34m,\u001b[0m\u001b[0mtrain_set\u001b[0m\u001b[0;34m,\u001b[0m\u001b[0mtrain_set_one_epoch\u001b[0m\u001b[0;34m,\u001b[0m\u001b[0mx_test\u001b[0m\u001b[0;34m,\u001b[0m \u001b[0my_test\u001b[0m\u001b[0;34m,\u001b[0m\u001b[0mlen_train\u001b[0m\u001b[0;34m,\u001b[0m\u001b[0mlog_test_acc\u001b[0m\u001b[0;34m=\u001b[0m\u001b[0;32mFalse\u001b[0m\u001b[0;34m)\u001b[0m\u001b[0;34m\u001b[0m\u001b[0m\n\u001b[0m\u001b[1;32m    109\u001b[0m             \u001b[0mtrain_acc\u001b[0m \u001b[0;34m+=\u001b[0m \u001b[0mt1_acc\u001b[0m\u001b[0;34m\u001b[0m\u001b[0m\n\u001b[1;32m    110\u001b[0m             \u001b[0mtest_acc\u001b[0m \u001b[0;34m+=\u001b[0m \u001b[0mt2_acc\u001b[0m\u001b[0;34m\u001b[0m\u001b[0m\n",
      "\u001b[0;32m<ipython-input-46-8ae7325d4c38>\u001b[0m in \u001b[0;36mrun_model\u001b[0;34m(model, BATCH_SIZE, EPOCHS, train_dataset, train_dataset_one_epoch, x_test, y_test, len_train, log_test_acc)\u001b[0m\n\u001b[1;32m      4\u001b[0m     \u001b[0mlogger\u001b[0m\u001b[0;34m.\u001b[0m\u001b[0mdebug\u001b[0m\u001b[0;34m(\u001b[0m\u001b[0;34m\"Starting Training\"\u001b[0m\u001b[0;34m)\u001b[0m\u001b[0;34m\u001b[0m\u001b[0m\n\u001b[1;32m      5\u001b[0m \u001b[0;34m\u001b[0m\u001b[0m\n\u001b[0;32m----> 6\u001b[0;31m     \u001b[0mmodel\u001b[0m\u001b[0;34m.\u001b[0m\u001b[0mfit_generator\u001b[0m\u001b[0;34m(\u001b[0m\u001b[0mtrain_dataset\u001b[0m\u001b[0;34m.\u001b[0m\u001b[0mmake_one_shot_iterator\u001b[0m\u001b[0;34m(\u001b[0m\u001b[0;34m)\u001b[0m\u001b[0;34m,\u001b[0m \u001b[0mepochs\u001b[0m\u001b[0;34m=\u001b[0m\u001b[0;36m1\u001b[0m\u001b[0;34m,\u001b[0m\u001b[0msteps_per_epoch\u001b[0m\u001b[0;34m=\u001b[0m\u001b[0;36m98\u001b[0m\u001b[0;34m)\u001b[0m\u001b[0;34m\u001b[0m\u001b[0m\n\u001b[0m\u001b[1;32m      7\u001b[0m \u001b[0;34m\u001b[0m\u001b[0m\n\u001b[1;32m      8\u001b[0m     \u001b[0mtest_res\u001b[0m \u001b[0;34m=\u001b[0m \u001b[0mmodel\u001b[0m\u001b[0;34m.\u001b[0m\u001b[0mevaluate\u001b[0m\u001b[0;34m(\u001b[0m\u001b[0mtest_dataset\u001b[0m\u001b[0;34m)\u001b[0m\u001b[0;34m\u001b[0m\u001b[0m\n",
      "\u001b[0;32m~/anaconda3/envs/tensorflow_p36/lib/python3.6/site-packages/tensorflow/python/keras/engine/training.py\u001b[0m in \u001b[0;36mfit_generator\u001b[0;34m(self, generator, steps_per_epoch, epochs, verbose, callbacks, validation_data, validation_steps, validation_freq, class_weight, max_queue_size, workers, use_multiprocessing, shuffle, initial_epoch)\u001b[0m\n\u001b[1;32m   1431\u001b[0m         \u001b[0mshuffle\u001b[0m\u001b[0;34m=\u001b[0m\u001b[0mshuffle\u001b[0m\u001b[0;34m,\u001b[0m\u001b[0;34m\u001b[0m\u001b[0m\n\u001b[1;32m   1432\u001b[0m         \u001b[0minitial_epoch\u001b[0m\u001b[0;34m=\u001b[0m\u001b[0minitial_epoch\u001b[0m\u001b[0;34m,\u001b[0m\u001b[0;34m\u001b[0m\u001b[0m\n\u001b[0;32m-> 1433\u001b[0;31m         steps_name='steps_per_epoch')\n\u001b[0m\u001b[1;32m   1434\u001b[0m \u001b[0;34m\u001b[0m\u001b[0m\n\u001b[1;32m   1435\u001b[0m   def evaluate_generator(self,\n",
      "\u001b[0;32m~/anaconda3/envs/tensorflow_p36/lib/python3.6/site-packages/tensorflow/python/keras/engine/training_generator.py\u001b[0m in \u001b[0;36mmodel_iteration\u001b[0;34m(model, data, steps_per_epoch, epochs, verbose, callbacks, validation_data, validation_steps, validation_freq, class_weight, max_queue_size, workers, use_multiprocessing, shuffle, initial_epoch, mode, batch_size, steps_name, **kwargs)\u001b[0m\n\u001b[1;32m    142\u001b[0m       \u001b[0mbatch_size\u001b[0m\u001b[0;34m=\u001b[0m\u001b[0mbatch_size\u001b[0m\u001b[0;34m,\u001b[0m\u001b[0;34m\u001b[0m\u001b[0m\n\u001b[1;32m    143\u001b[0m       \u001b[0mepochs\u001b[0m\u001b[0;34m=\u001b[0m\u001b[0mepochs\u001b[0m \u001b[0;34m-\u001b[0m \u001b[0minitial_epoch\u001b[0m\u001b[0;34m,\u001b[0m\u001b[0;34m\u001b[0m\u001b[0m\n\u001b[0;32m--> 144\u001b[0;31m       shuffle=shuffle)\n\u001b[0m\u001b[1;32m    145\u001b[0m \u001b[0;34m\u001b[0m\u001b[0m\n\u001b[1;32m    146\u001b[0m   \u001b[0mdo_validation\u001b[0m \u001b[0;34m=\u001b[0m \u001b[0mvalidation_data\u001b[0m \u001b[0;32mis\u001b[0m \u001b[0;32mnot\u001b[0m \u001b[0;32mNone\u001b[0m\u001b[0;34m\u001b[0m\u001b[0m\n",
      "\u001b[0;32m~/anaconda3/envs/tensorflow_p36/lib/python3.6/site-packages/tensorflow/python/keras/engine/training_generator.py\u001b[0m in \u001b[0;36mconvert_to_generator_like\u001b[0;34m(data, batch_size, steps_per_epoch, epochs, shuffle)\u001b[0m\n\u001b[1;32m    478\u001b[0m \u001b[0;34m\u001b[0m\u001b[0m\n\u001b[1;32m    479\u001b[0m   \u001b[0;31m# Create generator from NumPy or EagerTensor Input.\u001b[0m\u001b[0;34m\u001b[0m\u001b[0;34m\u001b[0m\u001b[0m\n\u001b[0;32m--> 480\u001b[0;31m   \u001b[0mnum_samples\u001b[0m \u001b[0;34m=\u001b[0m \u001b[0mint\u001b[0m\u001b[0;34m(\u001b[0m\u001b[0mnest\u001b[0m\u001b[0;34m.\u001b[0m\u001b[0mflatten\u001b[0m\u001b[0;34m(\u001b[0m\u001b[0mdata\u001b[0m\u001b[0;34m)\u001b[0m\u001b[0;34m[\u001b[0m\u001b[0;36m0\u001b[0m\u001b[0;34m]\u001b[0m\u001b[0;34m.\u001b[0m\u001b[0mshape\u001b[0m\u001b[0;34m[\u001b[0m\u001b[0;36m0\u001b[0m\u001b[0;34m]\u001b[0m\u001b[0;34m)\u001b[0m\u001b[0;34m\u001b[0m\u001b[0m\n\u001b[0m\u001b[1;32m    481\u001b[0m   \u001b[0;32mif\u001b[0m \u001b[0mbatch_size\u001b[0m \u001b[0;32mis\u001b[0m \u001b[0;32mNone\u001b[0m\u001b[0;34m:\u001b[0m\u001b[0;34m\u001b[0m\u001b[0m\n\u001b[1;32m    482\u001b[0m     \u001b[0;32mraise\u001b[0m \u001b[0mValueError\u001b[0m\u001b[0;34m(\u001b[0m\u001b[0;34m'You must specify `batch_size`'\u001b[0m\u001b[0;34m)\u001b[0m\u001b[0;34m\u001b[0m\u001b[0m\n",
      "\u001b[0;31mAttributeError\u001b[0m: 'Iterator' object has no attribute 'shape'"
     ]
    }
   ],
   "source": [
    "augmentation_config = dict(cutout_config=dict(s_l=0.04, s_h=0.06,max_erasures_per_image=1),\n",
    "                           hue_config=dict(max_delta=0.05),\n",
    "                           cifar10_augs_config=dict(proba=0.5, enabled_policies=[(\"rotate\",5, 15,),(\"shearX\",0.05, 0.15,),(\"shearY\",0.05, 0.15,)]))\n",
    "\n",
    "model_config = dict(model=dict(start_kernels=64,sparse_bn=True,thin_block=False,\n",
    "                               enable_skip=True,enable_pool_before_skip=True),\n",
    "                    optimizer=dict(enable_olr=True,max_lr=0.6,\n",
    "                                   start_lr=0.01,pre_end_lr=0.04,end_lr=0.02,\n",
    "                                   mid_epoch=5,pre_end_epoch=13,\n",
    "                                   max_momentum=0.9,min_momentum=0.8, enable_momentum=True,))\n",
    "\n",
    "training_config = dict(BATCH_SIZE=512,EPOCHS=15,save_file=\"results.txt\")\n",
    "\n",
    "test_config_0 = dict(augmentation_config=augmentation_config,model_config=model_config,training_config=training_config)\n",
    "\n",
    "test_config_1 = copy.deepcopy(test_config_0)\n",
    "test_config_1[\"model_config\"][\"optimizer\"][\"mid_epoch\"] = 1\n",
    "test_config_1[\"model_config\"][\"optimizer\"][\"pre_end_epoch\"] = 2\n",
    "test_config_1[\"training_config\"][\"EPOCHS\"] = 3\n",
    "\n",
    "\n",
    "# mid_epoch\n",
    "\n",
    "# test_config_1 = copy.deepcopy(test_config_0)\n",
    "# test_config_0[\"augmentation_config\"][\"cutout_config\"][\"proba\"] = 0.9\n",
    "# test_config_0[\"augmentation_config\"][\"cutout_config\"][\"s_h\"] = 0.05\n",
    "\n",
    "# \n",
    "# test_config_2 = copy.deepcopy(test_config_0)\n",
    "# test_config_2[\"model_config\"][\"optimizer\"][\"max_momentum\"] = 0.9\n",
    "# test_config_2[\"model_config\"][\"optimizer\"][\"min_momentum\"] = 0.7\n",
    "\n",
    "# test_config_3 = copy.deepcopy(test_config_0)\n",
    "# test_config_3[\"model_config\"][\"optimizer\"][\"pre_end_epoch\"] = 14\n",
    "# test_config_3[\"model_config\"][\"optimizer\"][\"max_momentum\"] = 0.9\n",
    "# test_config_3[\"model_config\"][\"optimizer\"][\"min_momentum\"] = 0.7\n",
    "\n",
    "\n",
    "\n",
    "\n",
    "\n",
    "\n",
    "\n",
    "\n",
    "results = runner([test_config_1],cv=1)\n",
    "\n",
    "\n",
    "# Next Test Confirm\n",
    "# Low LR - Low Momentum\n",
    "# High LR - High Momentum"
   ]
  },
  {
   "cell_type": "code",
   "execution_count": 1,
   "metadata": {},
   "outputs": [
    {
     "ename": "NameError",
     "evalue": "name 'results' is not defined",
     "output_type": "error",
     "traceback": [
      "\u001b[0;31m---------------------------------------------------------------------------\u001b[0m",
      "\u001b[0;31mNameError\u001b[0m                                 Traceback (most recent call last)",
      "\u001b[0;32m<ipython-input-1-046051d5b841>\u001b[0m in \u001b[0;36m<module>\u001b[0;34m()\u001b[0m\n\u001b[0;32m----> 1\u001b[0;31m \u001b[0;32mfor\u001b[0m \u001b[0mresult\u001b[0m \u001b[0;32min\u001b[0m \u001b[0mresults\u001b[0m\u001b[0;34m:\u001b[0m\u001b[0;34m\u001b[0m\u001b[0m\n\u001b[0m\u001b[1;32m      2\u001b[0m     \u001b[0;34m(\u001b[0m\u001b[0mresult\u001b[0m\u001b[0;34m[\u001b[0m\u001b[0;34m\"results\"\u001b[0m\u001b[0;34m]\u001b[0m\u001b[0;34m,\u001b[0m\u001b[0mresult\u001b[0m\u001b[0;34m[\u001b[0m\u001b[0;34m\"config\"\u001b[0m\u001b[0;34m]\u001b[0m\u001b[0;34m[\u001b[0m\u001b[0;34m\"augmentation_config\"\u001b[0m\u001b[0;34m]\u001b[0m\u001b[0;34m)\u001b[0m\u001b[0;34m\u001b[0m\u001b[0m\n",
      "\u001b[0;31mNameError\u001b[0m: name 'results' is not defined"
     ]
    }
   ],
   "source": [
    "for result in results:\n",
    "    (result[\"results\"],result[\"config\"][\"augmentation_config\"])"
   ]
  },
  {
   "cell_type": "code",
   "execution_count": 12,
   "metadata": {},
   "outputs": [
    {
     "data": {
      "text/plain": [
       "({'train': 0.9313039999999999,\n",
       "  'test': 0.9155999999999999,\n",
       "  'training_time': 182.3993245601654,\n",
       "  'augmentation_time': 512.6476335525513},\n",
       " {'s_l': 0.04, 's_h': 0.06, 'max_erasures_per_image': 1})"
      ]
     },
     "execution_count": 12,
     "metadata": {},
     "output_type": "execute_result"
    },
    {
     "data": {
      "text/plain": [
       "({'train': 0.93294,\n",
       "  'test': 0.91666,\n",
       "  'training_time': 168.3836699962616,\n",
       "  'augmentation_time': 473.8154661655426},\n",
       " {'s_l': 0.04, 's_h': 0.06, 'max_erasures_per_image': 1})"
      ]
     },
     "execution_count": 12,
     "metadata": {},
     "output_type": "execute_result"
    },
    {
     "data": {
      "text/plain": [
       "({'train': 0.9313319999999999,\n",
       "  'test': 0.91568,\n",
       "  'training_time': 168.3534535884857,\n",
       "  'augmentation_time': 484.0287821292877},\n",
       " {'s_l': 0.04, 's_h': 0.05, 'max_erasures_per_image': 1, 'proba': 0.9})"
      ]
     },
     "execution_count": 12,
     "metadata": {},
     "output_type": "execute_result"
    },
    {
     "data": {
      "text/plain": [
       "({'train': 0.9353400000000001,\n",
       "  'test': 0.9168800000000001,\n",
       "  'training_time': 168.45615425109864,\n",
       "  'augmentation_time': 508.89465379714966},\n",
       " {'s_l': 0.04, 's_h': 0.06, 'max_erasures_per_image': 1})"
      ]
     },
     "execution_count": 12,
     "metadata": {},
     "output_type": "execute_result"
    }
   ],
   "source": [
    "for result in results:\n",
    "    (result[\"results\"],result[\"config\"][\"augmentation_config\"][\"cutout_config\"])"
   ]
  },
  {
   "cell_type": "code",
   "execution_count": 51,
   "metadata": {},
   "outputs": [
    {
     "data": {
      "text/plain": [
       "({'train': 0.9363466666666667,\n",
       "  'test': 0.9172666666666668,\n",
       "  'training_time': 177.41186984380087,\n",
       "  'augmentation_time': 518.6522586345673},\n",
       " {'s_l': 0.04, 's_h': 0.05, 'max_erasures_per_image': 1, 'proba': 0.9})"
      ]
     },
     "execution_count": 51,
     "metadata": {},
     "output_type": "execute_result"
    }
   ],
   "source": [
    "for result in results:\n",
    "    (result[\"results\"],result[\"config\"][\"augmentation_config\"][\"cutout_config\"])"
   ]
  },
  {
   "cell_type": "code",
   "execution_count": 49,
   "metadata": {},
   "outputs": [
    {
     "data": {
      "text/plain": [
       "({'train': 0.9386599999999999,\n",
       "  'test': 0.9187666666666666,\n",
       "  'training_time': 175.34950455029806,\n",
       "  'augmentation_time': 492.11725306510925},\n",
       " {'proba': 0.3,\n",
       "  'enabled_policies': [('rotate', 5, 15),\n",
       "   ('shearX', 0.05, 0.15),\n",
       "   ('shearY', 0.05, 0.15)]})"
      ]
     },
     "execution_count": 49,
     "metadata": {},
     "output_type": "execute_result"
    },
    {
     "data": {
      "text/plain": [
       "({'train': 0.93574,\n",
       "  'test': 0.9178000000000001,\n",
       "  'training_time': 178.67254678408304,\n",
       "  'augmentation_time': 511.8633759021759},\n",
       " {'proba': 0.4,\n",
       "  'enabled_policies': [('rotate', 5, 15),\n",
       "   ('shearX', 0.05, 0.15),\n",
       "   ('shearY', 0.05, 0.15)]})"
      ]
     },
     "execution_count": 49,
     "metadata": {},
     "output_type": "execute_result"
    }
   ],
   "source": [
    "for result in results:\n",
    "    (result[\"results\"],result[\"config\"][\"augmentation_config\"][\"cifar10_augs_config\"])"
   ]
  },
  {
   "cell_type": "code",
   "execution_count": 45,
   "metadata": {},
   "outputs": [
    {
     "data": {
      "text/plain": [
       "({'train': 0.9313066666666666,\n",
       "  'test': 0.9191333333333334,\n",
       "  'training_time': 177.1034390926361,\n",
       "  'augmentation_time': 546.6013288497925},\n",
       " {'enable_olr': True,\n",
       "  'max_lr': 0.6,\n",
       "  'start_lr': 0.01,\n",
       "  'pre_end_lr': 0.04,\n",
       "  'end_lr': 0.02,\n",
       "  'mid_epoch': 5,\n",
       "  'pre_end_epoch': 13,\n",
       "  'max_momentum': 0.9,\n",
       "  'min_momentum': 0.8,\n",
       "  'enable_momentum': True})"
      ]
     },
     "execution_count": 45,
     "metadata": {},
     "output_type": "execute_result"
    },
    {
     "data": {
      "text/plain": [
       "({'train': 0.9304733333333334,\n",
       "  'test': 0.9154,\n",
       "  'training_time': 176.7274088859558,\n",
       "  'augmentation_time': 546.6013288497925},\n",
       " {'enable_olr': True,\n",
       "  'max_lr': 0.6,\n",
       "  'start_lr': 0.01,\n",
       "  'pre_end_lr': 0.04,\n",
       "  'end_lr': 0.02,\n",
       "  'mid_epoch': 5,\n",
       "  'pre_end_epoch': 14,\n",
       "  'max_momentum': 0.9,\n",
       "  'min_momentum': 0.8,\n",
       "  'enable_momentum': True})"
      ]
     },
     "execution_count": 45,
     "metadata": {},
     "output_type": "execute_result"
    },
    {
     "data": {
      "text/plain": [
       "({'train': 0.9301066666666666,\n",
       "  'test': 0.9169,\n",
       "  'training_time': 176.92551414171854,\n",
       "  'augmentation_time': 546.6013288497925},\n",
       " {'enable_olr': True,\n",
       "  'max_lr': 0.6,\n",
       "  'start_lr': 0.01,\n",
       "  'pre_end_lr': 0.04,\n",
       "  'end_lr': 0.02,\n",
       "  'mid_epoch': 5,\n",
       "  'pre_end_epoch': 13,\n",
       "  'max_momentum': 0.9,\n",
       "  'min_momentum': 0.7,\n",
       "  'enable_momentum': True})"
      ]
     },
     "execution_count": 45,
     "metadata": {},
     "output_type": "execute_result"
    },
    {
     "data": {
      "text/plain": [
       "({'train': 0.9306066666666667,\n",
       "  'test': 0.9173,\n",
       "  'training_time': 176.81873909632364,\n",
       "  'augmentation_time': 546.6013288497925},\n",
       " {'enable_olr': True,\n",
       "  'max_lr': 0.6,\n",
       "  'start_lr': 0.01,\n",
       "  'pre_end_lr': 0.04,\n",
       "  'end_lr': 0.02,\n",
       "  'mid_epoch': 5,\n",
       "  'pre_end_epoch': 14,\n",
       "  'max_momentum': 0.9,\n",
       "  'min_momentum': 0.7,\n",
       "  'enable_momentum': True})"
      ]
     },
     "execution_count": 45,
     "metadata": {},
     "output_type": "execute_result"
    },
    {
     "data": {
      "text/plain": [
       "({'train': 0.9256466666666666,\n",
       "  'test': 0.9166,\n",
       "  'training_time': 176.15471720695496,\n",
       "  'augmentation_time': 546.6013288497925},\n",
       " {'enable_olr': True,\n",
       "  'max_lr': 0.6,\n",
       "  'start_lr': 0.01,\n",
       "  'pre_end_lr': 0.04,\n",
       "  'end_lr': 0.02,\n",
       "  'mid_epoch': 5,\n",
       "  'pre_end_epoch': 13,\n",
       "  'max_momentum': 0.9,\n",
       "  'min_momentum': 0.6,\n",
       "  'enable_momentum': True})"
      ]
     },
     "execution_count": 45,
     "metadata": {},
     "output_type": "execute_result"
    },
    {
     "data": {
      "text/plain": [
       "({'train': 0.92514,\n",
       "  'test': 0.9149333333333333,\n",
       "  'training_time': 176.2428540388743,\n",
       "  'augmentation_time': 546.6013288497925},\n",
       " {'enable_olr': True,\n",
       "  'max_lr': 0.6,\n",
       "  'start_lr': 0.01,\n",
       "  'pre_end_lr': 0.04,\n",
       "  'end_lr': 0.02,\n",
       "  'mid_epoch': 5,\n",
       "  'pre_end_epoch': 13,\n",
       "  'max_momentum': 0.8,\n",
       "  'min_momentum': 0.7,\n",
       "  'enable_momentum': True})"
      ]
     },
     "execution_count": 45,
     "metadata": {},
     "output_type": "execute_result"
    },
    {
     "data": {
      "text/plain": [
       "({'train': 0.9215133333333333,\n",
       "  'test': 0.9149333333333333,\n",
       "  'training_time': 176.3061412970225,\n",
       "  'augmentation_time': 546.6013288497925},\n",
       " {'enable_olr': True,\n",
       "  'max_lr': 0.6,\n",
       "  'start_lr': 0.01,\n",
       "  'pre_end_lr': 0.04,\n",
       "  'end_lr': 0.02,\n",
       "  'mid_epoch': 5,\n",
       "  'pre_end_epoch': 13,\n",
       "  'max_momentum': 0.8,\n",
       "  'min_momentum': 0.6,\n",
       "  'enable_momentum': True})"
      ]
     },
     "execution_count": 45,
     "metadata": {},
     "output_type": "execute_result"
    }
   ],
   "source": [
    "for result in results:\n",
    "    (result[\"results\"],result[\"config\"][\"model_config\"][\"optimizer\"])"
   ]
  },
  {
   "cell_type": "code",
   "execution_count": 43,
   "metadata": {
    "scrolled": false
   },
   "outputs": [
    {
     "data": {
      "text/plain": [
       "({'train': 0.9312999999999999,\n",
       "  'test': 0.9165333333333333,\n",
       "  'training_time': 174.72568782170615,\n",
       "  'augmentation_time': 532.8445432186127},\n",
       " {'enable_olr': True,\n",
       "  'max_lr': 0.6,\n",
       "  'start_lr': 0.01,\n",
       "  'pre_end_lr': 0.04,\n",
       "  'end_lr': 0.02,\n",
       "  'mid_epoch': 5,\n",
       "  'pre_end_epoch': 13,\n",
       "  'max_momentum': 0.9,\n",
       "  'min_momentum': 0.8,\n",
       "  'enable_momentum': True})"
      ]
     },
     "execution_count": 43,
     "metadata": {},
     "output_type": "execute_result"
    },
    {
     "data": {
      "text/plain": [
       "({'train': 0.9316333333333334,\n",
       "  'test': 0.9158333333333334,\n",
       "  'training_time': 174.76668310165405,\n",
       "  'augmentation_time': 532.8445432186127},\n",
       " {'enable_olr': True,\n",
       "  'max_lr': 0.6,\n",
       "  'start_lr': 0.01,\n",
       "  'pre_end_lr': 0.04,\n",
       "  'end_lr': 0.01,\n",
       "  'mid_epoch': 5,\n",
       "  'pre_end_epoch': 13,\n",
       "  'max_momentum': 0.9,\n",
       "  'min_momentum': 0.8,\n",
       "  'enable_momentum': True})"
      ]
     },
     "execution_count": 43,
     "metadata": {},
     "output_type": "execute_result"
    },
    {
     "data": {
      "text/plain": [
       "({'train': 0.9280466666666666,\n",
       "  'test': 0.9151333333333334,\n",
       "  'training_time': 174.99560594558716,\n",
       "  'augmentation_time': 532.8445432186127},\n",
       " {'enable_olr': True,\n",
       "  'max_lr': 0.6,\n",
       "  'start_lr': 0.01,\n",
       "  'pre_end_lr': 0.04,\n",
       "  'end_lr': 0.02,\n",
       "  'mid_epoch': 5,\n",
       "  'pre_end_epoch': 12,\n",
       "  'max_momentum': 0.9,\n",
       "  'min_momentum': 0.8,\n",
       "  'enable_momentum': True})"
      ]
     },
     "execution_count": 43,
     "metadata": {},
     "output_type": "execute_result"
    },
    {
     "data": {
      "text/plain": [
       "({'train': 0.9273733333333333,\n",
       "  'test': 0.9162333333333333,\n",
       "  'training_time': 174.74911268552145,\n",
       "  'augmentation_time': 532.8445432186127},\n",
       " {'enable_olr': True,\n",
       "  'max_lr': 0.6,\n",
       "  'start_lr': 0.01,\n",
       "  'pre_end_lr': 0.04,\n",
       "  'end_lr': 0.01,\n",
       "  'mid_epoch': 5,\n",
       "  'pre_end_epoch': 12,\n",
       "  'max_momentum': 0.9,\n",
       "  'min_momentum': 0.8,\n",
       "  'enable_momentum': True})"
      ]
     },
     "execution_count": 43,
     "metadata": {},
     "output_type": "execute_result"
    },
    {
     "data": {
      "text/plain": [
       "({'train': 0.9292333333333334,\n",
       "  'test': 0.9151333333333334,\n",
       "  'training_time': 174.85596791903177,\n",
       "  'augmentation_time': 532.8445432186127},\n",
       " {'enable_olr': True,\n",
       "  'max_lr': 0.4,\n",
       "  'start_lr': 0.01,\n",
       "  'pre_end_lr': 0.04,\n",
       "  'end_lr': 0.02,\n",
       "  'mid_epoch': 5,\n",
       "  'pre_end_epoch': 13,\n",
       "  'max_momentum': 0.9,\n",
       "  'min_momentum': 0.8,\n",
       "  'enable_momentum': True})"
      ]
     },
     "execution_count": 43,
     "metadata": {},
     "output_type": "execute_result"
    },
    {
     "data": {
      "text/plain": [
       "({'train': 0.9286600000000002,\n",
       "  'test': 0.9167333333333333,\n",
       "  'training_time': 174.63655797640482,\n",
       "  'augmentation_time': 532.8445432186127},\n",
       " {'enable_olr': True,\n",
       "  'max_lr': 0.4,\n",
       "  'start_lr': 0.01,\n",
       "  'pre_end_lr': 0.04,\n",
       "  'end_lr': 0.01,\n",
       "  'mid_epoch': 5,\n",
       "  'pre_end_epoch': 13,\n",
       "  'max_momentum': 0.9,\n",
       "  'min_momentum': 0.8,\n",
       "  'enable_momentum': True})"
      ]
     },
     "execution_count": 43,
     "metadata": {},
     "output_type": "execute_result"
    },
    {
     "data": {
      "text/plain": [
       "({'train': 0.9267466666666667,\n",
       "  'test': 0.9147,\n",
       "  'training_time': 174.7939236164093,\n",
       "  'augmentation_time': 532.8445432186127},\n",
       " {'enable_olr': True,\n",
       "  'max_lr': 0.4,\n",
       "  'start_lr': 0.01,\n",
       "  'pre_end_lr': 0.04,\n",
       "  'end_lr': 0.02,\n",
       "  'mid_epoch': 5,\n",
       "  'pre_end_epoch': 12,\n",
       "  'max_momentum': 0.9,\n",
       "  'min_momentum': 0.8,\n",
       "  'enable_momentum': True})"
      ]
     },
     "execution_count": 43,
     "metadata": {},
     "output_type": "execute_result"
    },
    {
     "data": {
      "text/plain": [
       "({'train': 0.92604,\n",
       "  'test': 0.9138000000000001,\n",
       "  'training_time': 174.95889115333557,\n",
       "  'augmentation_time': 532.8445432186127},\n",
       " {'enable_olr': True,\n",
       "  'max_lr': 0.4,\n",
       "  'start_lr': 0.01,\n",
       "  'pre_end_lr': 0.04,\n",
       "  'end_lr': 0.01,\n",
       "  'mid_epoch': 5,\n",
       "  'pre_end_epoch': 12,\n",
       "  'max_momentum': 0.9,\n",
       "  'min_momentum': 0.8,\n",
       "  'enable_momentum': True})"
      ]
     },
     "execution_count": 43,
     "metadata": {},
     "output_type": "execute_result"
    },
    {
     "data": {
      "text/plain": [
       "({'train': 0.9297333333333334,\n",
       "  'test': 0.9166666666666666,\n",
       "  'training_time': 175.44649449984232,\n",
       "  'augmentation_time': 532.8445432186127},\n",
       " {'enable_olr': True,\n",
       "  'max_lr': 0.6,\n",
       "  'start_lr': 0.01,\n",
       "  'pre_end_lr': 0.04,\n",
       "  'end_lr': 0.02,\n",
       "  'mid_epoch': 5,\n",
       "  'pre_end_epoch': 13,\n",
       "  'max_momentum': 0.9,\n",
       "  'min_momentum': 0.7,\n",
       "  'enable_momentum': True})"
      ]
     },
     "execution_count": 43,
     "metadata": {},
     "output_type": "execute_result"
    },
    {
     "data": {
      "text/plain": [
       "({'train': 0.93016,\n",
       "  'test': 0.9154333333333332,\n",
       "  'training_time': 175.6029760837555,\n",
       "  'augmentation_time': 532.8445432186127},\n",
       " {'enable_olr': True,\n",
       "  'max_lr': 0.6,\n",
       "  'start_lr': 0.01,\n",
       "  'pre_end_lr': 0.04,\n",
       "  'end_lr': 0.02,\n",
       "  'mid_epoch': 5,\n",
       "  'pre_end_epoch': 13,\n",
       "  'max_momentum': 0.95,\n",
       "  'min_momentum': 0.75,\n",
       "  'enable_momentum': True})"
      ]
     },
     "execution_count": 43,
     "metadata": {},
     "output_type": "execute_result"
    },
    {
     "data": {
      "text/plain": [
       "({'train': 0.9299400000000001,\n",
       "  'test': 0.9149999999999999,\n",
       "  'training_time': 174.8153556982676,\n",
       "  'augmentation_time': 532.8445432186127},\n",
       " {'enable_olr': True,\n",
       "  'max_lr': 0.6,\n",
       "  'start_lr': 0.01,\n",
       "  'pre_end_lr': 0.04,\n",
       "  'end_lr': 0.02,\n",
       "  'mid_epoch': 5,\n",
       "  'pre_end_epoch': 13,\n",
       "  'max_momentum': 0.95,\n",
       "  'min_momentum': 0.85,\n",
       "  'enable_momentum': True})"
      ]
     },
     "execution_count": 43,
     "metadata": {},
     "output_type": "execute_result"
    },
    {
     "data": {
      "text/plain": [
       "({'train': 0.9279533333333333,\n",
       "  'test': 0.9148,\n",
       "  'training_time': 175.0096542040507,\n",
       "  'augmentation_time': 532.8445432186127},\n",
       " {'enable_olr': True,\n",
       "  'max_lr': 0.6,\n",
       "  'start_lr': 0.01,\n",
       "  'pre_end_lr': 0.04,\n",
       "  'end_lr': 0.02,\n",
       "  'mid_epoch': 5,\n",
       "  'pre_end_epoch': 13,\n",
       "  'max_momentum': 0.85,\n",
       "  'min_momentum': 0.75,\n",
       "  'enable_momentum': True})"
      ]
     },
     "execution_count": 43,
     "metadata": {},
     "output_type": "execute_result"
    }
   ],
   "source": [
    "for result in results:\n",
    "    (result[\"results\"],result[\"config\"][\"model_config\"][\"optimizer\"])"
   ]
  },
  {
   "cell_type": "code",
   "execution_count": 29,
   "metadata": {
    "scrolled": false
   },
   "outputs": [
    {
     "data": {
      "text/plain": [
       "[({'train': 0.93056,\n",
       "   'test': 0.9161,\n",
       "   'training_time': 175.1889660358429,\n",
       "   'augmentation_time': 533.4625051021576},\n",
       "  {'enable_olr': True,\n",
       "   'max_lr': 0.5,\n",
       "   'start_lr': 0.005,\n",
       "   'pre_end_lr': 0.02,\n",
       "   'end_lr': 0.01,\n",
       "   'mid_epoch': 5,\n",
       "   'pre_end_epoch': 13,\n",
       "   'max_momentum': 0.9,\n",
       "   'min_momentum': 0.8,\n",
       "   'enable_momentum': True}),\n",
       " ({'train': 0.92822,\n",
       "   'test': 0.9159,\n",
       "   'training_time': 174.78784084320068,\n",
       "   'augmentation_time': 533.4625051021576},\n",
       "  {'enable_olr': True,\n",
       "   'max_lr': 0.5,\n",
       "   'start_lr': 0.005,\n",
       "   'pre_end_lr': 0.02,\n",
       "   'end_lr': 0.01,\n",
       "   'mid_epoch': 5,\n",
       "   'pre_end_epoch': 13,\n",
       "   'max_momentum': 0.85,\n",
       "   'min_momentum': 0.75,\n",
       "   'enable_momentum': True}),\n",
       " ({'train': 0.9337,\n",
       "   'test': 0.9184,\n",
       "   'training_time': 174.5488088130951,\n",
       "   'augmentation_time': 533.4625051021576},\n",
       "  {'enable_olr': True,\n",
       "   'max_lr': 0.5,\n",
       "   'start_lr': 0.01,\n",
       "   'pre_end_lr': 0.04,\n",
       "   'end_lr': 0.02,\n",
       "   'mid_epoch': 5,\n",
       "   'pre_end_epoch': 13,\n",
       "   'max_momentum': 0.9,\n",
       "   'min_momentum': 0.8,\n",
       "   'enable_momentum': True}),\n",
       " ({'train': 0.92862,\n",
       "   'test': 0.9154,\n",
       "   'training_time': 174.36740350723267,\n",
       "   'augmentation_time': 533.4625051021576},\n",
       "  {'enable_olr': True,\n",
       "   'max_lr': 0.5,\n",
       "   'start_lr': 0.01,\n",
       "   'pre_end_lr': 0.04,\n",
       "   'end_lr': 0.02,\n",
       "   'mid_epoch': 5,\n",
       "   'pre_end_epoch': 13,\n",
       "   'max_momentum': 0.85,\n",
       "   'min_momentum': 0.75,\n",
       "   'enable_momentum': True}),\n",
       " ({'train': 0.92812,\n",
       "   'test': 0.9183,\n",
       "   'training_time': 175.19811820983887,\n",
       "   'augmentation_time': 533.4625051021576},\n",
       "  {'enable_olr': True,\n",
       "   'max_lr': 0.4,\n",
       "   'start_lr': 0.005,\n",
       "   'pre_end_lr': 0.02,\n",
       "   'end_lr': 0.01,\n",
       "   'mid_epoch': 5,\n",
       "   'pre_end_epoch': 13,\n",
       "   'max_momentum': 0.9,\n",
       "   'min_momentum': 0.8,\n",
       "   'enable_momentum': True}),\n",
       " ({'train': 0.92362,\n",
       "   'test': 0.9133,\n",
       "   'training_time': 175.533855676651,\n",
       "   'augmentation_time': 533.4625051021576},\n",
       "  {'enable_olr': True,\n",
       "   'max_lr': 0.4,\n",
       "   'start_lr': 0.005,\n",
       "   'pre_end_lr': 0.02,\n",
       "   'end_lr': 0.01,\n",
       "   'mid_epoch': 5,\n",
       "   'pre_end_epoch': 13,\n",
       "   'max_momentum': 0.85,\n",
       "   'min_momentum': 0.75,\n",
       "   'enable_momentum': True}),\n",
       " ({'train': 0.92862,\n",
       "   'test': 0.919,\n",
       "   'training_time': 175.16856694221497,\n",
       "   'augmentation_time': 533.4625051021576},\n",
       "  {'enable_olr': True,\n",
       "   'max_lr': 0.4,\n",
       "   'start_lr': 0.01,\n",
       "   'pre_end_lr': 0.04,\n",
       "   'end_lr': 0.02,\n",
       "   'mid_epoch': 5,\n",
       "   'pre_end_epoch': 13,\n",
       "   'max_momentum': 0.9,\n",
       "   'min_momentum': 0.8,\n",
       "   'enable_momentum': True}),\n",
       " ({'train': 0.92436,\n",
       "   'test': 0.914,\n",
       "   'training_time': 175.74376702308655,\n",
       "   'augmentation_time': 533.4625051021576},\n",
       "  {'enable_olr': True,\n",
       "   'max_lr': 0.4,\n",
       "   'start_lr': 0.01,\n",
       "   'pre_end_lr': 0.04,\n",
       "   'end_lr': 0.02,\n",
       "   'mid_epoch': 5,\n",
       "   'pre_end_epoch': 13,\n",
       "   'max_momentum': 0.85,\n",
       "   'min_momentum': 0.75,\n",
       "   'enable_momentum': True}),\n",
       " ({'train': 0.93012,\n",
       "   'test': 0.9156,\n",
       "   'training_time': 175.04379510879517,\n",
       "   'augmentation_time': 533.4625051021576},\n",
       "  {'enable_olr': True,\n",
       "   'max_lr': 0.6,\n",
       "   'start_lr': 0.005,\n",
       "   'pre_end_lr': 0.02,\n",
       "   'end_lr': 0.01,\n",
       "   'mid_epoch': 5,\n",
       "   'pre_end_epoch': 13,\n",
       "   'max_momentum': 0.9,\n",
       "   'min_momentum': 0.8,\n",
       "   'enable_momentum': True}),\n",
       " ({'train': 0.92802,\n",
       "   'test': 0.915,\n",
       "   'training_time': 174.8382875919342,\n",
       "   'augmentation_time': 533.4625051021576},\n",
       "  {'enable_olr': True,\n",
       "   'max_lr': 0.6,\n",
       "   'start_lr': 0.005,\n",
       "   'pre_end_lr': 0.02,\n",
       "   'end_lr': 0.01,\n",
       "   'mid_epoch': 5,\n",
       "   'pre_end_epoch': 13,\n",
       "   'max_momentum': 0.85,\n",
       "   'min_momentum': 0.75,\n",
       "   'enable_momentum': True}),\n",
       " ({'train': 0.93286,\n",
       "   'test': 0.9192,\n",
       "   'training_time': 174.91782236099243,\n",
       "   'augmentation_time': 533.4625051021576},\n",
       "  {'enable_olr': True,\n",
       "   'max_lr': 0.6,\n",
       "   'start_lr': 0.01,\n",
       "   'pre_end_lr': 0.04,\n",
       "   'end_lr': 0.02,\n",
       "   'mid_epoch': 5,\n",
       "   'pre_end_epoch': 13,\n",
       "   'max_momentum': 0.9,\n",
       "   'min_momentum': 0.8,\n",
       "   'enable_momentum': True}),\n",
       " ({'train': 0.93058,\n",
       "   'test': 0.9137,\n",
       "   'training_time': 175.23879170417786,\n",
       "   'augmentation_time': 533.4625051021576},\n",
       "  {'enable_olr': True,\n",
       "   'max_lr': 0.6,\n",
       "   'start_lr': 0.01,\n",
       "   'pre_end_lr': 0.04,\n",
       "   'end_lr': 0.02,\n",
       "   'mid_epoch': 5,\n",
       "   'pre_end_epoch': 13,\n",
       "   'max_momentum': 0.85,\n",
       "   'min_momentum': 0.75,\n",
       "   'enable_momentum': True})]"
      ]
     },
     "execution_count": 29,
     "metadata": {},
     "output_type": "execute_result"
    }
   ],
   "source": [
    "[(result[\"results\"],result[\"config\"][\"model_config\"][\"optimizer\"]) for result in results]"
   ]
  },
  {
   "cell_type": "code",
   "execution_count": 23,
   "metadata": {
    "scrolled": false
   },
   "outputs": [
    {
     "data": {
      "text/plain": [
       "[({'train': 0.92972,\n",
       "   'test': 0.9152,\n",
       "   'training_time': 174.78745794296265,\n",
       "   'augmentation_time': 536.7730305194855},\n",
       "  {'enable_olr': True,\n",
       "   'max_lr': 0.5,\n",
       "   'start_lr': 0.005,\n",
       "   'pre_end_lr': 0.02,\n",
       "   'end_lr': 0.01,\n",
       "   'mid_epoch': 5,\n",
       "   'pre_end_epoch': 13,\n",
       "   'max_momentum': 0.9,\n",
       "   'min_momentum': 0.8,\n",
       "   'enable_momentum': True}),\n",
       " ({'train': 0.92642,\n",
       "   'test': 0.9163,\n",
       "   'training_time': 175.32796812057495,\n",
       "   'augmentation_time': 536.7730305194855},\n",
       "  {'enable_olr': True,\n",
       "   'max_lr': 0.5,\n",
       "   'start_lr': 0.005,\n",
       "   'pre_end_lr': 0.02,\n",
       "   'end_lr': 0.01,\n",
       "   'mid_epoch': 5,\n",
       "   'pre_end_epoch': 13,\n",
       "   'max_momentum': 0.85,\n",
       "   'min_momentum': 0.75,\n",
       "   'enable_momentum': True}),\n",
       " ({'train': 0.93186,\n",
       "   'test': 0.9155,\n",
       "   'training_time': 175.3102626800537,\n",
       "   'augmentation_time': 536.7730305194855},\n",
       "  {'enable_olr': True,\n",
       "   'max_lr': 0.5,\n",
       "   'start_lr': 0.01,\n",
       "   'pre_end_lr': 0.04,\n",
       "   'end_lr': 0.02,\n",
       "   'mid_epoch': 5,\n",
       "   'pre_end_epoch': 13,\n",
       "   'max_momentum': 0.9,\n",
       "   'min_momentum': 0.8,\n",
       "   'enable_momentum': True}),\n",
       " ({'train': 0.9272,\n",
       "   'test': 0.9163,\n",
       "   'training_time': 175.4654312133789,\n",
       "   'augmentation_time': 536.7730305194855},\n",
       "  {'enable_olr': True,\n",
       "   'max_lr': 0.5,\n",
       "   'start_lr': 0.01,\n",
       "   'pre_end_lr': 0.04,\n",
       "   'end_lr': 0.02,\n",
       "   'mid_epoch': 5,\n",
       "   'pre_end_epoch': 13,\n",
       "   'max_momentum': 0.85,\n",
       "   'min_momentum': 0.75,\n",
       "   'enable_momentum': True}),\n",
       " ({'train': 0.92964,\n",
       "   'test': 0.9185,\n",
       "   'training_time': 175.73435735702515,\n",
       "   'augmentation_time': 536.7730305194855},\n",
       "  {'enable_olr': True,\n",
       "   'max_lr': 0.4,\n",
       "   'start_lr': 0.005,\n",
       "   'pre_end_lr': 0.02,\n",
       "   'end_lr': 0.01,\n",
       "   'mid_epoch': 5,\n",
       "   'pre_end_epoch': 13,\n",
       "   'max_momentum': 0.9,\n",
       "   'min_momentum': 0.8,\n",
       "   'enable_momentum': True}),\n",
       " ({'train': 0.92174,\n",
       "   'test': 0.9137,\n",
       "   'training_time': 175.4795949459076,\n",
       "   'augmentation_time': 536.7730305194855},\n",
       "  {'enable_olr': True,\n",
       "   'max_lr': 0.4,\n",
       "   'start_lr': 0.005,\n",
       "   'pre_end_lr': 0.02,\n",
       "   'end_lr': 0.01,\n",
       "   'mid_epoch': 5,\n",
       "   'pre_end_epoch': 13,\n",
       "   'max_momentum': 0.85,\n",
       "   'min_momentum': 0.75,\n",
       "   'enable_momentum': True}),\n",
       " ({'train': 0.92784,\n",
       "   'test': 0.9185,\n",
       "   'training_time': 175.26103711128235,\n",
       "   'augmentation_time': 536.7730305194855},\n",
       "  {'enable_olr': True,\n",
       "   'max_lr': 0.4,\n",
       "   'start_lr': 0.01,\n",
       "   'pre_end_lr': 0.04,\n",
       "   'end_lr': 0.02,\n",
       "   'mid_epoch': 5,\n",
       "   'pre_end_epoch': 13,\n",
       "   'max_momentum': 0.9,\n",
       "   'min_momentum': 0.8,\n",
       "   'enable_momentum': True}),\n",
       " ({'train': 0.92338,\n",
       "   'test': 0.9122,\n",
       "   'training_time': 174.11331701278687,\n",
       "   'augmentation_time': 536.7730305194855},\n",
       "  {'enable_olr': True,\n",
       "   'max_lr': 0.4,\n",
       "   'start_lr': 0.01,\n",
       "   'pre_end_lr': 0.04,\n",
       "   'end_lr': 0.02,\n",
       "   'mid_epoch': 5,\n",
       "   'pre_end_epoch': 13,\n",
       "   'max_momentum': 0.85,\n",
       "   'min_momentum': 0.75,\n",
       "   'enable_momentum': True}),\n",
       " ({'train': 0.9312,\n",
       "   'test': 0.918,\n",
       "   'training_time': 174.75291681289673,\n",
       "   'augmentation_time': 536.7730305194855},\n",
       "  {'enable_olr': True,\n",
       "   'max_lr': 0.6,\n",
       "   'start_lr': 0.005,\n",
       "   'pre_end_lr': 0.02,\n",
       "   'end_lr': 0.01,\n",
       "   'mid_epoch': 5,\n",
       "   'pre_end_epoch': 13,\n",
       "   'max_momentum': 0.9,\n",
       "   'min_momentum': 0.8,\n",
       "   'enable_momentum': True}),\n",
       " ({'train': 0.9302,\n",
       "   'test': 0.9199,\n",
       "   'training_time': 175.1153838634491,\n",
       "   'augmentation_time': 536.7730305194855},\n",
       "  {'enable_olr': True,\n",
       "   'max_lr': 0.6,\n",
       "   'start_lr': 0.005,\n",
       "   'pre_end_lr': 0.02,\n",
       "   'end_lr': 0.01,\n",
       "   'mid_epoch': 5,\n",
       "   'pre_end_epoch': 13,\n",
       "   'max_momentum': 0.85,\n",
       "   'min_momentum': 0.75,\n",
       "   'enable_momentum': True}),\n",
       " ({'train': 0.93282,\n",
       "   'test': 0.917,\n",
       "   'training_time': 175.2307116985321,\n",
       "   'augmentation_time': 536.7730305194855},\n",
       "  {'enable_olr': True,\n",
       "   'max_lr': 0.6,\n",
       "   'start_lr': 0.01,\n",
       "   'pre_end_lr': 0.04,\n",
       "   'end_lr': 0.02,\n",
       "   'mid_epoch': 5,\n",
       "   'pre_end_epoch': 13,\n",
       "   'max_momentum': 0.9,\n",
       "   'min_momentum': 0.8,\n",
       "   'enable_momentum': True}),\n",
       " ({'train': 0.93082,\n",
       "   'test': 0.9181,\n",
       "   'training_time': 174.72894597053528,\n",
       "   'augmentation_time': 536.7730305194855},\n",
       "  {'enable_olr': True,\n",
       "   'max_lr': 0.6,\n",
       "   'start_lr': 0.01,\n",
       "   'pre_end_lr': 0.04,\n",
       "   'end_lr': 0.02,\n",
       "   'mid_epoch': 5,\n",
       "   'pre_end_epoch': 13,\n",
       "   'max_momentum': 0.85,\n",
       "   'min_momentum': 0.75,\n",
       "   'enable_momentum': True})]"
      ]
     },
     "execution_count": 23,
     "metadata": {},
     "output_type": "execute_result"
    }
   ],
   "source": [
    "[(result[\"results\"],result[\"config\"][\"model_config\"][\"optimizer\"]) for result in results]"
   ]
  },
  {
   "cell_type": "code",
   "execution_count": 96,
   "metadata": {},
   "outputs": [
    {
     "data": {
      "text/plain": [
       "[{'config': {'augmentation_config': {'cutout_config': {'s_l': 0.04,\n",
       "     's_h': 0.06,\n",
       "     'max_erasures_per_image': 1},\n",
       "    'hue_config': {'max_delta': 0.1},\n",
       "    'cifar10_augs_config': {'proba': 0.5,\n",
       "     'enabled_policies': [('rotate', 5, 15),\n",
       "      ('shearX', 0.1, 0.2),\n",
       "      ('shearY', 0.1, 0.2)]}},\n",
       "   'model_config': {'model': {'start_kernels': 64,\n",
       "     'sparse_bn': True,\n",
       "     'thin_block': True},\n",
       "    'optimizer': {'enable_olr': True,\n",
       "     'max_lr': 0.5,\n",
       "     'start_lr': 0.001,\n",
       "     'pre_end_lr': 0.01,\n",
       "     'end_lr': 0.005,\n",
       "     'mid_epoch': 5,\n",
       "     'pre_end_epoch': 13,\n",
       "     'max_momentum': 0.9,\n",
       "     'enable_momentum': False}},\n",
       "   'training_config': {'BATCH_SIZE': 512,\n",
       "    'EPOCHS': 15,\n",
       "    'save_file': 'results.txt'}},\n",
       "  'results': {'train': 0.87154,\n",
       "   'test': 0.8858,\n",
       "   'training_time': 150.91348099708557,\n",
       "   'augmentation_time': 432.3216440677643}}]"
      ]
     },
     "execution_count": 96,
     "metadata": {},
     "output_type": "execute_result"
    }
   ],
   "source": [
    "results"
   ]
  },
  {
   "cell_type": "code",
   "execution_count": null,
   "metadata": {},
   "outputs": [],
   "source": []
  }
 ],
 "metadata": {
  "accelerator": "GPU",
  "colab": {
   "include_colab_link": true,
   "name": "DN.ipynb",
   "provenance": [],
   "version": "0.3.2"
  },
  "kernelspec": {
   "display_name": "conda_tensorflow_p36",
   "language": "python",
   "name": "conda_tensorflow_p36"
  },
  "language_info": {
   "codemirror_mode": {
    "name": "ipython",
    "version": 3
   },
   "file_extension": ".py",
   "mimetype": "text/x-python",
   "name": "python",
   "nbconvert_exporter": "python",
   "pygments_lexer": "ipython3",
   "version": "3.6.5"
  },
  "toc": {
   "base_numbering": 1,
   "nav_menu": {},
   "number_sections": true,
   "sideBar": true,
   "skip_h1_title": false,
   "title_cell": "Table of Contents",
   "title_sidebar": "Contents",
   "toc_cell": false,
   "toc_position": {
    "height": "calc(100% - 180px)",
    "left": "10px",
    "top": "150px",
    "width": "288px"
   },
   "toc_section_display": true,
   "toc_window_display": true
  }
 },
 "nbformat": 4,
 "nbformat_minor": 1
}
