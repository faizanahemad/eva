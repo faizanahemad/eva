{
 "cells": [
  {
   "cell_type": "markdown",
   "metadata": {
    "colab_type": "text",
    "id": "view-in-github"
   },
   "source": [
    "<a href=\"https://colab.research.google.com/github/faizanahemad/eva/blob/master/assignment-14/DavidNet.ipynb\" target=\"_parent\"><img src=\"https://colab.research.google.com/assets/colab-badge.svg\" alt=\"Open In Colab\"/></a>"
   ]
  },
  {
   "cell_type": "markdown",
   "metadata": {
    "colab_type": "text",
    "id": "OyHnQWenZ1aq"
   },
   "source": [
    "**List of Changes**\n",
    "\n",
    "- Apply OLR\n"
   ]
  },
  {
   "cell_type": "code",
   "execution_count": 1,
   "metadata": {
    "colab": {
     "base_uri": "https://localhost:8080/",
     "height": 34
    },
    "colab_type": "code",
    "id": "kOsYqWHvQBrZ",
    "outputId": "5d7a74d9-2781-44da-88d0-ab8674930c5c"
   },
   "outputs": [
    {
     "name": "stdout",
     "output_type": "stream",
     "text": [
      "1.13.1\n"
     ]
    }
   ],
   "source": [
    "import numpy as np\n",
    "import time, math\n",
    "import gc\n",
    "import tensorflow as tf\n",
    "\n",
    "\n",
    "import matplotlib.pyplot as plt\n",
    "% matplotlib inline\n",
    "%config InlineBackend.figure_format='retina'\n",
    "\n",
    "from IPython.core.interactiveshell import InteractiveShell\n",
    "InteractiveShell.ast_node_interactivity = \"all\"\n",
    "\n",
    "print(tf.__version__)"
   ]
  },
  {
   "cell_type": "code",
   "execution_count": 2,
   "metadata": {
    "colab": {},
    "colab_type": "code",
    "id": "KcVY1UhnQPDO"
   },
   "outputs": [],
   "source": [
    "tf.enable_eager_execution()\n"
   ]
  },
  {
   "cell_type": "code",
   "execution_count": 3,
   "metadata": {
    "colab": {},
    "colab_type": "code",
    "id": "4LfLeMAyQU7z"
   },
   "outputs": [],
   "source": [
    "BATCH_SIZE = 512 #@param {type:\"integer\"}\n",
    "MOMENTUM = 0.9 #@param {type:\"number\"}\n",
    "LEARNING_RATE = 0.4 #@param {type:\"number\"}\n",
    "WEIGHT_DECAY = 5e-4 #@param {type:\"number\"}\n",
    "EPOCHS = 24 #@param {type:\"integer\"}"
   ]
  },
  {
   "cell_type": "code",
   "execution_count": 28,
   "metadata": {
    "colab": {},
    "colab_type": "code",
    "id": "AwS9BRv_QWR0"
   },
   "outputs": [],
   "source": [
    "def init_pytorch(shape, dtype=tf.float32, partition_info=None):\n",
    "    fan = np.prod(shape[:-1])\n",
    "    bound = 1 / (math.sqrt(fan))\n",
    "    return tf.random.uniform(shape, minval=-bound, maxval=bound, dtype=dtype)\n",
    "\n",
    "def init_pytorch(shape, dtype=tf.float32, partition_info=None):\n",
    "    fan = np.prod(shape[:-1])\n",
    "    bound = 0.5 / (math.sqrt(fan))\n",
    "    return tf.random.truncated_normal(shape, mean=0,stddev=bound)\n",
    "\n",
    "\n",
    "class ConvBN(tf.keras.Model):\n",
    "    def __init__(self, c_out):\n",
    "        super().__init__()\n",
    "        self.conv = tf.keras.layers.Conv2D(filters=c_out, kernel_size=3, padding=\"SAME\", kernel_initializer=init_pytorch, use_bias=False)\n",
    "        self.bn = tf.keras.layers.BatchNormalization(momentum=0.9, epsilon=1e-5)\n",
    "\n",
    "    def call(self, inputs):\n",
    "        return tf.nn.relu(self.bn(self.conv(inputs)))\n",
    "    \n",
    "class BottleNeck(tf.keras.Model):\n",
    "    def __init__(self, c_out):\n",
    "        super().__init__()\n",
    "        self.conv = tf.keras.layers.Conv2D(filters=c_out, kernel_size=1, padding=\"SAME\", kernel_initializer=init_pytorch, use_bias=False)\n",
    "        self.bn = tf.keras.layers.BatchNormalization(momentum=0.9, epsilon=1e-5)\n",
    "\n",
    "    def call(self, inputs):\n",
    "        return tf.nn.relu(self.bn(self.conv(inputs)))\n",
    "    \n",
    "    \n",
    "class ResBlk(tf.keras.Model):\n",
    "    def __init__(self, c_out, pool, res = False, pooling=False):\n",
    "        super().__init__()\n",
    "        self.conv_bn = ConvBN(c_out)\n",
    "        self.pool = pool\n",
    "        self.res = res\n",
    "        self.pooling = pooling\n",
    "        self.bottleneck = BottleNeck(c_out)\n",
    "        if self.res:\n",
    "            self.res1 = ConvBN(c_out)\n",
    "            self.res2 = ConvBN(c_out)\n",
    "\n",
    "    def call(self, inputs):\n",
    "        if self.pooling:\n",
    "            h = self.pool(self.conv_bn(inputs))\n",
    "        else:\n",
    "            h = self.bottleneck(inputs)\n",
    "        \n",
    "        if self.res:\n",
    "            residual = self.res2(self.res1(h))\n",
    "            h = h + residual\n",
    "        return h\n",
    "    \n",
    "    \n",
    "class DavidNet(tf.keras.Model):\n",
    "    def __init__(self, c=64, weight=0.125):\n",
    "        super().__init__()\n",
    "        pool = tf.keras.layers.MaxPooling2D()\n",
    "        self.init_conv_bn = ConvBN(c)\n",
    "        self.blk1 = ResBlk(c*2, pool, res = True, pooling = True)\n",
    "        self.blk2 = ResBlk(c*4, pool, pooling = True)\n",
    "        self.blk3 = ResBlk(c*8, pool, res = True)\n",
    "        self.pool = tf.keras.layers.GlobalMaxPool2D()\n",
    "        self.linear = tf.keras.layers.Dense(10, kernel_initializer=init_pytorch, use_bias=False)\n",
    "        self.weight = weight\n",
    "\n",
    "    def call(self, x, y):\n",
    "        h = self.pool(self.blk3(self.blk2(self.blk1(self.init_conv_bn(x)))))\n",
    "        h = self.linear(h) * self.weight\n",
    "        ce = tf.nn.sparse_softmax_cross_entropy_with_logits(logits=h, labels=y)\n",
    "        loss = tf.reduce_sum(ce)\n",
    "        correct = tf.reduce_sum(tf.cast(tf.math.equal(tf.argmax(h, axis = 1), y), tf.float32))\n",
    "        return loss, correct"
   ]
  },
  {
   "cell_type": "code",
   "execution_count": 29,
   "metadata": {
    "colab": {},
    "colab_type": "code",
    "id": "EQC9BguoQcfp"
   },
   "outputs": [],
   "source": [
    "(x_train, y_train), (x_test, y_test) = tf.keras.datasets.cifar10.load_data()\n",
    "len_train, len_test = len(x_train), len(x_test)\n",
    "y_train = y_train.astype('int64').reshape(len_train)\n",
    "y_test = y_test.astype('int64').reshape(len_test)\n",
    "\n",
    "train_mean = np.mean(x_train, axis=(0,1,2))\n",
    "train_std = np.std(x_train, axis=(0,1,2))\n",
    "\n",
    "normalize = lambda x: ((x - train_mean) / train_std).astype('float32') # todo: check here\n",
    "pad4 = lambda x: np.pad(x, [(0, 0), (4, 4), (4, 4), (0, 0)], mode='reflect')\n",
    "\n",
    "x_train = normalize(pad4(x_train))\n",
    "x_test = normalize(x_test)"
   ]
  },
  {
   "cell_type": "code",
   "execution_count": 30,
   "metadata": {
    "colab": {
     "base_uri": "https://localhost:8080/",
     "height": 240
    },
    "colab_type": "code",
    "id": "2-rBodFhQeNZ",
    "outputId": "44767619-e69d-4225-b491-d096a55315e5"
   },
   "outputs": [
    {
     "name": "stdout",
     "output_type": "stream",
     "text": [
      "704\n"
     ]
    }
   ],
   "source": [
    "print(gc.collect())\n",
    "model = DavidNet()\n",
    "batches_per_epoch = len_train//BATCH_SIZE + 1\n",
    "\n",
    "def lr_schedule(t):\n",
    "    if t<=EPOCHS-2:\n",
    "        lr = np.interp([t], [0, (EPOCHS+1)//5, EPOCHS-1], [0.0001, LEARNING_RATE, 0.0001])[0]\n",
    "    else:\n",
    "        lr = np.interp([t], [ EPOCHS-1, EPOCHS], [0.0001, 0.00001])[0]\n",
    "  \n",
    "    return lr\n",
    "\n",
    "\n",
    "# lr_schedule = lambda t: np.interp([t], [0, (EPOCHS+1)//5, EPOCHS], [0, LEARNING_RATE, 0])[0]\n",
    "lr_schedule = lambda t: np.interp([t], [0, (EPOCHS+1)//5, EPOCHS], [0.001, LEARNING_RATE, 0.0001])[0]\n",
    "global_step = tf.train.get_or_create_global_step()\n",
    "lr_func = lambda: lr_schedule(global_step/batches_per_epoch)\n",
    "\n",
    "\n",
    "opt = tf.train.MomentumOptimizer(lr_func, momentum=MOMENTUM, use_nesterov=True)\n",
    "data_aug = lambda x, y: (tf.image.random_flip_left_right(tf.random_crop(x, [32, 32, 3])), y)"
   ]
  },
  {
   "cell_type": "code",
   "execution_count": 31,
   "metadata": {
    "colab": {
     "base_uri": "https://localhost:8080/",
     "height": 424
    },
    "colab_type": "code",
    "id": "Jukum8WqXItx",
    "outputId": "4f037f66-1581-435d-e31f-50ed4a43df8e"
   },
   "outputs": [
    {
     "name": "stdout",
     "output_type": "stream",
     "text": [
      "98 24\n"
     ]
    },
    {
     "data": {
      "text/plain": [
       "<Figure size 576x432 with 0 Axes>"
      ]
     },
     "execution_count": 31,
     "metadata": {},
     "output_type": "execute_result"
    },
    {
     "data": {
      "text/plain": [
       "[<matplotlib.lines.Line2D at 0x7fb324230630>]"
      ]
     },
     "execution_count": 31,
     "metadata": {},
     "output_type": "execute_result"
    },
    {
     "data": {
      "text/plain": [
       "Text(0.5, 1.0, 'Min LR = 0.00100, Max LR = 0.40000, Min Tail LR = 0.00031')"
      ]
     },
     "execution_count": 31,
     "metadata": {},
     "output_type": "execute_result"
    },
    {
     "data": {
      "image/png": "[encoded data removed]",
      "text/plain": [
       "<Figure size 576x432 with 1 Axes>"
      ]
     },
     "metadata": {
      "image/png": {
       "height": 372,
       "width": 491
      }
     },
     "output_type": "display_data"
    }
   ],
   "source": [
    "print(batches_per_epoch, EPOCHS)\n",
    "\n",
    "lrs = []\n",
    "for i in range(batches_per_epoch*EPOCHS):\n",
    "    lrs.append(lr_schedule(i/batches_per_epoch))\n",
    "\n",
    "plt.figure(figsize=(8,6))\n",
    "plt.plot(lrs)\n",
    "plt.title(\"Min LR = %.5f, Max LR = %.5f, Min Tail LR = %.5f\"%(np.min(lrs[:len(lrs)//2]),np.max(lrs),np.min(lrs)))\n",
    "plt.show()\n"
   ]
  },
  {
   "cell_type": "code",
   "execution_count": 32,
   "metadata": {
    "colab": {
     "base_uri": "https://localhost:8080/",
     "height": 657
    },
    "colab_type": "code",
    "id": "HwZTCT7lxTEw",
    "outputId": "8bcf2b3d-4952-4c4f-e9fd-6e3b4429d14c"
   },
   "outputs": [
    {
     "name": "stdout",
     "output_type": "stream",
     "text": [
      "lr: 0.0808 | train loss: 1.3551 train acc: 0.510 val loss: 0.9766 val acc: 0.652 epoch time: 20.72 time: 20.72\n",
      "lr: 0.1606 | train loss: 0.7561 train acc: 0.735 val loss: 0.6688 val acc: 0.763 epoch time: 19.44 time: 40.16\n",
      "lr: 0.2404 | train loss: 0.5576 train acc: 0.808 val loss: 0.6217 val acc: 0.781 epoch time: 19.37 time: 59.53\n",
      "lr: 0.3202 | train loss: 0.4519 train acc: 0.845 val loss: 0.5099 val acc: 0.828 epoch time: 19.46 time: 78.99\n",
      "lr: 0.4000 | train loss: 0.3833 train acc: 0.872 val loss: 0.5460 val acc: 0.814 epoch time: 19.46 time: 98.46\n",
      "lr: 0.3790 | train loss: 0.3380 train acc: 0.886 val loss: 0.5559 val acc: 0.804 epoch time: 19.45 time: 117.91\n",
      "lr: 0.3579 | train loss: 0.2983 train acc: 0.899 val loss: 0.4395 val acc: 0.850 epoch time: 19.45 time: 137.36\n",
      "lr: 0.3369 | train loss: 0.2647 train acc: 0.910 val loss: 0.4313 val acc: 0.856 epoch time: 19.48 time: 156.84\n",
      "lr: 0.3158 | train loss: 0.2371 train acc: 0.920 val loss: 0.3593 val acc: 0.878 epoch time: 19.66 time: 176.50\n",
      "lr: 0.2948 | train loss: 0.2105 train acc: 0.930 val loss: 0.3361 val acc: 0.884 epoch time: 19.49 time: 195.99\n",
      "lr: 0.2737 | train loss: 0.1915 train acc: 0.935 val loss: 0.4072 val acc: 0.866 epoch time: 19.56 time: 215.55\n",
      "lr: 0.2527 | train loss: 0.1695 train acc: 0.945 val loss: 0.3251 val acc: 0.891 epoch time: 19.40 time: 234.95\n",
      "lr: 0.2316 | train loss: 0.1552 train acc: 0.948 val loss: 0.3462 val acc: 0.886 epoch time: 19.43 time: 254.38\n",
      "lr: 0.2106 | train loss: 0.1370 train acc: 0.956 val loss: 0.3382 val acc: 0.888 epoch time: 19.51 time: 273.90\n",
      "lr: 0.1895 | train loss: 0.1258 train acc: 0.959 val loss: 0.3419 val acc: 0.886 epoch time: 19.45 time: 293.35\n",
      "lr: 0.1685 | train loss: 0.1121 train acc: 0.964 val loss: 0.3428 val acc: 0.892 epoch time: 19.57 time: 312.92\n",
      "lr: 0.1474 | train loss: 0.1033 train acc: 0.967 val loss: 0.3067 val acc: 0.901 epoch time: 19.33 time: 332.25\n",
      "lr: 0.1264 | train loss: 0.0918 train acc: 0.971 val loss: 0.3165 val acc: 0.897 epoch time: 19.47 time: 351.71\n",
      "lr: 0.1053 | train loss: 0.0828 train acc: 0.975 val loss: 0.2846 val acc: 0.909 epoch time: 19.57 time: 371.29\n",
      "lr: 0.0843 | train loss: 0.0759 train acc: 0.977 val loss: 0.3063 val acc: 0.901 epoch time: 19.50 time: 390.79\n",
      "lr: 0.0632 | train loss: 0.0678 train acc: 0.980 val loss: 0.3211 val acc: 0.900 epoch time: 19.43 time: 410.21\n",
      "lr: 0.0422 | train loss: 0.0606 train acc: 0.982 val loss: 0.2803 val acc: 0.906 epoch time: 19.47 time: 429.68\n",
      "lr: 0.0211 | train loss: 0.0529 train acc: 0.984 val loss: 0.3100 val acc: 0.904 epoch time: 19.49 time: 449.17\n",
      "lr: 0.0001 | train loss: 0.0479 train acc: 0.987 val loss: 0.2811 val acc: 0.911 epoch time: 19.44 time: 468.61\n"
     ]
    }
   ],
   "source": [
    "t = time.time()\n",
    "t_last = time.time()\n",
    "test_set = tf.data.Dataset.from_tensor_slices((x_test, y_test)).batch(BATCH_SIZE)\n",
    "\n",
    "for epoch in range(EPOCHS):\n",
    "    train_loss = test_loss = train_acc = test_acc = 0.0\n",
    "    train_set = tf.data.Dataset.from_tensor_slices((x_train, y_train)).map(data_aug).shuffle(len_train).batch(BATCH_SIZE).prefetch(1)\n",
    "\n",
    "    tf.keras.backend.set_learning_phase(1)\n",
    "    for (x, y) in train_set:\n",
    "        with tf.GradientTape() as tape:\n",
    "            loss, correct = model(x, y)\n",
    "\n",
    "        var = model.trainable_variables\n",
    "        grads = tape.gradient(loss, var)\n",
    "        for g, v in zip(grads, var):\n",
    "            g += v * WEIGHT_DECAY * BATCH_SIZE\n",
    "        opt.apply_gradients(zip(grads, var), global_step=global_step)\n",
    "\n",
    "        train_loss += loss.numpy()\n",
    "        train_acc += correct.numpy()\n",
    "\n",
    "    tf.keras.backend.set_learning_phase(0)\n",
    "    for (x, y) in test_set:\n",
    "        loss, correct = model(x, y)\n",
    "        test_loss += loss.numpy()\n",
    "        test_acc += correct.numpy()\n",
    "    t2 = time.time()\n",
    "    epoch_time = t2 - t_last\n",
    "    t_last = t2\n",
    "\n",
    "    print('lr: %.4f' % (lr_schedule(epoch+1)), '| train loss: %.4f' %(train_loss / len_train), 'train acc: %.3f' % (train_acc / len_train), 'val loss: %.4f' % (test_loss / len_test), 'val acc: %.3f' %(test_acc / len_test),\"epoch time: %.2f\"%(epoch_time), 'time: %.2f'%(t2 - t))\n",
    "  \n",
    "  # 92.79"
   ]
  },
  {
   "cell_type": "code",
   "execution_count": null,
   "metadata": {
    "colab": {},
    "colab_type": "code",
    "id": "cnLeh0rNLmVc"
   },
   "outputs": [],
   "source": [
    "# Dropout\n",
    "# OneCycleLR\n",
    "# Cutout\n",
    "\n",
    "\n",
    "# Big ideas\n",
    "# Use Resnet with a highway network like mode with weights for residual, Penalize the weight for residual for its distance from 1.\n",
    "# Instead of L2 penalization of kernel weights use a Penalization which treats distance from 1/fan-in of weights."
   ]
  },
  {
   "cell_type": "markdown",
   "metadata": {},
   "source": [
    "## Normal CNN"
   ]
  },
  {
   "cell_type": "code",
   "execution_count": 14,
   "metadata": {},
   "outputs": [],
   "source": [
    "class ConvBN(tf.keras.Model):\n",
    "    def __init__(self, c_out):\n",
    "        super().__init__()\n",
    "        self.conv = tf.keras.layers.Conv2D(filters=c_out, kernel_size=3, padding=\"SAME\", kernel_initializer=init_pytorch, use_bias=False)\n",
    "        self.bn = tf.keras.layers.BatchNormalization(momentum=0.9, epsilon=1e-5)\n",
    "\n",
    "    def call(self, inputs):\n",
    "        return tf.nn.relu(self.bn(self.conv(inputs)))\n",
    "    \n",
    "class BottleNeck(tf.keras.Model):\n",
    "    def __init__(self, c_out):\n",
    "        super().__init__()\n",
    "        self.conv = tf.keras.layers.Conv2D(filters=c_out, kernel_size=1, padding=\"SAME\", kernel_initializer=init_pytorch, use_bias=False)\n",
    "        self.bn = tf.keras.layers.BatchNormalization(momentum=0.9, epsilon=1e-5)\n",
    "\n",
    "    def call(self, inputs):\n",
    "        return tf.nn.relu(self.bn(self.conv(inputs)))\n",
    "    \n",
    "    \n",
    "class ResBlk(tf.keras.Model):\n",
    "    def __init__(self, c_out, pool, res = False):\n",
    "        super().__init__()\n",
    "        self.conv_bn = ConvBN(c_out)\n",
    "        self.pool = pool\n",
    "        self.res = res\n",
    "        if self.res:\n",
    "            self.res1 = ConvBN(c_out)\n",
    "            self.res2 = ConvBN(c_out)\n",
    "\n",
    "    def call(self, inputs):\n",
    "        h = self.pool(self.conv_bn(inputs))\n",
    "        if self.res:\n",
    "            h = h + self.res2(self.res1(h))\n",
    "        return h\n",
    "    \n",
    "    \n",
    "class SimpleNet(tf.keras.Model):\n",
    "    def __init__(self, c=64, weight=0.00125):\n",
    "        super().__init__()\n",
    "        \n",
    "        pool = tf.keras.layers.MaxPooling2D()\n",
    "        self.mp = pool\n",
    "        self.init_conv_bn = ConvBN(c)\n",
    "        self.conv2 = ConvBN(c*2)\n",
    "        self.conv3 = ConvBN(c*4)\n",
    "        # pool\n",
    "        self.bnl1 = BottleNeck(c)\n",
    "        self.conv4 = ConvBN(c*2)\n",
    "        self.conv5 = ConvBN(c*4)\n",
    "        # pool\n",
    "        self.bnl2 = BottleNeck(c)\n",
    "        self.conv6 = ConvBN(c*2)\n",
    "        self.conv7 = ConvBN(c*4)\n",
    "        \n",
    "        self.pool = tf.keras.layers.GlobalMaxPool2D()\n",
    "        self.linear = tf.keras.layers.Dense(10, kernel_initializer=init_pytorch, use_bias=False)\n",
    "        self.weight = weight\n",
    "\n",
    "    def call(self, x, y):\n",
    "        \n",
    "        x = self.init_conv_bn(x)\n",
    "        x = self.mp(self.conv3(self.conv2(x)))\n",
    "        x = self.mp(self.conv5(self.conv4(self.bnl1(x))))\n",
    "        x = self.conv7(self.conv6(self.bnl2(x)))\n",
    "        \n",
    "        h = self.pool(x)\n",
    "        h = self.linear(h) * self.weight\n",
    "        ce = tf.nn.sparse_softmax_cross_entropy_with_logits(logits=h, labels=y)\n",
    "        loss = tf.reduce_sum(ce)\n",
    "        correct = tf.reduce_sum(tf.cast(tf.math.equal(tf.argmax(h, axis = 1), y), tf.float32))\n",
    "        return loss, correct"
   ]
  },
  {
   "cell_type": "code",
   "execution_count": 15,
   "metadata": {},
   "outputs": [],
   "source": [
    "(x_train, y_train), (x_test, y_test) = tf.keras.datasets.cifar10.load_data()\n",
    "len_train, len_test = len(x_train), len(x_test)\n",
    "y_train = y_train.astype('int64').reshape(len_train)\n",
    "y_test = y_test.astype('int64').reshape(len_test)\n",
    "\n",
    "train_mean = np.mean(x_train, axis=(0,1,2))\n",
    "train_std = np.std(x_train, axis=(0,1,2))\n",
    "\n",
    "normalize = lambda x: ((x - train_mean) / train_std).astype('float32') # todo: check here\n",
    "pad4 = lambda x: np.pad(x, [(0, 0), (4, 4), (4, 4), (0, 0)], mode='reflect')\n",
    "\n",
    "x_train = normalize(pad4(x_train))\n",
    "x_test = normalize(x_test)"
   ]
  },
  {
   "cell_type": "code",
   "execution_count": 16,
   "metadata": {},
   "outputs": [
    {
     "name": "stdout",
     "output_type": "stream",
     "text": [
      "733\n"
     ]
    }
   ],
   "source": [
    "print(gc.collect())\n",
    "model = SimpleNet()\n",
    "batches_per_epoch = len_train//BATCH_SIZE + 1\n",
    "\n",
    "\n",
    "# lr_schedule = lambda t: np.interp([t], [0, (EPOCHS+1)//5, EPOCHS], [0, LEARNING_RATE, 0])[0]\n",
    "lr_schedule = lambda t: np.interp([t], [0, (EPOCHS+1)//5, EPOCHS], [0.001, LEARNING_RATE, 0.0001])[0]\n",
    "global_step = tf.train.get_or_create_global_step()\n",
    "lr_func = lambda: lr_schedule(global_step/batches_per_epoch)\n",
    "\n",
    "\n",
    "opt = tf.train.MomentumOptimizer(lr_func, momentum=MOMENTUM, use_nesterov=True)\n",
    "data_aug = lambda x, y: (tf.image.random_flip_left_right(tf.random_crop(x, [32, 32, 3])), y)"
   ]
  },
  {
   "cell_type": "code",
   "execution_count": 17,
   "metadata": {},
   "outputs": [
    {
     "name": "stdout",
     "output_type": "stream",
     "text": [
      "lr: 0.0808 | train loss: 1.9850 train acc: 0.223 val loss: 1.7934 val acc: 0.309 epoch time: 23.35 time: 23.35\n",
      "lr: 0.1606 | train loss: 1.5714 train acc: 0.408 val loss: 1.5812 val acc: 0.441 epoch time: 21.75 time: 45.10\n",
      "lr: 0.2404 | train loss: 1.2273 train acc: 0.552 val loss: 1.1748 val acc: 0.589 epoch time: 21.69 time: 66.79\n",
      "lr: 0.3202 | train loss: 0.9450 train acc: 0.663 val loss: 1.0197 val acc: 0.657 epoch time: 21.79 time: 88.58\n",
      "lr: 0.4000 | train loss: 0.7679 train acc: 0.731 val loss: 0.7182 val acc: 0.753 epoch time: 21.74 time: 110.32\n",
      "lr: 0.3790 | train loss: 0.6502 train acc: 0.773 val loss: 0.6836 val acc: 0.771 epoch time: 21.79 time: 132.12\n",
      "lr: 0.3579 | train loss: 0.5729 train acc: 0.800 val loss: 0.6413 val acc: 0.791 epoch time: 21.72 time: 153.83\n",
      "lr: 0.3369 | train loss: 0.5211 train acc: 0.819 val loss: 0.5717 val acc: 0.804 epoch time: 21.61 time: 175.44\n",
      "lr: 0.3158 | train loss: 0.4736 train acc: 0.834 val loss: 0.5140 val acc: 0.820 epoch time: 21.75 time: 197.19\n",
      "lr: 0.2948 | train loss: 0.4299 train acc: 0.852 val loss: 0.6183 val acc: 0.791 epoch time: 21.80 time: 218.99\n",
      "lr: 0.2737 | train loss: 0.3955 train acc: 0.864 val loss: 0.4692 val acc: 0.844 epoch time: 21.81 time: 240.80\n",
      "lr: 0.2527 | train loss: 0.3654 train acc: 0.874 val loss: 0.4580 val acc: 0.848 epoch time: 21.74 time: 262.54\n",
      "lr: 0.2316 | train loss: 0.3364 train acc: 0.883 val loss: 0.4213 val acc: 0.854 epoch time: 21.77 time: 284.31\n",
      "lr: 0.2106 | train loss: 0.3095 train acc: 0.892 val loss: 0.4095 val acc: 0.863 epoch time: 21.75 time: 306.06\n",
      "lr: 0.1895 | train loss: 0.2842 train acc: 0.901 val loss: 0.3718 val acc: 0.875 epoch time: 21.74 time: 327.80\n",
      "lr: 0.1685 | train loss: 0.2567 train acc: 0.910 val loss: 0.3642 val acc: 0.880 epoch time: 21.77 time: 349.57\n",
      "lr: 0.1474 | train loss: 0.2416 train acc: 0.918 val loss: 0.3391 val acc: 0.886 epoch time: 21.76 time: 371.33\n",
      "lr: 0.1264 | train loss: 0.2308 train acc: 0.920 val loss: 0.3385 val acc: 0.886 epoch time: 21.80 time: 393.13\n",
      "lr: 0.1053 | train loss: 0.2318 train acc: 0.921 val loss: 0.3384 val acc: 0.886 epoch time: 21.80 time: 414.92\n",
      "lr: 0.0843 | train loss: 0.2294 train acc: 0.921 val loss: 0.3386 val acc: 0.886 epoch time: 21.68 time: 436.60\n",
      "lr: 0.0632 | train loss: 0.2312 train acc: 0.920 val loss: 0.3386 val acc: 0.886 epoch time: 21.67 time: 458.27\n",
      "lr: 0.0422 | train loss: 0.2315 train acc: 0.921 val loss: 0.3382 val acc: 0.887 epoch time: 21.76 time: 480.02\n",
      "lr: 0.0211 | train loss: 0.2317 train acc: 0.920 val loss: 0.3384 val acc: 0.886 epoch time: 21.72 time: 501.75\n",
      "lr: 0.0001 | train loss: 0.2326 train acc: 0.921 val loss: 0.3393 val acc: 0.886 epoch time: 21.79 time: 523.53\n"
     ]
    }
   ],
   "source": [
    "t = time.time()\n",
    "t_last = time.time()\n",
    "test_set = tf.data.Dataset.from_tensor_slices((x_test, y_test)).batch(BATCH_SIZE)\n",
    "\n",
    "for epoch in range(EPOCHS):\n",
    "    train_loss = test_loss = train_acc = test_acc = 0.0\n",
    "    train_set = tf.data.Dataset.from_tensor_slices((x_train, y_train)).map(data_aug).shuffle(len_train).batch(BATCH_SIZE).prefetch(1)\n",
    "\n",
    "    tf.keras.backend.set_learning_phase(1)\n",
    "    for (x, y) in train_set:\n",
    "        with tf.GradientTape() as tape:\n",
    "            loss, correct = model(x, y)\n",
    "\n",
    "        var = model.trainable_variables\n",
    "        grads = tape.gradient(loss, var)\n",
    "        for g, v in zip(grads, var):\n",
    "            g += v * WEIGHT_DECAY * BATCH_SIZE\n",
    "        opt.apply_gradients(zip(grads, var), global_step=global_step)\n",
    "\n",
    "        train_loss += loss.numpy()\n",
    "        train_acc += correct.numpy()\n",
    "\n",
    "    tf.keras.backend.set_learning_phase(0)\n",
    "    for (x, y) in test_set:\n",
    "        loss, correct = model(x, y)\n",
    "        test_loss += loss.numpy()\n",
    "        test_acc += correct.numpy()\n",
    "    t2 = time.time()\n",
    "    epoch_time = t2 - t_last\n",
    "    t_last = t2\n",
    "\n",
    "    print('lr: %.4f' % (lr_schedule(epoch+1)), '| train loss: %.4f' %(train_loss / len_train), 'train acc: %.3f' % (train_acc / len_train), 'val loss: %.4f' % (test_loss / len_test), 'val acc: %.3f' %(test_acc / len_test),\"epoch time: %.2f\"%(epoch_time), 'time: %.2f'%(t2 - t))\n",
    "  \n",
    "  # 92.79"
   ]
  },
  {
   "cell_type": "code",
   "execution_count": null,
   "metadata": {},
   "outputs": [],
   "source": []
  }
 ],
 "metadata": {
  "colab": {
   "collapsed_sections": [],
   "include_colab_link": true,
   "name": "DavidNet.ipynb",
   "provenance": [],
   "version": "0.3.2"
  },
  "kernelspec": {
   "display_name": "conda_tensorflow_p36",
   "language": "python",
   "name": "conda_tensorflow_p36"
  },
  "language_info": {
   "codemirror_mode": {
    "name": "ipython",
    "version": 3
   },
   "file_extension": ".py",
   "mimetype": "text/x-python",
   "name": "python",
   "nbconvert_exporter": "python",
   "pygments_lexer": "ipython3",
   "version": "3.6.5"
  },
  "toc": {
   "base_numbering": 1,
   "nav_menu": {},
   "number_sections": true,
   "sideBar": true,
   "skip_h1_title": false,
   "title_cell": "Table of Contents",
   "title_sidebar": "Contents",
   "toc_cell": false,
   "toc_position": {},
   "toc_section_display": true,
   "toc_window_display": false
  }
 },
 "nbformat": 4,
 "nbformat_minor": 1
}
