{
 "cells": [
  {
   "cell_type": "code",
   "execution_count": null,
   "metadata": {},
   "outputs": [],
   "source": [
    "!pip install https://github.com/ipython-contrib/jupyter_contrib_nbextensions/tarball/master > /dev/null\n",
    "!jupyter contrib nbextension install --user > /dev/null\n",
    "!jupyter nbextension enable addbefore/main > /dev/null\n",
    "!jupyter nbextension enable hinterland/hinterland > /dev/null\n",
    "!jupyter nbextension enable autosavetime/main > /dev/null\n",
    "!jupyter nbextension enable collapsible_headings/main > /dev/null\n",
    "!jupyter nbextension enable scratchpad/main > /dev/null\n",
    "!jupyter nbextension enable table_beautifier/main > /dev/null\n",
    "!jupyter nbextension enable toc2/main > /dev/null\n",
    "!jupyter nbextension enable toggle_all_line_numbers/main > /dev/null\n",
    "\n",
    "!pip install --upgrade --upgrade-strategy only-if-needed https://github.com/faizanahemad/data-science-utils/tarball/master > /dev/null\n",
    "!pip install git+https://www.github.com/keras-team/keras-contrib.git > /dev/null \n",
    "!pip install keras gpustat keract missingno tqdm pydot more-itertools > /dev/null"
   ]
  }
 ],
 "metadata": {
  "kernelspec": {
   "display_name": "conda_tensorflow_p36",
   "language": "python",
   "name": "conda_tensorflow_p36"
  },
  "language_info": {
   "codemirror_mode": {
    "name": "ipython",
    "version": 3
   },
   "file_extension": ".py",
   "mimetype": "text/x-python",
   "name": "python",
   "nbconvert_exporter": "python",
   "pygments_lexer": "ipython3",
   "version": "3.6.5"
  }
 },
 "nbformat": 4,
 "nbformat_minor": 2
}
