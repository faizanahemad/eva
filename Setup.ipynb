{
 "cells": [
  {
   "cell_type": "code",
   "execution_count": null,
   "metadata": {},
   "outputs": [],
   "source": [
    "!pip install https://github.com/ipython-contrib/jupyter_contrib_nbextensions/tarball/master > /dev/null\n",
    "!jupyter contrib nbextension install --user > /dev/null\n",
    "!jupyter nbextension enable addbefore/main > /dev/null\n",
    "!jupyter nbextension enable hinterland/hinterland > /dev/null\n",
    "!jupyter nbextension enable autosavetime/main > /dev/null\n",
    "!jupyter nbextension enable collapsible_headings/main > /dev/null\n",
    "!jupyter nbextension enable scratchpad/main > /dev/null\n",
    "!jupyter nbextension enable table_beautifier/main > /dev/null\n",
    "!jupyter nbextension enable toc2/main > /dev/null\n",
    "!jupyter nbextension enable toggle_all_line_numbers/main > /dev/null\n",
    "\n",
    "!pip install --upgrade --upgrade-strategy only-if-needed https://github.com/faizanahemad/data-science-utils/tarball/master > /dev/null\n",
    "!pip install git+https://www.github.com/keras-team/keras-contrib.git > /dev/null \n",
    "!pip install keras gpustat keract missingno tqdm pydot more-itertools > /dev/null\n",
    "\n",
    "!pip install six scipy Pillow matplotlib opencv-python imageio Shapely > /dev/null\n",
    "!pip install imgaug > /dev/null\n",
    "!pip install --upgrade scikit-image > /dev/null\n",
    "!pip install --upgrade numpy > /dev/null\n",
    "!pip install albumentations > /dev/null"
   ]
  }
 ],
 "metadata": {
  "kernelspec": {
   "display_name": "conda_tensorflow_p36",
   "language": "python",
   "name": "conda_tensorflow_p36"
  },
  "language_info": {
   "codemirror_mode": {
    "name": "ipython",
    "version": 3
   },
   "file_extension": ".py",
   "mimetype": "text/x-python",
   "name": "python",
   "nbconvert_exporter": "python",
   "pygments_lexer": "ipython3",
   "version": "3.6.5"
  },
  "toc": {
   "base_numbering": 1,
   "nav_menu": {},
   "number_sections": true,
   "sideBar": true,
   "skip_h1_title": false,
   "title_cell": "Table of Contents",
   "title_sidebar": "Contents",
   "toc_cell": false,
   "toc_position": {},
   "toc_section_display": true,
   "toc_window_display": false
  }
 },
 "nbformat": 4,
 "nbformat_minor": 2
}
